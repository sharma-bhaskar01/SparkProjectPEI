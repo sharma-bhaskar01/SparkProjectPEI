{
 "cells": [
  {
   "cell_type": "code",
   "execution_count": 0,
   "metadata": {
    "application/vnd.databricks.v1+cell": {
     "cellMetadata": {
      "byteLimit": 2048000,
      "rowLimit": 10000
     },
     "inputWidgets": {},
     "nuid": "c7f0deb6-7e54-4be7-89e2-9d131f82ebfd",
     "showTitle": false,
     "title": ""
    }
   },
   "outputs": [],
   "source": [
    "import pytest\n",
    "from pyspark.sql import SparkSession\n",
    "\n",
    "# Initialize Spark session\n",
    "spark = SparkSession.builder \\\n",
    "    .appName(\"Test session\") \\\n",
    "    .enableHiveSupport() \\\n",
    "    .getOrCreate()\n",
    "\n",
    "def tableExists(spark, table_name, db_name):\n",
    "    return spark.catalog.tableExists(f\"{db_name}.{table_name}\")\n",
    "\n",
    "@pytest.fixture(scope=\"module\")\n",
    "def spark_session():\n",
    "    return spark\n",
    "\n",
    "@pytest.fixture(scope=\"module\")\n",
    "def dbName():\n",
    "    return \"default\"\n",
    "\n",
    "def test_verify_tables(spark_session, dbName):\n",
    "    orders_table = \"orders\"\n",
    "    cust_table = \"customers\"\n",
    "    product_table = \"products\"\n",
    "    en_order_table = \"enriched_orders\"\n",
    "    prof_agg_table = \"profit_aggregate\"\n",
    "    \n",
    "    assert tableExists(spark_session, orders_table, dbName) is True\n",
    "    assert tableExists(spark_session, cust_table, dbName) is True\n",
    "    assert tableExists(spark_session, product_table, dbName) is True\n",
    "    assert tableExists(spark_session, en_order_table, dbName) is True\n",
    "    assert tableExists(spark_session, prof_agg_table, dbName) is True\n",
    "\n",
    "def test_verify_counts(spark_session):\n",
    "    assert (spark_session.sql('select count(*) from orders').first()[0] > 1) is True\n",
    "    assert (spark_session.sql('select count(*) from customers').first()[0] > 1) is True\n",
    "    assert (spark_session.sql('select count(*) from products').first()[0] > 1) is True\n",
    "    assert (spark_session.sql('select count(*) from enriched_orders').first()[0] > 1) is True\n",
    "    assert (spark_session.sql('select count(*) from profit_aggregate').first()[0] > 1) is True\n",
    "\n",
    "# Collect all test functions in a list\n",
    "test_functions = [test_verify_tables, test_verify_counts]\n"
   ]
  },
  {
   "cell_type": "code",
   "execution_count": 0,
   "metadata": {
    "application/vnd.databricks.v1+cell": {
     "cellMetadata": {
      "byteLimit": 2048000,
      "rowLimit": 10000
     },
     "inputWidgets": {},
     "nuid": "7c07355f-d2fc-4072-855e-00216bdd9e1e",
     "showTitle": false,
     "title": ""
    }
   },
   "outputs": [
    {
     "output_type": "stream",
     "name": "stdout",
     "output_type": "stream",
     "text": [
      "All tests passed!\n"
     ]
    }
   ],
   "source": [
    "def run_tests():\n",
    "    try:\n",
    "        test_verify_tables(spark, \"default\")\n",
    "        test_verify_counts(spark)\n",
    "        print(\"All tests passed!\")\n",
    "    except AssertionError as e:\n",
    "        print(f\"Test failed: {e}\")\n",
    "\n",
    "run_tests()\n"
   ]
  }
 ],
 "metadata": {
  "application/vnd.databricks.v1+notebook": {
   "dashboards": [],
   "environmentMetadata": null,
   "language": "python",
   "notebookMetadata": {
    "mostRecentlyExecutedCommandWithImplicitDF": {
     "commandId": -1,
     "dataframes": [
      "_sqldf"
     ]
    },
    "pythonIndentUnit": 4
   },
   "notebookName": "Untitled Notebook 2024-10-15 20:02:09",
   "widgets": {}
  }
 },
 "nbformat": 4,
 "nbformat_minor": 0
}
