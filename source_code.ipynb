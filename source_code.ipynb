{
 "cells": [
  {
   "cell_type": "code",
   "execution_count": 0,
   "metadata": {
    "application/vnd.databricks.v1+cell": {
     "cellMetadata": {
      "byteLimit": 2048000,
      "rowLimit": 10000
     },
     "inputWidgets": {},
     "nuid": "17fc966b-76b4-402f-9332-3725659a23e9",
     "showTitle": false,
     "title": ""
    }
   },
   "outputs": [],
   "source": [
    "import pandas as pd\n",
    "from pyspark.sql import functions as func\n",
    "\n",
    "def extract_json_data(spark, path):\n",
    "    df = spark.read.option(\"multiline\", \"true\").json(path)\n",
    "    return df\n",
    "\n",
    "#function to extract csv/excel data from files\n",
    "def extract_csv_data(spark, path):\n",
    "    # Check if the file is xlsx like Customer or is it csv like Product\n",
    "    if('xlsx' in path):\n",
    "        # Added external library com.crealytics.spark.excel as using pandas df to convert to csv can cause errors field which contain comma as data value\n",
    "        df = spark.read \\\n",
    "            .format(\"com.crealytics.spark.excel\") \\\n",
    "            .option(\"header\", \"true\") \\\n",
    "            .option(\"inferSchema\", \"true\") \\\n",
    "            .load(path)\n",
    "    else:\n",
    "        df = spark.read.csv(path, header=True)\n",
    "    return df\n",
    "\n",
    "# Function to create or insert data to tables using the dataframe that's passed as arg\n",
    "def create_or_insert_data(spark, df, table_name):\n",
    "    if spark.catalog.tableExists(table_name):\n",
    "        # Append data to the existing table\n",
    "        df.write.option(\"overwriteSchema\", \"true\").option(\"mergeSchema\",\"true\").mode(\"append\").saveAsTable(table_name)\n",
    "        print(f\"Data appended to the existing table: {table_name}\")\n",
    "    else:\n",
    "        # Create a new table with the provided schema\n",
    "        spark.sql(f\"CREATE TABLE {table_name}\")\n",
    "        df.write.option(\"overwriteSchema\", \"true\").option(\"mergeSchema\",\"true\").mode(\"overwrite\").saveAsTable(table_name)\n",
    "        print(f\"New table created: {table_name}\")\n",
    "\n",
    "def clean_name_col(df, column):\n",
    "    # The name column in Customer file contains various data qualtiy issues like having special chars or unexpected spaces or NULL vals. To resolve this issue we replace all NULL values with NA and remove all special chars\n",
    "    df = df.withColumn(column, func.when(func.col(column).isNull(), \"NA\")\n",
    "                             .otherwise(func.initcap(func.trim(func.regexp_replace(func.col(column), r'[^a-zA-Z\\s]', '')))))\n",
    "    return df\n",
    "\n",
    "def fill_null_values(df):\n",
    "    # Generic function to update NULL vals to 'NA'\n",
    "    for col in df.columns:\n",
    "        df = df.withColumn(col, func.when(func.col(col).isNull(), \"NA\").otherwise(func.col(col)))\n",
    "    return df\n",
    "\n",
    "def process_data(spark, order_df, product_df, cust_df):\n",
    "    # function to process all the data sourced from the 3 files.\n",
    "    cust_df_temp = cust_df.select('Customer_ID', 'Customer_Name', 'Country').distinct()\n",
    "    product_df_temp = product_df.select('Product_ID', 'Category', 'Sub-Category').distinct()\n",
    "\n",
    "    # Joining all 3 dataframes to get enriched orders dataset which is finally inserted into table\n",
    "    enriched_orders_df = order_df.alias('o').join(cust_df_temp.alias('c'), on=order_df['Customer_ID'] == cust_df_temp['Customer_ID'], how='inner') \\\n",
    "    .join(product_df_temp.alias('p'), on=order_df['Product_ID'] == product_df_temp['Product_ID'], how='inner') \\\n",
    "    .select('o.*','c.Customer_Name','c.Country','p.Category','p.Sub-Category')\n",
    "\n",
    "    create_or_insert_data(spark, enriched_orders_df, 'enriched_orders')\n",
    "    # Another approach to create table using spark SQL\n",
    "    query = '''\n",
    "    CREATE TABLE profit_aggregate AS\n",
    "SELECT \n",
    "    substr(Order_Date,length(Order_Date)-3,length(Order_Date)) AS Year,\n",
    "    Category,\n",
    "    'Sub-Category',\n",
    "    Customer_Name,\n",
    "    SUM(ROUND(Profit, 2)) AS Total_Profit\n",
    "FROM \n",
    "    enriched_orders\n",
    "GROUP BY \n",
    "    substr(Order_Date,length(Order_Date)-3,length(Order_Date)),\n",
    "    Category,\n",
    "    'Sub-Category',\n",
    "    Customer_Name;'''\n",
    "\n",
    "    # refresh needs to done in case the index is not updated\n",
    "    refresh_query = 'refresh table profit_aggregate'\n",
    "\n",
    "    spark.sql(query)\n",
    "    spark.sql(refresh_query)\n",
    "    profit_agg = spark.sql('select * from profit_aggregate;')\n",
    "    return enriched_orders_df, profit_agg\n"
   ]
  },
  {
   "cell_type": "code",
   "execution_count": 0,
   "metadata": {
    "application/vnd.databricks.v1+cell": {
     "cellMetadata": {
      "byteLimit": 2048000,
      "rowLimit": 10000
     },
     "inputWidgets": {},
     "nuid": "bbc37945-0c5e-45da-b4a2-ef5821bd255d",
     "showTitle": false,
     "title": ""
    }
   },
   "outputs": [
    {
     "output_type": "stream",
     "name": "stdout",
     "output_type": "stream",
     "text": [
      "New table created: enriched_orders\n"
     ]
    }
   ],
   "source": [
    "from pyspark.sql import SparkSession\n",
    "from pyspark.sql import functions as func\n",
    "spark = SparkSession.builder.appName('PEI_test_module').getOrCreate()\n",
    "path = '/FileStore/tables/Order.json'\n",
    "path_prod = '/FileStore/tables/Product.csv'\n",
    "path_cust = '/FileStore/tables/Customer.xlsx'\n",
    "order_df = extract_json_data(spark, path)\n",
    "cust_df = extract_csv_data(spark, path_cust)\n",
    "product_df = extract_csv_data(spark, path_prod)\n",
    "order_df = order_df.select([func.col(col).alias(col.replace(' ','_')) for col in order_df.columns])\n",
    "cust_df = cust_df.select([func.col(col).alias(col.replace(' ','_')) for col in cust_df.columns])\n",
    "product_df = product_df.select([func.col(col).alias(col.replace(' ','_')) for col in product_df.columns])\n",
    "product_df = fill_null_values(product_df)\n",
    "cust_df = clean_name_col(cust_df, 'Customer_Name')\n",
    "product_df = product_df.withColumnRenamed('Sub_Category', 'Sub-Category')\n",
    "\n",
    "create_or_insert_data(spark, order_df, 'orders')\n",
    "create_or_insert_data(spark, product_df, 'products')\n",
    "create_or_insert_data(spark, cust_df, 'customers')\n",
    "enriched_orders_df, profit_agg_df = process_data(spark, order_df, fill_null_values(product_df), fill_null_values(cust_df))\n",
    "\n",
    "\n",
    "\n",
    "\n"
   ]
  },
  {
   "cell_type": "code",
   "execution_count": 0,
   "metadata": {
    "application/vnd.databricks.v1+cell": {
     "cellMetadata": {
      "byteLimit": 2048000,
      "implicitDf": true,
      "rowLimit": 10000
     },
     "inputWidgets": {},
     "nuid": "a2430f00-19ef-493f-84c8-8d47a6f503b4",
     "showTitle": false,
     "title": ""
    }
   },
   "outputs": [
    {
     "output_type": "display_data",
     "data": {
      "text/html": [
       "<style scoped>\n",
       "  .table-result-container {\n",
       "    max-height: 300px;\n",
       "    overflow: auto;\n",
       "  }\n",
       "  table, th, td {\n",
       "    border: 1px solid black;\n",
       "    border-collapse: collapse;\n",
       "  }\n",
       "  th, td {\n",
       "    padding: 5px;\n",
       "  }\n",
       "  th {\n",
       "    text-align: left;\n",
       "  }\n",
       "</style><div class='table-result-container'><table class='table-result'><thead style='background-color: white'><tr><th>Year</th><th>Profit</th></tr></thead><tbody><tr><td>2016</td><td>64669.1400000001</td></tr><tr><td>2017</td><td>110596.8</td></tr><tr><td>2014</td><td>38662.76000000007</td></tr><tr><td>2015</td><td>62490.14000000002</td></tr></tbody></table></div>"
      ]
     },
     "metadata": {
      "application/vnd.databricks.v1+output": {
       "addedWidgets": {},
       "aggData": [],
       "aggError": "",
       "aggOverflow": false,
       "aggSchema": [],
       "aggSeriesLimitReached": false,
       "aggType": "",
       "arguments": {},
       "columnCustomDisplayInfos": {},
       "data": [
        [
         "2016",
         64669.1400000001
        ],
        [
         "2017",
         110596.8
        ],
        [
         "2014",
         38662.76000000007
        ],
        [
         "2015",
         62490.14000000002
        ]
       ],
       "datasetInfos": [],
       "dbfsResultPath": null,
       "isJsonSchema": true,
       "metadata": {},
       "overflow": false,
       "plotOptions": {
        "customPlotOptions": {},
        "displayType": "table",
        "pivotAggregation": null,
        "pivotColumns": null,
        "xColumns": null,
        "yColumns": null
       },
       "removedWidgets": [],
       "schema": [
        {
         "metadata": "{}",
         "name": "Year",
         "type": "\"string\""
        },
        {
         "metadata": "{}",
         "name": "Profit",
         "type": "\"double\""
        }
       ],
       "type": "table"
      }
     },
     "output_type": "display_data"
    }
   ],
   "source": [
    "%sql\n",
    "SELECT \n",
    "    Year,\n",
    "    SUM(Total_Profit) AS Profit\n",
    "FROM \n",
    "    profit_aggregate\n",
    "GROUP BY \n",
    "    Year;\n",
    "\n"
   ]
  },
  {
   "cell_type": "code",
   "execution_count": 0,
   "metadata": {
    "application/vnd.databricks.v1+cell": {
     "cellMetadata": {
      "byteLimit": 2048000,
      "implicitDf": true,
      "rowLimit": 10000
     },
     "inputWidgets": {},
     "nuid": "fbd9c235-c287-408d-9186-d2487abd1ff6",
     "showTitle": false,
     "title": ""
    }
   },
   "outputs": [
    {
     "output_type": "display_data",
     "data": {
      "text/html": [
       "<style scoped>\n",
       "  .table-result-container {\n",
       "    max-height: 300px;\n",
       "    overflow: auto;\n",
       "  }\n",
       "  table, th, td {\n",
       "    border: 1px solid black;\n",
       "    border-collapse: collapse;\n",
       "  }\n",
       "  th, td {\n",
       "    padding: 5px;\n",
       "  }\n",
       "  th {\n",
       "    text-align: left;\n",
       "  }\n",
       "</style><div class='table-result-container'><table class='table-result'><thead style='background-color: white'><tr><th>Year</th><th>Category</th><th>Profit</th></tr></thead><tbody><tr><td>2016</td><td>Office Supplies</td><td>34555.74000000002</td></tr><tr><td>2016</td><td>Furniture</td><td>6889.560000000003</td></tr><tr><td>2015</td><td>Technology</td><td>34943.430000000015</td></tr><tr><td>2015</td><td>Furniture</td><td>3027.2000000000007</td></tr><tr><td>2014</td><td>Office Supplies</td><td>22500.42999999998</td></tr><tr><td>2016</td><td>Technology</td><td>23223.84</td></tr><tr><td>2015</td><td>Office Supplies</td><td>24519.509999999984</td></tr><tr><td>2017</td><td>Technology</td><td>63281.90999999993</td></tr><tr><td>2014</td><td>Furniture</td><td>-5331.050000000001</td></tr><tr><td>2017</td><td>Office Supplies</td><td>44273.349999999984</td></tr><tr><td>2014</td><td>Technology</td><td>21493.37999999999</td></tr><tr><td>2017</td><td>Furniture</td><td>3041.5399999999986</td></tr></tbody></table></div>"
      ]
     },
     "metadata": {
      "application/vnd.databricks.v1+output": {
       "addedWidgets": {},
       "aggData": [],
       "aggError": "",
       "aggOverflow": false,
       "aggSchema": [],
       "aggSeriesLimitReached": false,
       "aggType": "",
       "arguments": {},
       "columnCustomDisplayInfos": {},
       "data": [
        [
         "2016",
         "Office Supplies",
         34555.74000000002
        ],
        [
         "2016",
         "Furniture",
         6889.560000000003
        ],
        [
         "2015",
         "Technology",
         34943.430000000015
        ],
        [
         "2015",
         "Furniture",
         3027.2000000000007
        ],
        [
         "2014",
         "Office Supplies",
         22500.42999999998
        ],
        [
         "2016",
         "Technology",
         23223.84
        ],
        [
         "2015",
         "Office Supplies",
         24519.509999999984
        ],
        [
         "2017",
         "Technology",
         63281.90999999993
        ],
        [
         "2014",
         "Furniture",
         -5331.050000000001
        ],
        [
         "2017",
         "Office Supplies",
         44273.349999999984
        ],
        [
         "2014",
         "Technology",
         21493.37999999999
        ],
        [
         "2017",
         "Furniture",
         3041.5399999999986
        ]
       ],
       "datasetInfos": [],
       "dbfsResultPath": null,
       "isJsonSchema": true,
       "metadata": {},
       "overflow": false,
       "plotOptions": {
        "customPlotOptions": {},
        "displayType": "table",
        "pivotAggregation": null,
        "pivotColumns": null,
        "xColumns": null,
        "yColumns": null
       },
       "removedWidgets": [],
       "schema": [
        {
         "metadata": "{}",
         "name": "Year",
         "type": "\"string\""
        },
        {
         "metadata": "{}",
         "name": "Category",
         "type": "\"string\""
        },
        {
         "metadata": "{}",
         "name": "Profit",
         "type": "\"double\""
        }
       ],
       "type": "table"
      }
     },
     "output_type": "display_data"
    }
   ],
   "source": [
    "%sql\n",
    "\n",
    "\n",
    "SELECT \n",
    "    Year,\n",
    "    Category,\n",
    "    SUM(Total_Profit) AS Profit\n",
    "FROM \n",
    "    profit_aggregate\n",
    "GROUP BY \n",
    "    Year, Category;\n",
    "\n"
   ]
  },
  {
   "cell_type": "code",
   "execution_count": 0,
   "metadata": {
    "application/vnd.databricks.v1+cell": {
     "cellMetadata": {
      "byteLimit": 2048000,
      "implicitDf": true,
      "rowLimit": 10000
     },
     "inputWidgets": {},
     "nuid": "9829d390-d592-42d4-8dc5-e0888f10874b",
     "showTitle": false,
     "title": ""
    }
   },
   "outputs": [
    {
     "output_type": "display_data",
     "data": {
      "text/html": [
       "<style scoped>\n",
       "  .table-result-container {\n",
       "    max-height: 300px;\n",
       "    overflow: auto;\n",
       "  }\n",
       "  table, th, td {\n",
       "    border: 1px solid black;\n",
       "    border-collapse: collapse;\n",
       "  }\n",
       "  th, td {\n",
       "    padding: 5px;\n",
       "  }\n",
       "  th {\n",
       "    text-align: left;\n",
       "  }\n",
       "</style><div class='table-result-container'><table class='table-result'><thead style='background-color: white'><tr><th>Customer_Name</th><th>Profit</th></tr></thead><tbody><tr><td>Jim Mitchum</td><td>117.2</td></tr><tr><td>Jesus Ocampo</td><td>167.13</td></tr><tr><td>Michelle Ellison</td><td>107.34999999999998</td></tr><tr><td>Joseph Holt</td><td>-644.4799999999998</td></tr><tr><td>Patrick Obrill</td><td>37.640000000000015</td></tr><tr><td>Denny Joy</td><td>483.03</td></tr><tr><td>Ruben Ausman</td><td>1254.47</td></tr><tr><td>Parhena Norris</td><td>192.04000000000002</td></tr><tr><td>Ted Butterfield</td><td>384.5</td></tr><tr><td>Joy Bell</td><td>127.06</td></tr><tr><td>Hilary Holden</td><td>86.73</td></tr><tr><td>Brooke Gillingham</td><td>107.59</td></tr><tr><td>Carl Weiss</td><td>370.8399999999999</td></tr><tr><td>Michael Kennedy</td><td>-405.42999999999995</td></tr><tr><td>Helen Waerman</td><td>2164.17</td></tr><tr><td>Patrick Jones</td><td>442.14000000000004</td></tr><tr><td>Craig Yedwab</td><td>60.640000000000015</td></tr><tr><td>Darren Koutras</td><td>-119.03</td></tr><tr><td>Rob Lucas</td><td>213.98</td></tr><tr><td>Roland Schwarz</td><td>1206.39</td></tr><tr><td>Randy Bradley</td><td>-164.41</td></tr><tr><td>Anne Pryor</td><td>285.8</td></tr><tr><td>Aaron Hawkins</td><td>243.78</td></tr><tr><td>Jessica Myrick</td><td>356.53</td></tr><tr><td>Sally Matthias</td><td>-35.39</td></tr><tr><td>Denny Ordway</td><td>-38.32999999999997</td></tr><tr><td>Denny Blanton</td><td>438.91999999999996</td></tr><tr><td>Craig Carroll</td><td>800.06</td></tr><tr><td>Maria Bertelson</td><td>213.34000000000003</td></tr><tr><td>Frank Gasti  Neau</td><td>390.84</td></tr><tr><td>Ann Steele</td><td>131.75</td></tr><tr><td>Barry Franz</td><td>-291.36999999999995</td></tr><tr><td>Ji Stevenson</td><td>-174.94</td></tr><tr><td>Mark Hamilton</td><td>484.08000000000004</td></tr><tr><td>Bobby Trafton</td><td>-77.27000000000001</td></tr><tr><td>Shirley Schmidt</td><td>199.93</td></tr><tr><td>Matt Abelman</td><td>1230.6100000000004</td></tr><tr><td>Valerie Dominguez</td><td>1617.61</td></tr><tr><td>Hunter Glantz</td><td>790.3699999999999</td></tr><tr><td>Denise Monton</td><td>1319.07</td></tr><tr><td>Stewart Carmichael</td><td>-669.98</td></tr><tr><td>Nick Zandusky</td><td>402.56</td></tr><tr><td>Pierre Wener</td><td>1283.3700000000001</td></tr><tr><td>Ben Wallace</td><td>247.0</td></tr><tr><td>Jasper Cacioppo</td><td>-0.3500000000000001</td></tr><tr><td>Lindsay Shagiari</td><td>260.27</td></tr><tr><td>Henry Macallister</td><td>116.78</td></tr><tr><td>Steven Ward</td><td>68.24</td></tr><tr><td>Carol Triggs</td><td>160.90000000000003</td></tr><tr><td>Resi Plking</td><td>469.9600000000001</td></tr><tr><td>Brendan Sweed</td><td>381.38999999999993</td></tr><tr><td>Phillina Ober</td><td>-49.68999999999998</td></tr><tr><td>Muhammed Macintyre</td><td>58.56</td></tr><tr><td>Odella Nelson</td><td>-5.530000000000008</td></tr><tr><td>Alan Barnes</td><td>215.37</td></tr><tr><td>Michael Chen</td><td>698.4200000000001</td></tr><tr><td>Ted Trevino</td><td>752.1700000000001</td></tr><tr><td>Sean Miller</td><td>-1986.2000000000003</td></tr><tr><td>Fred Waerman</td><td>23.5</td></tr><tr><td>Beth Thompson</td><td>417.58</td></tr><tr><td>Anna Gayman</td><td>-269.49</td></tr><tr><td>Vivian Mathis</td><td>107.33</td></tr><tr><td>Claire Gute</td><td>169.93</td></tr><tr><td>Mick Hernandez</td><td>170.98000000000008</td></tr><tr><td>Giulietta Dortch</td><td>213.93999999999997</td></tr><tr><td>Shahi  Shariari</td><td>-1011.0799999999997</td></tr><tr><td>Anthony Rawles</td><td>495.07</td></tr><tr><td>Bryan Davis</td><td>141.28</td></tr><tr><td>Sample Company A</td><td>983.9499999999999</td></tr><tr><td>Charles Crestani</td><td>392.29</td></tr><tr><td>Brendan Murry</td><td>95.58000000000001</td></tr><tr><td>Stewart Visinsky</td><td>484.8499999999999</td></tr><tr><td>Jim Epp</td><td>1623.11</td></tr><tr><td>Joel Jenkins</td><td>34.46</td></tr><tr><td>Karen Carlisle</td><td>846.14</td></tr><tr><td>Kat Rina Edelman</td><td>392.31</td></tr><tr><td>Allen Armold</td><td>277.4</td></tr><tr><td>Seth Vernon</td><td>1200.1399999999999</td></tr><tr><td>Alyssa Crouse</td><td>-62.13000000000001</td></tr><tr><td>Victoria Wilson</td><td>-874.6600000000001</td></tr><tr><td>Michelle Tran</td><td>-17.160000000000007</td></tr><tr><td>Dan Reichenbach</td><td>1641.54</td></tr><tr><td>Chuck Sachs</td><td>156.27</td></tr><tr><td>Tamara Willingham</td><td>737.39</td></tr><tr><td>Evan Henry</td><td>242.13</td></tr><tr><td>Mike Pelletier</td><td>225.49</td></tr><tr><td>Delfina Latchford</td><td>288.92</td></tr><tr><td>Brad Thomas</td><td>126.87</td></tr><tr><td>Stuart Van</td><td>199.64000000000001</td></tr><tr><td>Anthony Johnson</td><td>1153.49</td></tr><tr><td>Stephanie Phelps</td><td>264.71999999999997</td></tr><tr><td>Anemone Ratner</td><td>32.64</td></tr><tr><td>Neil Ducich</td><td>443.34</td></tr><tr><td>Dave Kipp</td><td>536.3900000000001</td></tr><tr><td>Rick Reed</td><td>721.69</td></tr><tr><td>Shui Tom</td><td>85.12000000000002</td></tr><tr><td>Lena Creighton</td><td>1288.7400000000002</td></tr><tr><td>Harold Engle</td><td>271.63</td></tr><tr><td>Natalie Decherney</td><td>348.55999999999995</td></tr><tr><td>Peter Fuller</td><td>-614.02</td></tr><tr><td>Chad Cunningham</td><td>179.89</td></tr><tr><td>Monica Federle</td><td>456.86</td></tr><tr><td>Harry Greene</td><td>127.87</td></tr><tr><td>Maureen Gnade</td><td>-398.8</td></tr><tr><td>Chad Mcguire</td><td>408.58</td></tr><tr><td>Liz Thompson</td><td>320.9800000000001</td></tr><tr><td>George Ashbrook</td><td>840.8899999999999</td></tr><tr><td>David Philippe</td><td>-40.94</td></tr><tr><td>Mark Haberlin</td><td>61.43</td></tr><tr><td>Mike Vitt Orini</td><td>273.98999999999995</td></tr><tr><td>Duane Benoit</td><td>177.94</td></tr><tr><td>Russell Dascenzo</td><td>35.040000000000006</td></tr><tr><td>Joseph Airdo</td><td>-830.8499999999998</td></tr><tr><td>Christine Abelman</td><td>246.86</td></tr><tr><td>Mark Van Huff</td><td>189.01</td></tr><tr><td>Barry Weirich</td><td>-58.28999999999999</td></tr><tr><td>Kimberly Carter</td><td>157.24</td></tr><tr><td>Robert Barroso</td><td>72.68</td></tr><tr><td>Doug Jacobs</td><td>714.0999999999999</td></tr><tr><td>Pauline Johnson</td><td>682.6800000000001</td></tr><tr><td>Bart Pistole</td><td>418.65999999999997</td></tr><tr><td>Jay Fein</td><td>330.2</td></tr><tr><td>Brian Decherney</td><td>207.02</td></tr><tr><td>Ionia Mcgrath</td><td>975.78</td></tr><tr><td>Xylona Preis</td><td>621.3700000000001</td></tr><tr><td>Tiffany House</td><td>63.84</td></tr><tr><td>Frank Atkinson</td><td>520.33</td></tr><tr><td>Giulietta Weimer</td><td>-268.55000000000007</td></tr><tr><td>Doug Bickford</td><td>432.71000000000004</td></tr><tr><td>Sandra Glassco</td><td>570.45</td></tr><tr><td>Arianne Irving</td><td>860.1700000000001</td></tr><tr><td>Jim Radford</td><td>-785.16</td></tr><tr><td>Clay Rozendal</td><td>74.39999999999999</td></tr><tr><td>Becky Pak</td><td>647.0</td></tr><tr><td>Marc Harrigan</td><td>75.41</td></tr><tr><td>Jack Obriant</td><td>581.44</td></tr><tr><td>Janet Molinari</td><td>502.99</td></tr><tr><td>Mary Zewe</td><td>785.1500000000001</td></tr><tr><td>Maribeth Chnelling</td><td>841.5799999999999</td></tr><tr><td>Alex Russell</td><td>-221.05</td></tr><tr><td>Barry Blumstein</td><td>1.709999999999999</td></tr><tr><td>Amy Hunt</td><td>-195.99</td></tr><tr><td>Pauline Webber</td><td>803.82</td></tr><tr><td>NA</td><td>3114.79</td></tr><tr><td>Jane Waco</td><td>2174.05</td></tr><tr><td>Jim Kriz</td><td>1172.9</td></tr><tr><td>Guy Armstrong</td><td>131.46000000000004</td></tr><tr><td>Ann Chong</td><td>298.61</td></tr><tr><td>Andrew Gjertsen</td><td>294.71999999999997</td></tr><tr><td>Herbert Flentye</td><td>-21.659999999999954</td></tr><tr><td>Kean Thornton</td><td>228.45999999999998</td></tr><tr><td>Karen Ferguson</td><td>1660.4100000000003</td></tr><tr><td>Bradley Nguyen</td><td>340.72</td></tr><tr><td>Lena Radford</td><td>807.87</td></tr><tr><td>Andrew Roberts</td><td>43.65</td></tr><tr><td>Frank Olsen</td><td>180.57000000000002</td></tr><tr><td>Dana Kaydos</td><td>925.97</td></tr><tr><td>Tracy Blumstein</td><td>-1650.8899999999999</td></tr><tr><td>Helen Andreada</td><td>109.46999999999998</td></tr><tr><td>Aaron Smayling</td><td>-253.58999999999995</td></tr><tr><td>Speros Goranitis</td><td>463.27</td></tr><tr><td>Richard Bierner</td><td>475.03</td></tr><tr><td>Karen Seio</td><td>0.11000000000000032</td></tr><tr><td>Rob Haberlin</td><td>172.63000000000002</td></tr><tr><td>Shaun Weien</td><td>793.64</td></tr><tr><td>Giulietta Baptist</td><td>1135.84</td></tr><tr><td>Christina Anderson</td><td>279.9</td></tr><tr><td>Paul Lucas</td><td>-10.39</td></tr><tr><td>Bart Folk</td><td>110.99000000000001</td></tr><tr><td>Philip Brown</td><td>280.27000000000004</td></tr><tr><td>Ryan Akin</td><td>-445.69</td></tr><tr><td>Sue Ann Reed</td><td>610.14</td></tr><tr><td>Susan Pistek</td><td>14.370000000000001</td></tr><tr><td>Harry Marie</td><td>2438.0699999999997</td></tr><tr><td>Dennis Bolton</td><td>291.01</td></tr><tr><td>Adrian Shami</td><td>21.84</td></tr><tr><td>Jim Karlsson</td><td>750.73</td></tr><tr><td>Gary Hwang</td><td>1173.77</td></tr><tr><td>Eugene Hildebrand</td><td>96.20999999999998</td></tr><tr><td>Doug Oconnell</td><td>293.84999999999997</td></tr><tr><td>Bobby Elias</td><td>755.91</td></tr><tr><td>Mary Orourke</td><td>59.36000000000001</td></tr><tr><td>Ryan Crowe</td><td>10.540000000000006</td></tr><tr><td>Logan Haushalter</td><td>316.53</td></tr><tr><td>Mike Caudle</td><td>121.74</td></tr><tr><td>Denise Leinenbach</td><td>220.94</td></tr><tr><td>Andy Reiter</td><td>2860.3399999999997</td></tr><tr><td>Todd Sumrall</td><td>2369.48</td></tr><tr><td>Christopher Conant</td><td>2177.07</td></tr><tr><td>Chuck Magee</td><td>56.080000000000005</td></tr><tr><td>Ralph Kennedy</td><td>269.69000000000005</td></tr><tr><td>Jennifer Halladay</td><td>-25.859999999999996</td></tr><tr><td>Troy Staebel</td><td>-315.47</td></tr><tr><td>Frank Merwin</td><td>175.66000000000005</td></tr><tr><td>Tho    Mas Boland</td><td>828.71</td></tr><tr><td>Larry Blacks</td><td>18.65</td></tr><tr><td>Thea Hudgings</td><td>-252.55</td></tr><tr><td>Gene Mcclure</td><td>441.31999999999994</td></tr><tr><td>Lisa Hazard</td><td>-242.74999999999997</td></tr><tr><td>Justin Ellison</td><td>790.02</td></tr><tr><td>Max Ludwig</td><td>360.02000000000004</td></tr><tr><td>James Lanier</td><td>209.11</td></tr><tr><td>Heather Kirkland</td><td>956.97</td></tr><tr><td>Tonja Turnell</td><td>1124.38</td></tr><tr><td>Michelle Huthwaite</td><td>476.74</td></tr><tr><td>Ken Lonsdale</td><td>778.8600000000001</td></tr><tr><td>Matt Connell</td><td>194.08000000000004</td></tr><tr><td>Ben Pet  Erman</td><td>363.61</td></tr><tr><td>Yana Sorensen</td><td>1778.31</td></tr><tr><td>Alyssa Tate</td><td>100.87</td></tr><tr><td>Lycoris Saunders</td><td>55.23</td></tr><tr><td>Erica Bern</td><td>162.89</td></tr><tr><td>Michael Moore</td><td>81.45999999999995</td></tr><tr><td>Sung Pak</td><td>567.12</td></tr><tr><td>Maureen Fritzler</td><td>-341.53000000000003</td></tr><tr><td>Dave Poirier</td><td>562.9499999999999</td></tr><tr><td>Stuart Calhoun</td><td>52.21</td></tr><tr><td>Lena Hernandez</td><td>525.1199999999999</td></tr><tr><td>Dave Brooks</td><td>472.63</td></tr><tr><td>Luke Foster</td><td>-3598.2799999999997</td></tr><tr><td>Lindsay Williams</td><td>662.8299999999999</td></tr><tr><td>Bart Watters</td><td>921.38</td></tr><tr><td>William Brown</td><td>714.5200000000001</td></tr><tr><td>Dean Katz</td><td>206.5900000000001</td></tr><tr><td>Bradley Drucker</td><td>1127.4900000000002</td></tr><tr><td>Ed Jacobs</td><td>-6964.03</td></tr><tr><td>Cathy Hwang</td><td>184.29000000000002</td></tr><tr><td>Scot Coram</td><td>439.83</td></tr><tr><td>Maurice Satty</td><td>247.43</td></tr><tr><td>Chloris Kastensmidt</td><td>103.32000000000002</td></tr><tr><td>Muhammed Lee</td><td>42.669999999999995</td></tr><tr><td>Ross Devincentis</td><td>314.42</td></tr><tr><td>Andy Gerbode</td><td>-152.75</td></tr><tr><td>David Smith</td><td>163.66</td></tr><tr><td>Jack Lebron</td><td>-207.31</td></tr><tr><td>Candace Mcmahon</td><td>196.88</td></tr><tr><td>Henia Zydlo</td><td>-130.39000000000001</td></tr><tr><td>Ann Blume</td><td>-275.28000000000003</td></tr><tr><td>Cynthia Voltz</td><td>98.70000000000002</td></tr><tr><td>Karl Braun</td><td>45.19</td></tr><tr><td>Matthew Grinstein</td><td>341.91</td></tr><tr><td>Don Weiss</td><td>69.66000000000001</td></tr><tr><td>Meg Tillman</td><td>509.02000000000004</td></tr><tr><td>Tim Brockman</td><td>260.2999999999999</td></tr><tr><td>Steve Nguyen</td><td>481.75</td></tr><tr><td>Astrea Jones</td><td>60.43000000000001</td></tr><tr><td>Daniel Lacy</td><td>4.390000000000001</td></tr><tr><td>Annie Thurman</td><td>974.5699999999999</td></tr><tr><td>Laurel Workman</td><td>32.59000000000007</td></tr><tr><td>Deirdre Greer</td><td>562.7700000000001</td></tr><tr><td>Robert Marley</td><td>1902.55</td></tr><tr><td>Jason Fortune</td><td>91.64000000000001</td></tr><tr><td>Rachel Payne</td><td>59.52000000000001</td></tr><tr><td>Justin Deggeller</td><td>1562.1999999999998</td></tr><tr><td>Ritsa Hightower</td><td>0.3099999999999996</td></tr><tr><td>Troy Blackwell</td><td>-136.47</td></tr><tr><td>Michael Grace</td><td>-470.77000000000004</td></tr><tr><td>Pete Armstrong</td><td>225.86</td></tr><tr><td>Roger Barcio</td><td>243.07999999999998</td></tr><tr><td>Roy Skaria</td><td>9.58</td></tr><tr><td>Mike Gockenbach</td><td>-93.49000000000001</td></tr><tr><td>Adrian Hane</td><td>-2.5000000000000213</td></tr><tr><td>Jamie Frazer</td><td>572.23</td></tr><tr><td>Julie Kriz</td><td>122.65999999999997</td></tr><tr><td>Ken Brennan</td><td>293.90000000000003</td></tr><tr><td>Cindy Stewart</td><td>-6626.24</td></tr><tr><td>Clay Ludtke</td><td>1933.19</td></tr><tr><td>Eva Jacobs</td><td>451.88</td></tr><tr><td>Evan Minnotte</td><td>20.509999999999998</td></tr><tr><td>Cyma Kinney</td><td>-338.43999999999994</td></tr><tr><td>Ashley Jarboe</td><td>521.14</td></tr><tr><td>Brendan Dodson</td><td>116.71</td></tr><tr><td>Sally Knutson</td><td>168.79</td></tr><tr><td>Kat Rina Bavinger</td><td>273.86</td></tr><tr><td>Nicole Hansen</td><td>760.1700000000001</td></tr><tr><td>Ben Ferrer</td><td>1938.67</td></tr><tr><td>Craig Carreira</td><td>187.88</td></tr><tr><td>Sam Craven</td><td>-317.51</td></tr><tr><td>Ken Black</td><td>578.89</td></tr><tr><td>Maris Laware</td><td>-79.08999999999995</td></tr><tr><td>Peter Mcvee</td><td>526.76</td></tr><tr><td>Jeremy Lonsdale</td><td>592.0400000000001</td></tr><tr><td>Penelope Sewall</td><td>3183.78</td></tr><tr><td>Charles Sheldon</td><td>113.15</td></tr><tr><td>Nancy Lomonaco</td><td>343.79999999999995</td></tr><tr><td>Pauline Chand</td><td>-184.34</td></tr><tr><td>Christina Vanderzanden</td><td>488.6000000000001</td></tr><tr><td>Gary Zandusky</td><td>1088.1599999999999</td></tr><tr><td>Anth Ony Witt</td><td>65.78</td></tr><tr><td>Carlos Meador</td><td>-43.730000000000004</td></tr><tr><td>Susan Gilcrest</td><td>-10.330000000000002</td></tr><tr><td>Damala Kotsonis</td><td>881.5199999999999</td></tr><tr><td>Nicole Fjeld</td><td>388.31</td></tr><tr><td>Tamara Chand</td><td>8954.369999999999</td></tr><tr><td>Harold Ryan</td><td>1197.3700000000001</td></tr><tr><td>Christine Sundaresam</td><td>831.94</td></tr><tr><td>James Galang</td><td>1415.3600000000001</td></tr><tr><td>Becky Castell</td><td>251.19</td></tr><tr><td>Erin Smith</td><td>245.48000000000002</td></tr><tr><td>Ricardo Sperren</td><td>633.45</td></tr><tr><td>Alejandro Ballentine</td><td>264.57</td></tr><tr><td>Adam Bellavance</td><td>1972.31</td></tr><tr><td>Steven Roelle</td><td>1990.4299999999998</td></tr><tr><td>Anna Andreadi</td><td>807.83</td></tr><tr><td>Jeremy Pistek</td><td>754.26</td></tr><tr><td>Kean Takahito</td><td>253.75</td></tr><tr><td>Carlos Soltero</td><td>-131.88</td></tr><tr><td>Lori Olson</td><td>150.16000000000003</td></tr><tr><td>Carl Ludwig</td><td>328.08</td></tr><tr><td>Linda Southworth</td><td>-323.33</td></tr><tr><td>Maria Zettner</td><td>85.02000000000001</td></tr><tr><td>Brad Norvell</td><td>29.64</td></tr><tr><td>Angele Hood</td><td>83.97</td></tr><tr><td>Trudy Schmidt</td><td>220.73000000000002</td></tr><tr><td>Marybeth Skach</td><td>81.77</td></tr><tr><td>Aaron Bergman</td><td>129.68</td></tr><tr><td>Benjamin Farhat</td><td>523.09</td></tr><tr><td>Roy Collins</td><td>63.57</td></tr><tr><td>Jocasta Rupert</td><td>107.99</td></tr><tr><td>Toby Carlisle</td><td>606.3699999999999</td></tr><tr><td>John Stevenson</td><td>564.97</td></tr><tr><td>Patrick Ryan</td><td>5596.2</td></tr><tr><td>Trudy Brown</td><td>379.81</td></tr><tr><td>Michael Oakman</td><td>-82.01</td></tr><tr><td>Pete Takahito</td><td>-20.049999999999997</td></tr><tr><td>Debra Catini</td><td>132.08</td></tr><tr><td>Fred Mcmath</td><td>191.09000000000003</td></tr><tr><td>Irene Maddox</td><td>514.2</td></tr><tr><td>Vivek Gonzalez</td><td>144.12</td></tr><tr><td>Neil Franzsisch</td><td>85.92</td></tr><tr><td>Rick Huthwaite</td><td>1289.4500000000003</td></tr><tr><td>Keith Herrera</td><td>656.1199999999999</td></tr><tr><td>Christina Demoss</td><td>233.48000000000002</td></tr><tr><td>Art Foster</td><td>-163.13</td></tr><tr><td>Laurel Elliston</td><td>161.75</td></tr><tr><td>Thomas Thornton</td><td>278.75</td></tr><tr><td>Noah Childs</td><td>-358.90999999999997</td></tr><tr><td>Eugene Moren</td><td>1318.95</td></tr><tr><td>Matt Hagelstein</td><td>122.35</td></tr><tr><td>Luke Schmidt</td><td>243.82</td></tr><tr><td>Greg Matthias</td><td>35.47000000000001</td></tr><tr><td>Rick Hansen</td><td>563.78</td></tr><tr><td>Arthur Prichep</td><td>579.7</td></tr><tr><td>Edward Hooks</td><td>1358.23</td></tr><tr><td>Pamela Coakley</td><td>272.67999999999995</td></tr><tr><td>Karen Danels</td><td>1095.47</td></tr><tr><td>Phillip Breyer</td><td>21.9</td></tr><tr><td>Guy Phonely</td><td>31.84000000000001</td></tr><tr><td>Joni Waerman</td><td>-55.77999999999999</td></tr><tr><td>Nathan Gelder</td><td>217.09999999999997</td></tr><tr><td>Roy Franzsisch</td><td>280.09</td></tr><tr><td>Ralph Arnett</td><td>545.7199999999999</td></tr><tr><td>Steven Cartwright</td><td>1162.9299999999998</td></tr><tr><td>Ellis Ballard</td><td>656.2</td></tr><tr><td>Sean Odonnell</td><td>-88.42999999999995</td></tr><tr><td>Bruce Degenhardt</td><td>316.47</td></tr><tr><td>Arthur Gainer</td><td>340.73999999999995</td></tr><tr><td>Cynthia Delaney</td><td>377.03000000000003</td></tr><tr><td>Randy Ferguson</td><td>633.68</td></tr><tr><td>Rob Williams</td><td>699.06</td></tr><tr><td>Tom Stivers</td><td>48.9</td></tr><tr><td>Michelle Arnett</td><td>268.65000000000003</td></tr><tr><td>Erin Ashbrook</td><td>-52.56000000000006</td></tr><tr><td>Maribeth Dona</td><td>-241.23000000000002</td></tr><tr><td>Daniel Byrd</td><td>431.38</td></tr><tr><td>Maya Herman</td><td>239.02</td></tr><tr><td>Eileen Kiefer</td><td>97.1</td></tr><tr><td>Cindy Schnelling</td><td>-302.86</td></tr><tr><td>Nora Pelletier</td><td>514.5</td></tr><tr><td>Henry Goldwyn</td><td>-2797.9500000000003</td></tr><tr><td>Nona Balk</td><td>117.63999999999999</td></tr><tr><td>Frank Preis</td><td>386.83</td></tr><tr><td>Jill Fjeld</td><td>1074.0700000000002</td></tr><tr><td>Jennifer Ferguson</td><td>624.4100000000001</td></tr><tr><td>Joe Kamberova</td><td>48.87000000000003</td></tr><tr><td>Eugene Barchas</td><td>176.89000000000001</td></tr><tr><td>Sung Shariari</td><td>-75.57</td></tr><tr><td>Chris Selesnick</td><td>733.0699999999999</td></tr><tr><td>David Bremer</td><td>-1428.49</td></tr><tr><td>Ross Baird</td><td>-461.74</td></tr><tr><td>Toby Gnade</td><td>682.1700000000001</td></tr><tr><td>Carol Darley</td><td>-206.70999999999998</td></tr><tr><td>Kelly Collister</td><td>709.43</td></tr><tr><td>Edward Nazzal</td><td>489.2</td></tr><tr><td>Meg Oconnel</td><td>119.01000000000002</td></tr><tr><td>Nick Crebassa</td><td>1314.02</td></tr><tr><td>David Wiener</td><td>-86.97</td></tr><tr><td>Paul Prost</td><td>1495.4699999999998</td></tr><tr><td>Theresa Coyne</td><td>265.59000000000003</td></tr><tr><td>Craig Reiter</td><td>306.92</td></tr><tr><td>Bruce Stewart</td><td>-113.31000000000003</td></tr><tr><td>Laura Armstrong</td><td>1941.91</td></tr><tr><td>Bruce Geld</td><td>119.35</td></tr><tr><td>Julie Prescott</td><td>309.3</td></tr><tr><td>Sarah Foster</td><td>270.60999999999996</td></tr><tr><td>B         Ecky Martin</td><td>-1659.9699999999998</td></tr><tr><td>Bil Eplett</td><td>1487.79</td></tr><tr><td>Rick Bensley</td><td>640.55</td></tr><tr><td>Larry Hughes</td><td>12.630000000000003</td></tr><tr><td>David Flashing</td><td>-259.31000000000006</td></tr><tr><td>Kelly Lampkin</td><td>-182.79000000000002</td></tr><tr><td>Alex Avila</td><td>-369.90000000000003</td></tr><tr><td>Cari Sayre</td><td>185.55</td></tr><tr><td>Julie Creighton</td><td>201.60000000000005</td></tr><tr><td>Corinna Mitchell</td><td>1572.44</td></tr><tr><td>Katherine Hughes</td><td>507.27</td></tr><tr><td>Liz Preis</td><td>338.45</td></tr><tr><td>Christopher Martinez</td><td>3900.04</td></tr><tr><td>Pamela Stobb</td><td>-134.44</td></tr><tr><td>Brad Eason</td><td>139.20999999999998</td></tr><tr><td>Jonathan Howell</td><td>-13.549999999999986</td></tr><tr><td>Cynthia Arntzen</td><td>203.73000000000002</td></tr><tr><td>Dennis Pardue</td><td>1571.83</td></tr><tr><td>Emily Phan</td><td>145.14000000000001</td></tr><tr><td>Caroline Jumper</td><td>858.75</td></tr><tr><td>Michelle Lonsdale</td><td>138.71</td></tr><tr><td>Michael Granlund</td><td>171.45</td></tr><tr><td>Andy Yotov</td><td>103.34</td></tr><tr><td>Ken Heidel</td><td>726.1</td></tr><tr><td>Elpida Rittenbach</td><td>-295.33000000000004</td></tr><tr><td>Ivan Gibson</td><td>320.48</td></tr><tr><td>Jason Gross</td><td>3.589999999999989</td></tr><tr><td>Ed Ludwig</td><td>27.11</td></tr><tr><td>Matthew Clasen</td><td>-247.72000000000003</td></tr><tr><td>Helen Abelman</td><td>270.86</td></tr><tr><td>Alan Haines</td><td>-378.04</td></tr><tr><td>Bobby Odegard</td><td>59.46</td></tr><tr><td>Shaun Chance</td><td>379.57000000000005</td></tr><tr><td>Natalie Webber</td><td>1002.41</td></tr><tr><td>Kelly Andreada</td><td>234.35999999999999</td></tr><tr><td>John Huston</td><td>26.069999999999993</td></tr><tr><td>Liz Pelletier</td><td>110.78999999999999</td></tr><tr><td>Janet Martin</td><td>19.580000000000013</td></tr><tr><td>Carl Jackson</td><td>1.65</td></tr><tr><td>Clytie Kelty</td><td>491.11999999999995</td></tr><tr><td>Bil Donatelli</td><td>1094.51</td></tr><tr><td>Brian Moss</td><td>2171.5900000000006</td></tr><tr><td>Magdelene Morse</td><td>178.41</td></tr><tr><td>Joel Eaton</td><td>222.23000000000002</td></tr><tr><td>Katherine Ducich</td><td>321.57</td></tr><tr><td>Kalyca Meade</td><td>635.4300000000001</td></tr><tr><td>Tracy Zic</td><td>224.9</td></tr><tr><td>Matt Collins</td><td>210.92000000000002</td></tr><tr><td>Sandra Flanagan</td><td>227.76</td></tr><tr><td>Marc Crier</td><td>461.02000000000004</td></tr><tr><td>Phillip Flathmann</td><td>591.29</td></tr><tr><td>Nat Carroll</td><td>574.2</td></tr><tr><td>Valerie Mitchum</td><td>513.63</td></tr><tr><td>Fred Harton</td><td>706.0500000000001</td></tr><tr><td>Paul  Van Hugh</td><td>434.25000000000006</td></tr><tr><td>Sharelle Roach</td><td>-3334.17</td></tr><tr><td>Frank Carlisle</td><td>1217.18</td></tr><tr><td>Kristina Nunn</td><td>324.42999999999995</td></tr><tr><td>Katherine Murray</td><td>973.3700000000001</td></tr><tr><td>Gene Hale</td><td>-95.49000000000001</td></tr><tr><td>Edward Becker</td><td>-80.28999999999996</td></tr><tr><td>Eric Murdock</td><td>102.29999999999998</td></tr><tr><td>Lisa Decherney</td><td>556.77</td></tr><tr><td>Evan Bailliet</td><td>282.40999999999997</td></tr><tr><td>Greg Tran</td><td>2154.42</td></tr><tr><td>Janet Lee</td><td>54.51000000000002</td></tr><tr><td>Gary Hansen</td><td>-577.01</td></tr><tr><td>Charlotte Melton</td><td>91.21000000000001</td></tr><tr><td>Theone Pippenger</td><td>1128.65</td></tr><tr><td>Peter Bhler</td><td>218.16</td></tr><tr><td>Cathy Prescott</td><td>426.94</td></tr><tr><td>Jack Garza</td><td>684.5300000000001</td></tr><tr><td>Thea Hendricks</td><td>-135.22</td></tr><tr><td>Alejandro Grove</td><td>732.75</td></tr><tr><td>Rick Wi Lson</td><td>1574.55</td></tr><tr><td>Fred Hopkins</td><td>2051.01</td></tr><tr><td>Chris Mcafee</td><td>365.03000000000003</td></tr><tr><td>Zuschuss Donatelli</td><td>248.75</td></tr><tr><td>Tim Taslimi</td><td>93.92</td></tr><tr><td>Saphhira Shifley</td><td>332.03</td></tr><tr><td>Sean Braxton</td><td>-2082.75</td></tr><tr><td>Jim Sink</td><td>-54.85999999999999</td></tr><tr><td>Aleksandra Gannaway</td><td>59.3</td></tr><tr><td>Erica Hackney</td><td>150.37</td></tr><tr><td>Daniel Raglin</td><td>2869.08</td></tr><tr><td>Michael Dominguez</td><td>-4.049999999999995</td></tr><tr><td>Tamara Dahlen</td><td>74.83999999999999</td></tr><tr><td>Scot Wooten</td><td>-19.580000000000002</td></tr><tr><td>Anna Chung</td><td>-28.700000000000006</td></tr><tr><td>Khloe Miller</td><td>90.17</td></tr><tr><td>Joe Elijah</td><td>1239.02</td></tr><tr><td>Hallie Redmond</td><td>185.4</td></tr><tr><td>Brian Dahlen</td><td>548.74</td></tr><tr><td>Clay Cheatham</td><td>34.3</td></tr><tr><td>Duane Huffman</td><td>116.68</td></tr><tr><td>David K Lendrick</td><td>250.27</td></tr><tr><td>Vivek Sundaresam</td><td>-263.08000000000004</td></tr><tr><td>Jennifer Jackson</td><td>200.56</td></tr><tr><td>Cthy Armstrong</td><td>211.64000000000004</td></tr><tr><td>Rick Duston</td><td>480.59000000000003</td></tr><tr><td>Scott Williamson</td><td>332.76</td></tr><tr><td>Jamie Kunitz</td><td>1225.5600000000004</td></tr><tr><td>Heather Jas</td><td>98.67000000000002</td></tr><tr><td>Todd Boyes</td><td>268.96000000000004</td></tr><tr><td>Max Engle</td><td>77.59</td></tr><tr><td>Emily Burns</td><td>261.95000000000005</td></tr><tr><td>Guy Thornton</td><td>-6.1400000000000015</td></tr><tr><td>Anne Mcfarland</td><td>969.06</td></tr><tr><td>Nicole Brennan</td><td>24.79</td></tr><tr><td>Claudia Bergmann</td><td>1049.28</td></tr><tr><td>Jennifer Braxton</td><td>156.04999999999998</td></tr><tr><td>Jonathan Doherty</td><td>1040.37</td></tr><tr><td>Bryan Mills</td><td>137.72</td></tr><tr><td>Mitch Willingham</td><td>1665.52</td></tr><tr><td>Mathew Reese</td><td>138.19</td></tr><tr><td>Raymond Messe</td><td>392.6</td></tr><tr><td>Craig M Olinari</td><td>177.89</td></tr><tr><td>Sibella Parks</td><td>-118.38000000000002</td></tr><tr><td>Sung Chung</td><td>31.18</td></tr><tr><td>Tracy Hopkins</td><td>-571.9799999999998</td></tr><tr><td>Ralph Ritter</td><td>-73.83000000000001</td></tr><tr><td>Brian Derr</td><td>141.43</td></tr><tr><td>John Lucas</td><td>779.9</td></tr><tr><td>Vivek Grady</td><td>-52.33</td></tr><tr><td>Tamara Manning</td><td>573.46</td></tr><tr><td>Darrin Van Huff</td><td>-427.63</td></tr><tr><td>Larry Tron</td><td>59.04</td></tr><tr><td>Raymond Buch</td><td>6976.36</td></tr><tr><td>Cindy Chapman</td><td>154.85000000000002</td></tr><tr><td>Adrian Barton</td><td>5444.969999999998</td></tr><tr><td>Nat Gilpin</td><td>313.63</td></tr><tr><td>Mark Packer</td><td>600.3000000000001</td></tr><tr><td>John Dryer</td><td>-266.56</td></tr><tr><td>Brosina Hoffman</td><td>789.6299999999999</td></tr><tr><td>Anthony Jacobs</td><td>150.71999999999997</td></tr><tr><td>Barry Franzsisch</td><td>299.62</td></tr><tr><td>Patrick Odonnell</td><td>437.94</td></tr><tr><td>Joni Sundaresam</td><td>-327.93</td></tr><tr><td>Theresa Swint</td><td>260.63</td></tr><tr><td>Ad       Am Hart</td><td>280.79999999999995</td></tr><tr><td>Amy Cox</td><td>1348.86</td></tr><tr><td>Cassandra Brandow</td><td>148.04999999999993</td></tr><tr><td>Sonia Sunley</td><td>135.90999999999997</td></tr><tr><td>Stephanie Ulpright</td><td>763.7</td></tr><tr><td>Rose Obrian</td><td>-1262.7999999999997</td></tr><tr><td>Grace Kelly</td><td>1448.59</td></tr><tr><td>Fred Chung</td><td>714.29</td></tr><tr><td>Nathan Mautz</td><td>2751.7000000000003</td></tr><tr><td>Rob Beeghly</td><td>76.9</td></tr><tr><td>Steve Chapman</td><td>611.8199999999999</td></tr><tr><td>Dionis Lloyd</td><td>-52.39</td></tr><tr><td>Lauren Leatherbury</td><td>560.51</td></tr><tr><td>Mitch Gastineau</td><td>-1.2399999999999998</td></tr><tr><td>Filia Mcadams</td><td>249.95</td></tr><tr><td>Grant Thornton</td><td>-4108.66</td></tr><tr><td>Julia West</td><td>150.39</td></tr><tr><td>Robert Waldorf</td><td>707.5500000000001</td></tr><tr><td>Christopher Schild</td><td>-343.6700000000001</td></tr><tr><td>Shahi  Collister</td><td>-3164.0</td></tr><tr><td>Christine Phan</td><td>-1905.17</td></tr><tr><td>Frank Hawley</td><td>13398.080000000002</td></tr><tr><td>Russell Applegate</td><td>305.29</td></tr><tr><td>Michelle Moray</td><td>-520.4499999999999</td></tr><tr><td>Sarah Jordon</td><td>-23.379999999999995</td></tr><tr><td>Ricardo Emerson</td><td>6.05</td></tr><tr><td>Philip Fox</td><td>196.88</td></tr><tr><td>Paul Gonzalez</td><td>334.97</td></tr><tr><td>Kean Nguyen</td><td>113.82000000000001</td></tr><tr><td>Pete Kriz</td><td>2037.8999999999999</td></tr><tr><td>Kat Rina Willman</td><td>1756.1400000000003</td></tr><tr><td>Richard Eichhorn</td><td>209.25</td></tr><tr><td>Justin Hirsh</td><td>-96.96</td></tr><tr><td>Beth Fritzler</td><td>25.879999999999995</td></tr><tr><td>Jason Klamczynski</td><td>43.900000000000006</td></tr><tr><td>Rob Dowd</td><td>734.52</td></tr><tr><td>Allen Rosenblatt</td><td>-98.52000000000001</td></tr><tr><td>Eric Barreto</td><td>0.4300000000000068</td></tr><tr><td>Eric Hoffmann</td><td>40.93000000000001</td></tr><tr><td>Tom Ashbrook</td><td>4703.73</td></tr><tr><td>Melanie Seite</td><td>19.43</td></tr><tr><td>Sanjit Jacobs</td><td>143.73000000000002</td></tr><tr><td>Trudy Glocke</td><td>365.12</td></tr><tr><td>Victoria Pisteka</td><td>-1018.9100000000001</td></tr><tr><td>Joy Smith</td><td>-311.24999999999994</td></tr><tr><td>Robert Dilbeck</td><td>835.77</td></tr><tr><td>Dorris Liebe</td><td>175.23</td></tr><tr><td>Kelly Williams</td><td>108.39</td></tr><tr><td>Gary Mcgarr</td><td>347.27000000000004</td></tr><tr><td>Liz Mackendrick</td><td>-44.88000000000002</td></tr><tr><td>Max Jones</td><td>1054.5399999999997</td></tr><tr><td>Greg Hansen</td><td>-5.809999999999999</td></tr><tr><td>Chris Cortes</td><td>393.9700000000001</td></tr><tr><td>Jeremy Ellison</td><td>276.45</td></tr><tr><td>Duane Noonan</td><td>540.53</td></tr><tr><td>Cyra Reiten</td><td>83.27000000000001</td></tr><tr><td>Michael Paige</td><td>637.74</td></tr><tr><td>Tanja Norvell</td><td>-692.05</td></tr><tr><td>Jennifer Patt</td><td>429.74000000000007</td></tr><tr><td>Elizabeth Moffitt</td><td>682.5600000000001</td></tr><tr><td>Deborah Brumfield</td><td>841.84</td></tr><tr><td>Darrin Sayre</td><td>193.78</td></tr><tr><td>Katharine Harms</td><td>455.69</td></tr><tr><td>Quincy Jones</td><td>1203.6899999999998</td></tr><tr><td>Shirley Jackson</td><td>68.59</td></tr><tr><td>Dorothy Badders</td><td>49.06000000000001</td></tr><tr><td>Natalie Fritzler</td><td>-1699.6999999999996</td></tr><tr><td>Aimee Bixby</td><td>313.65999999999997</td></tr><tr><td>Liz Carlisle</td><td>86.76999999999998</td></tr><tr><td>Barry Gonzalez</td><td>-710.8000000000001</td></tr><tr><td>Juliana Krohn</td><td>586.67</td></tr><tr><td>Nra Paige</td><td>513.15</td></tr><tr><td>Bil Stewart</td><td>-21.479999999999972</td></tr><tr><td>Justin Mackendrick</td><td>753.7</td></tr><tr><td>Erica Hernandez</td><td>-96.71999999999997</td></tr><tr><td>Erica Smith</td><td>1003.0799999999999</td></tr><tr><td>Gary Mitchum</td><td>793.29</td></tr><tr><td>Neoma Murray</td><td>788.95</td></tr><tr><td>Toby Ritter</td><td>220.35999999999999</td></tr><tr><td>Lindsay Castell</td><td>299.47</td></tr><tr><td>Anthony Odonnell</td><td>12.1</td></tr><tr><td>Suzanne Mcnair</td><td>581.5699999999999</td></tr><tr><td>Anna Hberlin</td><td>1239.86</td></tr><tr><td>Joy Daniels</td><td>26.72</td></tr><tr><td>Olvera Toch</td><td>-925.56</td></tr><tr><td>Zuschuss Carroll</td><td>-1033.21</td></tr><tr><td>Harold Dahlen</td><td>-136.32999999999998</td></tr><tr><td>Tom Boeckenhauer</td><td>2798.06</td></tr><tr><td>Patrick Bzostek</td><td>228.76999999999998</td></tr><tr><td>Muhammed Yedwab</td><td>-371.71000000000004</td></tr><tr><td>Erin  Mull</td><td>36.82000000000001</td></tr><tr><td>Alan Hwang</td><td>1308.56</td></tr><tr><td>Scott Cohen</td><td>670.98</td></tr><tr><td>Barbara Fisher</td><td>227.3</td></tr><tr><td>Andrew Allen</td><td>436.08</td></tr><tr><td>Dianna Arnett</td><td>56.78999999999999</td></tr><tr><td>Stefanie Holloman</td><td>260.63</td></tr><tr><td>Craig Leslie</td><td>229.0</td></tr><tr><td>Tony Chapman</td><td>119.13</td></tr><tr><td>Chad Sievert</td><td>143.82999999999998</td></tr><tr><td>Maureen Gastineau</td><td>25.89</td></tr><tr><td>Dean Percer</td><td>327.4500000000001</td></tr><tr><td>Greg Maxwell</td><td>188.46</td></tr><tr><td>Thomas Brumley</td><td>179.01</td></tr><tr><td>Sarah Brown</td><td>885.96</td></tr><tr><td>Ruben Dartt</td><td>442.17</td></tr><tr><td>Joni Blumstein</td><td>-286.98</td></tr><tr><td>Dorothy Wardle</td><td>-273.87</td></tr><tr><td>Dave Hallsten</td><td>1193.75</td></tr><tr><td>Sean Wendt</td><td>95.84000000000002</td></tr><tr><td>Adam Shillingsburg</td><td>38.64999999999998</td></tr><tr><td>Roy Phan</td><td>586.92</td></tr><tr><td>Don Miller</td><td>194.86</td></tr><tr><td>Matt Collister</td><td>288.98999999999995</td></tr><tr><td>Georgia Rosenberg</td><td>359.88</td></tr><tr><td>Lisa Ryan</td><td>-383.19</td></tr><tr><td>Dennis Kane</td><td>373.42999999999995</td></tr><tr><td>Jas Ocarroll</td><td>201.24</td></tr><tr><td>Valerie Takahito</td><td>-224.93</td></tr><tr><td>Bryan Spruell</td><td>194.05</td></tr><tr><td>Mitch Webber</td><td>1237.92</td></tr><tr><td>Sheri Gordon</td><td>-133.21</td></tr><tr><td>Charles Mccrossin</td><td>-394.02</td></tr><tr><td>Paul Macintyre</td><td>157.88</td></tr><tr><td>Katherine Nockton</td><td>-151.15</td></tr><tr><td>Coreylock</td><td>205.89999999999998</td></tr><tr><td>Liz Willingham</td><td>192.63000000000002</td></tr><tr><td>Dan Campbell</td><td>-1441.4499999999998</td></tr><tr><td>Lynn Smith</td><td>347.96999999999997</td></tr><tr><td>Karen Bern</td><td>764.23</td></tr><tr><td>Emily Grady</td><td>103.89999999999999</td></tr><tr><td>John Lee</td><td>228.52999999999997</td></tr><tr><td>Bil Tyler</td><td>248.54</td></tr><tr><td>Julia Barnett</td><td>201.39999999999998</td></tr><tr><td>John Murray</td><td>1575.0700000000002</td></tr><tr><td>Don Jones</td><td>345.26</td></tr><tr><td>Alan Shonely</td><td>33.69</td></tr><tr><td>Harold Pawlan</td><td>373.87</td></tr><tr><td>Alice Mccarthy</td><td>194.99</td></tr><tr><td>Cari Schnelling</td><td>105.82</td></tr><tr><td>Shirley Daniels</td><td>1985.19</td></tr><tr><td>Bi L Shonely</td><td>2616.4100000000003</td></tr><tr><td>Allen Goldenen</td><td>69.27</td></tr><tr><td>Victor Preis</td><td>205.39</td></tr><tr><td>Lela Donovan</td><td>0.46</td></tr><tr><td>Linda Cazamias</td><td>288.28999999999996</td></tr><tr><td>Thais Sissman</td><td>-3.3200000000000003</td></tr><tr><td>Anthony Garverick</td><td>-8.420000000000012</td></tr><tr><td>Mike Kennedy</td><td>227.43</td></tr><tr><td>Bradley Talbott</td><td>409.49000000000007</td></tr><tr><td>Maribeth Yedwab</td><td>294.82</td></tr><tr><td>Art Ferguson</td><td>317.63000000000005</td></tr><tr><td>Ivan Liston</td><td>1086.79</td></tr><tr><td>Shahi  Hopkins</td><td>-144.52000000000004</td></tr><tr><td>Sonia Cooley</td><td>100.23000000000002</td></tr><tr><td>Tracy P Oddar</td><td>139.44000000000003</td></tr><tr><td>Darrin Martin</td><td>1677.98</td></tr><tr><td>Paul Knutson</td><td>-798.71</td></tr><tr><td>Hunter Lopez</td><td>5611.459999999999</td></tr><tr><td>Dan Lawera</td><td>321.85</td></tr><tr><td>Maria Etezadi</td><td>1858.9699999999998</td></tr><tr><td>Keith Dawkins</td><td>3038.9300000000003</td></tr><tr><td>Victo Ria Brennan</td><td>371.25</td></tr><tr><td>Kristen Hastings</td><td>1227.1299999999999</td></tr><tr><td>Sean Christensen</td><td>210.10999999999999</td></tr><tr><td>Alan Schoenberger</td><td>719.77</td></tr><tr><td>Sam Zeldin</td><td>366.42</td></tr><tr><td>Darren Budd</td><td>212.54</td></tr><tr><td>Kunst Miller</td><td>745.23</td></tr><tr><td>Jay Kimmel</td><td>320.59</td></tr><tr><td>Paul Stevenson</td><td>198.53</td></tr><tr><td>Justin Ritter</td><td>452.37</td></tr><tr><td>Barry Pond</td><td>205.91000000000003</td></tr><tr><td>Julia Dunbar</td><td>111.11999999999999</td></tr><tr><td>Nathan Cano</td><td>-2206.25</td></tr><tr><td>Sanjit Engle</td><td>2650.67</td></tr><tr><td>Corey Roper</td><td>144.85</td></tr><tr><td>Nora Preis</td><td>630.8199999999999</td></tr><tr><td>John Grady</td><td>206.10000000000002</td></tr><tr><td>Skye Norling</td><td>-716.84</td></tr><tr><td>Greg Guthrie</td><td>-4.539999999999999</td></tr><tr><td>Stefania Perrino</td><td>-270.19</td></tr><tr><td>Dario Medina</td><td>108.76</td></tr><tr><td>Sanjit Chand</td><td>5757.3</td></tr><tr><td>Catherine Glotzbach</td><td>86.31</td></tr><tr><td>Roland Fjeld</td><td>711.8399999999999</td></tr><tr><td>Roger Demir</td><td>207.72</td></tr><tr><td>Toby Swindell</td><td>-185.00000000000003</td></tr><tr><td>Luke Weiss</td><td>837.6700000000001</td></tr><tr><td>Jeremy Farry</td><td>-18.050000000000008</td></tr><tr><td>Mick Crebagga</td><td>-48.92</td></tr><tr><td>Tony Molinari</td><td>292.53</td></tr><tr><td>George Zrebassa</td><td>828.17</td></tr><tr><td>Brian Thompson</td><td>447.80999999999995</td></tr><tr><td>Logan Currie</td><td>230.53000000000003</td></tr><tr><td>Dianna Wilson</td><td>1348.75</td></tr><tr><td>Eudokia Martin</td><td>240.23</td></tr><tr><td>Patricia Hirasaki</td><td>47.89</td></tr><tr><td>Steve Carroll</td><td>360.97</td></tr><tr><td>Carlos Daly</td><td>426.21</td></tr><tr><td>Jenna Caffey</td><td>502.93</td></tr><tr><td>Roland Murray</td><td>28.68</td></tr><tr><td>Beth Paige</td><td>-318.85</td></tr><tr><td>Toby Braunhardt</td><td>491.13</td></tr><tr><td>Sylvia Foulston</td><td>539.9399999999999</td></tr><tr><td>Susan Mackendrick</td><td>-16510.34</td></tr><tr><td>Sara Luxemburg</td><td>528.04</td></tr><tr><td>Bil Overfelt</td><td>278.43</td></tr><tr><td>Annie Zypern</td><td>154.76999999999998</td></tr><tr><td>Neil Knudson</td><td>121.23</td></tr><tr><td>Patrick Gardner</td><td>137.48999999999998</td></tr><tr><td>Dianna Vittorini</td><td>353.09000000000003</td></tr><tr><td>Nick Radford</td><td>-25.130000000000024</td></tr><tr><td>Benjamin Patterson</td><td>-197.39000000000001</td></tr><tr><td>Thomas Seio</td><td>853.5899999999999</td></tr><tr><td>Yoseph Carroll</td><td>1305.64</td></tr><tr><td>Tracy Collins</td><td>217.95000000000002</td></tr><tr><td>Philisse Overcash</td><td>1142.3799999999999</td></tr><tr><td>Mark Cousins</td><td>1773.15</td></tr><tr><td>Noel Staavos</td><td>-234.88999999999996</td></tr><tr><td>Ed Braxton</td><td>13.560000000000047</td></tr><tr><td>Brian Stugart</td><td>238.73</td></tr><tr><td>Ge Orge Bell</td><td>7.849999999999989</td></tr><tr><td>Benjamin Venier</td><td>315.22999999999996</td></tr><tr><td>Alejandro Savely</td><td>354.63</td></tr><tr><td>Berenike Kampe</td><td>51.3</td></tr><tr><td>Vicky Freymann</td><td>-96.28</td></tr><tr><td>Carol Adams</td><td>1143.39</td></tr><tr><td>Arthur Wiediger</td><td>-104.44000000000003</td></tr><tr><td>Christine Kargatis</td><td>258.27000000000004</td></tr><tr><td>Sarah Bern</td><td>157.68</td></tr><tr><td>Erin Creighton</td><td>96.44</td></tr><tr><td>Dorothy Dickinson</td><td>36.440000000000005</td></tr><tr><td>Marina Lichtenstein</td><td>684.9300000000001</td></tr><tr><td>Darren Powers</td><td>241.69000000000003</td></tr><tr><td>Michael Stewart</td><td>48.04</td></tr><tr><td>Chuck Clark</td><td>412.54999999999995</td></tr><tr><td>Tom Prescott</td><td>-1087.38</td></tr><tr><td>Christy Brittain</td><td>272.40000000000003</td></tr><tr><td>Mick Brown</td><td>110.26999999999998</td></tr><tr><td>Brenda Bowman</td><td>1014.6499999999999</td></tr><tr><td>Maxwell Schwartz</td><td>267.94999999999993</td></tr><tr><td>Laurel Beltran</td><td>-51.99000000000001</td></tr><tr><td>Jill Matthias</td><td>113.12</td></tr><tr><td>John Castell</td><td>279.57</td></tr><tr><td>Corey Catlett</td><td>331.27</td></tr><tr><td>Alan Dominguez</td><td>1869.9199999999998</td></tr><tr><td>Dean Braden</td><td>164.94</td></tr><tr><td>Michael Nguyen</td><td>290.82</td></tr><tr><td>Neola Schneider</td><td>-33.160000000000004</td></tr><tr><td>Alex Grayson</td><td>-5.359999999999992</td></tr><tr><td>Susan Vittorini</td><td>93.84</td></tr></tbody></table></div>"
      ]
     },
     "metadata": {
      "application/vnd.databricks.v1+output": {
       "addedWidgets": {},
       "aggData": [],
       "aggError": "",
       "aggOverflow": false,
       "aggSchema": [],
       "aggSeriesLimitReached": false,
       "aggType": "",
       "arguments": {},
       "columnCustomDisplayInfos": {},
       "data": [
        [
         "Jim Mitchum",
         117.2
        ],
        [
         "Jesus Ocampo",
         167.13
        ],
        [
         "Michelle Ellison",
         107.34999999999998
        ],
        [
         "Joseph Holt",
         -644.4799999999998
        ],
        [
         "Patrick Obrill",
         37.640000000000015
        ],
        [
         "Denny Joy",
         483.03
        ],
        [
         "Ruben Ausman",
         1254.47
        ],
        [
         "Parhena Norris",
         192.04000000000002
        ],
        [
         "Ted Butterfield",
         384.5
        ],
        [
         "Joy Bell",
         127.06
        ],
        [
         "Hilary Holden",
         86.73
        ],
        [
         "Brooke Gillingham",
         107.59
        ],
        [
         "Carl Weiss",
         370.8399999999999
        ],
        [
         "Michael Kennedy",
         -405.42999999999995
        ],
        [
         "Helen Waerman",
         2164.17
        ],
        [
         "Patrick Jones",
         442.14000000000004
        ],
        [
         "Craig Yedwab",
         60.640000000000015
        ],
        [
         "Darren Koutras",
         -119.03
        ],
        [
         "Rob Lucas",
         213.98
        ],
        [
         "Roland Schwarz",
         1206.39
        ],
        [
         "Randy Bradley",
         -164.41
        ],
        [
         "Anne Pryor",
         285.8
        ],
        [
         "Aaron Hawkins",
         243.78
        ],
        [
         "Jessica Myrick",
         356.53
        ],
        [
         "Sally Matthias",
         -35.39
        ],
        [
         "Denny Ordway",
         -38.32999999999997
        ],
        [
         "Denny Blanton",
         438.91999999999996
        ],
        [
         "Craig Carroll",
         800.06
        ],
        [
         "Maria Bertelson",
         213.34000000000003
        ],
        [
         "Frank Gasti  Neau",
         390.84
        ],
        [
         "Ann Steele",
         131.75
        ],
        [
         "Barry Franz",
         -291.36999999999995
        ],
        [
         "Ji Stevenson",
         -174.94
        ],
        [
         "Mark Hamilton",
         484.08000000000004
        ],
        [
         "Bobby Trafton",
         -77.27000000000001
        ],
        [
         "Shirley Schmidt",
         199.93
        ],
        [
         "Matt Abelman",
         1230.6100000000004
        ],
        [
         "Valerie Dominguez",
         1617.61
        ],
        [
         "Hunter Glantz",
         790.3699999999999
        ],
        [
         "Denise Monton",
         1319.07
        ],
        [
         "Stewart Carmichael",
         -669.98
        ],
        [
         "Nick Zandusky",
         402.56
        ],
        [
         "Pierre Wener",
         1283.3700000000001
        ],
        [
         "Ben Wallace",
         247.0
        ],
        [
         "Jasper Cacioppo",
         -0.3500000000000001
        ],
        [
         "Lindsay Shagiari",
         260.27
        ],
        [
         "Henry Macallister",
         116.78
        ],
        [
         "Steven Ward",
         68.24
        ],
        [
         "Carol Triggs",
         160.90000000000003
        ],
        [
         "Resi Plking",
         469.9600000000001
        ],
        [
         "Brendan Sweed",
         381.38999999999993
        ],
        [
         "Phillina Ober",
         -49.68999999999998
        ],
        [
         "Muhammed Macintyre",
         58.56
        ],
        [
         "Odella Nelson",
         -5.530000000000008
        ],
        [
         "Alan Barnes",
         215.37
        ],
        [
         "Michael Chen",
         698.4200000000001
        ],
        [
         "Ted Trevino",
         752.1700000000001
        ],
        [
         "Sean Miller",
         -1986.2000000000003
        ],
        [
         "Fred Waerman",
         23.5
        ],
        [
         "Beth Thompson",
         417.58
        ],
        [
         "Anna Gayman",
         -269.49
        ],
        [
         "Vivian Mathis",
         107.33
        ],
        [
         "Claire Gute",
         169.93
        ],
        [
         "Mick Hernandez",
         170.98000000000008
        ],
        [
         "Giulietta Dortch",
         213.93999999999997
        ],
        [
         "Shahi  Shariari",
         -1011.0799999999997
        ],
        [
         "Anthony Rawles",
         495.07
        ],
        [
         "Bryan Davis",
         141.28
        ],
        [
         "Sample Company A",
         983.9499999999999
        ],
        [
         "Charles Crestani",
         392.29
        ],
        [
         "Brendan Murry",
         95.58000000000001
        ],
        [
         "Stewart Visinsky",
         484.8499999999999
        ],
        [
         "Jim Epp",
         1623.11
        ],
        [
         "Joel Jenkins",
         34.46
        ],
        [
         "Karen Carlisle",
         846.14
        ],
        [
         "Kat Rina Edelman",
         392.31
        ],
        [
         "Allen Armold",
         277.4
        ],
        [
         "Seth Vernon",
         1200.1399999999999
        ],
        [
         "Alyssa Crouse",
         -62.13000000000001
        ],
        [
         "Victoria Wilson",
         -874.6600000000001
        ],
        [
         "Michelle Tran",
         -17.160000000000007
        ],
        [
         "Dan Reichenbach",
         1641.54
        ],
        [
         "Chuck Sachs",
         156.27
        ],
        [
         "Tamara Willingham",
         737.39
        ],
        [
         "Evan Henry",
         242.13
        ],
        [
         "Mike Pelletier",
         225.49
        ],
        [
         "Delfina Latchford",
         288.92
        ],
        [
         "Brad Thomas",
         126.87
        ],
        [
         "Stuart Van",
         199.64000000000001
        ],
        [
         "Anthony Johnson",
         1153.49
        ],
        [
         "Stephanie Phelps",
         264.71999999999997
        ],
        [
         "Anemone Ratner",
         32.64
        ],
        [
         "Neil Ducich",
         443.34
        ],
        [
         "Dave Kipp",
         536.3900000000001
        ],
        [
         "Rick Reed",
         721.69
        ],
        [
         "Shui Tom",
         85.12000000000002
        ],
        [
         "Lena Creighton",
         1288.7400000000002
        ],
        [
         "Harold Engle",
         271.63
        ],
        [
         "Natalie Decherney",
         348.55999999999995
        ],
        [
         "Peter Fuller",
         -614.02
        ],
        [
         "Chad Cunningham",
         179.89
        ],
        [
         "Monica Federle",
         456.86
        ],
        [
         "Harry Greene",
         127.87
        ],
        [
         "Maureen Gnade",
         -398.8
        ],
        [
         "Chad Mcguire",
         408.58
        ],
        [
         "Liz Thompson",
         320.9800000000001
        ],
        [
         "George Ashbrook",
         840.8899999999999
        ],
        [
         "David Philippe",
         -40.94
        ],
        [
         "Mark Haberlin",
         61.43
        ],
        [
         "Mike Vitt Orini",
         273.98999999999995
        ],
        [
         "Duane Benoit",
         177.94
        ],
        [
         "Russell Dascenzo",
         35.040000000000006
        ],
        [
         "Joseph Airdo",
         -830.8499999999998
        ],
        [
         "Christine Abelman",
         246.86
        ],
        [
         "Mark Van Huff",
         189.01
        ],
        [
         "Barry Weirich",
         -58.28999999999999
        ],
        [
         "Kimberly Carter",
         157.24
        ],
        [
         "Robert Barroso",
         72.68
        ],
        [
         "Doug Jacobs",
         714.0999999999999
        ],
        [
         "Pauline Johnson",
         682.6800000000001
        ],
        [
         "Bart Pistole",
         418.65999999999997
        ],
        [
         "Jay Fein",
         330.2
        ],
        [
         "Brian Decherney",
         207.02
        ],
        [
         "Ionia Mcgrath",
         975.78
        ],
        [
         "Xylona Preis",
         621.3700000000001
        ],
        [
         "Tiffany House",
         63.84
        ],
        [
         "Frank Atkinson",
         520.33
        ],
        [
         "Giulietta Weimer",
         -268.55000000000007
        ],
        [
         "Doug Bickford",
         432.71000000000004
        ],
        [
         "Sandra Glassco",
         570.45
        ],
        [
         "Arianne Irving",
         860.1700000000001
        ],
        [
         "Jim Radford",
         -785.16
        ],
        [
         "Clay Rozendal",
         74.39999999999999
        ],
        [
         "Becky Pak",
         647.0
        ],
        [
         "Marc Harrigan",
         75.41
        ],
        [
         "Jack Obriant",
         581.44
        ],
        [
         "Janet Molinari",
         502.99
        ],
        [
         "Mary Zewe",
         785.1500000000001
        ],
        [
         "Maribeth Chnelling",
         841.5799999999999
        ],
        [
         "Alex Russell",
         -221.05
        ],
        [
         "Barry Blumstein",
         1.709999999999999
        ],
        [
         "Amy Hunt",
         -195.99
        ],
        [
         "Pauline Webber",
         803.82
        ],
        [
         "NA",
         3114.79
        ],
        [
         "Jane Waco",
         2174.05
        ],
        [
         "Jim Kriz",
         1172.9
        ],
        [
         "Guy Armstrong",
         131.46000000000004
        ],
        [
         "Ann Chong",
         298.61
        ],
        [
         "Andrew Gjertsen",
         294.71999999999997
        ],
        [
         "Herbert Flentye",
         -21.659999999999954
        ],
        [
         "Kean Thornton",
         228.45999999999998
        ],
        [
         "Karen Ferguson",
         1660.4100000000003
        ],
        [
         "Bradley Nguyen",
         340.72
        ],
        [
         "Lena Radford",
         807.87
        ],
        [
         "Andrew Roberts",
         43.65
        ],
        [
         "Frank Olsen",
         180.57000000000002
        ],
        [
         "Dana Kaydos",
         925.97
        ],
        [
         "Tracy Blumstein",
         -1650.8899999999999
        ],
        [
         "Helen Andreada",
         109.46999999999998
        ],
        [
         "Aaron Smayling",
         -253.58999999999995
        ],
        [
         "Speros Goranitis",
         463.27
        ],
        [
         "Richard Bierner",
         475.03
        ],
        [
         "Karen Seio",
         0.11000000000000032
        ],
        [
         "Rob Haberlin",
         172.63000000000002
        ],
        [
         "Shaun Weien",
         793.64
        ],
        [
         "Giulietta Baptist",
         1135.84
        ],
        [
         "Christina Anderson",
         279.9
        ],
        [
         "Paul Lucas",
         -10.39
        ],
        [
         "Bart Folk",
         110.99000000000001
        ],
        [
         "Philip Brown",
         280.27000000000004
        ],
        [
         "Ryan Akin",
         -445.69
        ],
        [
         "Sue Ann Reed",
         610.14
        ],
        [
         "Susan Pistek",
         14.370000000000001
        ],
        [
         "Harry Marie",
         2438.0699999999997
        ],
        [
         "Dennis Bolton",
         291.01
        ],
        [
         "Adrian Shami",
         21.84
        ],
        [
         "Jim Karlsson",
         750.73
        ],
        [
         "Gary Hwang",
         1173.77
        ],
        [
         "Eugene Hildebrand",
         96.20999999999998
        ],
        [
         "Doug Oconnell",
         293.84999999999997
        ],
        [
         "Bobby Elias",
         755.91
        ],
        [
         "Mary Orourke",
         59.36000000000001
        ],
        [
         "Ryan Crowe",
         10.540000000000006
        ],
        [
         "Logan Haushalter",
         316.53
        ],
        [
         "Mike Caudle",
         121.74
        ],
        [
         "Denise Leinenbach",
         220.94
        ],
        [
         "Andy Reiter",
         2860.3399999999997
        ],
        [
         "Todd Sumrall",
         2369.48
        ],
        [
         "Christopher Conant",
         2177.07
        ],
        [
         "Chuck Magee",
         56.080000000000005
        ],
        [
         "Ralph Kennedy",
         269.69000000000005
        ],
        [
         "Jennifer Halladay",
         -25.859999999999996
        ],
        [
         "Troy Staebel",
         -315.47
        ],
        [
         "Frank Merwin",
         175.66000000000005
        ],
        [
         "Tho    Mas Boland",
         828.71
        ],
        [
         "Larry Blacks",
         18.65
        ],
        [
         "Thea Hudgings",
         -252.55
        ],
        [
         "Gene Mcclure",
         441.31999999999994
        ],
        [
         "Lisa Hazard",
         -242.74999999999997
        ],
        [
         "Justin Ellison",
         790.02
        ],
        [
         "Max Ludwig",
         360.02000000000004
        ],
        [
         "James Lanier",
         209.11
        ],
        [
         "Heather Kirkland",
         956.97
        ],
        [
         "Tonja Turnell",
         1124.38
        ],
        [
         "Michelle Huthwaite",
         476.74
        ],
        [
         "Ken Lonsdale",
         778.8600000000001
        ],
        [
         "Matt Connell",
         194.08000000000004
        ],
        [
         "Ben Pet  Erman",
         363.61
        ],
        [
         "Yana Sorensen",
         1778.31
        ],
        [
         "Alyssa Tate",
         100.87
        ],
        [
         "Lycoris Saunders",
         55.23
        ],
        [
         "Erica Bern",
         162.89
        ],
        [
         "Michael Moore",
         81.45999999999995
        ],
        [
         "Sung Pak",
         567.12
        ],
        [
         "Maureen Fritzler",
         -341.53000000000003
        ],
        [
         "Dave Poirier",
         562.9499999999999
        ],
        [
         "Stuart Calhoun",
         52.21
        ],
        [
         "Lena Hernandez",
         525.1199999999999
        ],
        [
         "Dave Brooks",
         472.63
        ],
        [
         "Luke Foster",
         -3598.2799999999997
        ],
        [
         "Lindsay Williams",
         662.8299999999999
        ],
        [
         "Bart Watters",
         921.38
        ],
        [
         "William Brown",
         714.5200000000001
        ],
        [
         "Dean Katz",
         206.5900000000001
        ],
        [
         "Bradley Drucker",
         1127.4900000000002
        ],
        [
         "Ed Jacobs",
         -6964.03
        ],
        [
         "Cathy Hwang",
         184.29000000000002
        ],
        [
         "Scot Coram",
         439.83
        ],
        [
         "Maurice Satty",
         247.43
        ],
        [
         "Chloris Kastensmidt",
         103.32000000000002
        ],
        [
         "Muhammed Lee",
         42.669999999999995
        ],
        [
         "Ross Devincentis",
         314.42
        ],
        [
         "Andy Gerbode",
         -152.75
        ],
        [
         "David Smith",
         163.66
        ],
        [
         "Jack Lebron",
         -207.31
        ],
        [
         "Candace Mcmahon",
         196.88
        ],
        [
         "Henia Zydlo",
         -130.39000000000001
        ],
        [
         "Ann Blume",
         -275.28000000000003
        ],
        [
         "Cynthia Voltz",
         98.70000000000002
        ],
        [
         "Karl Braun",
         45.19
        ],
        [
         "Matthew Grinstein",
         341.91
        ],
        [
         "Don Weiss",
         69.66000000000001
        ],
        [
         "Meg Tillman",
         509.02000000000004
        ],
        [
         "Tim Brockman",
         260.2999999999999
        ],
        [
         "Steve Nguyen",
         481.75
        ],
        [
         "Astrea Jones",
         60.43000000000001
        ],
        [
         "Daniel Lacy",
         4.390000000000001
        ],
        [
         "Annie Thurman",
         974.5699999999999
        ],
        [
         "Laurel Workman",
         32.59000000000007
        ],
        [
         "Deirdre Greer",
         562.7700000000001
        ],
        [
         "Robert Marley",
         1902.55
        ],
        [
         "Jason Fortune",
         91.64000000000001
        ],
        [
         "Rachel Payne",
         59.52000000000001
        ],
        [
         "Justin Deggeller",
         1562.1999999999998
        ],
        [
         "Ritsa Hightower",
         0.3099999999999996
        ],
        [
         "Troy Blackwell",
         -136.47
        ],
        [
         "Michael Grace",
         -470.77000000000004
        ],
        [
         "Pete Armstrong",
         225.86
        ],
        [
         "Roger Barcio",
         243.07999999999998
        ],
        [
         "Roy Skaria",
         9.58
        ],
        [
         "Mike Gockenbach",
         -93.49000000000001
        ],
        [
         "Adrian Hane",
         -2.5000000000000213
        ],
        [
         "Jamie Frazer",
         572.23
        ],
        [
         "Julie Kriz",
         122.65999999999997
        ],
        [
         "Ken Brennan",
         293.90000000000003
        ],
        [
         "Cindy Stewart",
         -6626.24
        ],
        [
         "Clay Ludtke",
         1933.19
        ],
        [
         "Eva Jacobs",
         451.88
        ],
        [
         "Evan Minnotte",
         20.509999999999998
        ],
        [
         "Cyma Kinney",
         -338.43999999999994
        ],
        [
         "Ashley Jarboe",
         521.14
        ],
        [
         "Brendan Dodson",
         116.71
        ],
        [
         "Sally Knutson",
         168.79
        ],
        [
         "Kat Rina Bavinger",
         273.86
        ],
        [
         "Nicole Hansen",
         760.1700000000001
        ],
        [
         "Ben Ferrer",
         1938.67
        ],
        [
         "Craig Carreira",
         187.88
        ],
        [
         "Sam Craven",
         -317.51
        ],
        [
         "Ken Black",
         578.89
        ],
        [
         "Maris Laware",
         -79.08999999999995
        ],
        [
         "Peter Mcvee",
         526.76
        ],
        [
         "Jeremy Lonsdale",
         592.0400000000001
        ],
        [
         "Penelope Sewall",
         3183.78
        ],
        [
         "Charles Sheldon",
         113.15
        ],
        [
         "Nancy Lomonaco",
         343.79999999999995
        ],
        [
         "Pauline Chand",
         -184.34
        ],
        [
         "Christina Vanderzanden",
         488.6000000000001
        ],
        [
         "Gary Zandusky",
         1088.1599999999999
        ],
        [
         "Anth Ony Witt",
         65.78
        ],
        [
         "Carlos Meador",
         -43.730000000000004
        ],
        [
         "Susan Gilcrest",
         -10.330000000000002
        ],
        [
         "Damala Kotsonis",
         881.5199999999999
        ],
        [
         "Nicole Fjeld",
         388.31
        ],
        [
         "Tamara Chand",
         8954.369999999999
        ],
        [
         "Harold Ryan",
         1197.3700000000001
        ],
        [
         "Christine Sundaresam",
         831.94
        ],
        [
         "James Galang",
         1415.3600000000001
        ],
        [
         "Becky Castell",
         251.19
        ],
        [
         "Erin Smith",
         245.48000000000002
        ],
        [
         "Ricardo Sperren",
         633.45
        ],
        [
         "Alejandro Ballentine",
         264.57
        ],
        [
         "Adam Bellavance",
         1972.31
        ],
        [
         "Steven Roelle",
         1990.4299999999998
        ],
        [
         "Anna Andreadi",
         807.83
        ],
        [
         "Jeremy Pistek",
         754.26
        ],
        [
         "Kean Takahito",
         253.75
        ],
        [
         "Carlos Soltero",
         -131.88
        ],
        [
         "Lori Olson",
         150.16000000000003
        ],
        [
         "Carl Ludwig",
         328.08
        ],
        [
         "Linda Southworth",
         -323.33
        ],
        [
         "Maria Zettner",
         85.02000000000001
        ],
        [
         "Brad Norvell",
         29.64
        ],
        [
         "Angele Hood",
         83.97
        ],
        [
         "Trudy Schmidt",
         220.73000000000002
        ],
        [
         "Marybeth Skach",
         81.77
        ],
        [
         "Aaron Bergman",
         129.68
        ],
        [
         "Benjamin Farhat",
         523.09
        ],
        [
         "Roy Collins",
         63.57
        ],
        [
         "Jocasta Rupert",
         107.99
        ],
        [
         "Toby Carlisle",
         606.3699999999999
        ],
        [
         "John Stevenson",
         564.97
        ],
        [
         "Patrick Ryan",
         5596.2
        ],
        [
         "Trudy Brown",
         379.81
        ],
        [
         "Michael Oakman",
         -82.01
        ],
        [
         "Pete Takahito",
         -20.049999999999997
        ],
        [
         "Debra Catini",
         132.08
        ],
        [
         "Fred Mcmath",
         191.09000000000003
        ],
        [
         "Irene Maddox",
         514.2
        ],
        [
         "Vivek Gonzalez",
         144.12
        ],
        [
         "Neil Franzsisch",
         85.92
        ],
        [
         "Rick Huthwaite",
         1289.4500000000003
        ],
        [
         "Keith Herrera",
         656.1199999999999
        ],
        [
         "Christina Demoss",
         233.48000000000002
        ],
        [
         "Art Foster",
         -163.13
        ],
        [
         "Laurel Elliston",
         161.75
        ],
        [
         "Thomas Thornton",
         278.75
        ],
        [
         "Noah Childs",
         -358.90999999999997
        ],
        [
         "Eugene Moren",
         1318.95
        ],
        [
         "Matt Hagelstein",
         122.35
        ],
        [
         "Luke Schmidt",
         243.82
        ],
        [
         "Greg Matthias",
         35.47000000000001
        ],
        [
         "Rick Hansen",
         563.78
        ],
        [
         "Arthur Prichep",
         579.7
        ],
        [
         "Edward Hooks",
         1358.23
        ],
        [
         "Pamela Coakley",
         272.67999999999995
        ],
        [
         "Karen Danels",
         1095.47
        ],
        [
         "Phillip Breyer",
         21.9
        ],
        [
         "Guy Phonely",
         31.84000000000001
        ],
        [
         "Joni Waerman",
         -55.77999999999999
        ],
        [
         "Nathan Gelder",
         217.09999999999997
        ],
        [
         "Roy Franzsisch",
         280.09
        ],
        [
         "Ralph Arnett",
         545.7199999999999
        ],
        [
         "Steven Cartwright",
         1162.9299999999998
        ],
        [
         "Ellis Ballard",
         656.2
        ],
        [
         "Sean Odonnell",
         -88.42999999999995
        ],
        [
         "Bruce Degenhardt",
         316.47
        ],
        [
         "Arthur Gainer",
         340.73999999999995
        ],
        [
         "Cynthia Delaney",
         377.03000000000003
        ],
        [
         "Randy Ferguson",
         633.68
        ],
        [
         "Rob Williams",
         699.06
        ],
        [
         "Tom Stivers",
         48.9
        ],
        [
         "Michelle Arnett",
         268.65000000000003
        ],
        [
         "Erin Ashbrook",
         -52.56000000000006
        ],
        [
         "Maribeth Dona",
         -241.23000000000002
        ],
        [
         "Daniel Byrd",
         431.38
        ],
        [
         "Maya Herman",
         239.02
        ],
        [
         "Eileen Kiefer",
         97.1
        ],
        [
         "Cindy Schnelling",
         -302.86
        ],
        [
         "Nora Pelletier",
         514.5
        ],
        [
         "Henry Goldwyn",
         -2797.9500000000003
        ],
        [
         "Nona Balk",
         117.63999999999999
        ],
        [
         "Frank Preis",
         386.83
        ],
        [
         "Jill Fjeld",
         1074.0700000000002
        ],
        [
         "Jennifer Ferguson",
         624.4100000000001
        ],
        [
         "Joe Kamberova",
         48.87000000000003
        ],
        [
         "Eugene Barchas",
         176.89000000000001
        ],
        [
         "Sung Shariari",
         -75.57
        ],
        [
         "Chris Selesnick",
         733.0699999999999
        ],
        [
         "David Bremer",
         -1428.49
        ],
        [
         "Ross Baird",
         -461.74
        ],
        [
         "Toby Gnade",
         682.1700000000001
        ],
        [
         "Carol Darley",
         -206.70999999999998
        ],
        [
         "Kelly Collister",
         709.43
        ],
        [
         "Edward Nazzal",
         489.2
        ],
        [
         "Meg Oconnel",
         119.01000000000002
        ],
        [
         "Nick Crebassa",
         1314.02
        ],
        [
         "David Wiener",
         -86.97
        ],
        [
         "Paul Prost",
         1495.4699999999998
        ],
        [
         "Theresa Coyne",
         265.59000000000003
        ],
        [
         "Craig Reiter",
         306.92
        ],
        [
         "Bruce Stewart",
         -113.31000000000003
        ],
        [
         "Laura Armstrong",
         1941.91
        ],
        [
         "Bruce Geld",
         119.35
        ],
        [
         "Julie Prescott",
         309.3
        ],
        [
         "Sarah Foster",
         270.60999999999996
        ],
        [
         "B         Ecky Martin",
         -1659.9699999999998
        ],
        [
         "Bil Eplett",
         1487.79
        ],
        [
         "Rick Bensley",
         640.55
        ],
        [
         "Larry Hughes",
         12.630000000000003
        ],
        [
         "David Flashing",
         -259.31000000000006
        ],
        [
         "Kelly Lampkin",
         -182.79000000000002
        ],
        [
         "Alex Avila",
         -369.90000000000003
        ],
        [
         "Cari Sayre",
         185.55
        ],
        [
         "Julie Creighton",
         201.60000000000005
        ],
        [
         "Corinna Mitchell",
         1572.44
        ],
        [
         "Katherine Hughes",
         507.27
        ],
        [
         "Liz Preis",
         338.45
        ],
        [
         "Christopher Martinez",
         3900.04
        ],
        [
         "Pamela Stobb",
         -134.44
        ],
        [
         "Brad Eason",
         139.20999999999998
        ],
        [
         "Jonathan Howell",
         -13.549999999999986
        ],
        [
         "Cynthia Arntzen",
         203.73000000000002
        ],
        [
         "Dennis Pardue",
         1571.83
        ],
        [
         "Emily Phan",
         145.14000000000001
        ],
        [
         "Caroline Jumper",
         858.75
        ],
        [
         "Michelle Lonsdale",
         138.71
        ],
        [
         "Michael Granlund",
         171.45
        ],
        [
         "Andy Yotov",
         103.34
        ],
        [
         "Ken Heidel",
         726.1
        ],
        [
         "Elpida Rittenbach",
         -295.33000000000004
        ],
        [
         "Ivan Gibson",
         320.48
        ],
        [
         "Jason Gross",
         3.589999999999989
        ],
        [
         "Ed Ludwig",
         27.11
        ],
        [
         "Matthew Clasen",
         -247.72000000000003
        ],
        [
         "Helen Abelman",
         270.86
        ],
        [
         "Alan Haines",
         -378.04
        ],
        [
         "Bobby Odegard",
         59.46
        ],
        [
         "Shaun Chance",
         379.57000000000005
        ],
        [
         "Natalie Webber",
         1002.41
        ],
        [
         "Kelly Andreada",
         234.35999999999999
        ],
        [
         "John Huston",
         26.069999999999993
        ],
        [
         "Liz Pelletier",
         110.78999999999999
        ],
        [
         "Janet Martin",
         19.580000000000013
        ],
        [
         "Carl Jackson",
         1.65
        ],
        [
         "Clytie Kelty",
         491.11999999999995
        ],
        [
         "Bil Donatelli",
         1094.51
        ],
        [
         "Brian Moss",
         2171.5900000000006
        ],
        [
         "Magdelene Morse",
         178.41
        ],
        [
         "Joel Eaton",
         222.23000000000002
        ],
        [
         "Katherine Ducich",
         321.57
        ],
        [
         "Kalyca Meade",
         635.4300000000001
        ],
        [
         "Tracy Zic",
         224.9
        ],
        [
         "Matt Collins",
         210.92000000000002
        ],
        [
         "Sandra Flanagan",
         227.76
        ],
        [
         "Marc Crier",
         461.02000000000004
        ],
        [
         "Phillip Flathmann",
         591.29
        ],
        [
         "Nat Carroll",
         574.2
        ],
        [
         "Valerie Mitchum",
         513.63
        ],
        [
         "Fred Harton",
         706.0500000000001
        ],
        [
         "Paul  Van Hugh",
         434.25000000000006
        ],
        [
         "Sharelle Roach",
         -3334.17
        ],
        [
         "Frank Carlisle",
         1217.18
        ],
        [
         "Kristina Nunn",
         324.42999999999995
        ],
        [
         "Katherine Murray",
         973.3700000000001
        ],
        [
         "Gene Hale",
         -95.49000000000001
        ],
        [
         "Edward Becker",
         -80.28999999999996
        ],
        [
         "Eric Murdock",
         102.29999999999998
        ],
        [
         "Lisa Decherney",
         556.77
        ],
        [
         "Evan Bailliet",
         282.40999999999997
        ],
        [
         "Greg Tran",
         2154.42
        ],
        [
         "Janet Lee",
         54.51000000000002
        ],
        [
         "Gary Hansen",
         -577.01
        ],
        [
         "Charlotte Melton",
         91.21000000000001
        ],
        [
         "Theone Pippenger",
         1128.65
        ],
        [
         "Peter Bhler",
         218.16
        ],
        [
         "Cathy Prescott",
         426.94
        ],
        [
         "Jack Garza",
         684.5300000000001
        ],
        [
         "Thea Hendricks",
         -135.22
        ],
        [
         "Alejandro Grove",
         732.75
        ],
        [
         "Rick Wi Lson",
         1574.55
        ],
        [
         "Fred Hopkins",
         2051.01
        ],
        [
         "Chris Mcafee",
         365.03000000000003
        ],
        [
         "Zuschuss Donatelli",
         248.75
        ],
        [
         "Tim Taslimi",
         93.92
        ],
        [
         "Saphhira Shifley",
         332.03
        ],
        [
         "Sean Braxton",
         -2082.75
        ],
        [
         "Jim Sink",
         -54.85999999999999
        ],
        [
         "Aleksandra Gannaway",
         59.3
        ],
        [
         "Erica Hackney",
         150.37
        ],
        [
         "Daniel Raglin",
         2869.08
        ],
        [
         "Michael Dominguez",
         -4.049999999999995
        ],
        [
         "Tamara Dahlen",
         74.83999999999999
        ],
        [
         "Scot Wooten",
         -19.580000000000002
        ],
        [
         "Anna Chung",
         -28.700000000000006
        ],
        [
         "Khloe Miller",
         90.17
        ],
        [
         "Joe Elijah",
         1239.02
        ],
        [
         "Hallie Redmond",
         185.4
        ],
        [
         "Brian Dahlen",
         548.74
        ],
        [
         "Clay Cheatham",
         34.3
        ],
        [
         "Duane Huffman",
         116.68
        ],
        [
         "David K Lendrick",
         250.27
        ],
        [
         "Vivek Sundaresam",
         -263.08000000000004
        ],
        [
         "Jennifer Jackson",
         200.56
        ],
        [
         "Cthy Armstrong",
         211.64000000000004
        ],
        [
         "Rick Duston",
         480.59000000000003
        ],
        [
         "Scott Williamson",
         332.76
        ],
        [
         "Jamie Kunitz",
         1225.5600000000004
        ],
        [
         "Heather Jas",
         98.67000000000002
        ],
        [
         "Todd Boyes",
         268.96000000000004
        ],
        [
         "Max Engle",
         77.59
        ],
        [
         "Emily Burns",
         261.95000000000005
        ],
        [
         "Guy Thornton",
         -6.1400000000000015
        ],
        [
         "Anne Mcfarland",
         969.06
        ],
        [
         "Nicole Brennan",
         24.79
        ],
        [
         "Claudia Bergmann",
         1049.28
        ],
        [
         "Jennifer Braxton",
         156.04999999999998
        ],
        [
         "Jonathan Doherty",
         1040.37
        ],
        [
         "Bryan Mills",
         137.72
        ],
        [
         "Mitch Willingham",
         1665.52
        ],
        [
         "Mathew Reese",
         138.19
        ],
        [
         "Raymond Messe",
         392.6
        ],
        [
         "Craig M Olinari",
         177.89
        ],
        [
         "Sibella Parks",
         -118.38000000000002
        ],
        [
         "Sung Chung",
         31.18
        ],
        [
         "Tracy Hopkins",
         -571.9799999999998
        ],
        [
         "Ralph Ritter",
         -73.83000000000001
        ],
        [
         "Brian Derr",
         141.43
        ],
        [
         "John Lucas",
         779.9
        ],
        [
         "Vivek Grady",
         -52.33
        ],
        [
         "Tamara Manning",
         573.46
        ],
        [
         "Darrin Van Huff",
         -427.63
        ],
        [
         "Larry Tron",
         59.04
        ],
        [
         "Raymond Buch",
         6976.36
        ],
        [
         "Cindy Chapman",
         154.85000000000002
        ],
        [
         "Adrian Barton",
         5444.969999999998
        ],
        [
         "Nat Gilpin",
         313.63
        ],
        [
         "Mark Packer",
         600.3000000000001
        ],
        [
         "John Dryer",
         -266.56
        ],
        [
         "Brosina Hoffman",
         789.6299999999999
        ],
        [
         "Anthony Jacobs",
         150.71999999999997
        ],
        [
         "Barry Franzsisch",
         299.62
        ],
        [
         "Patrick Odonnell",
         437.94
        ],
        [
         "Joni Sundaresam",
         -327.93
        ],
        [
         "Theresa Swint",
         260.63
        ],
        [
         "Ad       Am Hart",
         280.79999999999995
        ],
        [
         "Amy Cox",
         1348.86
        ],
        [
         "Cassandra Brandow",
         148.04999999999993
        ],
        [
         "Sonia Sunley",
         135.90999999999997
        ],
        [
         "Stephanie Ulpright",
         763.7
        ],
        [
         "Rose Obrian",
         -1262.7999999999997
        ],
        [
         "Grace Kelly",
         1448.59
        ],
        [
         "Fred Chung",
         714.29
        ],
        [
         "Nathan Mautz",
         2751.7000000000003
        ],
        [
         "Rob Beeghly",
         76.9
        ],
        [
         "Steve Chapman",
         611.8199999999999
        ],
        [
         "Dionis Lloyd",
         -52.39
        ],
        [
         "Lauren Leatherbury",
         560.51
        ],
        [
         "Mitch Gastineau",
         -1.2399999999999998
        ],
        [
         "Filia Mcadams",
         249.95
        ],
        [
         "Grant Thornton",
         -4108.66
        ],
        [
         "Julia West",
         150.39
        ],
        [
         "Robert Waldorf",
         707.5500000000001
        ],
        [
         "Christopher Schild",
         -343.6700000000001
        ],
        [
         "Shahi  Collister",
         -3164.0
        ],
        [
         "Christine Phan",
         -1905.17
        ],
        [
         "Frank Hawley",
         13398.080000000002
        ],
        [
         "Russell Applegate",
         305.29
        ],
        [
         "Michelle Moray",
         -520.4499999999999
        ],
        [
         "Sarah Jordon",
         -23.379999999999995
        ],
        [
         "Ricardo Emerson",
         6.05
        ],
        [
         "Philip Fox",
         196.88
        ],
        [
         "Paul Gonzalez",
         334.97
        ],
        [
         "Kean Nguyen",
         113.82000000000001
        ],
        [
         "Pete Kriz",
         2037.8999999999999
        ],
        [
         "Kat Rina Willman",
         1756.1400000000003
        ],
        [
         "Richard Eichhorn",
         209.25
        ],
        [
         "Justin Hirsh",
         -96.96
        ],
        [
         "Beth Fritzler",
         25.879999999999995
        ],
        [
         "Jason Klamczynski",
         43.900000000000006
        ],
        [
         "Rob Dowd",
         734.52
        ],
        [
         "Allen Rosenblatt",
         -98.52000000000001
        ],
        [
         "Eric Barreto",
         0.4300000000000068
        ],
        [
         "Eric Hoffmann",
         40.93000000000001
        ],
        [
         "Tom Ashbrook",
         4703.73
        ],
        [
         "Melanie Seite",
         19.43
        ],
        [
         "Sanjit Jacobs",
         143.73000000000002
        ],
        [
         "Trudy Glocke",
         365.12
        ],
        [
         "Victoria Pisteka",
         -1018.9100000000001
        ],
        [
         "Joy Smith",
         -311.24999999999994
        ],
        [
         "Robert Dilbeck",
         835.77
        ],
        [
         "Dorris Liebe",
         175.23
        ],
        [
         "Kelly Williams",
         108.39
        ],
        [
         "Gary Mcgarr",
         347.27000000000004
        ],
        [
         "Liz Mackendrick",
         -44.88000000000002
        ],
        [
         "Max Jones",
         1054.5399999999997
        ],
        [
         "Greg Hansen",
         -5.809999999999999
        ],
        [
         "Chris Cortes",
         393.9700000000001
        ],
        [
         "Jeremy Ellison",
         276.45
        ],
        [
         "Duane Noonan",
         540.53
        ],
        [
         "Cyra Reiten",
         83.27000000000001
        ],
        [
         "Michael Paige",
         637.74
        ],
        [
         "Tanja Norvell",
         -692.05
        ],
        [
         "Jennifer Patt",
         429.74000000000007
        ],
        [
         "Elizabeth Moffitt",
         682.5600000000001
        ],
        [
         "Deborah Brumfield",
         841.84
        ],
        [
         "Darrin Sayre",
         193.78
        ],
        [
         "Katharine Harms",
         455.69
        ],
        [
         "Quincy Jones",
         1203.6899999999998
        ],
        [
         "Shirley Jackson",
         68.59
        ],
        [
         "Dorothy Badders",
         49.06000000000001
        ],
        [
         "Natalie Fritzler",
         -1699.6999999999996
        ],
        [
         "Aimee Bixby",
         313.65999999999997
        ],
        [
         "Liz Carlisle",
         86.76999999999998
        ],
        [
         "Barry Gonzalez",
         -710.8000000000001
        ],
        [
         "Juliana Krohn",
         586.67
        ],
        [
         "Nra Paige",
         513.15
        ],
        [
         "Bil Stewart",
         -21.479999999999972
        ],
        [
         "Justin Mackendrick",
         753.7
        ],
        [
         "Erica Hernandez",
         -96.71999999999997
        ],
        [
         "Erica Smith",
         1003.0799999999999
        ],
        [
         "Gary Mitchum",
         793.29
        ],
        [
         "Neoma Murray",
         788.95
        ],
        [
         "Toby Ritter",
         220.35999999999999
        ],
        [
         "Lindsay Castell",
         299.47
        ],
        [
         "Anthony Odonnell",
         12.1
        ],
        [
         "Suzanne Mcnair",
         581.5699999999999
        ],
        [
         "Anna Hberlin",
         1239.86
        ],
        [
         "Joy Daniels",
         26.72
        ],
        [
         "Olvera Toch",
         -925.56
        ],
        [
         "Zuschuss Carroll",
         -1033.21
        ],
        [
         "Harold Dahlen",
         -136.32999999999998
        ],
        [
         "Tom Boeckenhauer",
         2798.06
        ],
        [
         "Patrick Bzostek",
         228.76999999999998
        ],
        [
         "Muhammed Yedwab",
         -371.71000000000004
        ],
        [
         "Erin  Mull",
         36.82000000000001
        ],
        [
         "Alan Hwang",
         1308.56
        ],
        [
         "Scott Cohen",
         670.98
        ],
        [
         "Barbara Fisher",
         227.3
        ],
        [
         "Andrew Allen",
         436.08
        ],
        [
         "Dianna Arnett",
         56.78999999999999
        ],
        [
         "Stefanie Holloman",
         260.63
        ],
        [
         "Craig Leslie",
         229.0
        ],
        [
         "Tony Chapman",
         119.13
        ],
        [
         "Chad Sievert",
         143.82999999999998
        ],
        [
         "Maureen Gastineau",
         25.89
        ],
        [
         "Dean Percer",
         327.4500000000001
        ],
        [
         "Greg Maxwell",
         188.46
        ],
        [
         "Thomas Brumley",
         179.01
        ],
        [
         "Sarah Brown",
         885.96
        ],
        [
         "Ruben Dartt",
         442.17
        ],
        [
         "Joni Blumstein",
         -286.98
        ],
        [
         "Dorothy Wardle",
         -273.87
        ],
        [
         "Dave Hallsten",
         1193.75
        ],
        [
         "Sean Wendt",
         95.84000000000002
        ],
        [
         "Adam Shillingsburg",
         38.64999999999998
        ],
        [
         "Roy Phan",
         586.92
        ],
        [
         "Don Miller",
         194.86
        ],
        [
         "Matt Collister",
         288.98999999999995
        ],
        [
         "Georgia Rosenberg",
         359.88
        ],
        [
         "Lisa Ryan",
         -383.19
        ],
        [
         "Dennis Kane",
         373.42999999999995
        ],
        [
         "Jas Ocarroll",
         201.24
        ],
        [
         "Valerie Takahito",
         -224.93
        ],
        [
         "Bryan Spruell",
         194.05
        ],
        [
         "Mitch Webber",
         1237.92
        ],
        [
         "Sheri Gordon",
         -133.21
        ],
        [
         "Charles Mccrossin",
         -394.02
        ],
        [
         "Paul Macintyre",
         157.88
        ],
        [
         "Katherine Nockton",
         -151.15
        ],
        [
         "Coreylock",
         205.89999999999998
        ],
        [
         "Liz Willingham",
         192.63000000000002
        ],
        [
         "Dan Campbell",
         -1441.4499999999998
        ],
        [
         "Lynn Smith",
         347.96999999999997
        ],
        [
         "Karen Bern",
         764.23
        ],
        [
         "Emily Grady",
         103.89999999999999
        ],
        [
         "John Lee",
         228.52999999999997
        ],
        [
         "Bil Tyler",
         248.54
        ],
        [
         "Julia Barnett",
         201.39999999999998
        ],
        [
         "John Murray",
         1575.0700000000002
        ],
        [
         "Don Jones",
         345.26
        ],
        [
         "Alan Shonely",
         33.69
        ],
        [
         "Harold Pawlan",
         373.87
        ],
        [
         "Alice Mccarthy",
         194.99
        ],
        [
         "Cari Schnelling",
         105.82
        ],
        [
         "Shirley Daniels",
         1985.19
        ],
        [
         "Bi L Shonely",
         2616.4100000000003
        ],
        [
         "Allen Goldenen",
         69.27
        ],
        [
         "Victor Preis",
         205.39
        ],
        [
         "Lela Donovan",
         0.46
        ],
        [
         "Linda Cazamias",
         288.28999999999996
        ],
        [
         "Thais Sissman",
         -3.3200000000000003
        ],
        [
         "Anthony Garverick",
         -8.420000000000012
        ],
        [
         "Mike Kennedy",
         227.43
        ],
        [
         "Bradley Talbott",
         409.49000000000007
        ],
        [
         "Maribeth Yedwab",
         294.82
        ],
        [
         "Art Ferguson",
         317.63000000000005
        ],
        [
         "Ivan Liston",
         1086.79
        ],
        [
         "Shahi  Hopkins",
         -144.52000000000004
        ],
        [
         "Sonia Cooley",
         100.23000000000002
        ],
        [
         "Tracy P Oddar",
         139.44000000000003
        ],
        [
         "Darrin Martin",
         1677.98
        ],
        [
         "Paul Knutson",
         -798.71
        ],
        [
         "Hunter Lopez",
         5611.459999999999
        ],
        [
         "Dan Lawera",
         321.85
        ],
        [
         "Maria Etezadi",
         1858.9699999999998
        ],
        [
         "Keith Dawkins",
         3038.9300000000003
        ],
        [
         "Victo Ria Brennan",
         371.25
        ],
        [
         "Kristen Hastings",
         1227.1299999999999
        ],
        [
         "Sean Christensen",
         210.10999999999999
        ],
        [
         "Alan Schoenberger",
         719.77
        ],
        [
         "Sam Zeldin",
         366.42
        ],
        [
         "Darren Budd",
         212.54
        ],
        [
         "Kunst Miller",
         745.23
        ],
        [
         "Jay Kimmel",
         320.59
        ],
        [
         "Paul Stevenson",
         198.53
        ],
        [
         "Justin Ritter",
         452.37
        ],
        [
         "Barry Pond",
         205.91000000000003
        ],
        [
         "Julia Dunbar",
         111.11999999999999
        ],
        [
         "Nathan Cano",
         -2206.25
        ],
        [
         "Sanjit Engle",
         2650.67
        ],
        [
         "Corey Roper",
         144.85
        ],
        [
         "Nora Preis",
         630.8199999999999
        ],
        [
         "John Grady",
         206.10000000000002
        ],
        [
         "Skye Norling",
         -716.84
        ],
        [
         "Greg Guthrie",
         -4.539999999999999
        ],
        [
         "Stefania Perrino",
         -270.19
        ],
        [
         "Dario Medina",
         108.76
        ],
        [
         "Sanjit Chand",
         5757.3
        ],
        [
         "Catherine Glotzbach",
         86.31
        ],
        [
         "Roland Fjeld",
         711.8399999999999
        ],
        [
         "Roger Demir",
         207.72
        ],
        [
         "Toby Swindell",
         -185.00000000000003
        ],
        [
         "Luke Weiss",
         837.6700000000001
        ],
        [
         "Jeremy Farry",
         -18.050000000000008
        ],
        [
         "Mick Crebagga",
         -48.92
        ],
        [
         "Tony Molinari",
         292.53
        ],
        [
         "George Zrebassa",
         828.17
        ],
        [
         "Brian Thompson",
         447.80999999999995
        ],
        [
         "Logan Currie",
         230.53000000000003
        ],
        [
         "Dianna Wilson",
         1348.75
        ],
        [
         "Eudokia Martin",
         240.23
        ],
        [
         "Patricia Hirasaki",
         47.89
        ],
        [
         "Steve Carroll",
         360.97
        ],
        [
         "Carlos Daly",
         426.21
        ],
        [
         "Jenna Caffey",
         502.93
        ],
        [
         "Roland Murray",
         28.68
        ],
        [
         "Beth Paige",
         -318.85
        ],
        [
         "Toby Braunhardt",
         491.13
        ],
        [
         "Sylvia Foulston",
         539.9399999999999
        ],
        [
         "Susan Mackendrick",
         -16510.34
        ],
        [
         "Sara Luxemburg",
         528.04
        ],
        [
         "Bil Overfelt",
         278.43
        ],
        [
         "Annie Zypern",
         154.76999999999998
        ],
        [
         "Neil Knudson",
         121.23
        ],
        [
         "Patrick Gardner",
         137.48999999999998
        ],
        [
         "Dianna Vittorini",
         353.09000000000003
        ],
        [
         "Nick Radford",
         -25.130000000000024
        ],
        [
         "Benjamin Patterson",
         -197.39000000000001
        ],
        [
         "Thomas Seio",
         853.5899999999999
        ],
        [
         "Yoseph Carroll",
         1305.64
        ],
        [
         "Tracy Collins",
         217.95000000000002
        ],
        [
         "Philisse Overcash",
         1142.3799999999999
        ],
        [
         "Mark Cousins",
         1773.15
        ],
        [
         "Noel Staavos",
         -234.88999999999996
        ],
        [
         "Ed Braxton",
         13.560000000000047
        ],
        [
         "Brian Stugart",
         238.73
        ],
        [
         "Ge Orge Bell",
         7.849999999999989
        ],
        [
         "Benjamin Venier",
         315.22999999999996
        ],
        [
         "Alejandro Savely",
         354.63
        ],
        [
         "Berenike Kampe",
         51.3
        ],
        [
         "Vicky Freymann",
         -96.28
        ],
        [
         "Carol Adams",
         1143.39
        ],
        [
         "Arthur Wiediger",
         -104.44000000000003
        ],
        [
         "Christine Kargatis",
         258.27000000000004
        ],
        [
         "Sarah Bern",
         157.68
        ],
        [
         "Erin Creighton",
         96.44
        ],
        [
         "Dorothy Dickinson",
         36.440000000000005
        ],
        [
         "Marina Lichtenstein",
         684.9300000000001
        ],
        [
         "Darren Powers",
         241.69000000000003
        ],
        [
         "Michael Stewart",
         48.04
        ],
        [
         "Chuck Clark",
         412.54999999999995
        ],
        [
         "Tom Prescott",
         -1087.38
        ],
        [
         "Christy Brittain",
         272.40000000000003
        ],
        [
         "Mick Brown",
         110.26999999999998
        ],
        [
         "Brenda Bowman",
         1014.6499999999999
        ],
        [
         "Maxwell Schwartz",
         267.94999999999993
        ],
        [
         "Laurel Beltran",
         -51.99000000000001
        ],
        [
         "Jill Matthias",
         113.12
        ],
        [
         "John Castell",
         279.57
        ],
        [
         "Corey Catlett",
         331.27
        ],
        [
         "Alan Dominguez",
         1869.9199999999998
        ],
        [
         "Dean Braden",
         164.94
        ],
        [
         "Michael Nguyen",
         290.82
        ],
        [
         "Neola Schneider",
         -33.160000000000004
        ],
        [
         "Alex Grayson",
         -5.359999999999992
        ],
        [
         "Susan Vittorini",
         93.84
        ]
       ],
       "datasetInfos": [],
       "dbfsResultPath": null,
       "isJsonSchema": true,
       "metadata": {},
       "overflow": false,
       "plotOptions": {
        "customPlotOptions": {},
        "displayType": "table",
        "pivotAggregation": null,
        "pivotColumns": null,
        "xColumns": null,
        "yColumns": null
       },
       "removedWidgets": [],
       "schema": [
        {
         "metadata": "{}",
         "name": "Customer_Name",
         "type": "\"string\""
        },
        {
         "metadata": "{}",
         "name": "Profit",
         "type": "\"double\""
        }
       ],
       "type": "table"
      }
     },
     "output_type": "display_data"
    }
   ],
   "source": [
    "%sql\n",
    "\n",
    "SELECT \n",
    "    Customer_Name,\n",
    "    SUM(Total_Profit) AS Profit\n",
    "FROM \n",
    "    profit_aggregate\n",
    "GROUP BY \n",
    "    Customer_Name;\n"
   ]
  },
  {
   "cell_type": "code",
   "execution_count": 0,
   "metadata": {
    "application/vnd.databricks.v1+cell": {
     "cellMetadata": {
      "byteLimit": 2048000,
      "implicitDf": true,
      "rowLimit": 10000
     },
     "inputWidgets": {},
     "nuid": "d0eb7515-e006-4702-b678-898374ac30ff",
     "showTitle": false,
     "title": ""
    }
   },
   "outputs": [
    {
     "output_type": "display_data",
     "data": {
      "text/html": [
       "<style scoped>\n",
       "  .table-result-container {\n",
       "    max-height: 300px;\n",
       "    overflow: auto;\n",
       "  }\n",
       "  table, th, td {\n",
       "    border: 1px solid black;\n",
       "    border-collapse: collapse;\n",
       "  }\n",
       "  th, td {\n",
       "    padding: 5px;\n",
       "  }\n",
       "  th {\n",
       "    text-align: left;\n",
       "  }\n",
       "</style><div class='table-result-container'><table class='table-result'><thead style='background-color: white'><tr><th>Customer_Name</th><th>Year</th><th>Profit</th></tr></thead><tbody><tr><td>Marina Lichtenstein</td><td>2014</td><td>486.58</td></tr><tr><td>Dorothy Badders</td><td>2017</td><td>40.71000000000001</td></tr><tr><td>Emily Burns</td><td>2014</td><td>16.02</td></tr><tr><td>Christina Anderson</td><td>2014</td><td>16.97</td></tr><tr><td>Neil Knudson</td><td>2017</td><td>80.03</td></tr><tr><td>Anemone Ratner</td><td>2016</td><td>32.64</td></tr><tr><td>Mary Zewe</td><td>2017</td><td>17.38</td></tr><tr><td>Valerie Mitchum</td><td>2015</td><td>-3.71</td></tr><tr><td>Pete Takahito</td><td>2016</td><td>-17.52</td></tr><tr><td>Sara Luxemburg</td><td>2016</td><td>3.11</td></tr><tr><td>Tracy P Oddar</td><td>2016</td><td>104.74000000000001</td></tr><tr><td>Mitch Webber</td><td>2016</td><td>0.5</td></tr><tr><td>Ross Baird</td><td>2016</td><td>51.79000000000002</td></tr><tr><td>Henry Macallister</td><td>2017</td><td>41.23</td></tr><tr><td>Sarah Brown</td><td>2014</td><td>-66.52</td></tr><tr><td>Edward Hooks</td><td>2016</td><td>728.44</td></tr><tr><td>Rick Wi Lson</td><td>2017</td><td>1649.17</td></tr><tr><td>Evan Minnotte</td><td>2017</td><td>16.509999999999998</td></tr><tr><td>Dario Medina</td><td>2014</td><td>58.4</td></tr><tr><td>Greg Hansen</td><td>2017</td><td>-8.879999999999999</td></tr><tr><td>Clay Rozendal</td><td>2017</td><td>108.8</td></tr><tr><td>Pete Armstrong</td><td>2016</td><td>22.56</td></tr><tr><td>Mike Vitt Orini</td><td>2017</td><td>21.47</td></tr><tr><td>Maxwell Schwartz</td><td>2014</td><td>-103.58000000000001</td></tr><tr><td>Deirdre Greer</td><td>2017</td><td>530.95</td></tr><tr><td>Toby Ritter</td><td>2014</td><td>28.52</td></tr><tr><td>Erin Ashbrook</td><td>2017</td><td>21.83</td></tr><tr><td>Mark Cousins</td><td>2016</td><td>1610.2</td></tr><tr><td>Jim Sink</td><td>2016</td><td>-99.99000000000001</td></tr><tr><td>Don Miller</td><td>2015</td><td>167.54000000000002</td></tr><tr><td>Russell Dascenzo</td><td>2015</td><td>39.0</td></tr><tr><td>Sonia Sunley</td><td>2015</td><td>8.02</td></tr><tr><td>Olvera Toch</td><td>2017</td><td>175.55</td></tr><tr><td>Craig Yedwab</td><td>2015</td><td>107.0</td></tr><tr><td>Michael Grace</td><td>2016</td><td>62.24</td></tr><tr><td>Cassandra Brandow</td><td>2016</td><td>161.25</td></tr><tr><td>Carol Adams</td><td>2015</td><td>182.15999999999997</td></tr><tr><td>Sean Odonnell</td><td>2015</td><td>-282.30999999999995</td></tr><tr><td>Emily Grady</td><td>2017</td><td>2.589999999999989</td></tr><tr><td>Dave Kipp</td><td>2015</td><td>173.71</td></tr><tr><td>Nona Balk</td><td>2014</td><td>87.38</td></tr><tr><td>Liz Mackendrick</td><td>2016</td><td>21.54</td></tr><tr><td>Nicole Hansen</td><td>2015</td><td>85.83</td></tr><tr><td>Michelle Arnett</td><td>2016</td><td>191.39</td></tr><tr><td>Philip Brown</td><td>2015</td><td>157.66000000000003</td></tr><tr><td>Melanie Seite</td><td>2016</td><td>-23.94</td></tr><tr><td>Mathew Reese</td><td>2017</td><td>129.07999999999998</td></tr><tr><td>Jack Obriant</td><td>2014</td><td>101.03</td></tr><tr><td>Brian Derr</td><td>2017</td><td>27.69</td></tr><tr><td>Lauren Leatherbury</td><td>2015</td><td>404.90999999999997</td></tr><tr><td>Grace Kelly</td><td>2017</td><td>3.45</td></tr><tr><td>Ken Heidel</td><td>2017</td><td>66.92999999999999</td></tr><tr><td>Frank Merwin</td><td>2015</td><td>1.03</td></tr><tr><td>Eric Murdock</td><td>2015</td><td>51.92999999999999</td></tr><tr><td>Tim Brockman</td><td>2016</td><td>-40.36000000000001</td></tr><tr><td>Mick Hernandez</td><td>2017</td><td>387.2000000000001</td></tr><tr><td>Fred Chung</td><td>2017</td><td>502.96999999999997</td></tr><tr><td>Michelle Moray</td><td>2015</td><td>-247.37</td></tr><tr><td>Mark Hamilton</td><td>2014</td><td>8.490000000000002</td></tr><tr><td>Dorothy Wardle</td><td>2016</td><td>92.61</td></tr><tr><td>Maribeth Yedwab</td><td>2016</td><td>33.05</td></tr><tr><td>Alan Schoenberger</td><td>2015</td><td>12.86</td></tr><tr><td>Liz Thompson</td><td>2014</td><td>238.4</td></tr><tr><td>Benjamin Venier</td><td>2016</td><td>127.00999999999999</td></tr><tr><td>Eric Hoffmann</td><td>2016</td><td>-13.37999999999999</td></tr><tr><td>Thomas Seio</td><td>2017</td><td>277.01</td></tr><tr><td>Christopher Schild</td><td>2016</td><td>-114.17</td></tr><tr><td>Michael Moore</td><td>2016</td><td>447.84</td></tr><tr><td>Brian Derr</td><td>2014</td><td>11.49</td></tr><tr><td>Sample Company A</td><td>2017</td><td>91.44999999999999</td></tr><tr><td>Erica Smith</td><td>2015</td><td>44.05</td></tr><tr><td>Sean Odonnell</td><td>2017</td><td>193.88</td></tr><tr><td>Helen Abelman</td><td>2016</td><td>129.77</td></tr><tr><td>Ken Brennan</td><td>2016</td><td>14.620000000000001</td></tr><tr><td>Sanjit Chand</td><td>2017</td><td>5.84</td></tr><tr><td>Xylona Preis</td><td>2015</td><td>24.849999999999998</td></tr><tr><td>Dorris Liebe</td><td>2017</td><td>-0.33000000000000007</td></tr><tr><td>John Castell</td><td>2014</td><td>64.08</td></tr><tr><td>Rob Beeghly</td><td>2016</td><td>-5.979999999999997</td></tr><tr><td>Speros Goranitis</td><td>2014</td><td>274.84999999999997</td></tr><tr><td>Liz Thompson</td><td>2016</td><td>28.380000000000003</td></tr><tr><td>Denise Leinenbach</td><td>2017</td><td>17.38</td></tr><tr><td>Roy Phan</td><td>2015</td><td>375.38</td></tr><tr><td>Roger Barcio</td><td>2015</td><td>-82.78</td></tr><tr><td>Greg Matthias</td><td>2017</td><td>-57.12</td></tr><tr><td>Christine Phan</td><td>2016</td><td>187.98000000000002</td></tr><tr><td>James Galang</td><td>2014</td><td>378.39</td></tr><tr><td>Denise Monton</td><td>2014</td><td>3.71</td></tr><tr><td>Thomas Brumley</td><td>2017</td><td>13.979999999999999</td></tr><tr><td>Eric Hoffmann</td><td>2017</td><td>34.4</td></tr><tr><td>Nora Pelletier</td><td>2015</td><td>449.44</td></tr><tr><td>Robert Barroso</td><td>2016</td><td>19.33</td></tr><tr><td>Noel Staavos</td><td>2017</td><td>-99.52</td></tr><tr><td>David Wiener</td><td>2017</td><td>-108.28</td></tr><tr><td>Anna Hberlin</td><td>2016</td><td>1087.04</td></tr><tr><td>Cynthia Arntzen</td><td>2017</td><td>191.87</td></tr><tr><td>Bruce Geld</td><td>2014</td><td>3.22</td></tr><tr><td>Maurice Satty</td><td>2015</td><td>299.8</td></tr><tr><td>Jack Garza</td><td>2014</td><td>734.7</td></tr><tr><td>Thea Hendricks</td><td>2017</td><td>10.05</td></tr><tr><td>Raymond Messe</td><td>2016</td><td>162.05</td></tr><tr><td>Greg Tran</td><td>2014</td><td>738.65</td></tr><tr><td>Roy Franzsisch</td><td>2016</td><td>264.15999999999997</td></tr><tr><td>Christina Demoss</td><td>2017</td><td>233.48000000000002</td></tr><tr><td>Denny Blanton</td><td>2017</td><td>172.59</td></tr><tr><td>Erin Ashbrook</td><td>2014</td><td>-53.440000000000005</td></tr><tr><td>Caroline Jumper</td><td>2016</td><td>1382.97</td></tr><tr><td>Lena Creighton</td><td>2015</td><td>1007.7600000000002</td></tr><tr><td>Quincy Jones</td><td>2015</td><td>1014.47</td></tr><tr><td>Theone Pippenger</td><td>2015</td><td>-1.85</td></tr><tr><td>Charlotte Melton</td><td>2015</td><td>16.89</td></tr><tr><td>Roy Franzsisch</td><td>2017</td><td>-0.3000000000000007</td></tr><tr><td>Scot Wooten</td><td>2014</td><td>-27.2</td></tr><tr><td>Fred Waerman</td><td>2017</td><td>5.81</td></tr><tr><td>Khloe Miller</td><td>2016</td><td>11.83</td></tr><tr><td>Joe Elijah</td><td>2014</td><td>-59.8</td></tr><tr><td>Kalyca Meade</td><td>2015</td><td>450.15999999999997</td></tr><tr><td>Ji Stevenson</td><td>2017</td><td>-53.730000000000004</td></tr><tr><td>Hunter Lopez</td><td>2016</td><td>128.54</td></tr><tr><td>Deirdre Greer</td><td>2015</td><td>0.4199999999999968</td></tr><tr><td>Rob Dowd</td><td>2015</td><td>302.64</td></tr><tr><td>Eileen Kiefer</td><td>2017</td><td>6.07</td></tr><tr><td>Luke Schmidt</td><td>2014</td><td>167.72</td></tr><tr><td>Karl Braun</td><td>2014</td><td>-29.74</td></tr><tr><td>Jonathan Doherty</td><td>2015</td><td>64.82</td></tr><tr><td>Phillina Ober</td><td>2015</td><td>-12.5</td></tr><tr><td>Toby Carlisle</td><td>2016</td><td>-27.83</td></tr><tr><td>Ross Baird</td><td>2014</td><td>7.49</td></tr><tr><td>Dorothy Wardle</td><td>2017</td><td>-1.8599999999999977</td></tr><tr><td>Kelly Williams</td><td>2015</td><td>97.14</td></tr><tr><td>David Smith</td><td>2014</td><td>57.59</td></tr><tr><td>Sanjit Engle</td><td>2016</td><td>2673.7700000000004</td></tr><tr><td>Cathy Hwang</td><td>2016</td><td>126.9</td></tr><tr><td>Gene Mcclure</td><td>2016</td><td>17.57</td></tr><tr><td>Rob Williams</td><td>2014</td><td>30.78</td></tr><tr><td>John Murray</td><td>2016</td><td>-49.620000000000005</td></tr><tr><td>Luke Foster</td><td>2014</td><td>-3802.0799999999995</td></tr><tr><td>Brian Thompson</td><td>2017</td><td>35.43</td></tr><tr><td>Dean Percer</td><td>2014</td><td>100.91999999999999</td></tr><tr><td>Jeremy Farry</td><td>2017</td><td>36.980000000000004</td></tr><tr><td>Richard Bierner</td><td>2015</td><td>49.57000000000001</td></tr><tr><td>Janet Molinari</td><td>2016</td><td>306.55</td></tr><tr><td>Shahi  Shariari</td><td>2017</td><td>58.910000000000004</td></tr><tr><td>Thomas Brumley</td><td>2015</td><td>3.06</td></tr><tr><td>Matthew Grinstein</td><td>2014</td><td>24.370000000000005</td></tr><tr><td>Harold Ryan</td><td>2017</td><td>1000.6899999999999</td></tr><tr><td>Ralph Kennedy</td><td>2015</td><td>265.58000000000004</td></tr><tr><td>Eric Hoffmann</td><td>2014</td><td>22.15</td></tr><tr><td>Michael Paige</td><td>2015</td><td>255.75</td></tr><tr><td>Nathan Cano</td><td>2017</td><td>-2330.2700000000004</td></tr><tr><td>Chad Sievert</td><td>2016</td><td>13.75</td></tr><tr><td>Duane Benoit</td><td>2015</td><td>-17.29</td></tr><tr><td>Stewart Visinsky</td><td>2016</td><td>76.77000000000001</td></tr><tr><td>Chloris Kastensmidt</td><td>2015</td><td>5.530000000000001</td></tr><tr><td>Roger Barcio</td><td>2017</td><td>325.85999999999996</td></tr><tr><td>Mick Crebagga</td><td>2014</td><td>-18.729999999999997</td></tr><tr><td>David Bremer</td><td>2015</td><td>-291.77</td></tr><tr><td>Kunst Miller</td><td>2017</td><td>364.51</td></tr><tr><td>Greg Tran</td><td>2015</td><td>965.4399999999999</td></tr><tr><td>Harold Pawlan</td><td>2015</td><td>-21.700000000000003</td></tr><tr><td>Maria Bertelson</td><td>2014</td><td>-13.83</td></tr><tr><td>Chad Cunningham</td><td>2014</td><td>142.85</td></tr><tr><td>Jesus Ocampo</td><td>2017</td><td>13.22</td></tr><tr><td>Debra Catini</td><td>2016</td><td>10.47</td></tr><tr><td>Frank Gasti  Neau</td><td>2014</td><td>314.52</td></tr><tr><td>Ad       Am Hart</td><td>2014</td><td>2.4</td></tr><tr><td>Steve Chapman</td><td>2016</td><td>347.96000000000004</td></tr><tr><td>Cathy Prescott</td><td>2015</td><td>102.44</td></tr><tr><td>Jennifer Patt</td><td>2015</td><td>100.93</td></tr><tr><td>Shahi  Hopkins</td><td>2014</td><td>-252.19</td></tr><tr><td>Neil Franzsisch</td><td>2014</td><td>31.87</td></tr><tr><td>Jack Obriant</td><td>2017</td><td>40.4</td></tr><tr><td>Parhena Norris</td><td>2017</td><td>48.35000000000001</td></tr><tr><td>Tonja Turnell</td><td>2017</td><td>840.9800000000001</td></tr><tr><td>Victoria Wilson</td><td>2017</td><td>565.88</td></tr><tr><td>Eric Hoffmann</td><td>2015</td><td>-2.24</td></tr><tr><td>Michael Chen</td><td>2017</td><td>242.12</td></tr><tr><td>Andrew Roberts</td><td>2017</td><td>5.18</td></tr><tr><td>Evan Bailliet</td><td>2015</td><td>119.43</td></tr><tr><td>Dennis Pardue</td><td>2017</td><td>17.25</td></tr><tr><td>Jennifer Ferguson</td><td>2014</td><td>28.14</td></tr><tr><td>Mary Zewe</td><td>2015</td><td>8.21</td></tr><tr><td>Craig Reiter</td><td>2017</td><td>253.37</td></tr><tr><td>Chris Cortes</td><td>2017</td><td>393.6000000000001</td></tr><tr><td>Rick Wi Lson</td><td>2015</td><td>-74.61999999999999</td></tr><tr><td>Henry Goldwyn</td><td>2016</td><td>136.14</td></tr><tr><td>Sonia Sunley</td><td>2014</td><td>15.51</td></tr><tr><td>Tracy Blumstein</td><td>2017</td><td>42.26</td></tr><tr><td>Dionis Lloyd</td><td>2015</td><td>50.349999999999994</td></tr><tr><td>Duane Noonan</td><td>2017</td><td>138.42</td></tr><tr><td>Pauline Webber</td><td>2016</td><td>437.4</td></tr><tr><td>Edward Hooks</td><td>2017</td><td>400.90999999999997</td></tr><tr><td>Debra Catini</td><td>2017</td><td>11.059999999999999</td></tr><tr><td>Vivek Sundaresam</td><td>2017</td><td>-6.42</td></tr><tr><td>Don Jones</td><td>2014</td><td>187.74</td></tr><tr><td>Emily Grady</td><td>2015</td><td>55.0</td></tr><tr><td>Janet Lee</td><td>2015</td><td>53.470000000000006</td></tr><tr><td>Noel Staavos</td><td>2014</td><td>11.2</td></tr><tr><td>Bil Tyler</td><td>2017</td><td>-14.99</td></tr><tr><td>Kimberly Carter</td><td>2014</td><td>5.82</td></tr><tr><td>Frank Preis</td><td>2014</td><td>138.01</td></tr><tr><td>Phillip Breyer</td><td>2016</td><td>0.7</td></tr><tr><td>Ed Braxton</td><td>2016</td><td>82.42</td></tr><tr><td>Patricia Hirasaki</td><td>2017</td><td>47.89</td></tr><tr><td>Claudia Bergmann</td><td>2017</td><td>341.51</td></tr><tr><td>Dana Kaydos</td><td>2017</td><td>316.38</td></tr><tr><td>Guy Thornton</td><td>2016</td><td>6.3</td></tr><tr><td>Darren Budd</td><td>2016</td><td>84.30000000000001</td></tr><tr><td>Dianna Wilson</td><td>2016</td><td>31.090000000000003</td></tr><tr><td>Scott Cohen</td><td>2017</td><td>200.26000000000002</td></tr><tr><td>Daniel Raglin</td><td>2015</td><td>296.66999999999996</td></tr><tr><td>Russell Applegate</td><td>2015</td><td>-118.15</td></tr><tr><td>Angele Hood</td><td>2017</td><td>28.92</td></tr><tr><td>Gene Hale</td><td>2015</td><td>-71.0</td></tr><tr><td>Tamara Dahlen</td><td>2016</td><td>70.25</td></tr><tr><td>Steven Roelle</td><td>2016</td><td>181.53</td></tr><tr><td>Mike Caudle</td><td>2016</td><td>86.94999999999999</td></tr><tr><td>Hunter Glantz</td><td>2014</td><td>616.46</td></tr><tr><td>Erica Hernandez</td><td>2017</td><td>144.29</td></tr><tr><td>Julie Kriz</td><td>2014</td><td>239.98</td></tr><tr><td>Mark Packer</td><td>2014</td><td>279.86</td></tr><tr><td>Bryan Mills</td><td>2016</td><td>56.370000000000005</td></tr><tr><td>Astrea Jones</td><td>2017</td><td>2.77</td></tr><tr><td>Maribeth Yedwab</td><td>2017</td><td>259.12</td></tr><tr><td>Joseph Airdo</td><td>2014</td><td>96.93</td></tr><tr><td>Nora Preis</td><td>2014</td><td>285.95</td></tr><tr><td>Anna Chung</td><td>2014</td><td>-4.970000000000001</td></tr><tr><td>Aaron Hawkins</td><td>2017</td><td>2.34</td></tr><tr><td>Elizabeth Moffitt</td><td>2014</td><td>7.99</td></tr><tr><td>Maria Bertelson</td><td>2017</td><td>65.67000000000002</td></tr><tr><td>Dave Kipp</td><td>2016</td><td>-38.31</td></tr><tr><td>Peter Bhler</td><td>2016</td><td>0.9</td></tr><tr><td>Janet Molinari</td><td>2015</td><td>-11.899999999999999</td></tr><tr><td>Tamara Manning</td><td>2015</td><td>255.04000000000002</td></tr><tr><td>Erica Hackney</td><td>2016</td><td>67.9</td></tr><tr><td>Meg Oconnel</td><td>2016</td><td>5.5</td></tr><tr><td>Sara Luxemburg</td><td>2014</td><td>22.25</td></tr><tr><td>Dan Reichenbach</td><td>2016</td><td>126.06</td></tr><tr><td>Phillina Ober</td><td>2017</td><td>28.799999999999997</td></tr><tr><td>Matthew Grinstein</td><td>2017</td><td>112.69</td></tr><tr><td>Alan Barnes</td><td>2017</td><td>141.73000000000002</td></tr><tr><td>John Grady</td><td>2016</td><td>91.13000000000001</td></tr><tr><td>Eudokia Martin</td><td>2017</td><td>16.93</td></tr><tr><td>Sung Shariari</td><td>2016</td><td>-1.9099999999999993</td></tr><tr><td>Shui Tom</td><td>2015</td><td>27.01</td></tr><tr><td>Tho    Mas Boland</td><td>2016</td><td>-6.980000000000003</td></tr><tr><td>Carl Weiss</td><td>2015</td><td>21.11</td></tr><tr><td>Pauline Webber</td><td>2015</td><td>15.15</td></tr><tr><td>Matt Collins</td><td>2014</td><td>-6.34</td></tr><tr><td>Barry Franz</td><td>2014</td><td>2.37</td></tr><tr><td>Katherine Hughes</td><td>2016</td><td>57.83</td></tr><tr><td>Julia Barnett</td><td>2015</td><td>106.54</td></tr><tr><td>Sung Pak</td><td>2014</td><td>1.1899999999999995</td></tr><tr><td>Barry Franz</td><td>2017</td><td>71.98</td></tr><tr><td>Aaron Smayling</td><td>2017</td><td>-377.96</td></tr><tr><td>Maribeth Chnelling</td><td>2015</td><td>145.51</td></tr><tr><td>Jamie Frazer</td><td>2016</td><td>173.31</td></tr><tr><td>Lisa Ryan</td><td>2015</td><td>-142.91</td></tr><tr><td>Candace Mcmahon</td><td>2016</td><td>3.69</td></tr><tr><td>Troy Staebel</td><td>2016</td><td>-57.290000000000006</td></tr><tr><td>Dennis Kane</td><td>2015</td><td>-99.8</td></tr><tr><td>Maria Zettner</td><td>2017</td><td>15.510000000000002</td></tr><tr><td>Pamela Coakley</td><td>2014</td><td>196.69</td></tr><tr><td>Mary Orourke</td><td>2017</td><td>-67.54</td></tr><tr><td>Tamara Willingham</td><td>2014</td><td>100.14</td></tr><tr><td>Amy Cox</td><td>2014</td><td>84.0</td></tr><tr><td>Denny Joy</td><td>2015</td><td>64.99</td></tr><tr><td>Edward Nazzal</td><td>2015</td><td>51.269999999999996</td></tr><tr><td>Corey Catlett</td><td>2015</td><td>18.310000000000002</td></tr><tr><td>Denise Leinenbach</td><td>2015</td><td>197.99</td></tr><tr><td>Bryan Mills</td><td>2017</td><td>6.92</td></tr><tr><td>Patrick Bzostek</td><td>2016</td><td>95.85</td></tr><tr><td>Maureen Fritzler</td><td>2014</td><td>-459.99</td></tr><tr><td>Andrew Allen</td><td>2017</td><td>5.44</td></tr><tr><td>Eva Jacobs</td><td>2016</td><td>335.35</td></tr><tr><td>Jack Lebron</td><td>2017</td><td>-218.57</td></tr><tr><td>Rachel Payne</td><td>2015</td><td>-50.03999999999999</td></tr><tr><td>Muhammed Yedwab</td><td>2017</td><td>21.59</td></tr><tr><td>Justin Mackendrick</td><td>2015</td><td>221.33</td></tr><tr><td>Dennis Bolton</td><td>2016</td><td>81.97</td></tr><tr><td>Nick Radford</td><td>2016</td><td>50.58999999999999</td></tr><tr><td>Deborah Brumfield</td><td>2014</td><td>45.1</td></tr><tr><td>Saphhira Shifley</td><td>2016</td><td>6.55</td></tr><tr><td>Patrick Bzostek</td><td>2015</td><td>7.56</td></tr><tr><td>Clay Cheatham</td><td>2017</td><td>34.3</td></tr><tr><td>Carlos Soltero</td><td>2015</td><td>16.46</td></tr><tr><td>Katherine Ducich</td><td>2015</td><td>243.53000000000003</td></tr><tr><td>Yoseph Carroll</td><td>2016</td><td>427.27</td></tr><tr><td>Tho    Mas Boland</td><td>2014</td><td>6.04</td></tr><tr><td>Barry Franzsisch</td><td>2017</td><td>2.779999999999987</td></tr><tr><td>Alejandro Ballentine</td><td>2015</td><td>34.34</td></tr><tr><td>Neil Ducich</td><td>2017</td><td>379.24999999999994</td></tr><tr><td>Tanja Norvell</td><td>2017</td><td>22.0</td></tr><tr><td>Michelle Huthwaite</td><td>2017</td><td>374.93</td></tr><tr><td>Joel Eaton</td><td>2015</td><td>-507.06</td></tr><tr><td>Clytie Kelty</td><td>2015</td><td>-36.930000000000014</td></tr><tr><td>Sanjit Chand</td><td>2015</td><td>92.68</td></tr><tr><td>Vivek Sundaresam</td><td>2016</td><td>-7.8100000000000005</td></tr><tr><td>Aaron Hawkins</td><td>2014</td><td>66.84</td></tr><tr><td>Maribeth Chnelling</td><td>2017</td><td>40.75</td></tr><tr><td>Annie Zypern</td><td>2014</td><td>72.86</td></tr><tr><td>Bruce Geld</td><td>2015</td><td>15.07</td></tr><tr><td>Stefanie Holloman</td><td>2014</td><td>70.2</td></tr><tr><td>Justin Ritter</td><td>2015</td><td>152.39</td></tr><tr><td>Sandra Glassco</td><td>2017</td><td>218.25</td></tr><tr><td>Carl Weiss</td><td>2016</td><td>22.77</td></tr><tr><td>Ge Orge Bell</td><td>2015</td><td>74.28999999999999</td></tr><tr><td>Jennifer Braxton</td><td>2017</td><td>251.19</td></tr><tr><td>Laurel Elliston</td><td>2017</td><td>-10.240000000000002</td></tr><tr><td>Jack Lebron</td><td>2016</td><td>1.39</td></tr><tr><td>Jane Waco</td><td>2017</td><td>1953.6</td></tr><tr><td>Kelly Lampkin</td><td>2014</td><td>-69.25</td></tr><tr><td>David K Lendrick</td><td>2014</td><td>78.5</td></tr><tr><td>Giulietta Weimer</td><td>2014</td><td>3.6299999999999955</td></tr><tr><td>Patrick Obrill</td><td>2016</td><td>-316.63</td></tr><tr><td>Linda Southworth</td><td>2017</td><td>-354.89000000000004</td></tr><tr><td>Brendan Sweed</td><td>2015</td><td>103.1</td></tr><tr><td>Sandra Flanagan</td><td>2016</td><td>3.06</td></tr><tr><td>Michael Granlund</td><td>2014</td><td>-4.8</td></tr><tr><td>Anthony Rawles</td><td>2014</td><td>10.37</td></tr><tr><td>Dean Katz</td><td>2017</td><td>316.47</td></tr><tr><td>Natalie Webber</td><td>2016</td><td>-255.46</td></tr><tr><td>Cassandra Brandow</td><td>2015</td><td>221.69999999999993</td></tr><tr><td>Patrick Jones</td><td>2014</td><td>7.95</td></tr><tr><td>Karen Ferguson</td><td>2017</td><td>1206.8400000000001</td></tr><tr><td>Karen Danels</td><td>2016</td><td>2306.58</td></tr><tr><td>Russell Applegate</td><td>2017</td><td>29.549999999999997</td></tr><tr><td>Brian Moss</td><td>2014</td><td>81.65</td></tr><tr><td>Kean Takahito</td><td>2014</td><td>68.8</td></tr><tr><td>Pete Armstrong</td><td>2014</td><td>45.84</td></tr><tr><td>Amy Cox</td><td>2017</td><td>876.48</td></tr><tr><td>Vivek Sundaresam</td><td>2014</td><td>-72.25</td></tr><tr><td>Brian Stugart</td><td>2014</td><td>1.08</td></tr><tr><td>Paul Gonzalez</td><td>2014</td><td>-70.73</td></tr><tr><td>Henia Zydlo</td><td>2016</td><td>6.29</td></tr><tr><td>Alejandro Ballentine</td><td>2014</td><td>6.49</td></tr><tr><td>Peter Bhler</td><td>2017</td><td>13.19</td></tr><tr><td>Dianna Vittorini</td><td>2014</td><td>9.72</td></tr><tr><td>Roger Demir</td><td>2014</td><td>73.67999999999999</td></tr><tr><td>Rick Reed</td><td>2016</td><td>45.68</td></tr><tr><td>Pamela Stobb</td><td>2016</td><td>133.3</td></tr><tr><td>Mitch Webber</td><td>2014</td><td>1204.43</td></tr><tr><td>Erin Creighton</td><td>2016</td><td>43.09</td></tr><tr><td>Maxwell Schwartz</td><td>2016</td><td>164.04</td></tr><tr><td>Michelle Tran</td><td>2014</td><td>-89.7</td></tr><tr><td>Patrick Odonnell</td><td>2016</td><td>67.60000000000001</td></tr><tr><td>Maria Etezadi</td><td>2017</td><td>74.0</td></tr><tr><td>Frank Atkinson</td><td>2014</td><td>3.58</td></tr><tr><td>Phillina Ober</td><td>2014</td><td>-65.99</td></tr><tr><td>Marc Harrigan</td><td>2015</td><td>2.18</td></tr><tr><td>Bil Tyler</td><td>2016</td><td>3.35</td></tr><tr><td>Chuck Magee</td><td>2014</td><td>10.780000000000001</td></tr><tr><td>Brian Dahlen</td><td>2014</td><td>342.92</td></tr><tr><td>Sam Craven</td><td>2014</td><td>-360.83</td></tr><tr><td>Marc Crier</td><td>2015</td><td>197.66</td></tr><tr><td>Jeremy Pistek</td><td>2014</td><td>199.41000000000003</td></tr><tr><td>Speros Goranitis</td><td>2017</td><td>25.46</td></tr><tr><td>Bryan Mills</td><td>2015</td><td>-39.67</td></tr><tr><td>Keith Dawkins</td><td>2016</td><td>58.72</td></tr><tr><td>Cindy Chapman</td><td>2016</td><td>111.12</td></tr><tr><td>Vivek Grady</td><td>2017</td><td>2.41</td></tr><tr><td>Doug Bickford</td><td>2015</td><td>335.99</td></tr><tr><td>Rick Duston</td><td>2014</td><td>109.52000000000001</td></tr><tr><td>Hallie Redmond</td><td>2017</td><td>135.68</td></tr><tr><td>Sean Christensen</td><td>2017</td><td>98.25</td></tr><tr><td>Ivan Gibson</td><td>2017</td><td>92.92</td></tr><tr><td>Khloe Miller</td><td>2017</td><td>41.49</td></tr><tr><td>Bradley Nguyen</td><td>2014</td><td>185.37</td></tr><tr><td>Robert Dilbeck</td><td>2015</td><td>-73.41</td></tr><tr><td>Troy Blackwell</td><td>2014</td><td>6.75</td></tr><tr><td>Phillip Flathmann</td><td>2017</td><td>78.02</td></tr><tr><td>Jill Fjeld</td><td>2016</td><td>849.6600000000001</td></tr><tr><td>Mick Hernandez</td><td>2016</td><td>-216.22</td></tr><tr><td>Keith Herrera</td><td>2014</td><td>-2.740000000000002</td></tr><tr><td>Rick Bensley</td><td>2014</td><td>336.96000000000004</td></tr><tr><td>Art Foster</td><td>2015</td><td>101.17999999999999</td></tr><tr><td>Jason Fortune</td><td>2014</td><td>41.580000000000005</td></tr><tr><td>Brosina Hoffman</td><td>2016</td><td>428.92999999999995</td></tr><tr><td>Lena Radford</td><td>2016</td><td>172.5</td></tr><tr><td>Mark Packer</td><td>2016</td><td>8.94</td></tr><tr><td>Ken Heidel</td><td>2015</td><td>501.53999999999996</td></tr><tr><td>Theresa Swint</td><td>2016</td><td>-48.91</td></tr><tr><td>Bruce Geld</td><td>2016</td><td>59.3</td></tr><tr><td>Frank Olsen</td><td>2015</td><td>-16.03</td></tr><tr><td>Deborah Brumfield</td><td>2016</td><td>810.5699999999999</td></tr><tr><td>Ashley Jarboe</td><td>2015</td><td>316.58000000000004</td></tr><tr><td>Jason Fortune</td><td>2016</td><td>-9.879999999999995</td></tr><tr><td>Arthur Prichep</td><td>2017</td><td>-179.86</td></tr><tr><td>Janet Martin</td><td>2016</td><td>155.23000000000002</td></tr><tr><td>Amy Hunt</td><td>2015</td><td>-342.08000000000004</td></tr><tr><td>Anna Andreadi</td><td>2017</td><td>6.22</td></tr><tr><td>Max Jones</td><td>2016</td><td>728.75</td></tr><tr><td>Harry Greene</td><td>2015</td><td>-2.01</td></tr><tr><td>Allen Rosenblatt</td><td>2014</td><td>17.59</td></tr><tr><td>Rick Hansen</td><td>2015</td><td>480.62999999999994</td></tr><tr><td>Christine Kargatis</td><td>2016</td><td>59.08</td></tr><tr><td>Katharine Harms</td><td>2014</td><td>261.33</td></tr><tr><td>Cyra Reiten</td><td>2015</td><td>2.13</td></tr><tr><td>Meg Oconnel</td><td>2015</td><td>-16.970000000000002</td></tr><tr><td>Tiffany House</td><td>2017</td><td>-4.010000000000001</td></tr><tr><td>Ralph Arnett</td><td>2014</td><td>0.0</td></tr><tr><td>Roy Phan</td><td>2014</td><td>56.53</td></tr><tr><td>Eugene Hildebrand</td><td>2016</td><td>-71.64000000000001</td></tr><tr><td>Odella Nelson</td><td>2014</td><td>183.10999999999999</td></tr><tr><td>Lena Hernandez</td><td>2014</td><td>282.09</td></tr><tr><td>Alan Haines</td><td>2015</td><td>-12.1</td></tr><tr><td>Alan Dominguez</td><td>2015</td><td>9.600000000000001</td></tr><tr><td>Mark Hamilton</td><td>2015</td><td>16.18</td></tr><tr><td>Robert Dilbeck</td><td>2016</td><td>151.77</td></tr><tr><td>Janet Molinari</td><td>2017</td><td>149.28</td></tr><tr><td>Mark Van Huff</td><td>2014</td><td>15.079999999999998</td></tr><tr><td>George Ashbrook</td><td>2016</td><td>53.56</td></tr><tr><td>Carl Weiss</td><td>2014</td><td>17.16</td></tr><tr><td>Jennifer Patt</td><td>2014</td><td>10.81</td></tr><tr><td>Roy Franzsisch</td><td>2015</td><td>0.06</td></tr><tr><td>Charles Sheldon</td><td>2017</td><td>-3.3100000000000023</td></tr><tr><td>Ken Black</td><td>2015</td><td>66.42</td></tr><tr><td>B         Ecky Martin</td><td>2016</td><td>118.92</td></tr><tr><td>Tamara Willingham</td><td>2015</td><td>610.3</td></tr><tr><td>Delfina Latchford</td><td>2016</td><td>206.58000000000004</td></tr><tr><td>Daniel Byrd</td><td>2014</td><td>3.63</td></tr><tr><td>Katherine Murray</td><td>2016</td><td>128.9</td></tr><tr><td>Amy Cox</td><td>2015</td><td>7.34</td></tr><tr><td>Heather Jas</td><td>2017</td><td>13.97</td></tr><tr><td>Sylvia Foulston</td><td>2016</td><td>70.2</td></tr><tr><td>Christina Vanderzanden</td><td>2016</td><td>51.980000000000004</td></tr><tr><td>Giulietta Dortch</td><td>2016</td><td>-155.3</td></tr><tr><td>Marc Harrigan</td><td>2017</td><td>3.8100000000000023</td></tr><tr><td>Cindy Schnelling</td><td>2015</td><td>-58.129999999999995</td></tr><tr><td>Thomas Seio</td><td>2014</td><td>471.81</td></tr><tr><td>Pamela Stobb</td><td>2017</td><td>-166.52</td></tr><tr><td>Barbara Fisher</td><td>2015</td><td>0.9599999999999997</td></tr><tr><td>Aaron Hawkins</td><td>2015</td><td>136.56</td></tr><tr><td>Ann Steele</td><td>2016</td><td>6.37</td></tr><tr><td>Luke Schmidt</td><td>2017</td><td>57.82</td></tr><tr><td>Ben Wallace</td><td>2016</td><td>173.66</td></tr><tr><td>Brian Stugart</td><td>2015</td><td>175.39000000000001</td></tr><tr><td>Julia Dunbar</td><td>2014</td><td>8.48</td></tr><tr><td>Adrian Barton</td><td>2016</td><td>4748.2699999999995</td></tr><tr><td>Anthony Odonnell</td><td>2016</td><td>12.1</td></tr><tr><td>Anne Mcfarland</td><td>2016</td><td>90.25999999999999</td></tr><tr><td>Denny Joy</td><td>2014</td><td>39.77</td></tr><tr><td>Steven Ward</td><td>2016</td><td>48.519999999999996</td></tr><tr><td>Tracy Blumstein</td><td>2016</td><td>3.95</td></tr><tr><td>Cindy Chapman</td><td>2017</td><td>40.35000000000002</td></tr><tr><td>Ted Trevino</td><td>2017</td><td>422.92999999999995</td></tr><tr><td>Carlos Meador</td><td>2015</td><td>13.17</td></tr><tr><td>Barry Franzsisch</td><td>2016</td><td>20.32</td></tr><tr><td>Philisse Overcash</td><td>2017</td><td>153.54999999999998</td></tr><tr><td>Jenna Caffey</td><td>2017</td><td>502.93</td></tr><tr><td>Ben Wallace</td><td>2017</td><td>-14.110000000000001</td></tr><tr><td>William Brown</td><td>2016</td><td>293.65</td></tr><tr><td>Anne Mcfarland</td><td>2017</td><td>392.01</td></tr><tr><td>Jasper Cacioppo</td><td>2016</td><td>-4.08</td></tr><tr><td>Karl Braun</td><td>2015</td><td>-22.239999999999995</td></tr><tr><td>Sylvia Foulston</td><td>2017</td><td>8.489999999999997</td></tr><tr><td>Cindy Stewart</td><td>2014</td><td>9.0</td></tr><tr><td>Nick Crebassa</td><td>2016</td><td>16.79</td></tr><tr><td>Matt Collins</td><td>2015</td><td>62.77</td></tr><tr><td>Julie Prescott</td><td>2014</td><td>6.92</td></tr><tr><td>Mitch Webber</td><td>2017</td><td>8.49</td></tr><tr><td>Lena Creighton</td><td>2014</td><td>201.07</td></tr><tr><td>Rick Duston</td><td>2016</td><td>69.39</td></tr><tr><td>Michael Granlund</td><td>2017</td><td>37.989999999999995</td></tr><tr><td>Valerie Dominguez</td><td>2014</td><td>576.56</td></tr><tr><td>Corey Catlett</td><td>2016</td><td>-202.26999999999998</td></tr><tr><td>Natalie Fritzler</td><td>2017</td><td>163.45999999999998</td></tr><tr><td>Bi L Shonely</td><td>2016</td><td>2405.71</td></tr><tr><td>Bradley Nguyen</td><td>2016</td><td>112.78</td></tr><tr><td>Alejandro Ballentine</td><td>2016</td><td>26.07</td></tr><tr><td>Yoseph Carroll</td><td>2017</td><td>37.53</td></tr><tr><td>Jim Karlsson</td><td>2014</td><td>303.87</td></tr><tr><td>Anth Ony Witt</td><td>2015</td><td>-13.499999999999998</td></tr><tr><td>Emily Phan</td><td>2014</td><td>175.0</td></tr><tr><td>Philip Fox</td><td>2014</td><td>-407.68</td></tr><tr><td>Steven Roelle</td><td>2017</td><td>1676.32</td></tr><tr><td>Shirley Schmidt</td><td>2014</td><td>11.05</td></tr><tr><td>Janet Lee</td><td>2016</td><td>103.36</td></tr><tr><td>Dan Campbell</td><td>2017</td><td>-1128.92</td></tr><tr><td>Kristina Nunn</td><td>2016</td><td>25.0</td></tr><tr><td>Ann Chong</td><td>2017</td><td>330.90999999999997</td></tr><tr><td>Karen Seio</td><td>2015</td><td>6.489999999999999</td></tr><tr><td>Ge Orge Bell</td><td>2014</td><td>-33.19</td></tr><tr><td>Karl Braun</td><td>2016</td><td>27.529999999999998</td></tr><tr><td>Neil Ducich</td><td>2015</td><td>18.66</td></tr><tr><td>Suzanne Mcnair</td><td>2016</td><td>43.0</td></tr><tr><td>Aaron Hawkins</td><td>2016</td><td>38.04</td></tr><tr><td>Darrin Martin</td><td>2016</td><td>-35.449999999999996</td></tr><tr><td>Theone Pippenger</td><td>2016</td><td>376.74</td></tr><tr><td>Keith Dawkins</td><td>2014</td><td>35.02</td></tr><tr><td>John Lee</td><td>2016</td><td>2.8</td></tr><tr><td>Scott Williamson</td><td>2017</td><td>100.28</td></tr><tr><td>Ted Trevino</td><td>2014</td><td>121.4</td></tr><tr><td>Irene Maddox</td><td>2016</td><td>329.3</td></tr><tr><td>Dave Hallsten</td><td>2014</td><td>323.13000000000005</td></tr><tr><td>Troy Blackwell</td><td>2017</td><td>1.37</td></tr><tr><td>Erica Smith</td><td>2017</td><td>871.8199999999999</td></tr><tr><td>Jonathan Howell</td><td>2017</td><td>-125.38</td></tr><tr><td>Bruce Degenhardt</td><td>2015</td><td>149.49</td></tr><tr><td>Ivan Gibson</td><td>2015</td><td>144.35</td></tr><tr><td>Claire Gute</td><td>2017</td><td>1.82</td></tr><tr><td>Joni Waerman</td><td>2017</td><td>144.67000000000002</td></tr><tr><td>Tom Ashbrook</td><td>2017</td><td>4599.21</td></tr><tr><td>Shaun Weien</td><td>2017</td><td>50.0</td></tr><tr><td>Lisa Decherney</td><td>2016</td><td>111.26</td></tr><tr><td>Bart Pistole</td><td>2017</td><td>225.57</td></tr><tr><td>Tanja Norvell</td><td>2015</td><td>167.98</td></tr><tr><td>Jessica Myrick</td><td>2014</td><td>58.989999999999995</td></tr><tr><td>Berenike Kampe</td><td>2017</td><td>21.450000000000003</td></tr><tr><td>Michael Stewart</td><td>2015</td><td>59.349999999999994</td></tr><tr><td>Anna Andreadi</td><td>2016</td><td>334.63</td></tr><tr><td>Bruce Stewart</td><td>2015</td><td>18.45</td></tr><tr><td>Steven Cartwright</td><td>2017</td><td>483.77</td></tr><tr><td>William Brown</td><td>2017</td><td>401.51</td></tr><tr><td>Art Ferguson</td><td>2015</td><td>2.02</td></tr><tr><td>Kean Thornton</td><td>2015</td><td>36.699999999999996</td></tr><tr><td>Shui Tom</td><td>2014</td><td>45.32000000000001</td></tr><tr><td>Harry Marie</td><td>2016</td><td>82.74999999999997</td></tr><tr><td>Ji Stevenson</td><td>2015</td><td>4.53</td></tr><tr><td>Pete Armstrong</td><td>2017</td><td>35.89</td></tr><tr><td>Nathan Mautz</td><td>2014</td><td>2413.85</td></tr><tr><td>Bi L Shonely</td><td>2014</td><td>210.7</td></tr><tr><td>Frank Hawley</td><td>2017</td><td>12934.61</td></tr><tr><td>Adrian Shami</td><td>2017</td><td>20.34</td></tr><tr><td>Brad Thomas</td><td>2015</td><td>117.39</td></tr><tr><td>Daniel Raglin</td><td>2016</td><td>2337.76</td></tr><tr><td>Ruben Ausman</td><td>2014</td><td>771.14</td></tr><tr><td>Lena Radford</td><td>2015</td><td>30.79</td></tr><tr><td>Ann Steele</td><td>2017</td><td>64.24</td></tr><tr><td>Christine Phan</td><td>2015</td><td>-1044.46</td></tr><tr><td>Joe Elijah</td><td>2015</td><td>27.74</td></tr><tr><td>Kat Rina Edelman</td><td>2015</td><td>235.64</td></tr><tr><td>Frank Preis</td><td>2016</td><td>340.07</td></tr><tr><td>Ed Jacobs</td><td>2015</td><td>15.86</td></tr><tr><td>Edward Nazzal</td><td>2016</td><td>431.38</td></tr><tr><td>Anth Ony Witt</td><td>2017</td><td>79.28</td></tr><tr><td>Sharelle Roach</td><td>2017</td><td>-3391.66</td></tr><tr><td>Keith Herrera</td><td>2017</td><td>431.29</td></tr><tr><td>Bruce Stewart</td><td>2014</td><td>-330.55</td></tr><tr><td>Larry Hughes</td><td>2017</td><td>17.67</td></tr><tr><td>B         Ecky Martin</td><td>2014</td><td>-1878.79</td></tr><tr><td>Bruce Stewart</td><td>2016</td><td>82.94999999999999</td></tr><tr><td>Anthony Garverick</td><td>2017</td><td>-66.01</td></tr><tr><td>Nick Zandusky</td><td>2015</td><td>82.82</td></tr><tr><td>Carol Darley</td><td>2017</td><td>-214.45999999999998</td></tr><tr><td>Harold Dahlen</td><td>2014</td><td>-167.32</td></tr><tr><td>Tracy Zic</td><td>2016</td><td>75.98</td></tr><tr><td>Maureen Gnade</td><td>2015</td><td>-392.86</td></tr><tr><td>Khloe Miller</td><td>2014</td><td>3.0</td></tr><tr><td>Victor Preis</td><td>2015</td><td>8.93</td></tr><tr><td>Rachel Payne</td><td>2014</td><td>97.86</td></tr><tr><td>Kimberly Carter</td><td>2017</td><td>156.37000000000003</td></tr><tr><td>Barry Gonzalez</td><td>2015</td><td>-998.9100000000001</td></tr><tr><td>Zuschuss Carroll</td><td>2016</td><td>-1731.01</td></tr><tr><td>Brendan Sweed</td><td>2014</td><td>97.46000000000001</td></tr><tr><td>Maria Zettner</td><td>2015</td><td>69.35000000000001</td></tr><tr><td>Thais Sissman</td><td>2015</td><td>-1.35</td></tr><tr><td>Luke Weiss</td><td>2016</td><td>350.01</td></tr><tr><td>Melanie Seite</td><td>2014</td><td>10.92</td></tr><tr><td>Laurel Elliston</td><td>2016</td><td>179.75</td></tr><tr><td>Roy Phan</td><td>2016</td><td>143.06000000000003</td></tr><tr><td>Randy Ferguson</td><td>2014</td><td>92.94</td></tr><tr><td>Ivan Gibson</td><td>2016</td><td>54.86</td></tr><tr><td>Joy Daniels</td><td>2014</td><td>-10.34</td></tr><tr><td>Dan Campbell</td><td>2014</td><td>-77.87</td></tr><tr><td>Bobby Elias</td><td>2016</td><td>577.1999999999999</td></tr><tr><td>Dave Brooks</td><td>2016</td><td>294.18</td></tr><tr><td>Nick Radford</td><td>2014</td><td>-123.79</td></tr><tr><td>Benjamin Farhat</td><td>2017</td><td>328.37</td></tr><tr><td>Darren Powers</td><td>2017</td><td>-48.17</td></tr><tr><td>Charles Sheldon</td><td>2014</td><td>98.11</td></tr><tr><td>Marc Crier</td><td>2016</td><td>20.91</td></tr><tr><td>Adrian Hane</td><td>2014</td><td>-25.91</td></tr><tr><td>David K Lendrick</td><td>2017</td><td>171.77</td></tr><tr><td>Tony Chapman</td><td>2017</td><td>76.21</td></tr><tr><td>Kristen Hastings</td><td>2014</td><td>1038.59</td></tr><tr><td>Sarah Bern</td><td>2017</td><td>191.07</td></tr><tr><td>Maria Etezadi</td><td>2015</td><td>-9.56</td></tr><tr><td>Katherine Nockton</td><td>2017</td><td>10.260000000000005</td></tr><tr><td>Lauren Leatherbury</td><td>2014</td><td>110.88</td></tr><tr><td>Yoseph Carroll</td><td>2014</td><td>833.77</td></tr><tr><td>Dario Medina</td><td>2016</td><td>0.26</td></tr><tr><td>Julie Prescott</td><td>2017</td><td>19.509999999999998</td></tr><tr><td>Philip Brown</td><td>2017</td><td>71.93</td></tr><tr><td>Michael Paige</td><td>2016</td><td>265.53999999999996</td></tr><tr><td>Theresa Swint</td><td>2014</td><td>-2.0</td></tr><tr><td>Toby Gnade</td><td>2015</td><td>-198.32999999999998</td></tr><tr><td>Alex Avila</td><td>2014</td><td>273.68</td></tr><tr><td>Adrian Barton</td><td>2017</td><td>340.64</td></tr><tr><td>Sung Pak</td><td>2015</td><td>-65.06</td></tr><tr><td>Matt Collins</td><td>2016</td><td>15.59</td></tr><tr><td>Don Weiss</td><td>2017</td><td>53.650000000000006</td></tr><tr><td>Dave Poirier</td><td>2017</td><td>60.53999999999999</td></tr><tr><td>Edward Becker</td><td>2016</td><td>139.81</td></tr><tr><td>Jennifer Jackson</td><td>2016</td><td>18.71</td></tr><tr><td>Steve Nguyen</td><td>2015</td><td>91.22000000000001</td></tr><tr><td>Charles Mccrossin</td><td>2016</td><td>-315.75</td></tr><tr><td>John Huston</td><td>2017</td><td>-19.939999999999998</td></tr><tr><td>Alan Dominguez</td><td>2014</td><td>-6.6</td></tr><tr><td>Michael Dominguez</td><td>2017</td><td>43.31</td></tr><tr><td>Ann Blume</td><td>2014</td><td>-23.89</td></tr><tr><td>Emily Phan</td><td>2015</td><td>361.20000000000005</td></tr><tr><td>Brosina Hoffman</td><td>2014</td><td>235.35</td></tr><tr><td>Darren Budd</td><td>2017</td><td>64.81</td></tr><tr><td>Raymond Messe</td><td>2015</td><td>19.97</td></tr><tr><td>Clytie Kelty</td><td>2014</td><td>1.23</td></tr><tr><td>Vivek Sundaresam</td><td>2015</td><td>-176.60000000000002</td></tr><tr><td>Jill Fjeld</td><td>2015</td><td>147.35</td></tr><tr><td>Rick Reed</td><td>2015</td><td>32.5</td></tr><tr><td>Nicole Hansen</td><td>2014</td><td>33.2</td></tr><tr><td>Joseph Airdo</td><td>2016</td><td>114.19</td></tr><tr><td>Fred Waerman</td><td>2015</td><td>5.48</td></tr><tr><td>Jill Matthias</td><td>2016</td><td>113.72</td></tr><tr><td>Bryan Davis</td><td>2017</td><td>30.580000000000002</td></tr><tr><td>Greg Maxwell</td><td>2014</td><td>112.27999999999999</td></tr><tr><td>Mathew Reese</td><td>2014</td><td>9.11</td></tr><tr><td>Joel Jenkins</td><td>2015</td><td>34.46</td></tr><tr><td>Xylona Preis</td><td>2014</td><td>202.31</td></tr><tr><td>Claire Gute</td><td>2016</td><td>261.49</td></tr><tr><td>Natalie Decherney</td><td>2015</td><td>326.11999999999995</td></tr><tr><td>John Lee</td><td>2015</td><td>252.42999999999998</td></tr><tr><td>Tracy Zic</td><td>2015</td><td>15.28</td></tr><tr><td>Hilary Holden</td><td>2014</td><td>60.269999999999996</td></tr><tr><td>Christina Vanderzanden</td><td>2014</td><td>163.49</td></tr><tr><td>Sonia Sunley</td><td>2016</td><td>112.38</td></tr><tr><td>Linda Cazamias</td><td>2014</td><td>29.34</td></tr><tr><td>Doug Bickford</td><td>2016</td><td>22.730000000000004</td></tr><tr><td>Jasper Cacioppo</td><td>2017</td><td>2.4</td></tr><tr><td>Brad Norvell</td><td>2017</td><td>4.96</td></tr><tr><td>Penelope Sewall</td><td>2014</td><td>623.2</td></tr><tr><td>Mitch Gastineau</td><td>2017</td><td>-1.2399999999999998</td></tr><tr><td>Alex Avila</td><td>2016</td><td>-747.09</td></tr><tr><td>Frank Olsen</td><td>2017</td><td>-70.97999999999999</td></tr><tr><td>Joni Sundaresam</td><td>2016</td><td>-18.74</td></tr><tr><td>Harold Engle</td><td>2017</td><td>161.26</td></tr><tr><td>Tracy Collins</td><td>2014</td><td>3.36</td></tr><tr><td>Denise Leinenbach</td><td>2016</td><td>5.22</td></tr><tr><td>Chris Cortes</td><td>2015</td><td>21.01</td></tr><tr><td>Tamara Chand</td><td>2015</td><td>37.72</td></tr><tr><td>Craig Leslie</td><td>2016</td><td>64.09</td></tr><tr><td>Toby Ritter</td><td>2016</td><td>115.03999999999999</td></tr><tr><td>Frank Atkinson</td><td>2015</td><td>224.56</td></tr><tr><td>Jeremy Pistek</td><td>2015</td><td>5.01</td></tr><tr><td>Pamela Coakley</td><td>2016</td><td>76.97999999999999</td></tr><tr><td>Adam Shillingsburg</td><td>2017</td><td>-344.99</td></tr><tr><td>Alejandro Savely</td><td>2017</td><td>23.26</td></tr><tr><td>James Galang</td><td>2016</td><td>230.36</td></tr><tr><td>Theresa Coyne</td><td>2017</td><td>265.59000000000003</td></tr><tr><td>Valerie Takahito</td><td>2015</td><td>-257.93</td></tr><tr><td>Arianne Irving</td><td>2016</td><td>485.31999999999994</td></tr><tr><td>Deborah Brumfield</td><td>2015</td><td>1.7199999999999998</td></tr><tr><td>Roy Collins</td><td>2014</td><td>6.88</td></tr><tr><td>Ge Orge Bell</td><td>2016</td><td>-77.54</td></tr><tr><td>Steve Carroll</td><td>2017</td><td>15.12</td></tr><tr><td>Marc Harrigan</td><td>2014</td><td>12.21</td></tr><tr><td>Aleksandra Gannaway</td><td>2015</td><td>8.39</td></tr><tr><td>Alyssa Tate</td><td>2016</td><td>6.43</td></tr><tr><td>Giulietta Weimer</td><td>2015</td><td>134.33</td></tr><tr><td>Dianna Wilson</td><td>2017</td><td>162.99</td></tr><tr><td>Benjamin Farhat</td><td>2014</td><td>21.48</td></tr><tr><td>Kunst Miller</td><td>2015</td><td>112.09999999999998</td></tr><tr><td>Jason Gross</td><td>2016</td><td>-22.930000000000007</td></tr><tr><td>Ralph Ritter</td><td>2016</td><td>3.47</td></tr><tr><td>Dennis Bolton</td><td>2017</td><td>113.54</td></tr><tr><td>Gary Mcgarr</td><td>2017</td><td>36.31</td></tr><tr><td>Trudy Brown</td><td>2014</td><td>83.99</td></tr><tr><td>Alyssa Tate</td><td>2015</td><td>-2.53</td></tr><tr><td>Valerie Mitchum</td><td>2014</td><td>78.23</td></tr><tr><td>Kelly Andreada</td><td>2017</td><td>39.94</td></tr><tr><td>Cassandra Brandow</td><td>2014</td><td>5.27</td></tr><tr><td>Toby Gnade</td><td>2017</td><td>35.86</td></tr><tr><td>John Grady</td><td>2015</td><td>8.69</td></tr><tr><td>Jim Mitchum</td><td>2014</td><td>7.72</td></tr><tr><td>Joni Sundaresam</td><td>2015</td><td>-312.06</td></tr><tr><td>Natalie Fritzler</td><td>2015</td><td>-1980.3799999999997</td></tr><tr><td>Vivek Gonzalez</td><td>2016</td><td>18.48</td></tr><tr><td>Marc Crier</td><td>2017</td><td>7.22</td></tr><tr><td>Susan Gilcrest</td><td>2017</td><td>-13.270000000000001</td></tr><tr><td>Benjamin Venier</td><td>2017</td><td>105.94</td></tr><tr><td>Ken Lonsdale</td><td>2016</td><td>1.3299999999999983</td></tr><tr><td>Claire Gute</td><td>2015</td><td>-93.38</td></tr><tr><td>Coreylock</td><td>2015</td><td>44.03</td></tr><tr><td>Julie Prescott</td><td>2015</td><td>7.43</td></tr><tr><td>Justin Hirsh</td><td>2016</td><td>-203.37</td></tr><tr><td>Resi Plking</td><td>2014</td><td>262.8100000000001</td></tr><tr><td>Linda Southworth</td><td>2016</td><td>21.74</td></tr><tr><td>Michael Chen</td><td>2014</td><td>395.76</td></tr><tr><td>Craig Yedwab</td><td>2016</td><td>49.730000000000004</td></tr><tr><td>Mick Brown</td><td>2014</td><td>4.88</td></tr><tr><td>Erin  Mull</td><td>2014</td><td>59.260000000000005</td></tr><tr><td>Jeremy Farry</td><td>2014</td><td>35.400000000000006</td></tr><tr><td>Ralph Arnett</td><td>2016</td><td>-6.57</td></tr><tr><td>Kelly Lampkin</td><td>2017</td><td>-163.66000000000003</td></tr><tr><td>Sonia Cooley</td><td>2014</td><td>32.39</td></tr><tr><td>Nra Paige</td><td>2015</td><td>80.84</td></tr><tr><td>Carlos Meador</td><td>2016</td><td>-56.9</td></tr><tr><td>Gary Hansen</td><td>2017</td><td>-496.24</td></tr><tr><td>Sean Braxton</td><td>2014</td><td>-1272.3500000000001</td></tr><tr><td>Muhammed Macintyre</td><td>2016</td><td>8.84</td></tr><tr><td>Rob Williams</td><td>2017</td><td>321.91</td></tr><tr><td>Randy Ferguson</td><td>2016</td><td>438.72999999999996</td></tr><tr><td>Mike Kennedy</td><td>2014</td><td>-22.69</td></tr><tr><td>Troy Staebel</td><td>2014</td><td>-227.49</td></tr><tr><td>Bryan Spruell</td><td>2017</td><td>116.94000000000001</td></tr><tr><td>Aaron Bergman</td><td>2014</td><td>12.82</td></tr><tr><td>Beth Paige</td><td>2016</td><td>-65.75000000000001</td></tr><tr><td>Greg Hansen</td><td>2015</td><td>3.07</td></tr><tr><td>Ted Trevino</td><td>2015</td><td>205.15</td></tr><tr><td>Fred Hopkins</td><td>2016</td><td>6.91</td></tr><tr><td>Sheri Gordon</td><td>2015</td><td>30.299999999999997</td></tr><tr><td>Suzanne Mcnair</td><td>2015</td><td>468.4</td></tr><tr><td>Dario Medina</td><td>2015</td><td>42.96</td></tr><tr><td>Ed Braxton</td><td>2015</td><td>47.959999999999994</td></tr><tr><td>Arthur Prichep</td><td>2016</td><td>338.86</td></tr><tr><td>Dorothy Dickinson</td><td>2014</td><td>-8.630000000000003</td></tr><tr><td>Jay Kimmel</td><td>2014</td><td>129.54000000000002</td></tr><tr><td>Lynn Smith</td><td>2015</td><td>4.8</td></tr><tr><td>Sean Christensen</td><td>2016</td><td>18.46</td></tr><tr><td>Raymond Buch</td><td>2016</td><td>195.46</td></tr><tr><td>Rick Reed</td><td>2017</td><td>99.94</td></tr><tr><td>Brosina Hoffman</td><td>2017</td><td>119.51</td></tr><tr><td>Tom Boeckenhauer</td><td>2017</td><td>218.55</td></tr><tr><td>Karl Braun</td><td>2017</td><td>69.64</td></tr><tr><td>Christina Anderson</td><td>2016</td><td>24.6</td></tr><tr><td>Kunst Miller</td><td>2014</td><td>213.7</td></tr><tr><td>Liz Mackendrick</td><td>2014</td><td>76.1</td></tr><tr><td>Mike Pelletier</td><td>2015</td><td>526.73</td></tr><tr><td>Stefania Perrino</td><td>2017</td><td>-165.79999999999995</td></tr><tr><td>Candace Mcmahon</td><td>2014</td><td>7.26</td></tr><tr><td>Ashley Jarboe</td><td>2017</td><td>167.94</td></tr><tr><td>Nathan Cano</td><td>2015</td><td>36.230000000000004</td></tr><tr><td>Richard Eichhorn</td><td>2015</td><td>211.06</td></tr><tr><td>Trudy Schmidt</td><td>2016</td><td>364.87</td></tr><tr><td>Amy Hunt</td><td>2016</td><td>-1.78</td></tr><tr><td>Peter Fuller</td><td>2015</td><td>-631.7</td></tr><tr><td>Ruben Dartt</td><td>2016</td><td>163.75</td></tr><tr><td>Gene Hale</td><td>2016</td><td>-24.49000000000001</td></tr><tr><td>Shahi  Hopkins</td><td>2016</td><td>-1.48</td></tr><tr><td>Shaun Weien</td><td>2015</td><td>618.4399999999999</td></tr><tr><td>Tamara Dahlen</td><td>2014</td><td>9.23</td></tr><tr><td>Ben Pet  Erman</td><td>2015</td><td>66.75999999999999</td></tr><tr><td>Justin Mackendrick</td><td>2014</td><td>273.4</td></tr><tr><td>Philisse Overcash</td><td>2016</td><td>178.45</td></tr><tr><td>Rob Dowd</td><td>2017</td><td>66.27</td></tr><tr><td>Lisa Hazard</td><td>2017</td><td>-152.87</td></tr><tr><td>Cyra Reiten</td><td>2017</td><td>81.14</td></tr><tr><td>Dianna Arnett</td><td>2014</td><td>21.72</td></tr><tr><td>Alan Barnes</td><td>2015</td><td>74.71</td></tr><tr><td>Henry Macallister</td><td>2016</td><td>1.73</td></tr><tr><td>Sandra Flanagan</td><td>2017</td><td>110.13000000000001</td></tr><tr><td>Magdelene Morse</td><td>2016</td><td>166.51</td></tr><tr><td>Bil Eplett</td><td>2017</td><td>1440.55</td></tr><tr><td>Sandra Flanagan</td><td>2014</td><td>98.59</td></tr><tr><td>John Murray</td><td>2015</td><td>371.88</td></tr><tr><td>Maribeth Yedwab</td><td>2015</td><td>2.65</td></tr><tr><td>Andrew Gjertsen</td><td>2015</td><td>263.64</td></tr><tr><td>David Smith</td><td>2017</td><td>-29.560000000000002</td></tr><tr><td>Bradley Drucker</td><td>2014</td><td>309.08</td></tr><tr><td>Joe Elijah</td><td>2017</td><td>60.42</td></tr><tr><td>Natalie Decherney</td><td>2014</td><td>47.61</td></tr><tr><td>Julie Creighton</td><td>2014</td><td>76.49</td></tr><tr><td>Valerie Dominguez</td><td>2016</td><td>50.19</td></tr><tr><td>Sung Shariari</td><td>2015</td><td>-79.33</td></tr><tr><td>Arianne Irving</td><td>2017</td><td>77.28</td></tr><tr><td>Ken Black</td><td>2017</td><td>240.99</td></tr><tr><td>Tracy Zic</td><td>2014</td><td>132.3</td></tr><tr><td>Guy Armstrong</td><td>2017</td><td>18.470000000000013</td></tr><tr><td>Barry Gonzalez</td><td>2017</td><td>221.68</td></tr><tr><td>Bart Watters</td><td>2015</td><td>103.49</td></tr><tr><td>David Wiener</td><td>2016</td><td>-34.16</td></tr><tr><td>Denny Joy</td><td>2016</td><td>378.27</td></tr><tr><td>Brendan Dodson</td><td>2017</td><td>80.24</td></tr><tr><td>Andy Yotov</td><td>2014</td><td>65.6</td></tr><tr><td>Eva Jacobs</td><td>2014</td><td>-23.49</td></tr><tr><td>Anna Hberlin</td><td>2014</td><td>46.2</td></tr><tr><td>Tom Stivers</td><td>2017</td><td>14.71</td></tr><tr><td>Shahi  Hopkins</td><td>2017</td><td>106.91</td></tr><tr><td>Victoria Pisteka</td><td>2017</td><td>-964.48</td></tr><tr><td>Matt Connell</td><td>2016</td><td>11.31</td></tr><tr><td>Nicole Fjeld</td><td>2017</td><td>87.86</td></tr><tr><td>Brian Dahlen</td><td>2015</td><td>68.97999999999999</td></tr><tr><td>Liz Preis</td><td>2016</td><td>79.36</td></tr><tr><td>Rick Bensley</td><td>2017</td><td>179.77999999999997</td></tr><tr><td>Speros Goranitis</td><td>2015</td><td>162.96</td></tr><tr><td>Dennis Bolton</td><td>2015</td><td>15.61</td></tr><tr><td>Barry Franz</td><td>2016</td><td>-365.71999999999997</td></tr><tr><td>Sheri Gordon</td><td>2014</td><td>150.92</td></tr><tr><td>Pauline Johnson</td><td>2017</td><td>609.4300000000001</td></tr><tr><td>Cari Sayre</td><td>2017</td><td>205.18</td></tr><tr><td>Theone Pippenger</td><td>2017</td><td>753.76</td></tr><tr><td>Michael Grace</td><td>2017</td><td>-29.44</td></tr><tr><td>Steven Ward</td><td>2014</td><td>19.72</td></tr><tr><td>Dianna Wilson</td><td>2014</td><td>1154.67</td></tr><tr><td>Rick Reed</td><td>2014</td><td>543.5699999999999</td></tr><tr><td>Shahi  Shariari</td><td>2014</td><td>-565.75</td></tr><tr><td>Sam Zeldin</td><td>2015</td><td>260.19000000000005</td></tr><tr><td>Anna Hberlin</td><td>2015</td><td>106.62</td></tr><tr><td>Steven Roelle</td><td>2014</td><td>130.18</td></tr><tr><td>Lindsay Shagiari</td><td>2014</td><td>138.16</td></tr><tr><td>Trudy Glocke</td><td>2014</td><td>89.42</td></tr><tr><td>Kelly Andreada</td><td>2014</td><td>49.01</td></tr><tr><td>Eric Barreto</td><td>2017</td><td>-75.19</td></tr><tr><td>Herbert Flentye</td><td>2016</td><td>-167.30999999999997</td></tr><tr><td>Eudokia Martin</td><td>2015</td><td>192.67</td></tr><tr><td>Brian Derr</td><td>2015</td><td>102.25</td></tr><tr><td>Victoria Wilson</td><td>2015</td><td>-1186.4099999999999</td></tr><tr><td>Rob Lucas</td><td>2015</td><td>110.11</td></tr><tr><td>Mike Vitt Orini</td><td>2015</td><td>15.360000000000001</td></tr><tr><td>Sarah Jordon</td><td>2015</td><td>5.900000000000002</td></tr><tr><td>Eugene Hildebrand</td><td>2014</td><td>20.1</td></tr><tr><td>Clay Ludtke</td><td>2016</td><td>713.45</td></tr><tr><td>Kean Nguyen</td><td>2017</td><td>112.42</td></tr><tr><td>Nat Gilpin</td><td>2014</td><td>219.08</td></tr><tr><td>Christy Brittain</td><td>2017</td><td>74.23</td></tr><tr><td>Maribeth Chnelling</td><td>2014</td><td>143.9</td></tr><tr><td>Kat Rina Willman</td><td>2015</td><td>1600.8500000000001</td></tr><tr><td>Carol Darley</td><td>2016</td><td>7.75</td></tr><tr><td>Fred Waerman</td><td>2016</td><td>12.21</td></tr><tr><td>Jamie Frazer</td><td>2014</td><td>37.4</td></tr><tr><td>Joseph Holt</td><td>2015</td><td>-1429.3799999999999</td></tr><tr><td>Eric Barreto</td><td>2014</td><td>1.3499999999999996</td></tr><tr><td>Matthew Clasen</td><td>2014</td><td>41.89</td></tr><tr><td>Aaron Bergman</td><td>2016</td><td>116.86</td></tr><tr><td>Dianna Vittorini</td><td>2015</td><td>101.77</td></tr><tr><td>Tom Boeckenhauer</td><td>2014</td><td>2567.33</td></tr><tr><td>Joni Blumstein</td><td>2014</td><td>72.58</td></tr><tr><td>Andrew Roberts</td><td>2015</td><td>27.99</td></tr><tr><td>Peter Mcvee</td><td>2017</td><td>69.6</td></tr><tr><td>Denny Ordway</td><td>2016</td><td>8.5</td></tr><tr><td>Erica Hernandez</td><td>2014</td><td>-250.95999999999998</td></tr><tr><td>Filia Mcadams</td><td>2016</td><td>45.93</td></tr><tr><td>Arianne Irving</td><td>2015</td><td>9.33</td></tr><tr><td>Gary Mitchum</td><td>2016</td><td>102.51999999999998</td></tr><tr><td>Jeremy Ellison</td><td>2017</td><td>33.6</td></tr><tr><td>Raymond Messe</td><td>2017</td><td>196.75000000000003</td></tr><tr><td>Alan Shonely</td><td>2015</td><td>5.08</td></tr><tr><td>Ted Trevino</td><td>2016</td><td>2.69</td></tr><tr><td>Stuart Calhoun</td><td>2015</td><td>40.63</td></tr><tr><td>Scott Cohen</td><td>2015</td><td>373.95</td></tr><tr><td>Jeremy Lonsdale</td><td>2016</td><td>21.750000000000004</td></tr><tr><td>Juliana Krohn</td><td>2017</td><td>357.77</td></tr><tr><td>Carlos Soltero</td><td>2014</td><td>-88.07</td></tr><tr><td>Alan Schoenberger</td><td>2017</td><td>268.43</td></tr><tr><td>Lisa Decherney</td><td>2014</td><td>445.51</td></tr><tr><td>Sandra Glassco</td><td>2015</td><td>352.20000000000005</td></tr><tr><td>Brian Decherney</td><td>2016</td><td>20.18</td></tr><tr><td>Kat Rina Edelman</td><td>2016</td><td>19.0</td></tr><tr><td>Mark Haberlin</td><td>2016</td><td>12.58</td></tr><tr><td>Alice Mccarthy</td><td>2017</td><td>-1.5700000000000003</td></tr><tr><td>Joel Eaton</td><td>2016</td><td>126.62</td></tr><tr><td>Erin Ashbrook</td><td>2015</td><td>321.74</td></tr><tr><td>Arthur Gainer</td><td>2017</td><td>-71.97</td></tr><tr><td>Art Ferguson</td><td>2016</td><td>390.8</td></tr><tr><td>Ralph Arnett</td><td>2015</td><td>234.81000000000003</td></tr><tr><td>Ross Baird</td><td>2017</td><td>-502.56</td></tr><tr><td>Anne Pryor</td><td>2016</td><td>243.58</td></tr><tr><td>John Murray</td><td>2017</td><td>24.630000000000003</td></tr><tr><td>Ben Pet  Erman</td><td>2017</td><td>330.74</td></tr><tr><td>Carlos Soltero</td><td>2016</td><td>-131.21</td></tr><tr><td>Jason Klamczynski</td><td>2014</td><td>17.55</td></tr><tr><td>Michael Oakman</td><td>2015</td><td>-79.31</td></tr><tr><td>Duane Huffman</td><td>2014</td><td>87.78999999999999</td></tr><tr><td>Becky Pak</td><td>2016</td><td>188.78</td></tr><tr><td>James Lanier</td><td>2015</td><td>41.14</td></tr><tr><td>Christine Phan</td><td>2017</td><td>-17.02</td></tr><tr><td>Victoria Wilson</td><td>2016</td><td>-188.81</td></tr><tr><td>Tracy Zic</td><td>2017</td><td>1.34</td></tr><tr><td>Cthy Armstrong</td><td>2016</td><td>259.37</td></tr><tr><td>Joni Waerman</td><td>2015</td><td>-201.65</td></tr><tr><td>Laura Armstrong</td><td>2015</td><td>-0.11999999999999922</td></tr><tr><td>Tom Ashbrook</td><td>2014</td><td>180.51999999999998</td></tr><tr><td>Mark Haberlin</td><td>2014</td><td>48.85</td></tr><tr><td>Rick Huthwaite</td><td>2014</td><td>10.96</td></tr><tr><td>Anne Mcfarland</td><td>2014</td><td>472.09000000000003</td></tr><tr><td>Victo Ria Brennan</td><td>2017</td><td>181.21</td></tr><tr><td>Carol Triggs</td><td>2017</td><td>159.26</td></tr><tr><td>Alejandro Savely</td><td>2016</td><td>331.36999999999995</td></tr><tr><td>Bart Pistole</td><td>2015</td><td>53.56</td></tr><tr><td>Ken Heidel</td><td>2014</td><td>127.02000000000001</td></tr><tr><td>Peter Bhler</td><td>2014</td><td>204.07</td></tr><tr><td>Trudy Schmidt</td><td>2017</td><td>-110.04999999999998</td></tr><tr><td>Steve Nguyen</td><td>2014</td><td>32.94</td></tr><tr><td>Jim Kriz</td><td>2015</td><td>181.03999999999996</td></tr><tr><td>Pete Takahito</td><td>2017</td><td>5.5</td></tr><tr><td>Max Jones</td><td>2015</td><td>-77.92999999999999</td></tr><tr><td>Michelle Tran</td><td>2017</td><td>2.049999999999997</td></tr><tr><td>Pete Kriz</td><td>2017</td><td>1617.17</td></tr><tr><td>Christy Brittain</td><td>2016</td><td>201.66</td></tr><tr><td>Harold Ryan</td><td>2015</td><td>116.94000000000001</td></tr><tr><td>Adam Bellavance</td><td>2016</td><td>1568.05</td></tr><tr><td>Paul Prost</td><td>2015</td><td>67.55999999999999</td></tr><tr><td>Vivian Mathis</td><td>2014</td><td>6.51</td></tr><tr><td>Saphhira Shifley</td><td>2014</td><td>-88.04</td></tr><tr><td>Gary Hansen</td><td>2015</td><td>38.97</td></tr><tr><td>Mike Vitt Orini</td><td>2016</td><td>225.26</td></tr><tr><td>Neil Ducich</td><td>2014</td><td>45.43000000000001</td></tr><tr><td>Kelly Lampkin</td><td>2016</td><td>50.12</td></tr><tr><td>Keith Dawkins</td><td>2017</td><td>134.84</td></tr><tr><td>Tom Prescott</td><td>2015</td><td>64.52</td></tr><tr><td>Andy Gerbode</td><td>2015</td><td>-59.22</td></tr><tr><td>Darren Koutras</td><td>2017</td><td>-34.52</td></tr><tr><td>Grant Thornton</td><td>2015</td><td>8.87</td></tr><tr><td>Michael Nguyen</td><td>2017</td><td>254.12999999999997</td></tr><tr><td>Toby Swindell</td><td>2015</td><td>92.71</td></tr><tr><td>Adam Bellavance</td><td>2017</td><td>395.54999999999995</td></tr><tr><td>Tiffany House</td><td>2014</td><td>-2.9299999999999997</td></tr><tr><td>Duane Benoit</td><td>2014</td><td>31.01</td></tr><tr><td>Barry Franzsisch</td><td>2014</td><td>7.21</td></tr><tr><td>Nick Zandusky</td><td>2014</td><td>248.03000000000003</td></tr><tr><td>Tracy Collins</td><td>2015</td><td>30.65</td></tr><tr><td>Julia West</td><td>2016</td><td>16.88</td></tr><tr><td>Thea Hendricks</td><td>2015</td><td>0.81</td></tr><tr><td>Todd Boyes</td><td>2017</td><td>206.57</td></tr><tr><td>Skye Norling</td><td>2016</td><td>229.01000000000002</td></tr><tr><td>Xylona Preis</td><td>2016</td><td>314.09000000000003</td></tr><tr><td>Harry Greene</td><td>2017</td><td>108.28</td></tr><tr><td>Anthony Rawles</td><td>2015</td><td>9.33</td></tr><tr><td>Theresa Swint</td><td>2015</td><td>311.54</td></tr><tr><td>Ken Heidel</td><td>2016</td><td>30.61</td></tr><tr><td>Helen Andreada</td><td>2015</td><td>197.83999999999997</td></tr><tr><td>Guy Phonely</td><td>2015</td><td>67.77000000000001</td></tr><tr><td>Steve Carroll</td><td>2015</td><td>213.7</td></tr><tr><td>Charles Crestani</td><td>2015</td><td>297.36</td></tr><tr><td>Sheri Gordon</td><td>2017</td><td>-295.98</td></tr><tr><td>Darren Powers</td><td>2014</td><td>24.240000000000002</td></tr><tr><td>Yana Sorensen</td><td>2015</td><td>254.18</td></tr><tr><td>Sam Zeldin</td><td>2017</td><td>50.42</td></tr><tr><td>Vivek Gonzalez</td><td>2014</td><td>19.54</td></tr><tr><td>John Dryer</td><td>2015</td><td>-313.52</td></tr><tr><td>Bobby Trafton</td><td>2016</td><td>-71.9</td></tr><tr><td>John Stevenson</td><td>2015</td><td>392.89000000000004</td></tr><tr><td>Ricardo Emerson</td><td>2014</td><td>6.05</td></tr><tr><td>Nancy Lomonaco</td><td>2017</td><td>282.27</td></tr><tr><td>Alan Schoenberger</td><td>2014</td><td>444.69</td></tr><tr><td>Ryan Crowe</td><td>2014</td><td>-98.43</td></tr><tr><td>Don Miller</td><td>2016</td><td>12.83</td></tr><tr><td>Brad Eason</td><td>2015</td><td>120.21</td></tr><tr><td>Tracy Blumstein</td><td>2015</td><td>-1571.86</td></tr><tr><td>Yoseph Carroll</td><td>2015</td><td>7.07</td></tr><tr><td>Roger Demir</td><td>2017</td><td>78.99</td></tr><tr><td>Lynn Smith</td><td>2017</td><td>52.59</td></tr><tr><td>Zuschuss Carroll</td><td>2015</td><td>306.62999999999994</td></tr><tr><td>Andy Reiter</td><td>2017</td><td>2607.68</td></tr><tr><td>Lisa Ryan</td><td>2017</td><td>99.27000000000001</td></tr><tr><td>Kelly Collister</td><td>2015</td><td>49.27</td></tr><tr><td>Aleksandra Gannaway</td><td>2016</td><td>20.49</td></tr><tr><td>Max Engle</td><td>2014</td><td>16.28</td></tr><tr><td>Rob Lucas</td><td>2017</td><td>68.14999999999999</td></tr><tr><td>Zuschuss Carroll</td><td>2017</td><td>62.339999999999996</td></tr><tr><td>Patrick Ryan</td><td>2014</td><td>2.0</td></tr><tr><td>Ann Steele</td><td>2014</td><td>71.95</td></tr><tr><td>Karen Bern</td><td>2016</td><td>-18.18</td></tr><tr><td>Roland Schwarz</td><td>2015</td><td>5.01</td></tr><tr><td>Bil Overfelt</td><td>2016</td><td>358.03000000000003</td></tr><tr><td>Xylona Preis</td><td>2017</td><td>80.12</td></tr><tr><td>Alice Mccarthy</td><td>2015</td><td>178.9</td></tr><tr><td>Patrick Gardner</td><td>2014</td><td>54.45</td></tr><tr><td>Maureen Fritzler</td><td>2016</td><td>118.46000000000001</td></tr><tr><td>Dennis Kane</td><td>2017</td><td>2.6499999999999986</td></tr><tr><td>Thomas Thornton</td><td>2017</td><td>147.47</td></tr><tr><td>Raymond Buch</td><td>2017</td><td>6780.9</td></tr><tr><td>Anna Gayman</td><td>2015</td><td>-25.990000000000002</td></tr><tr><td>Helen Waerman</td><td>2015</td><td>17.2</td></tr><tr><td>Robert Dilbeck</td><td>2017</td><td>757.41</td></tr><tr><td>Robert Waldorf</td><td>2017</td><td>710.1800000000001</td></tr><tr><td>Logan Currie</td><td>2017</td><td>2.3999999999999773</td></tr><tr><td>Jessica Myrick</td><td>2017</td><td>18.560000000000002</td></tr><tr><td>Becky Pak</td><td>2015</td><td>431.98</td></tr><tr><td>Shirley Schmidt</td><td>2016</td><td>14.87</td></tr><tr><td>Philip Fox</td><td>2017</td><td>50.65</td></tr><tr><td>David Flashing</td><td>2016</td><td>-397.13000000000005</td></tr><tr><td>David Philippe</td><td>2014</td><td>-41.94</td></tr><tr><td>Scott Cohen</td><td>2014</td><td>96.77</td></tr><tr><td>Resi Plking</td><td>2015</td><td>19.71</td></tr><tr><td>Michael Nguyen</td><td>2016</td><td>5.52</td></tr><tr><td>Ross Devincentis</td><td>2016</td><td>115.75999999999999</td></tr><tr><td>Karen Danels</td><td>2014</td><td>-1340.6</td></tr><tr><td>Emily Grady</td><td>2016</td><td>46.31</td></tr><tr><td>Mike Vitt Orini</td><td>2014</td><td>11.9</td></tr><tr><td>Jason Klamczynski</td><td>2017</td><td>26.35</td></tr><tr><td>Justin Ritter</td><td>2017</td><td>255.76999999999998</td></tr><tr><td>Frank Carlisle</td><td>2017</td><td>209.39999999999998</td></tr><tr><td>Juliana Krohn</td><td>2015</td><td>228.9</td></tr><tr><td>Seth Vernon</td><td>2015</td><td>-191.64000000000001</td></tr><tr><td>Stewart Carmichael</td><td>2016</td><td>-734.27</td></tr><tr><td>Patrick Obrill</td><td>2015</td><td>7.32</td></tr><tr><td>Nora Preis</td><td>2017</td><td>71.95</td></tr><tr><td>Andy Reiter</td><td>2014</td><td>20.12</td></tr><tr><td>Neil Franzsisch</td><td>2016</td><td>-18.84</td></tr><tr><td>Matthew Clasen</td><td>2017</td><td>-317.03000000000003</td></tr><tr><td>Shaun Chance</td><td>2015</td><td>375.28000000000003</td></tr><tr><td>Anna Chung</td><td>2017</td><td>-32.34</td></tr><tr><td>Paul Prost</td><td>2014</td><td>472.39</td></tr><tr><td>Jeremy Pistek</td><td>2017</td><td>419.33</td></tr><tr><td>James Lanier</td><td>2017</td><td>110.48</td></tr><tr><td>Frank Merwin</td><td>2017</td><td>508.6300000000001</td></tr><tr><td>Greg Guthrie</td><td>2017</td><td>-22.080000000000005</td></tr><tr><td>Annie Thurman</td><td>2017</td><td>111.72</td></tr><tr><td>Katherine Nockton</td><td>2014</td><td>29.95</td></tr><tr><td>Kean Thornton</td><td>2017</td><td>34.32000000000001</td></tr><tr><td>Beth Paige</td><td>2014</td><td>-70.1</td></tr><tr><td>Cynthia Voltz</td><td>2017</td><td>134.09</td></tr><tr><td>Jennifer Jackson</td><td>2015</td><td>181.85</td></tr><tr><td>Jim Kriz</td><td>2014</td><td>10.19</td></tr><tr><td>Lindsay Shagiari</td><td>2017</td><td>229.37</td></tr><tr><td>Arthur Wiediger</td><td>2014</td><td>-42.56</td></tr><tr><td>Jonathan Doherty</td><td>2016</td><td>1179.82</td></tr><tr><td>Stefania Perrino</td><td>2015</td><td>-0.6200000000000001</td></tr><tr><td>Susan Mackendrick</td><td>2016</td><td>-16510.34</td></tr><tr><td>Mike Caudle</td><td>2014</td><td>24.98</td></tr><tr><td>Laura Armstrong</td><td>2017</td><td>16.07</td></tr><tr><td>Toby Ritter</td><td>2017</td><td>76.8</td></tr><tr><td>Philip Fox</td><td>2016</td><td>478.68</td></tr><tr><td>Benjamin Farhat</td><td>2016</td><td>173.24</td></tr><tr><td>Stewart Visinsky</td><td>2017</td><td>9.29</td></tr><tr><td>Roland Murray</td><td>2017</td><td>28.68</td></tr><tr><td>Maria Bertelson</td><td>2015</td><td>77.99</td></tr><tr><td>Henry Goldwyn</td><td>2014</td><td>2.45</td></tr><tr><td>Nicole Fjeld</td><td>2014</td><td>42.35</td></tr><tr><td>Hilary Holden</td><td>2017</td><td>26.46</td></tr><tr><td>Kristen Hastings</td><td>2016</td><td>7.18</td></tr><tr><td>Lisa Hazard</td><td>2015</td><td>-27.0</td></tr><tr><td>Ken Brennan</td><td>2014</td><td>2.85</td></tr><tr><td>Corinna Mitchell</td><td>2017</td><td>855.9300000000001</td></tr><tr><td>Adam Shillingsburg</td><td>2014</td><td>129.54999999999998</td></tr><tr><td>Mitch Willingham</td><td>2017</td><td>216.0</td></tr><tr><td>Randy Bradley</td><td>2017</td><td>-74.30999999999999</td></tr><tr><td>Allen Armold</td><td>2015</td><td>69.03</td></tr><tr><td>Thomas Seio</td><td>2016</td><td>104.77000000000001</td></tr><tr><td>Nat Carroll</td><td>2015</td><td>323.65</td></tr><tr><td>Pauline Johnson</td><td>2016</td><td>30.4</td></tr><tr><td>Karen Ferguson</td><td>2014</td><td>82.52</td></tr><tr><td>Jim Epp</td><td>2014</td><td>27.19</td></tr><tr><td>Patrick Obrill</td><td>2014</td><td>56.31</td></tr><tr><td>Cari Schnelling</td><td>2017</td><td>14.92</td></tr><tr><td>Neola Schneider</td><td>2017</td><td>-52.71</td></tr><tr><td>Daniel Byrd</td><td>2017</td><td>280.91999999999996</td></tr><tr><td>Mark Hamilton</td><td>2016</td><td>375.67</td></tr><tr><td>Shirley Daniels</td><td>2016</td><td>20.82</td></tr><tr><td>Patrick Jones</td><td>2015</td><td>382.38</td></tr><tr><td>Heather Jas</td><td>2016</td><td>55.989999999999995</td></tr><tr><td>Barry Blumstein</td><td>2017</td><td>6.92</td></tr><tr><td>Sample Company A</td><td>2015</td><td>9.1</td></tr><tr><td>Nick Crebassa</td><td>2017</td><td>607.03</td></tr><tr><td>Adam Shillingsburg</td><td>2016</td><td>22.549999999999997</td></tr><tr><td>Victoria Pisteka</td><td>2015</td><td>-204.15</td></tr><tr><td>Evan Bailliet</td><td>2017</td><td>3.52</td></tr><tr><td>Marybeth Skach</td><td>2014</td><td>2.6899999999999995</td></tr><tr><td>Damala Kotsonis</td><td>2014</td><td>-22.36</td></tr><tr><td>Laurel Workman</td><td>2017</td><td>2.32</td></tr><tr><td>Michael Moore</td><td>2017</td><td>-48.11</td></tr><tr><td>Julie Creighton</td><td>2017</td><td>62.3</td></tr><tr><td>Lisa Hazard</td><td>2014</td><td>-79.34</td></tr><tr><td>Barry Pond</td><td>2017</td><td>20.43</td></tr><tr><td>Alex Grayson</td><td>2017</td><td>-67.1</td></tr><tr><td>Dave Brooks</td><td>2017</td><td>-231.31</td></tr><tr><td>Michelle Ellison</td><td>2014</td><td>104.97999999999999</td></tr><tr><td>Ed Braxton</td><td>2017</td><td>10.600000000000009</td></tr><tr><td>Sue Ann Reed</td><td>2017</td><td>177.84999999999997</td></tr><tr><td>Ricardo Sperren</td><td>2016</td><td>14.42</td></tr><tr><td>Eugene Barchas</td><td>2017</td><td>-47.4</td></tr><tr><td>Dan Campbell</td><td>2015</td><td>4.89</td></tr><tr><td>Matthew Grinstein</td><td>2016</td><td>204.85</td></tr><tr><td>Carol Adams</td><td>2017</td><td>16.48</td></tr><tr><td>Dario Medina</td><td>2017</td><td>7.14</td></tr><tr><td>Bil Donatelli</td><td>2016</td><td>97.22999999999999</td></tr><tr><td>Allen Armold</td><td>2014</td><td>16.72</td></tr><tr><td>Guy Thornton</td><td>2015</td><td>27.2</td></tr><tr><td>Ben Ferrer</td><td>2015</td><td>137.03</td></tr><tr><td>Nancy Lomonaco</td><td>2016</td><td>18.66</td></tr><tr><td>Dennis Pardue</td><td>2015</td><td>-223.85</td></tr><tr><td>Jane Waco</td><td>2015</td><td>89.2</td></tr><tr><td>Carlos Daly</td><td>2014</td><td>11.7</td></tr><tr><td>Alice Mccarthy</td><td>2016</td><td>9.98</td></tr><tr><td>Hallie Redmond</td><td>2014</td><td>1.6</td></tr><tr><td>George Ashbrook</td><td>2014</td><td>22.41</td></tr><tr><td>Nathan Mautz</td><td>2017</td><td>4.35</td></tr><tr><td>Lindsay Castell</td><td>2016</td><td>21.27</td></tr><tr><td>Victoria Pisteka</td><td>2016</td><td>31.65</td></tr><tr><td>Scot Coram</td><td>2017</td><td>4.18</td></tr><tr><td>Sonia Cooley</td><td>2017</td><td>70.27000000000001</td></tr><tr><td>Bil Tyler</td><td>2015</td><td>185.37</td></tr><tr><td>NA</td><td>2015</td><td>2096.2299999999996</td></tr><tr><td>Craig Leslie</td><td>2017</td><td>164.91</td></tr><tr><td>Tim Brockman</td><td>2015</td><td>318.53</td></tr><tr><td>Harold Pawlan</td><td>2017</td><td>293.88</td></tr><tr><td>Toby Swindell</td><td>2014</td><td>-285.0</td></tr><tr><td>Patrick Ryan</td><td>2015</td><td>38.269999999999996</td></tr><tr><td>Helen Abelman</td><td>2015</td><td>111.28999999999999</td></tr><tr><td>Nancy Lomonaco</td><td>2014</td><td>8.28</td></tr><tr><td>Harry Greene</td><td>2014</td><td>21.6</td></tr><tr><td>Joe Kamberova</td><td>2016</td><td>194.58</td></tr><tr><td>Maribeth Chnelling</td><td>2016</td><td>511.42</td></tr><tr><td>Gary Mitchum</td><td>2017</td><td>374.62</td></tr><tr><td>Matt Collins</td><td>2017</td><td>138.9</td></tr><tr><td>Candace Mcmahon</td><td>2017</td><td>185.93</td></tr><tr><td>Becky Castell</td><td>2016</td><td>62.26</td></tr><tr><td>Alejandro Grove</td><td>2017</td><td>1.5</td></tr><tr><td>Sara Luxemburg</td><td>2015</td><td>64.77</td></tr><tr><td>Chris Selesnick</td><td>2016</td><td>22.14</td></tr><tr><td>Sylvia Foulston</td><td>2015</td><td>448.97999999999996</td></tr><tr><td>Rose Obrian</td><td>2015</td><td>-997.9999999999998</td></tr><tr><td>Patrick Gardner</td><td>2015</td><td>-564.6800000000001</td></tr><tr><td>James Lanier</td><td>2016</td><td>-2.0</td></tr><tr><td>Sean Wendt</td><td>2017</td><td>-50.25</td></tr><tr><td>Mike Gockenbach</td><td>2015</td><td>-137.49</td></tr><tr><td>Larry Blacks</td><td>2017</td><td>7.91</td></tr><tr><td>Dorothy Dickinson</td><td>2017</td><td>51.970000000000006</td></tr><tr><td>Mike Pelletier</td><td>2017</td><td>119.69</td></tr><tr><td>Sarah Foster</td><td>2017</td><td>294.84</td></tr><tr><td>Patrick Gardner</td><td>2017</td><td>96.42</td></tr><tr><td>Sheri Gordon</td><td>2016</td><td>-18.45</td></tr><tr><td>Katherine Murray</td><td>2014</td><td>955.8600000000001</td></tr><tr><td>Sean Wendt</td><td>2016</td><td>146.09</td></tr><tr><td>Skye Norling</td><td>2015</td><td>184.57999999999998</td></tr><tr><td>Herbert Flentye</td><td>2014</td><td>125.16000000000001</td></tr><tr><td>Magdelene Morse</td><td>2014</td><td>51.36</td></tr><tr><td>Ivan Liston</td><td>2014</td><td>6.91</td></tr><tr><td>Sean Braxton</td><td>2015</td><td>79.76</td></tr><tr><td>Lindsay Williams</td><td>2017</td><td>340.51</td></tr><tr><td>Shahi  Collister</td><td>2014</td><td>-3462.2</td></tr><tr><td>Jas Ocarroll</td><td>2016</td><td>51.21</td></tr><tr><td>Stewart Carmichael</td><td>2017</td><td>-83.43</td></tr><tr><td>Seth Vernon</td><td>2017</td><td>1570.94</td></tr><tr><td>Mark Van Huff</td><td>2016</td><td>106.42</td></tr><tr><td>Andrew Allen</td><td>2014</td><td>9.89</td></tr><tr><td>Victor Preis</td><td>2017</td><td>196.45999999999998</td></tr><tr><td>Adrian Barton</td><td>2015</td><td>-142.67000000000002</td></tr><tr><td>Randy Bradley</td><td>2014</td><td>-90.1</td></tr><tr><td>Denise Monton</td><td>2016</td><td>-61.900000000000034</td></tr><tr><td>Alejandro Ballentine</td><td>2017</td><td>197.67000000000002</td></tr><tr><td>Sung Chung</td><td>2017</td><td>29.95</td></tr><tr><td>Nat Carroll</td><td>2017</td><td>213.1</td></tr><tr><td>Sean Braxton</td><td>2016</td><td>16.89</td></tr><tr><td>Ralph Arnett</td><td>2017</td><td>317.48</td></tr><tr><td>Thais Sissman</td><td>2017</td><td>-1.97</td></tr><tr><td>Jennifer Ferguson</td><td>2015</td><td>56.64</td></tr><tr><td>Stephanie Ulpright</td><td>2016</td><td>64.19</td></tr><tr><td>John Castell</td><td>2017</td><td>117.31</td></tr><tr><td>Justin Deggeller</td><td>2016</td><td>272.19999999999993</td></tr><tr><td>John Lee</td><td>2017</td><td>837.23</td></tr><tr><td>Peter Mcvee</td><td>2016</td><td>30.35</td></tr><tr><td>Michael Paige</td><td>2017</td><td>116.44999999999999</td></tr><tr><td>Troy Blackwell</td><td>2016</td><td>-144.59</td></tr><tr><td>Pete Takahito</td><td>2014</td><td>-8.03</td></tr><tr><td>Ionia Mcgrath</td><td>2014</td><td>19.24</td></tr><tr><td>Greg Guthrie</td><td>2016</td><td>15.930000000000001</td></tr><tr><td>Shahi  Collister</td><td>2017</td><td>270.2900000000001</td></tr><tr><td>Christopher Martinez</td><td>2017</td><td>702.26</td></tr><tr><td>Liz Preis</td><td>2017</td><td>259.09000000000003</td></tr><tr><td>Corinna Mitchell</td><td>2016</td><td>599.89</td></tr><tr><td>Jim Mitchum</td><td>2017</td><td>43.58</td></tr><tr><td>Michelle Arnett</td><td>2015</td><td>3.48</td></tr><tr><td>Eugene Moren</td><td>2015</td><td>271.40999999999997</td></tr><tr><td>Stefania Perrino</td><td>2016</td><td>-171.23</td></tr><tr><td>Joe Kamberova</td><td>2015</td><td>35.95</td></tr><tr><td>Grant Thornton</td><td>2014</td><td>-292.19</td></tr><tr><td>Rob Haberlin</td><td>2016</td><td>7.25</td></tr><tr><td>Neil Knudson</td><td>2016</td><td>39.41</td></tr><tr><td>Lindsay Williams</td><td>2016</td><td>322.32</td></tr><tr><td>Marc Harrigan</td><td>2016</td><td>57.21</td></tr><tr><td>Gary Hwang</td><td>2014</td><td>1070.52</td></tr><tr><td>Jill Fjeld</td><td>2017</td><td>-1.4899999999999958</td></tr><tr><td>Justin Ellison</td><td>2016</td><td>776.3499999999999</td></tr><tr><td>Logan Currie</td><td>2016</td><td>235.33</td></tr><tr><td>Ann Blume</td><td>2017</td><td>-256.46000000000004</td></tr><tr><td>Anthony Johnson</td><td>2017</td><td>255.24</td></tr><tr><td>Mary Orourke</td><td>2014</td><td>6.04</td></tr><tr><td>Ben Wallace</td><td>2014</td><td>87.44999999999999</td></tr><tr><td>Kristina Nunn</td><td>2014</td><td>180.66</td></tr><tr><td>Aimee Bixby</td><td>2014</td><td>261.2</td></tr><tr><td>Marc Crier</td><td>2014</td><td>235.23000000000002</td></tr><tr><td>Valerie Mitchum</td><td>2017</td><td>67.41</td></tr><tr><td>Ashley Jarboe</td><td>2014</td><td>3.4</td></tr><tr><td>Tim Brockman</td><td>2014</td><td>13.810000000000002</td></tr><tr><td>Chad Mcguire</td><td>2017</td><td>400.46999999999997</td></tr><tr><td>Brian Decherney</td><td>2017</td><td>78.1</td></tr><tr><td>Catherine Glotzbach</td><td>2017</td><td>21.87</td></tr><tr><td>Katharine Harms</td><td>2016</td><td>43.9</td></tr><tr><td>Muhammed Yedwab</td><td>2016</td><td>-290.17</td></tr><tr><td>Carlos Daly</td><td>2017</td><td>349.81999999999994</td></tr><tr><td>Dean Percer</td><td>2015</td><td>1145.83</td></tr><tr><td>Christine Sundaresam</td><td>2014</td><td>77.03</td></tr><tr><td>Giulietta Baptist</td><td>2015</td><td>767.5999999999999</td></tr><tr><td>Michael Moore</td><td>2015</td><td>-373.3</td></tr><tr><td>Maureen Gastineau</td><td>2015</td><td>-1.2</td></tr><tr><td>Rob Dowd</td><td>2014</td><td>341.38</td></tr><tr><td>Darren Koutras</td><td>2014</td><td>-8.08</td></tr><tr><td>Lori Olson</td><td>2015</td><td>34.45</td></tr><tr><td>Robert Waldorf</td><td>2016</td><td>-2.63</td></tr><tr><td>Mark Cousins</td><td>2015</td><td>27.95</td></tr><tr><td>Fred Mcmath</td><td>2016</td><td>134.91000000000003</td></tr><tr><td>Guy Armstrong</td><td>2015</td><td>11.54</td></tr><tr><td>Ed Braxton</td><td>2014</td><td>-127.41999999999999</td></tr><tr><td>Maribeth Dona</td><td>2017</td><td>-194.56</td></tr><tr><td>Jay Fein</td><td>2017</td><td>128.34</td></tr><tr><td>Olvera Toch</td><td>2016</td><td>-1182.11</td></tr><tr><td>Lori Olson</td><td>2017</td><td>115.71000000000001</td></tr><tr><td>Edward Nazzal</td><td>2017</td><td>6.55</td></tr><tr><td>Cynthia Arntzen</td><td>2015</td><td>-101.6</td></tr><tr><td>Henry Goldwyn</td><td>2015</td><td>34.839999999999996</td></tr><tr><td>Dorothy Wardle</td><td>2015</td><td>-371.25</td></tr><tr><td>Dave Kipp</td><td>2017</td><td>400.99</td></tr><tr><td>Kelly Andreada</td><td>2016</td><td>67.44</td></tr><tr><td>Liz Thompson</td><td>2017</td><td>-22.02</td></tr><tr><td>Anna Chung</td><td>2016</td><td>8.609999999999998</td></tr><tr><td>Aleksandra Gannaway</td><td>2014</td><td>28.75</td></tr><tr><td>Robert Barroso</td><td>2015</td><td>28.429999999999996</td></tr><tr><td>Edward Becker</td><td>2015</td><td>177.41000000000003</td></tr><tr><td>Carlos Soltero</td><td>2017</td><td>70.94</td></tr><tr><td>Mike Kennedy</td><td>2017</td><td>209.04</td></tr><tr><td>Ivan Gibson</td><td>2014</td><td>28.349999999999998</td></tr><tr><td>Chuck Clark</td><td>2017</td><td>96.83999999999997</td></tr><tr><td>Elizabeth Moffitt</td><td>2016</td><td>-8.32</td></tr><tr><td>Tracy P Oddar</td><td>2017</td><td>-0.03999999999999915</td></tr><tr><td>Jim Epp</td><td>2016</td><td>22.24</td></tr><tr><td>Joe Elijah</td><td>2016</td><td>1210.6599999999999</td></tr><tr><td>Doug Jacobs</td><td>2016</td><td>25.78</td></tr><tr><td>Anne Pryor</td><td>2015</td><td>-1.36</td></tr><tr><td>Tonja Turnell</td><td>2016</td><td>2.4</td></tr><tr><td>Thea Hudgings</td><td>2014</td><td>5.45</td></tr><tr><td>Alan Hwang</td><td>2015</td><td>269.15000000000003</td></tr><tr><td>Joy Smith</td><td>2016</td><td>451.91999999999996</td></tr><tr><td>Barry Blumstein</td><td>2015</td><td>-8.219999999999999</td></tr><tr><td>Mick Brown</td><td>2017</td><td>67.85</td></tr><tr><td>Tanja Norvell</td><td>2014</td><td>21.25</td></tr><tr><td>Steve Chapman</td><td>2014</td><td>52.53</td></tr><tr><td>Nick Zandusky</td><td>2016</td><td>-30.610000000000007</td></tr><tr><td>Sanjit Jacobs</td><td>2017</td><td>-56.58</td></tr><tr><td>Darrin Sayre</td><td>2014</td><td>29.470000000000002</td></tr><tr><td>Michelle Moray</td><td>2017</td><td>-403.75999999999993</td></tr><tr><td>Doug Bickford</td><td>2017</td><td>60.5</td></tr><tr><td>Giulietta Baptist</td><td>2016</td><td>73.22</td></tr><tr><td>Daniel Raglin</td><td>2014</td><td>22.68</td></tr><tr><td>Steven Cartwright</td><td>2016</td><td>273.18</td></tr><tr><td>Paul  Van Hugh</td><td>2017</td><td>283.49</td></tr><tr><td>Steven Cartwright</td><td>2015</td><td>404.63</td></tr><tr><td>Chad Mcguire</td><td>2015</td><td>8.11</td></tr><tr><td>Vivek Grady</td><td>2016</td><td>28.14</td></tr><tr><td>Julie Kriz</td><td>2016</td><td>108.52000000000001</td></tr><tr><td>Maribeth Dona</td><td>2015</td><td>51.66</td></tr><tr><td>Gary Hansen</td><td>2016</td><td>-173.07999999999996</td></tr><tr><td>Beth Thompson</td><td>2014</td><td>290.89</td></tr><tr><td>Daniel Byrd</td><td>2016</td><td>146.82999999999998</td></tr><tr><td>Giulietta Dortch</td><td>2014</td><td>5.0</td></tr><tr><td>Cthy Armstrong</td><td>2015</td><td>-47.73</td></tr><tr><td>Carol Adams</td><td>2016</td><td>899.98</td></tr><tr><td>Erin  Mull</td><td>2016</td><td>-8.0</td></tr><tr><td>Herbert Flentye</td><td>2017</td><td>20.490000000000002</td></tr><tr><td>Scot Coram</td><td>2016</td><td>435.65</td></tr><tr><td>Jason Fortune</td><td>2017</td><td>59.94</td></tr><tr><td>Harry Marie</td><td>2014</td><td>-79.13</td></tr><tr><td>Barbara Fisher</td><td>2014</td><td>61.99</td></tr><tr><td>Denise Leinenbach</td><td>2014</td><td>0.35</td></tr><tr><td>Andy Reiter</td><td>2016</td><td>9.53</td></tr><tr><td>Susan Pistek</td><td>2014</td><td>24.22</td></tr><tr><td>Skye Norling</td><td>2017</td><td>-1130.43</td></tr><tr><td>Ted Butterfield</td><td>2017</td><td>122.05</td></tr><tr><td>Ed Ludwig</td><td>2017</td><td>18.45</td></tr><tr><td>Cyma Kinney</td><td>2016</td><td>101.86</td></tr><tr><td>Carl Ludwig</td><td>2014</td><td>-29.34</td></tr><tr><td>Paul  Van Hugh</td><td>2014</td><td>-4.5600000000000005</td></tr><tr><td>Edward Becker</td><td>2017</td><td>-397.51</td></tr><tr><td>Roy Phan</td><td>2017</td><td>11.95</td></tr><tr><td>Paul Prost</td><td>2017</td><td>247.92999999999998</td></tr><tr><td>Art Foster</td><td>2016</td><td>-5.75</td></tr><tr><td>Brad Norvell</td><td>2014</td><td>24.68</td></tr><tr><td>Rob Beeghly</td><td>2017</td><td>82.88</td></tr><tr><td>Barry Weirich</td><td>2017</td><td>-77.13</td></tr><tr><td>Beth Paige</td><td>2017</td><td>-183.00000000000003</td></tr><tr><td>Maya Herman</td><td>2017</td><td>3.35</td></tr><tr><td>Eric Murdock</td><td>2017</td><td>50.37</td></tr><tr><td>Ralph Kennedy</td><td>2017</td><td>4.11</td></tr><tr><td>Paul Stevenson</td><td>2017</td><td>44.94</td></tr><tr><td>Pauline Johnson</td><td>2015</td><td>40.07</td></tr><tr><td>Trudy Brown</td><td>2017</td><td>233.35999999999996</td></tr><tr><td>Carol Adams</td><td>2014</td><td>44.769999999999996</td></tr><tr><td>Justin Mackendrick</td><td>2016</td><td>23.86</td></tr><tr><td>Dorris Liebe</td><td>2014</td><td>29.169999999999998</td></tr><tr><td>Cyma Kinney</td><td>2015</td><td>14.5</td></tr><tr><td>Matt Abelman</td><td>2014</td><td>562.98</td></tr><tr><td>Deborah Brumfield</td><td>2017</td><td>-15.549999999999983</td></tr><tr><td>Susan Pistek</td><td>2017</td><td>-18.55</td></tr><tr><td>Alex Russell</td><td>2017</td><td>23.959999999999997</td></tr><tr><td>Chad Sievert</td><td>2014</td><td>84.36</td></tr><tr><td>Olvera Toch</td><td>2015</td><td>81.0</td></tr><tr><td>Joy Bell</td><td>2016</td><td>15.969999999999999</td></tr><tr><td>Ricardo Sperren</td><td>2014</td><td>318.93</td></tr><tr><td>Cynthia Voltz</td><td>2016</td><td>-35.39</td></tr><tr><td>Michael Kennedy</td><td>2015</td><td>0.6</td></tr><tr><td>Laurel Beltran</td><td>2016</td><td>-658.6199999999999</td></tr><tr><td>Annie Zypern</td><td>2017</td><td>15.0</td></tr><tr><td>Jack Obriant</td><td>2016</td><td>440.01</td></tr><tr><td>Evan Henry</td><td>2017</td><td>6.42</td></tr><tr><td>Peter Mcvee</td><td>2015</td><td>426.81</td></tr><tr><td>Arthur Wiediger</td><td>2016</td><td>-213.35000000000002</td></tr><tr><td>Lena Hernandez</td><td>2017</td><td>65.22</td></tr><tr><td>Delfina Latchford</td><td>2014</td><td>-11.889999999999999</td></tr><tr><td>Christina Anderson</td><td>2017</td><td>119.67</td></tr><tr><td>Corey Roper</td><td>2014</td><td>114.4</td></tr><tr><td>Dave Poirier</td><td>2015</td><td>16.29</td></tr><tr><td>Jason Gross</td><td>2017</td><td>26.519999999999996</td></tr><tr><td>Penelope Sewall</td><td>2016</td><td>6.32</td></tr><tr><td>Quincy Jones</td><td>2016</td><td>168.88000000000002</td></tr><tr><td>Saphhira Shifley</td><td>2017</td><td>387.72999999999996</td></tr><tr><td>Katherine Ducich</td><td>2014</td><td>57.68</td></tr><tr><td>Clay Rozendal</td><td>2016</td><td>-34.400000000000006</td></tr><tr><td>Steven Roelle</td><td>2015</td><td>2.4000000000000004</td></tr><tr><td>Shahi  Collister</td><td>2015</td><td>52.910000000000004</td></tr><tr><td>Dave Hallsten</td><td>2017</td><td>106.98</td></tr><tr><td>Pete Armstrong</td><td>2015</td><td>121.57</td></tr><tr><td>Denny Ordway</td><td>2017</td><td>83.17</td></tr><tr><td>Beth Thompson</td><td>2017</td><td>39.23</td></tr><tr><td>Monica Federle</td><td>2015</td><td>152.73000000000002</td></tr><tr><td>John Murray</td><td>2014</td><td>1228.18</td></tr><tr><td>Dianna Arnett</td><td>2017</td><td>35.07</td></tr><tr><td>Paul Macintyre</td><td>2014</td><td>21.06</td></tr><tr><td>Richard Bierner</td><td>2014</td><td>62.519999999999996</td></tr><tr><td>Julia West</td><td>2015</td><td>133.51</td></tr><tr><td>Corinna Mitchell</td><td>2015</td><td>116.62</td></tr><tr><td>Catherine Glotzbach</td><td>2016</td><td>58.68</td></tr><tr><td>Dave Brooks</td><td>2014</td><td>409.76</td></tr><tr><td>Jasper Cacioppo</td><td>2014</td><td>1.33</td></tr><tr><td>Penelope Sewall</td><td>2015</td><td>1493.94</td></tr><tr><td>Liz Willingham</td><td>2016</td><td>165.8</td></tr><tr><td>Alan Shonely</td><td>2016</td><td>23.18</td></tr><tr><td>James Lanier</td><td>2014</td><td>59.49</td></tr><tr><td>Steve Carroll</td><td>2014</td><td>31.53</td></tr><tr><td>Muhammed Macintyre</td><td>2014</td><td>-51.52</td></tr><tr><td>Christine Sundaresam</td><td>2016</td><td>10.32</td></tr><tr><td>Sally Knutson</td><td>2017</td><td>165.35</td></tr><tr><td>Grace Kelly</td><td>2015</td><td>86.65</td></tr><tr><td>Beth Fritzler</td><td>2017</td><td>38.0</td></tr><tr><td>Laurel Beltran</td><td>2017</td><td>627.99</td></tr><tr><td>Anna Andreadi</td><td>2014</td><td>77.63999999999999</td></tr><tr><td>Brian Dahlen</td><td>2016</td><td>48.85</td></tr><tr><td>Tony Chapman</td><td>2014</td><td>-16.47</td></tr><tr><td>Luke Foster</td><td>2017</td><td>71.54</td></tr><tr><td>Carol Triggs</td><td>2016</td><td>-303.26</td></tr><tr><td>Julia Barnett</td><td>2017</td><td>9.89</td></tr><tr><td>Russell Applegate</td><td>2014</td><td>278.43</td></tr><tr><td>George Ashbrook</td><td>2015</td><td>625.8499999999999</td></tr><tr><td>Keith Herrera</td><td>2015</td><td>227.56999999999996</td></tr><tr><td>Brenda Bowman</td><td>2016</td><td>431.81000000000006</td></tr><tr><td>Katherine Murray</td><td>2017</td><td>-140.70000000000002</td></tr><tr><td>Jonathan Howell</td><td>2015</td><td>48.660000000000004</td></tr><tr><td>Liz Willingham</td><td>2014</td><td>21.75</td></tr><tr><td>Muhammed Lee</td><td>2015</td><td>1.16</td></tr><tr><td>Quincy Jones</td><td>2017</td><td>-99.7</td></tr><tr><td>Bradley Talbott</td><td>2016</td><td>-4.379999999999999</td></tr><tr><td>Ken Lonsdale</td><td>2017</td><td>163.68</td></tr><tr><td>Benjamin Patterson</td><td>2017</td><td>20.58</td></tr><tr><td>Natalie Fritzler</td><td>2014</td><td>186.74</td></tr><tr><td>Thomas Brumley</td><td>2014</td><td>161.97</td></tr><tr><td>Sam Zeldin</td><td>2016</td><td>49.32</td></tr><tr><td>Noel Staavos</td><td>2015</td><td>151.68</td></tr><tr><td>Andy Yotov</td><td>2017</td><td>31.04</td></tr><tr><td>Jay Fein</td><td>2015</td><td>161.10999999999999</td></tr><tr><td>Fred Hopkins</td><td>2014</td><td>-172.46</td></tr><tr><td>Jeremy Farry</td><td>2016</td><td>13.11</td></tr><tr><td>Emily Burns</td><td>2015</td><td>242.29999999999998</td></tr><tr><td>Bobby Elias</td><td>2017</td><td>178.70999999999998</td></tr><tr><td>Craig Reiter</td><td>2016</td><td>59.57</td></tr><tr><td>Tony Chapman</td><td>2016</td><td>32.39</td></tr><tr><td>Brooke Gillingham</td><td>2014</td><td>9.7</td></tr><tr><td>Marina Lichtenstein</td><td>2015</td><td>-4.94</td></tr><tr><td>Roy Franzsisch</td><td>2014</td><td>16.17</td></tr><tr><td>Nathan Gelder</td><td>2017</td><td>28.279999999999994</td></tr><tr><td>Jay Kimmel</td><td>2017</td><td>70.21000000000001</td></tr><tr><td>Craig Carreira</td><td>2015</td><td>8.57</td></tr><tr><td>Bart Folk</td><td>2017</td><td>107.03000000000002</td></tr><tr><td>Nathan Cano</td><td>2014</td><td>10.04</td></tr><tr><td>Darrin Martin</td><td>2014</td><td>1600.0600000000002</td></tr><tr><td>Charles Crestani</td><td>2014</td><td>78.74</td></tr><tr><td>Anthony Johnson</td><td>2014</td><td>503.26</td></tr><tr><td>Denise Monton</td><td>2015</td><td>2.84</td></tr><tr><td>Roland Fjeld</td><td>2017</td><td>391.47</td></tr><tr><td>Don Weiss</td><td>2016</td><td>16.01</td></tr><tr><td>Andrew Roberts</td><td>2014</td><td>-8.41</td></tr><tr><td>Anthony Garverick</td><td>2014</td><td>-4.12</td></tr><tr><td>Logan Currie</td><td>2015</td><td>19.4</td></tr><tr><td>Rob Lucas</td><td>2014</td><td>42.29</td></tr><tr><td>Pierre Wener</td><td>2016</td><td>-0.59</td></tr><tr><td>Roger Demir</td><td>2015</td><td>23.85</td></tr><tr><td>Brad Eason</td><td>2016</td><td>71.07</td></tr><tr><td>Alan Hwang</td><td>2017</td><td>946.6500000000001</td></tr><tr><td>Arianne Irving</td><td>2014</td><td>288.24</td></tr><tr><td>Christy Brittain</td><td>2015</td><td>-3.49</td></tr><tr><td>Janet Molinari</td><td>2014</td><td>59.06</td></tr><tr><td>Brendan Sweed</td><td>2016</td><td>12.36</td></tr><tr><td>Michelle Huthwaite</td><td>2014</td><td>10.65</td></tr><tr><td>Ionia Mcgrath</td><td>2016</td><td>956.54</td></tr><tr><td>Anne Pryor</td><td>2017</td><td>-11.07</td></tr><tr><td>Sibella Parks</td><td>2017</td><td>81.96</td></tr><tr><td>Sam Craven</td><td>2015</td><td>43.32</td></tr><tr><td>Ken Brennan</td><td>2017</td><td>259.43</td></tr><tr><td>Trudy Brown</td><td>2015</td><td>-8.469999999999992</td></tr><tr><td>Rick Hansen</td><td>2014</td><td>34.94</td></tr><tr><td>Jill Matthias</td><td>2017</td><td>-0.6</td></tr><tr><td>Scott Williamson</td><td>2014</td><td>11.0</td></tr><tr><td>Ellis Ballard</td><td>2017</td><td>81.7</td></tr><tr><td>Jay Kimmel</td><td>2015</td><td>37.339999999999996</td></tr><tr><td>Brooke Gillingham</td><td>2015</td><td>28.310000000000002</td></tr><tr><td>Edward Hooks</td><td>2015</td><td>224.82999999999998</td></tr><tr><td>Liz Carlisle</td><td>2016</td><td>225.26</td></tr><tr><td>Roy Collins</td><td>2016</td><td>56.69</td></tr><tr><td>Ad       Am Hart</td><td>2016</td><td>332.64</td></tr><tr><td>Filia Mcadams</td><td>2014</td><td>228.76999999999998</td></tr><tr><td>Justin Deggeller</td><td>2014</td><td>17.560000000000002</td></tr><tr><td>Zuschuss Donatelli</td><td>2016</td><td>206.67000000000002</td></tr><tr><td>Lena Hernandez</td><td>2015</td><td>121.10999999999999</td></tr><tr><td>Ellis Ballard</td><td>2015</td><td>610.86</td></tr><tr><td>Andrew Gjertsen</td><td>2016</td><td>6.03</td></tr><tr><td>Matt Abelman</td><td>2016</td><td>28.380000000000003</td></tr><tr><td>Russell Applegate</td><td>2016</td><td>115.46000000000001</td></tr><tr><td>Vivian Mathis</td><td>2016</td><td>100.82</td></tr><tr><td>Filia Mcadams</td><td>2017</td><td>-24.75</td></tr><tr><td>Lena Creighton</td><td>2016</td><td>147.88</td></tr><tr><td>Brian Decherney</td><td>2014</td><td>108.74</td></tr><tr><td>Roland Schwarz</td><td>2014</td><td>552.0</td></tr><tr><td>Stephanie Ulpright</td><td>2017</td><td>623.1100000000001</td></tr><tr><td>Erin Smith</td><td>2014</td><td>132.57</td></tr><tr><td>Grace Kelly</td><td>2014</td><td>42.92</td></tr><tr><td>Grant Thornton</td><td>2017</td><td>-3825.3399999999997</td></tr><tr><td>Clay Ludtke</td><td>2015</td><td>490.37</td></tr><tr><td>Vivek Grady</td><td>2014</td><td>-82.88</td></tr><tr><td>Erin Ashbrook</td><td>2016</td><td>-342.69</td></tr><tr><td>Catherine Glotzbach</td><td>2015</td><td>5.76</td></tr><tr><td>Seth Vernon</td><td>2014</td><td>-218.92999999999998</td></tr><tr><td>Sanjit Chand</td><td>2016</td><td>196.19</td></tr><tr><td>Brian Thompson</td><td>2016</td><td>176.51</td></tr><tr><td>Bradley Drucker</td><td>2015</td><td>56.35</td></tr><tr><td>Natalie Webber</td><td>2015</td><td>1654.0600000000002</td></tr><tr><td>Odella Nelson</td><td>2015</td><td>-31.11</td></tr><tr><td>Philip Brown</td><td>2014</td><td>12.299999999999997</td></tr><tr><td>Helen Waerman</td><td>2016</td><td>200.26999999999998</td></tr><tr><td>Stewart Visinsky</td><td>2014</td><td>189.13</td></tr><tr><td>Harry Marie</td><td>2015</td><td>2451.01</td></tr><tr><td>Nona Balk</td><td>2015</td><td>127.06</td></tr><tr><td>Bil Tyler</td><td>2014</td><td>74.81</td></tr><tr><td>Alyssa Crouse</td><td>2014</td><td>-14.66</td></tr><tr><td>Jeremy Ellison</td><td>2015</td><td>57.22</td></tr><tr><td>Dionis Lloyd</td><td>2016</td><td>97.83999999999999</td></tr><tr><td>Greg Matthias</td><td>2014</td><td>214.53</td></tr><tr><td>Christine Kargatis</td><td>2014</td><td>326.42</td></tr><tr><td>John Grady</td><td>2017</td><td>78.02</td></tr><tr><td>Anne Pryor</td><td>2014</td><td>54.65</td></tr><tr><td>Michelle Ellison</td><td>2015</td><td>8.77</td></tr><tr><td>Dana Kaydos</td><td>2015</td><td>609.59</td></tr><tr><td>Jonathan Howell</td><td>2016</td><td>63.169999999999995</td></tr><tr><td>Rose Obrian</td><td>2017</td><td>-174.32</td></tr><tr><td>Ellis Ballard</td><td>2014</td><td>-36.36</td></tr><tr><td>Pete Kriz</td><td>2016</td><td>407.40999999999997</td></tr><tr><td>Greg Tran</td><td>2016</td><td>366.71000000000004</td></tr><tr><td>Steve Nguyen</td><td>2017</td><td>-18.19</td></tr><tr><td>Darrin Sayre</td><td>2017</td><td>164.31</td></tr><tr><td>Adrian Hane</td><td>2016</td><td>-299.15</td></tr><tr><td>Sue Ann Reed</td><td>2016</td><td>-17.11</td></tr><tr><td>Fred Chung</td><td>2015</td><td>12.6</td></tr><tr><td>Cindy Stewart</td><td>2015</td><td>17.34</td></tr><tr><td>Maribeth Dona</td><td>2016</td><td>-14.22</td></tr><tr><td>Cynthia Arntzen</td><td>2016</td><td>1.67</td></tr><tr><td>David Smith</td><td>2015</td><td>182.58</td></tr><tr><td>Nra Paige</td><td>2017</td><td>186.20999999999998</td></tr><tr><td>Sarah Jordon</td><td>2017</td><td>-26.04</td></tr><tr><td>Emily Burns</td><td>2016</td><td>84.07</td></tr><tr><td>Sung Shariari</td><td>2014</td><td>-9.150000000000006</td></tr><tr><td>Jim Kriz</td><td>2017</td><td>981.6700000000001</td></tr><tr><td>Greg Maxwell</td><td>2017</td><td>-99.18</td></tr><tr><td>NA</td><td>2017</td><td>250.93</td></tr><tr><td>Muhammed Macintyre</td><td>2017</td><td>33.04</td></tr><tr><td>Heather Kirkland</td><td>2015</td><td>300.07</td></tr><tr><td>Scot Wooten</td><td>2016</td><td>82.53</td></tr><tr><td>Nathan Cano</td><td>2016</td><td>77.75</td></tr><tr><td>Alan Schoenberger</td><td>2016</td><td>-6.21</td></tr><tr><td>Darrin Martin</td><td>2015</td><td>6.6</td></tr><tr><td>Tracy Collins</td><td>2017</td><td>22.41</td></tr><tr><td>Frank Merwin</td><td>2014</td><td>22.98</td></tr><tr><td>Cynthia Delaney</td><td>2015</td><td>2.53</td></tr><tr><td>Tiffany House</td><td>2016</td><td>70.78</td></tr><tr><td>Logan Haushalter</td><td>2014</td><td>9.58</td></tr><tr><td>Valerie Dominguez</td><td>2015</td><td>990.86</td></tr><tr><td>Meg Oconnel</td><td>2017</td><td>130.48000000000002</td></tr><tr><td>Mick Crebagga</td><td>2017</td><td>26.700000000000003</td></tr><tr><td>Karen Ferguson</td><td>2016</td><td>371.04999999999995</td></tr><tr><td>Anna Gayman</td><td>2017</td><td>38.06</td></tr><tr><td>Jennifer Braxton</td><td>2014</td><td>-124.57000000000001</td></tr><tr><td>Georgia Rosenberg</td><td>2014</td><td>359.88</td></tr><tr><td>Bruce Geld</td><td>2017</td><td>41.76</td></tr><tr><td>Adrian Hane</td><td>2017</td><td>322.56</td></tr><tr><td>Tim Taslimi</td><td>2015</td><td>61.39</td></tr><tr><td>Tracy Blumstein</td><td>2014</td><td>-125.24</td></tr><tr><td>Dave Hallsten</td><td>2016</td><td>-19.6</td></tr><tr><td>Cari Schnelling</td><td>2014</td><td>93.74</td></tr><tr><td>Sean Miller</td><td>2015</td><td>-224.82</td></tr><tr><td>Craig Carroll</td><td>2015</td><td>845.38</td></tr><tr><td>Ben Ferrer</td><td>2017</td><td>437.78</td></tr><tr><td>Toby Gnade</td><td>2016</td><td>844.6400000000001</td></tr><tr><td>Michelle Arnett</td><td>2017</td><td>31.94</td></tr><tr><td>Julia Dunbar</td><td>2017</td><td>131.89</td></tr><tr><td>Pauline Webber</td><td>2014</td><td>17.47</td></tr><tr><td>Sample Company A</td><td>2014</td><td>764.53</td></tr><tr><td>Frank Gasti  Neau</td><td>2017</td><td>76.32000000000001</td></tr><tr><td>Damala Kotsonis</td><td>2017</td><td>349.28</td></tr><tr><td>Paul Macintyre</td><td>2015</td><td>-21.71</td></tr><tr><td>Barry Weirich</td><td>2014</td><td>6.73</td></tr><tr><td>Mike Pelletier</td><td>2016</td><td>-295.64</td></tr><tr><td>Charlotte Melton</td><td>2017</td><td>74.32000000000001</td></tr><tr><td>Heather Kirkland</td><td>2014</td><td>240.86</td></tr><tr><td>John Castell</td><td>2016</td><td>70.55</td></tr><tr><td>Michelle Tran</td><td>2016</td><td>70.49</td></tr><tr><td>Duane Noonan</td><td>2014</td><td>179.71999999999997</td></tr><tr><td>Vivek Gonzalez</td><td>2017</td><td>106.1</td></tr><tr><td>Allen Goldenen</td><td>2016</td><td>-7.0</td></tr><tr><td>Kat Rina Bavinger</td><td>2017</td><td>230.9</td></tr><tr><td>Michael Stewart</td><td>2017</td><td>-20.380000000000003</td></tr><tr><td>Max Engle</td><td>2016</td><td>-1.6199999999999992</td></tr><tr><td>Noah Childs</td><td>2016</td><td>-461.2</td></tr><tr><td>Jim Karlsson</td><td>2015</td><td>438.0</td></tr><tr><td>Patrick Bzostek</td><td>2017</td><td>125.36</td></tr><tr><td>Liz Pelletier</td><td>2017</td><td>87.89</td></tr><tr><td>Aimee Bixby</td><td>2015</td><td>7.02</td></tr><tr><td>Mitch Webber</td><td>2015</td><td>24.5</td></tr><tr><td>Matt Hagelstein</td><td>2017</td><td>108.05</td></tr><tr><td>Joe Kamberova</td><td>2014</td><td>-212.60999999999996</td></tr><tr><td>Dean Braden</td><td>2017</td><td>270.95000000000005</td></tr><tr><td>Erin Smith</td><td>2017</td><td>239.29000000000002</td></tr><tr><td>Kunst Miller</td><td>2016</td><td>54.919999999999995</td></tr><tr><td>Christine Abelman</td><td>2016</td><td>2.1000000000000014</td></tr><tr><td>Jennifer Halladay</td><td>2014</td><td>18.79</td></tr><tr><td>Gary Hwang</td><td>2015</td><td>59.650000000000006</td></tr><tr><td>Elizabeth Moffitt</td><td>2015</td><td>238.46999999999997</td></tr><tr><td>Eugene Moren</td><td>2017</td><td>76.76</td></tr><tr><td>Valerie Takahito</td><td>2014</td><td>33.0</td></tr><tr><td>Christopher Schild</td><td>2015</td><td>75.7</td></tr><tr><td>Steve Nguyen</td><td>2016</td><td>375.78</td></tr><tr><td>John Lee</td><td>2014</td><td>-863.93</td></tr><tr><td>Toby Braunhardt</td><td>2016</td><td>290.98</td></tr><tr><td>Sibella Parks</td><td>2014</td><td>2.81</td></tr><tr><td>Lela Donovan</td><td>2016</td><td>0.46</td></tr><tr><td>Paul Knutson</td><td>2014</td><td>9.07</td></tr><tr><td>Hunter Glantz</td><td>2015</td><td>55.9</td></tr><tr><td>Stephanie Phelps</td><td>2016</td><td>96.47999999999999</td></tr><tr><td>Pauline Webber</td><td>2017</td><td>333.8</td></tr><tr><td>Maria Bertelson</td><td>2016</td><td>83.51</td></tr><tr><td>John Dryer</td><td>2017</td><td>10.489999999999998</td></tr><tr><td>Benjamin Venier</td><td>2015</td><td>82.28</td></tr><tr><td>Rick Hansen</td><td>2017</td><td>48.21</td></tr><tr><td>Annie Thurman</td><td>2014</td><td>71.66</td></tr><tr><td>Thomas Thornton</td><td>2015</td><td>52.51</td></tr><tr><td>Katherine Ducich</td><td>2017</td><td>20.36</td></tr><tr><td>Lisa Ryan</td><td>2014</td><td>48.129999999999995</td></tr><tr><td>Trudy Brown</td><td>2016</td><td>70.93</td></tr><tr><td>Heather Kirkland</td><td>2016</td><td>17.03</td></tr><tr><td>Mary Orourke</td><td>2016</td><td>120.86000000000001</td></tr><tr><td>Tamara Manning</td><td>2014</td><td>112.58</td></tr><tr><td>Chuck Clark</td><td>2015</td><td>60.39</td></tr><tr><td>Pamela Coakley</td><td>2017</td><td>-0.99</td></tr><tr><td>Natalie Webber</td><td>2014</td><td>-396.19000000000005</td></tr><tr><td>Alejandro Grove</td><td>2015</td><td>16.96</td></tr><tr><td>Emily Phan</td><td>2017</td><td>2.6000000000000227</td></tr><tr><td>John Castell</td><td>2015</td><td>27.63</td></tr><tr><td>Eugene Hildebrand</td><td>2015</td><td>-117.86999999999999</td></tr><tr><td>Karen Bern</td><td>2014</td><td>-1.0</td></tr><tr><td>Chris Selesnick</td><td>2014</td><td>441.40999999999997</td></tr><tr><td>Craig Carroll</td><td>2014</td><td>-45.32</td></tr><tr><td>George Zrebassa</td><td>2017</td><td>816.17</td></tr><tr><td>Maribeth Dona</td><td>2014</td><td>-84.11000000000001</td></tr><tr><td>Shaun Chance</td><td>2017</td><td>4.289999999999992</td></tr><tr><td>Paul Stevenson</td><td>2014</td><td>108.0</td></tr><tr><td>Steve Chapman</td><td>2015</td><td>222.93</td></tr><tr><td>Anthony Jacobs</td><td>2014</td><td>-56.950000000000045</td></tr><tr><td>Sally Matthias</td><td>2014</td><td>42.45</td></tr><tr><td>Maxwell Schwartz</td><td>2017</td><td>9.7</td></tr><tr><td>Stefanie Holloman</td><td>2015</td><td>190.43</td></tr><tr><td>Katharine Harms</td><td>2017</td><td>150.46</td></tr><tr><td>Michelle Lonsdale</td><td>2017</td><td>138.71</td></tr><tr><td>Brendan Murry</td><td>2017</td><td>-51.19</td></tr><tr><td>Ben Ferrer</td><td>2016</td><td>697.4699999999999</td></tr><tr><td>Nathan Gelder</td><td>2015</td><td>54.0</td></tr><tr><td>Eva Jacobs</td><td>2017</td><td>140.01999999999998</td></tr><tr><td>Bart Pistole</td><td>2016</td><td>7.82</td></tr><tr><td>Paul Stevenson</td><td>2016</td><td>3.44</td></tr><tr><td>Joel Eaton</td><td>2017</td><td>560.58</td></tr><tr><td>Claudia Bergmann</td><td>2015</td><td>249.13</td></tr><tr><td>Art Ferguson</td><td>2017</td><td>-75.19</td></tr><tr><td>Liz Pelletier</td><td>2014</td><td>0.96</td></tr><tr><td>Brendan Sweed</td><td>2017</td><td>168.47</td></tr><tr><td>Bradley Talbott</td><td>2017</td><td>347.1</td></tr><tr><td>Barry Franzsisch</td><td>2015</td><td>269.31</td></tr><tr><td>Becky Castell</td><td>2015</td><td>92.0</td></tr><tr><td>Ashley Jarboe</td><td>2016</td><td>33.22</td></tr><tr><td>Alyssa Crouse</td><td>2016</td><td>21.59</td></tr><tr><td>Stewart Visinsky</td><td>2015</td><td>209.66</td></tr><tr><td>Alyssa Tate</td><td>2014</td><td>0.8399999999999999</td></tr><tr><td>Logan Currie</td><td>2014</td><td>-26.600000000000005</td></tr><tr><td>Richard Eichhorn</td><td>2017</td><td>9.74</td></tr><tr><td>Evan Henry</td><td>2016</td><td>209.28</td></tr><tr><td>Kimberly Carter</td><td>2016</td><td>-4.949999999999999</td></tr><tr><td>Michael Oakman</td><td>2017</td><td>-2.7</td></tr><tr><td>Bart Watters</td><td>2017</td><td>720.83</td></tr><tr><td>Stuart Calhoun</td><td>2017</td><td>2.58</td></tr><tr><td>Tom Stivers</td><td>2014</td><td>17.139999999999993</td></tr><tr><td>Joy Smith</td><td>2017</td><td>-766.57</td></tr><tr><td>Max Engle</td><td>2015</td><td>39.77</td></tr><tr><td>Mark Cousins</td><td>2014</td><td>135.0</td></tr><tr><td>Erica Smith</td><td>2014</td><td>15.22</td></tr><tr><td>Marybeth Skach</td><td>2015</td><td>45.29</td></tr><tr><td>Robert Marley</td><td>2015</td><td>660.52</td></tr><tr><td>Fred Mcmath</td><td>2015</td><td>17.479999999999997</td></tr><tr><td>Lena Hernandez</td><td>2016</td><td>56.7</td></tr><tr><td>Frank Preis</td><td>2015</td><td>-140.57</td></tr><tr><td>Eugene Barchas</td><td>2016</td><td>187.62</td></tr><tr><td>Paul Macintyre</td><td>2016</td><td>158.53</td></tr><tr><td>William Brown</td><td>2014</td><td>106.41999999999999</td></tr><tr><td>Todd Sumrall</td><td>2014</td><td>16.370000000000005</td></tr><tr><td>Nicole Brennan</td><td>2014</td><td>24.79</td></tr><tr><td>Max Ludwig</td><td>2017</td><td>296.19</td></tr><tr><td>Kalyca Meade</td><td>2017</td><td>128.93</td></tr><tr><td>Lindsay Shagiari</td><td>2016</td><td>2.9399999999999995</td></tr><tr><td>Dorothy Badders</td><td>2014</td><td>8.35</td></tr><tr><td>Ryan Akin</td><td>2015</td><td>96.53999999999999</td></tr><tr><td>Berenike Kampe</td><td>2014</td><td>-14.42</td></tr><tr><td>Darren Budd</td><td>2015</td><td>45.65</td></tr><tr><td>Anthony Rawles</td><td>2016</td><td>370.3</td></tr><tr><td>Sean Christensen</td><td>2015</td><td>0.0</td></tr><tr><td>Fred Harton</td><td>2017</td><td>340.37</td></tr><tr><td>Jay Kimmel</td><td>2016</td><td>83.5</td></tr><tr><td>Dorothy Dickinson</td><td>2016</td><td>-6.9</td></tr><tr><td>Pauline Chand</td><td>2014</td><td>-11.83</td></tr><tr><td>Stefania Perrino</td><td>2014</td><td>67.46000000000001</td></tr><tr><td>Evan Minnotte</td><td>2015</td><td>4.0</td></tr><tr><td>Ritsa Hightower</td><td>2015</td><td>-6.03</td></tr><tr><td>Sanjit Chand</td><td>2014</td><td>5462.589999999999</td></tr><tr><td>Christine Kargatis</td><td>2017</td><td>-127.23</td></tr><tr><td>Tim Taslimi</td><td>2016</td><td>32.53</td></tr><tr><td>Jim Mitchum</td><td>2016</td><td>65.9</td></tr><tr><td>Joy Smith</td><td>2014</td><td>3.4</td></tr><tr><td>Julia Barnett</td><td>2016</td><td>84.96999999999998</td></tr><tr><td>Grace Kelly</td><td>2016</td><td>1315.57</td></tr><tr><td>Bil Donatelli</td><td>2015</td><td>799.49</td></tr><tr><td>Amy Cox</td><td>2016</td><td>381.04</td></tr><tr><td>Paul Lucas</td><td>2014</td><td>22.2</td></tr><tr><td>Jim Karlsson</td><td>2017</td><td>8.86</td></tr><tr><td>Berenike Kampe</td><td>2015</td><td>42.04</td></tr><tr><td>Jeremy Lonsdale</td><td>2014</td><td>41.269999999999996</td></tr><tr><td>Liz Willingham</td><td>2017</td><td>5.08</td></tr><tr><td>Sharelle Roach</td><td>2014</td><td>57.49</td></tr><tr><td>Kelly Collister</td><td>2016</td><td>635.68</td></tr><tr><td>Aaron Smayling</td><td>2014</td><td>32.23</td></tr><tr><td>Tho    Mas Boland</td><td>2017</td><td>829.65</td></tr><tr><td>Tracy Hopkins</td><td>2015</td><td>391.56</td></tr><tr><td>Ryan Akin</td><td>2014</td><td>-436.72999999999996</td></tr><tr><td>Steve Carroll</td><td>2016</td><td>100.62</td></tr><tr><td>Maria Etezadi</td><td>2014</td><td>1343.07</td></tr><tr><td>Dan Lawera</td><td>2016</td><td>311.98</td></tr><tr><td>Mike Gockenbach</td><td>2014</td><td>-152.72</td></tr><tr><td>Ruben Ausman</td><td>2016</td><td>3.89</td></tr><tr><td>Dan Lawera</td><td>2017</td><td>-6.9</td></tr><tr><td>Ryan Crowe</td><td>2016</td><td>102.93</td></tr><tr><td>Ann Steele</td><td>2015</td><td>-10.81</td></tr><tr><td>Delfina Latchford</td><td>2017</td><td>94.22999999999999</td></tr><tr><td>Kristen Hastings</td><td>2015</td><td>-36.12999999999999</td></tr><tr><td>Barry Blumstein</td><td>2016</td><td>3.01</td></tr><tr><td>Eugene Moren</td><td>2016</td><td>968.57</td></tr><tr><td>Allen Armold</td><td>2017</td><td>68.92</td></tr><tr><td>Fred Mcmath</td><td>2017</td><td>38.7</td></tr><tr><td>Barry Weirich</td><td>2015</td><td>12.11</td></tr><tr><td>Christopher Schild</td><td>2014</td><td>80.63</td></tr><tr><td>Jamie Kunitz</td><td>2014</td><td>47.81</td></tr><tr><td>Angele Hood</td><td>2016</td><td>13.45</td></tr><tr><td>Linda Cazamias</td><td>2017</td><td>12.039999999999997</td></tr><tr><td>Arthur Gainer</td><td>2015</td><td>15.89</td></tr><tr><td>Tom Boeckenhauer</td><td>2016</td><td>12.18</td></tr><tr><td>Bil Donatelli</td><td>2017</td><td>197.79</td></tr><tr><td>Don Jones</td><td>2017</td><td>57.31999999999999</td></tr><tr><td>Adrian Barton</td><td>2014</td><td>498.73</td></tr><tr><td>Carlos Daly</td><td>2016</td><td>46.94</td></tr><tr><td>Toby Carlisle</td><td>2017</td><td>231.66</td></tr><tr><td>Clytie Kelty</td><td>2016</td><td>315.73</td></tr><tr><td>Carol Triggs</td><td>2014</td><td>285.45</td></tr><tr><td>Jessica Myrick</td><td>2015</td><td>46.85000000000001</td></tr><tr><td>Julie Kriz</td><td>2015</td><td>47.93</td></tr><tr><td>Alan Haines</td><td>2017</td><td>-16.580000000000002</td></tr><tr><td>Andrew Roberts</td><td>2016</td><td>18.89</td></tr><tr><td>Helen Abelman</td><td>2014</td><td>108.8</td></tr><tr><td>Ross Devincentis</td><td>2017</td><td>195.03000000000003</td></tr><tr><td>Nra Paige</td><td>2016</td><td>246.1</td></tr><tr><td>Christopher Schild</td><td>2017</td><td>-385.83000000000004</td></tr><tr><td>Maurice Satty</td><td>2016</td><td>-93.10000000000001</td></tr><tr><td>Julie Prescott</td><td>2016</td><td>275.44</td></tr><tr><td>Andrew Gjertsen</td><td>2017</td><td>25.049999999999997</td></tr><tr><td>Mick Brown</td><td>2016</td><td>37.53999999999999</td></tr><tr><td>Matt Hagelstein</td><td>2016</td><td>-0.3699999999999992</td></tr><tr><td>Bil Stewart</td><td>2017</td><td>-228.09999999999997</td></tr><tr><td>Scott Williamson</td><td>2016</td><td>221.48</td></tr><tr><td>Thea Hudgings</td><td>2017</td><td>-181.36</td></tr><tr><td>Sam Zeldin</td><td>2014</td><td>6.490000000000002</td></tr><tr><td>Clytie Kelty</td><td>2017</td><td>211.09</td></tr><tr><td>Christopher Martinez</td><td>2015</td><td>3197.78</td></tr><tr><td>Stewart Carmichael</td><td>2015</td><td>147.72</td></tr><tr><td>Cassandra Brandow</td><td>2017</td><td>-240.17000000000007</td></tr><tr><td>Stephanie Ulpright</td><td>2015</td><td>76.4</td></tr><tr><td>Charles Sheldon</td><td>2016</td><td>18.35</td></tr><tr><td>Patrick Jones</td><td>2016</td><td>8.2</td></tr><tr><td>Frank Olsen</td><td>2016</td><td>22.560000000000002</td></tr><tr><td>Elpida Rittenbach</td><td>2016</td><td>-299.90000000000003</td></tr><tr><td>Evan Bailliet</td><td>2014</td><td>155.01999999999998</td></tr><tr><td>Lindsay Shagiari</td><td>2015</td><td>-110.19999999999999</td></tr><tr><td>Michelle Ellison</td><td>2017</td><td>-6.4</td></tr><tr><td>Liz Carlisle</td><td>2014</td><td>-128.09</td></tr><tr><td>Alex Russell</td><td>2015</td><td>-2.57</td></tr><tr><td>Scot Wooten</td><td>2015</td><td>-10.84</td></tr><tr><td>Brian Thompson</td><td>2014</td><td>-199.77</td></tr><tr><td>Matt Hagelstein</td><td>2015</td><td>14.67</td></tr><tr><td>David Smith</td><td>2016</td><td>-46.95</td></tr><tr><td>Victo Ria Brennan</td><td>2016</td><td>105.42</td></tr><tr><td>Muhammed Lee</td><td>2017</td><td>41.51</td></tr><tr><td>Chris Mcafee</td><td>2016</td><td>365.03000000000003</td></tr><tr><td>Paul Stevenson</td><td>2015</td><td>42.15</td></tr><tr><td>Darrin Martin</td><td>2017</td><td>106.76999999999998</td></tr><tr><td>Ralph Ritter</td><td>2017</td><td>-77.30000000000001</td></tr><tr><td>Frank Atkinson</td><td>2016</td><td>39.81</td></tr><tr><td>Heather Kirkland</td><td>2017</td><td>399.00999999999993</td></tr><tr><td>Bil Stewart</td><td>2015</td><td>206.62</td></tr><tr><td>Nicole Hansen</td><td>2017</td><td>635.96</td></tr><tr><td>Tracy P Oddar</td><td>2015</td><td>34.74</td></tr><tr><td>Eugene Moren</td><td>2014</td><td>2.21</td></tr><tr><td>Allen Armold</td><td>2016</td><td>122.73</td></tr><tr><td>Jamie Kunitz</td><td>2016</td><td>5.03</td></tr><tr><td>Logan Haushalter</td><td>2016</td><td>212.1</td></tr><tr><td>Kelly Williams</td><td>2014</td><td>11.25</td></tr><tr><td>Ivan Liston</td><td>2016</td><td>19.56</td></tr><tr><td>Nicole Fjeld</td><td>2015</td><td>258.1</td></tr><tr><td>Joel Eaton</td><td>2014</td><td>42.09</td></tr><tr><td>Gene Mcclure</td><td>2014</td><td>2.69</td></tr><tr><td>Mary Zewe</td><td>2014</td><td>784.8000000000001</td></tr><tr><td>Shirley Jackson</td><td>2016</td><td>253.82</td></tr><tr><td>Ruben Ausman</td><td>2017</td><td>477.7699999999999</td></tr><tr><td>Ji Stevenson</td><td>2014</td><td>-204.14</td></tr><tr><td>Tony Molinari</td><td>2017</td><td>292.53</td></tr><tr><td>Fred Hopkins</td><td>2015</td><td>2139.7400000000002</td></tr><tr><td>Meg Tillman</td><td>2015</td><td>1.7799999999999998</td></tr><tr><td>Joy Bell</td><td>2017</td><td>111.09</td></tr><tr><td>Lisa Hazard</td><td>2016</td><td>16.46</td></tr><tr><td>Suzanne Mcnair</td><td>2014</td><td>-372.11</td></tr><tr><td>Jamie Frazer</td><td>2015</td><td>17.99</td></tr><tr><td>Pete Kriz</td><td>2014</td><td>13.32</td></tr><tr><td>Henry Goldwyn</td><td>2017</td><td>-2971.38</td></tr><tr><td>Nat Carroll</td><td>2014</td><td>11.16</td></tr><tr><td>Michael Grace</td><td>2014</td><td>-4.5200000000000005</td></tr><tr><td>Kelly Andreada</td><td>2015</td><td>77.97</td></tr><tr><td>Julia Dunbar</td><td>2015</td><td>-29.25</td></tr><tr><td>John Stevenson</td><td>2016</td><td>266.74</td></tr><tr><td>Jack Garza</td><td>2015</td><td>-50.169999999999995</td></tr><tr><td>Adrian Shami</td><td>2016</td><td>1.5</td></tr><tr><td>Aimee Bixby</td><td>2016</td><td>5.44</td></tr><tr><td>Russell Dascenzo</td><td>2014</td><td>-23.29</td></tr><tr><td>Henry Macallister</td><td>2015</td><td>73.82</td></tr><tr><td>Julie Kriz</td><td>2017</td><td>-273.77</td></tr><tr><td>Giulietta Dortch</td><td>2017</td><td>364.23999999999995</td></tr><tr><td>Dennis Kane</td><td>2014</td><td>109.61</td></tr><tr><td>Suzanne Mcnair</td><td>2017</td><td>442.28</td></tr><tr><td>Brendan Murry</td><td>2016</td><td>109.44</td></tr><tr><td>Ritsa Hightower</td><td>2016</td><td>6.34</td></tr><tr><td>Ryan Crowe</td><td>2017</td><td>6.04</td></tr><tr><td>Cindy Stewart</td><td>2016</td><td>-6696.29</td></tr><tr><td>Frank Olsen</td><td>2014</td><td>245.02</td></tr><tr><td>Liz Thompson</td><td>2015</td><td>76.22</td></tr><tr><td>Dean Percer</td><td>2016</td><td>117.74000000000001</td></tr><tr><td>Rob Williams</td><td>2016</td><td>346.36999999999995</td></tr><tr><td>Sung Shariari</td><td>2017</td><td>14.82</td></tr><tr><td>Craig M Olinari</td><td>2014</td><td>207.79</td></tr><tr><td>Dionis Lloyd</td><td>2017</td><td>-200.57999999999998</td></tr><tr><td>Coreylock</td><td>2014</td><td>142.67999999999998</td></tr><tr><td>Jeremy Ellison</td><td>2016</td><td>185.63</td></tr><tr><td>Andy Reiter</td><td>2015</td><td>223.01000000000002</td></tr><tr><td>Arthur Prichep</td><td>2014</td><td>420.7</td></tr><tr><td>Ad       Am Hart</td><td>2017</td><td>-54.58</td></tr><tr><td>Larry Tron</td><td>2017</td><td>23.24</td></tr><tr><td>Thea Hendricks</td><td>2016</td><td>9.19</td></tr><tr><td>Kalyca Meade</td><td>2016</td><td>56.34</td></tr><tr><td>Paul Gonzalez</td><td>2015</td><td>174.73000000000002</td></tr><tr><td>Jill Fjeld</td><td>2014</td><td>78.55000000000001</td></tr><tr><td>David Wiener</td><td>2014</td><td>55.47</td></tr><tr><td>Robert Marley</td><td>2017</td><td>1041.91</td></tr><tr><td>Michelle Huthwaite</td><td>2015</td><td>91.16</td></tr><tr><td>Stuart Van</td><td>2015</td><td>184.20000000000002</td></tr><tr><td>Christine Sundaresam</td><td>2017</td><td>456.48</td></tr><tr><td>Edward Hooks</td><td>2014</td><td>4.050000000000004</td></tr><tr><td>Bradley Nguyen</td><td>2017</td><td>42.57</td></tr><tr><td>Julie Creighton</td><td>2015</td><td>62.81</td></tr><tr><td>Lynn Smith</td><td>2016</td><td>60.37</td></tr><tr><td>Matt Collister</td><td>2017</td><td>47.18</td></tr><tr><td>Giulietta Baptist</td><td>2017</td><td>295.02</td></tr><tr><td>Bil Overfelt</td><td>2017</td><td>-79.60000000000001</td></tr><tr><td>Cathy Prescott</td><td>2017</td><td>230.57</td></tr><tr><td>Barry Pond</td><td>2014</td><td>2.5</td></tr><tr><td>Tamara Chand</td><td>2016</td><td>8764.949999999999</td></tr><tr><td>Hallie Redmond</td><td>2015</td><td>48.12</td></tr><tr><td>Ann Chong</td><td>2015</td><td>-32.300000000000004</td></tr><tr><td>Erin Smith</td><td>2016</td><td>-99.22</td></tr><tr><td>Jamie Kunitz</td><td>2017</td><td>557.69</td></tr><tr><td>Nora Pelletier</td><td>2014</td><td>33.64</td></tr><tr><td>Joe Kamberova</td><td>2017</td><td>30.949999999999996</td></tr><tr><td>Neola Schneider</td><td>2016</td><td>19.549999999999997</td></tr><tr><td>Joseph Holt</td><td>2017</td><td>68.87</td></tr><tr><td>Anthony Jacobs</td><td>2016</td><td>-5.7</td></tr><tr><td>Tamara Dahlen</td><td>2015</td><td>-6.780000000000001</td></tr><tr><td>Jane Waco</td><td>2016</td><td>131.25</td></tr><tr><td>Fred Hopkins</td><td>2017</td><td>76.82000000000001</td></tr><tr><td>NA</td><td>2014</td><td>484.65</td></tr><tr><td>Ruben Ausman</td><td>2015</td><td>1.67</td></tr><tr><td>Frank Carlisle</td><td>2016</td><td>972.25</td></tr><tr><td>Dave Poirier</td><td>2016</td><td>486.12</td></tr><tr><td>Pamela Stobb</td><td>2014</td><td>11.88</td></tr><tr><td>Dorothy Wardle</td><td>2014</td><td>6.63</td></tr><tr><td>Mick Crebagga</td><td>2015</td><td>-57.81999999999999</td></tr><tr><td>Harold Ryan</td><td>2014</td><td>79.74000000000001</td></tr><tr><td>Jesus Ocampo</td><td>2015</td><td>153.91000000000003</td></tr><tr><td>Janet Martin</td><td>2017</td><td>-135.65</td></tr><tr><td>Patrick Odonnell</td><td>2014</td><td>132.18</td></tr><tr><td>Paul  Van Hugh</td><td>2016</td><td>155.31999999999996</td></tr><tr><td>Irene Maddox</td><td>2014</td><td>240.59999999999997</td></tr><tr><td>Matt Connell</td><td>2014</td><td>48.000000000000014</td></tr><tr><td>Amy Hunt</td><td>2017</td><td>147.87</td></tr><tr><td>Clay Ludtke</td><td>2014</td><td>199.76999999999998</td></tr><tr><td>Michael Nguyen</td><td>2014</td><td>31.17</td></tr><tr><td>Sean Christensen</td><td>2014</td><td>93.39999999999999</td></tr><tr><td>Justin Ellison</td><td>2017</td><td>13.670000000000002</td></tr><tr><td>Ben Pet  Erman</td><td>2016</td><td>-33.89</td></tr><tr><td>Allen Goldenen</td><td>2017</td><td>8.3</td></tr><tr><td>Kristina Nunn</td><td>2015</td><td>-183.10999999999999</td></tr><tr><td>Susan Gilcrest</td><td>2014</td><td>2.94</td></tr><tr><td>Paul Knutson</td><td>2016</td><td>-807.78</td></tr><tr><td>Patrick Ryan</td><td>2017</td><td>5555.93</td></tr><tr><td>Matt Connell</td><td>2017</td><td>121.69</td></tr><tr><td>Brendan Murry</td><td>2015</td><td>37.33</td></tr><tr><td>B         Ecky Martin</td><td>2017</td><td>99.9</td></tr><tr><td>Ivan Liston</td><td>2017</td><td>403.64</td></tr><tr><td>Patrick Jones</td><td>2017</td><td>43.61</td></tr><tr><td>Rick Huthwaite</td><td>2015</td><td>125.67</td></tr><tr><td>Darren Powers</td><td>2016</td><td>4.880000000000001</td></tr><tr><td>Trudy Glocke</td><td>2015</td><td>191.28</td></tr><tr><td>David Philippe</td><td>2015</td><td>1.0</td></tr><tr><td>Craig M Olinari</td><td>2015</td><td>-29.9</td></tr><tr><td>Mary Zewe</td><td>2016</td><td>-25.24</td></tr><tr><td>Tom Stivers</td><td>2016</td><td>17.05</td></tr><tr><td>Matt Collister</td><td>2016</td><td>379.01</td></tr><tr><td>Marina Lichtenstein</td><td>2017</td><td>11.1</td></tr><tr><td>Jennifer Braxton</td><td>2016</td><td>-98.62</td></tr><tr><td>Carl Ludwig</td><td>2017</td><td>353.07</td></tr><tr><td>Vicky Freymann</td><td>2017</td><td>62.480000000000004</td></tr><tr><td>Joseph Airdo</td><td>2017</td><td>-1041.9699999999998</td></tr><tr><td>Chloris Kastensmidt</td><td>2016</td><td>-128.01</td></tr><tr><td>Shahi  Collister</td><td>2016</td><td>-25.0</td></tr><tr><td>Mike Caudle</td><td>2015</td><td>9.81</td></tr><tr><td>Lena Radford</td><td>2014</td><td>604.58</td></tr><tr><td>Toby Swindell</td><td>2017</td><td>7.29</td></tr><tr><td>Dan Lawera</td><td>2015</td><td>9.04</td></tr><tr><td>Saphhira Shifley</td><td>2015</td><td>25.79</td></tr><tr><td>Frank Merwin</td><td>2016</td><td>-356.98</td></tr><tr><td>Craig Reiter</td><td>2014</td><td>-6.02</td></tr><tr><td>Vicky Freymann</td><td>2014</td><td>-158.76</td></tr><tr><td>Alan Shonely</td><td>2014</td><td>37.35</td></tr><tr><td>Luke Foster</td><td>2016</td><td>0.72</td></tr><tr><td>Arthur Gainer</td><td>2014</td><td>144.46</td></tr><tr><td>Andy Gerbode</td><td>2014</td><td>-93.53</td></tr><tr><td>Bradley Talbott</td><td>2014</td><td>66.77</td></tr><tr><td>Phillip Flathmann</td><td>2016</td><td>513.27</td></tr><tr><td>Sarah Foster</td><td>2015</td><td>-103.4</td></tr><tr><td>Darrin Van Huff</td><td>2016</td><td>17.479999999999997</td></tr><tr><td>Chloris Kastensmidt</td><td>2017</td><td>181.07999999999998</td></tr><tr><td>Nancy Lomonaco</td><td>2015</td><td>34.59</td></tr><tr><td>Nick Zandusky</td><td>2017</td><td>102.32</td></tr><tr><td>Katherine Murray</td><td>2015</td><td>29.310000000000002</td></tr><tr><td>Mike Kennedy</td><td>2016</td><td>41.08</td></tr><tr><td>Don Jones</td><td>2016</td><td>100.2</td></tr><tr><td>Jim Sink</td><td>2017</td><td>45.13000000000001</td></tr><tr><td>Kean Nguyen</td><td>2015</td><td>-118.58</td></tr><tr><td>Tamara Willingham</td><td>2017</td><td>-6.059999999999999</td></tr><tr><td>Tamara Dahlen</td><td>2017</td><td>2.1399999999999997</td></tr><tr><td>John Lucas</td><td>2015</td><td>816.52</td></tr><tr><td>Bobby Odegard</td><td>2015</td><td>2.07</td></tr><tr><td>Dennis Pardue</td><td>2016</td><td>1694.6399999999999</td></tr><tr><td>Natalie Decherney</td><td>2017</td><td>-84.03</td></tr><tr><td>Laurel Elliston</td><td>2015</td><td>5.08</td></tr><tr><td>Jeremy Farry</td><td>2015</td><td>-103.54</td></tr><tr><td>Bruce Stewart</td><td>2017</td><td>115.84</td></tr><tr><td>Charles Crestani</td><td>2016</td><td>7.859999999999999</td></tr><tr><td>George Ashbrook</td><td>2017</td><td>139.07</td></tr><tr><td>Darren Powers</td><td>2015</td><td>260.74</td></tr><tr><td>Neoma Murray</td><td>2015</td><td>-26.659999999999997</td></tr><tr><td>Kean Takahito</td><td>2015</td><td>28.81</td></tr><tr><td>Ken Brennan</td><td>2015</td><td>17.0</td></tr><tr><td>Ed Ludwig</td><td>2016</td><td>8.66</td></tr><tr><td>Don Miller</td><td>2014</td><td>14.489999999999998</td></tr><tr><td>Gary Mcgarr</td><td>2014</td><td>202.78</td></tr><tr><td>Ge Orge Bell</td><td>2017</td><td>44.29</td></tr><tr><td>Bradley Drucker</td><td>2017</td><td>762.0600000000001</td></tr><tr><td>Rob Dowd</td><td>2016</td><td>24.23</td></tr><tr><td>Barry Gonzalez</td><td>2016</td><td>12.239999999999998</td></tr><tr><td>Sample Company A</td><td>2016</td><td>118.86999999999999</td></tr><tr><td>Jim Epp</td><td>2017</td><td>1703.57</td></tr><tr><td>Helen Andreada</td><td>2014</td><td>-57.040000000000006</td></tr><tr><td>Jas Ocarroll</td><td>2015</td><td>203.94</td></tr><tr><td>Bobby Trafton</td><td>2014</td><td>-5.370000000000001</td></tr><tr><td>Corey Roper</td><td>2016</td><td>30.45</td></tr><tr><td>Dan Reichenbach</td><td>2015</td><td>428.64</td></tr><tr><td>Brian Moss</td><td>2016</td><td>-2.03</td></tr><tr><td>Carl Ludwig</td><td>2016</td><td>4.35</td></tr><tr><td>Larry Hughes</td><td>2014</td><td>-5.04</td></tr><tr><td>Cindy Stewart</td><td>2017</td><td>43.71</td></tr><tr><td>Neil Franzsisch</td><td>2015</td><td>72.89</td></tr><tr><td>Carol Triggs</td><td>2015</td><td>19.45</td></tr><tr><td>Rob Lucas</td><td>2016</td><td>-6.5699999999999985</td></tr><tr><td>Kean Thornton</td><td>2014</td><td>103.44</td></tr><tr><td>Shirley Daniels</td><td>2014</td><td>122.77</td></tr><tr><td>Aaron Smayling</td><td>2016</td><td>92.14</td></tr><tr><td>Sonia Cooley</td><td>2015</td><td>-2.4299999999999997</td></tr><tr><td>Lena Creighton</td><td>2017</td><td>-67.97000000000001</td></tr><tr><td>Dianna Vittorini</td><td>2016</td><td>89.95</td></tr><tr><td>Penelope Sewall</td><td>2017</td><td>1060.32</td></tr><tr><td>Alan Dominguez</td><td>2017</td><td>1866.92</td></tr><tr><td>Alan Barnes</td><td>2014</td><td>-1.07</td></tr><tr><td>Anthony Jacobs</td><td>2017</td><td>208.04999999999998</td></tr><tr><td>Joni Waerman</td><td>2016</td><td>1.2</td></tr><tr><td>Allen Rosenblatt</td><td>2015</td><td>105.47</td></tr><tr><td>Allen Rosenblatt</td><td>2017</td><td>-221.58</td></tr><tr><td>Luke Weiss</td><td>2014</td><td>420.59</td></tr><tr><td>Corey Catlett</td><td>2014</td><td>481.45</td></tr><tr><td>Frank Atkinson</td><td>2017</td><td>252.38</td></tr><tr><td>Dean Braden</td><td>2015</td><td>-41.79</td></tr><tr><td>Patrick Gardner</td><td>2016</td><td>551.3</td></tr><tr><td>Susan Vittorini</td><td>2017</td><td>124.04000000000002</td></tr><tr><td>Alan Shonely</td><td>2017</td><td>-31.92</td></tr><tr><td>Karen Carlisle</td><td>2014</td><td>43.06</td></tr><tr><td>Ellis Ballard</td><td>2016</td><td>0.0</td></tr><tr><td>Pierre Wener</td><td>2015</td><td>1370.23</td></tr><tr><td>Chris Selesnick</td><td>2017</td><td>174.26000000000002</td></tr><tr><td>Peter Fuller</td><td>2014</td><td>17.68</td></tr><tr><td>Kean Takahito</td><td>2016</td><td>156.14</td></tr><tr><td>Natalie Fritzler</td><td>2016</td><td>-69.52</td></tr><tr><td>Ad       Am Hart</td><td>2015</td><td>0.34</td></tr><tr><td>Susan Pistek</td><td>2016</td><td>8.700000000000003</td></tr><tr><td>Max Jones</td><td>2017</td><td>403.71999999999997</td></tr><tr><td>Tony Chapman</td><td>2015</td><td>27.0</td></tr><tr><td>Erin Creighton</td><td>2017</td><td>57.37</td></tr><tr><td>Lycoris Saunders</td><td>2014</td><td>9.33</td></tr><tr><td>John Lucas</td><td>2014</td><td>1.33</td></tr><tr><td>Denny Blanton</td><td>2015</td><td>266.33</td></tr><tr><td>Meg Tillman</td><td>2016</td><td>432.26</td></tr><tr><td>Frank Hawley</td><td>2014</td><td>297.18</td></tr><tr><td>Jas Ocarroll</td><td>2014</td><td>0.97</td></tr><tr><td>Corey Catlett</td><td>2017</td><td>33.78</td></tr><tr><td>Philisse Overcash</td><td>2015</td><td>810.38</td></tr><tr><td>Toby Carlisle</td><td>2014</td><td>402.54</td></tr><tr><td>Tamara Chand</td><td>2014</td><td>151.7</td></tr><tr><td>Kristen Hastings</td><td>2017</td><td>217.49</td></tr><tr><td>Cathy Prescott</td><td>2016</td><td>31.54</td></tr><tr><td>Larry Tron</td><td>2014</td><td>15.64</td></tr><tr><td>Sylvia Foulston</td><td>2014</td><td>12.27</td></tr><tr><td>Sara Luxemburg</td><td>2017</td><td>437.90999999999997</td></tr><tr><td>Bobby Odegard</td><td>2017</td><td>57.39</td></tr><tr><td>Dave Hallsten</td><td>2015</td><td>783.24</td></tr><tr><td>Ken Black</td><td>2014</td><td>175.16</td></tr><tr><td>Aimee Bixby</td><td>2017</td><td>39.99999999999999</td></tr><tr><td>Paul Prost</td><td>2016</td><td>707.5899999999999</td></tr><tr><td>Jennifer Patt</td><td>2017</td><td>10.659999999999997</td></tr><tr><td>Barbara Fisher</td><td>2017</td><td>6.97</td></tr><tr><td>Cathy Prescott</td><td>2014</td><td>62.39</td></tr><tr><td>Arthur Gainer</td><td>2016</td><td>252.36</td></tr><tr><td>Harold Engle</td><td>2016</td><td>110.37</td></tr><tr><td>Alice Mccarthy</td><td>2014</td><td>7.68</td></tr><tr><td>Emily Phan</td><td>2016</td><td>-393.65999999999997</td></tr><tr><td>Yana Sorensen</td><td>2017</td><td>1524.13</td></tr><tr><td>Bryan Spruell</td><td>2015</td><td>77.11</td></tr><tr><td>Chris Cortes</td><td>2014</td><td>12.41</td></tr><tr><td>Max Ludwig</td><td>2016</td><td>63.83</td></tr><tr><td>Pamela Stobb</td><td>2015</td><td>-113.1</td></tr><tr><td>Helen Waerman</td><td>2017</td><td>1946.6999999999998</td></tr><tr><td>Duane Huffman</td><td>2015</td><td>28.89</td></tr><tr><td>Henia Zydlo</td><td>2017</td><td>-136.68</td></tr><tr><td>Richard Bierner</td><td>2017</td><td>362.94</td></tr><tr><td>Greg Tran</td><td>2017</td><td>83.61999999999999</td></tr><tr><td>Ricardo Sperren</td><td>2017</td><td>300.1</td></tr><tr><td>Cindy Chapman</td><td>2014</td><td>3.38</td></tr><tr><td>Brenda Bowman</td><td>2015</td><td>-77.85000000000001</td></tr><tr><td>Damala Kotsonis</td><td>2015</td><td>369.26</td></tr><tr><td>Eric Barreto</td><td>2016</td><td>74.27000000000001</td></tr><tr><td>Carl Jackson</td><td>2016</td><td>1.65</td></tr><tr><td>Alejandro Grove</td><td>2016</td><td>696.3</td></tr><tr><td>Anthony Garverick</td><td>2015</td><td>61.709999999999994</td></tr><tr><td>Stephanie Phelps</td><td>2015</td><td>95.83999999999999</td></tr><tr><td>Zuschuss Donatelli</td><td>2014</td><td>25.490000000000002</td></tr><tr><td>Mike Pelletier</td><td>2014</td><td>-125.28999999999999</td></tr><tr><td>Karen Bern</td><td>2015</td><td>19.85</td></tr><tr><td>Benjamin Patterson</td><td>2016</td><td>10.21</td></tr><tr><td>Carlos Daly</td><td>2015</td><td>17.75</td></tr><tr><td>Maris Laware</td><td>2014</td><td>254.24</td></tr><tr><td>Jennifer Halladay</td><td>2017</td><td>-44.65</td></tr><tr><td>Ryan Akin</td><td>2017</td><td>-105.5</td></tr><tr><td>Craig Yedwab</td><td>2017</td><td>240.54</td></tr><tr><td>Shirley Daniels</td><td>2017</td><td>-113.2</td></tr><tr><td>Brian Stugart</td><td>2016</td><td>62.26</td></tr><tr><td>Christine Abelman</td><td>2017</td><td>143.36</td></tr><tr><td>Victoria Pisteka</td><td>2014</td><td>118.07000000000001</td></tr><tr><td>Darrin Van Huff</td><td>2017</td><td>-445.10999999999996</td></tr><tr><td>Karen Danels</td><td>2015</td><td>129.49</td></tr><tr><td>Maya Herman</td><td>2014</td><td>133.96</td></tr><tr><td>Dan Campbell</td><td>2016</td><td>-239.55</td></tr><tr><td>Dean Katz</td><td>2014</td><td>6.0</td></tr><tr><td>Katherine Nockton</td><td>2015</td><td>-191.36</td></tr><tr><td>Meg Tillman</td><td>2017</td><td>74.98</td></tr><tr><td>Brosina Hoffman</td><td>2015</td><td>5.84</td></tr><tr><td>Jim Epp</td><td>2015</td><td>-129.89000000000001</td></tr><tr><td>Erica Bern</td><td>2016</td><td>151.89</td></tr><tr><td>Sarah Brown</td><td>2015</td><td>939.16</td></tr><tr><td>Bart Pistole</td><td>2014</td><td>131.71</td></tr><tr><td>Nathan Mautz</td><td>2015</td><td>333.49999999999994</td></tr><tr><td>Clay Ludtke</td><td>2017</td><td>529.6</td></tr><tr><td>Alan Hwang</td><td>2014</td><td>87.19</td></tr><tr><td>Bryan Mills</td><td>2014</td><td>114.1</td></tr><tr><td>Odella Nelson</td><td>2016</td><td>-157.53</td></tr><tr><td>Eudokia Martin</td><td>2016</td><td>30.63</td></tr><tr><td>Cindy Schnelling</td><td>2016</td><td>-244.73000000000002</td></tr><tr><td>Jay Fein</td><td>2016</td><td>40.75</td></tr><tr><td>Benjamin Patterson</td><td>2015</td><td>-255.74</td></tr><tr><td>Roy Skaria</td><td>2017</td><td>6.08</td></tr><tr><td>Ken Lonsdale</td><td>2014</td><td>361.32</td></tr><tr><td>Mark Packer</td><td>2015</td><td>311.5</td></tr><tr><td>Laurel Elliston</td><td>2014</td><td>-12.84</td></tr><tr><td>Robert Marley</td><td>2014</td><td>200.12</td></tr><tr><td>Lynn Smith</td><td>2014</td><td>230.20999999999998</td></tr><tr><td>Joni Blumstein</td><td>2015</td><td>-359.56</td></tr><tr><td>Sarah Jordon</td><td>2016</td><td>-3.24</td></tr><tr><td>Arthur Wiediger</td><td>2017</td><td>87.22</td></tr><tr><td>George Zrebassa</td><td>2014</td><td>12.0</td></tr><tr><td>Helen Andreada</td><td>2017</td><td>12.71</td></tr><tr><td>John Huston</td><td>2014</td><td>26.41</td></tr><tr><td>Stuart Van</td><td>2017</td><td>4.2</td></tr><tr><td>Jim Radford</td><td>2016</td><td>0.0</td></tr><tr><td>Sanjit Engle</td><td>2014</td><td>54.41</td></tr><tr><td>Denny Ordway</td><td>2014</td><td>6.09</td></tr><tr><td>Debra Catini</td><td>2014</td><td>54.800000000000004</td></tr><tr><td>Paul Lucas</td><td>2016</td><td>-13.65</td></tr><tr><td>Doug Bickford</td><td>2014</td><td>13.49</td></tr><tr><td>Robert Barroso</td><td>2014</td><td>24.92</td></tr><tr><td>Becky Castell</td><td>2014</td><td>38.13</td></tr><tr><td>Jocasta Rupert</td><td>2017</td><td>107.99</td></tr><tr><td>Michael Kennedy</td><td>2016</td><td>-456.26</td></tr><tr><td>Luke Foster</td><td>2015</td><td>131.54</td></tr><tr><td>Paul Gonzalez</td><td>2016</td><td>10.71</td></tr><tr><td>Gene Mcclure</td><td>2015</td><td>359.46</td></tr><tr><td>Tonja Turnell</td><td>2015</td><td>281.0</td></tr><tr><td>Monica Federle</td><td>2014</td><td>16.89</td></tr><tr><td>Ruben Dartt</td><td>2017</td><td>82.84</td></tr><tr><td>Cathy Hwang</td><td>2015</td><td>57.39</td></tr><tr><td>Shirley Jackson</td><td>2014</td><td>57.93</td></tr><tr><td>Annie Zypern</td><td>2015</td><td>34.34</td></tr><tr><td>Dorris Liebe</td><td>2016</td><td>146.39</td></tr><tr><td>Daniel Lacy</td><td>2017</td><td>24.87</td></tr><tr><td>Muhammed Macintyre</td><td>2015</td><td>68.2</td></tr><tr><td>Charles Crestani</td><td>2017</td><td>8.33</td></tr><tr><td>Bryan Davis</td><td>2016</td><td>110.69999999999999</td></tr><tr><td>Anna Gayman</td><td>2016</td><td>-281.56</td></tr><tr><td>Shirley Jackson</td><td>2017</td><td>-243.16</td></tr><tr><td>Sally Knutson</td><td>2016</td><td>3.44</td></tr><tr><td>Anne Mcfarland</td><td>2015</td><td>14.700000000000001</td></tr><tr><td>Carl Weiss</td><td>2017</td><td>309.79999999999995</td></tr><tr><td>Becky Pak</td><td>2017</td><td>26.24</td></tr><tr><td>Victoria Wilson</td><td>2014</td><td>-65.32</td></tr><tr><td>Larry Blacks</td><td>2016</td><td>10.74</td></tr><tr><td>Monica Federle</td><td>2017</td><td>287.24</td></tr><tr><td>Craig Carreira</td><td>2016</td><td>53.660000000000004</td></tr><tr><td>Maris Laware</td><td>2016</td><td>15.0</td></tr><tr><td>Laurel Workman</td><td>2014</td><td>423.61</td></tr><tr><td>Linda Southworth</td><td>2015</td><td>9.82</td></tr><tr><td>Toby Braunhardt</td><td>2014</td><td>200.14999999999998</td></tr><tr><td>Mike Gockenbach</td><td>2017</td><td>196.72</td></tr><tr><td>Ed Jacobs</td><td>2017</td><td>423.71999999999997</td></tr><tr><td>Stuart Calhoun</td><td>2016</td><td>9.0</td></tr><tr><td>Sue Ann Reed</td><td>2015</td><td>98.08</td></tr><tr><td>Dean Percer</td><td>2017</td><td>-1037.0399999999997</td></tr><tr><td>Nora Preis</td><td>2016</td><td>272.91999999999996</td></tr><tr><td>Maris Laware</td><td>2017</td><td>-348.3299999999999</td></tr><tr><td>Evan Henry</td><td>2014</td><td>26.429999999999993</td></tr><tr><td>Kean Nguyen</td><td>2014</td><td>119.97999999999999</td></tr><tr><td>Justin Deggeller</td><td>2015</td><td>164.10000000000002</td></tr><tr><td>Sanjit Engle</td><td>2017</td><td>-236.83</td></tr><tr><td>Nick Crebassa</td><td>2014</td><td>690.2</td></tr><tr><td>Nona Balk</td><td>2016</td><td>-157.96000000000004</td></tr><tr><td>Evan Bailliet</td><td>2016</td><td>4.44</td></tr><tr><td>Pierre Wener</td><td>2014</td><td>-86.27</td></tr><tr><td>Doug Oconnell</td><td>2015</td><td>26.82</td></tr><tr><td>Maureen Gnade</td><td>2014</td><td>-22.640000000000008</td></tr><tr><td>Greg Guthrie</td><td>2015</td><td>-115.72</td></tr><tr><td>Adam Bellavance</td><td>2015</td><td>8.71</td></tr><tr><td>Fred Chung</td><td>2014</td><td>112.57</td></tr><tr><td>Victo Ria Brennan</td><td>2015</td><td>84.62000000000002</td></tr><tr><td>Jamie Frazer</td><td>2017</td><td>343.53</td></tr><tr><td>Gary Zandusky</td><td>2015</td><td>126.31</td></tr><tr><td>Troy Staebel</td><td>2017</td><td>-30.690000000000012</td></tr><tr><td>Helen Andreada</td><td>2016</td><td>-44.040000000000006</td></tr><tr><td>Mark Hamilton</td><td>2017</td><td>83.74</td></tr><tr><td>Daniel Lacy</td><td>2015</td><td>304.39</td></tr><tr><td>Michael Granlund</td><td>2016</td><td>25.93</td></tr><tr><td>Chad Cunningham</td><td>2016</td><td>-11.7</td></tr><tr><td>Luke Schmidt</td><td>2016</td><td>18.28</td></tr><tr><td>Brooke Gillingham</td><td>2016</td><td>57.92</td></tr><tr><td>Michael Granlund</td><td>2015</td><td>112.33</td></tr><tr><td>Tom Ashbrook</td><td>2016</td><td>-76.0</td></tr><tr><td>Dean Braden</td><td>2016</td><td>-64.22</td></tr><tr><td>Justin Mackendrick</td><td>2017</td><td>235.11</td></tr><tr><td>Sung Pak</td><td>2016</td><td>619.14</td></tr><tr><td>Rick Duston</td><td>2017</td><td>276.27</td></tr><tr><td>Frank Preis</td><td>2017</td><td>49.32</td></tr><tr><td>Bil Eplett</td><td>2016</td><td>47.24</td></tr><tr><td>Allen Goldenen</td><td>2014</td><td>67.97</td></tr><tr><td>Laura Armstrong</td><td>2014</td><td>399.2900000000001</td></tr><tr><td>Liz Mackendrick</td><td>2015</td><td>-142.52</td></tr><tr><td>Annie Thurman</td><td>2016</td><td>51.67</td></tr><tr><td>Linda Cazamias</td><td>2016</td><td>246.91</td></tr><tr><td>Karen Carlisle</td><td>2016</td><td>523.09</td></tr><tr><td>Annie Thurman</td><td>2015</td><td>739.52</td></tr><tr><td>Duane Benoit</td><td>2017</td><td>199.44</td></tr><tr><td>Roland Schwarz</td><td>2017</td><td>649.3800000000001</td></tr><tr><td>Guy Thornton</td><td>2017</td><td>-39.64</td></tr><tr><td>Paul Lucas</td><td>2017</td><td>-18.939999999999998</td></tr><tr><td>Sung Chung</td><td>2016</td><td>1.23</td></tr><tr><td>Tracy Hopkins</td><td>2017</td><td>-990.1699999999998</td></tr><tr><td>Ben Ferrer</td><td>2014</td><td>666.39</td></tr><tr><td>Anthony Johnson</td><td>2016</td><td>394.99</td></tr><tr><td>Steven Cartwright</td><td>2014</td><td>1.35</td></tr><tr><td>Sarah Bern</td><td>2014</td><td>-33.39</td></tr><tr><td>Christine Phan</td><td>2014</td><td>-1031.67</td></tr><tr><td>Seth Vernon</td><td>2016</td><td>39.77</td></tr><tr><td>Dennis Bolton</td><td>2014</td><td>79.89</td></tr><tr><td>Ivan Liston</td><td>2015</td><td>656.6800000000001</td></tr><tr><td>Chuck Sachs</td><td>2017</td><td>156.27</td></tr><tr><td>Daniel Lacy</td><td>2014</td><td>-324.87</td></tr><tr><td>Keith Dawkins</td><td>2015</td><td>2810.35</td></tr><tr><td>Alyssa Crouse</td><td>2017</td><td>-69.06</td></tr><tr><td>Darren Koutras</td><td>2015</td><td>-76.42999999999998</td></tr><tr><td>Coreylock</td><td>2016</td><td>19.19</td></tr><tr><td>Gary Hwang</td><td>2017</td><td>43.6</td></tr><tr><td>Elizabeth Moffitt</td><td>2017</td><td>444.42</td></tr><tr><td>Zuschuss Carroll</td><td>2014</td><td>328.8299999999999</td></tr><tr><td>Astrea Jones</td><td>2014</td><td>57.660000000000004</td></tr><tr><td>Joni Sundaresam</td><td>2014</td><td>2.869999999999999</td></tr><tr><td>Patrick Obrill</td><td>2017</td><td>290.64</td></tr><tr><td>Shahi  Shariari</td><td>2015</td><td>-504.24</td></tr><tr><td>John Grady</td><td>2014</td><td>28.26</td></tr><tr><td>Ken Lonsdale</td><td>2015</td><td>252.53</td></tr><tr><td>Erica Hackney</td><td>2015</td><td>28.380000000000003</td></tr><tr><td>Justin Hirsh</td><td>2015</td><td>106.41</td></tr><tr><td>Helen Abelman</td><td>2017</td><td>-79.0</td></tr><tr><td>Caroline Jumper</td><td>2017</td><td>-524.22</td></tr><tr><td>Rick Duston</td><td>2015</td><td>25.41</td></tr><tr><td>Maurice Satty</td><td>2014</td><td>40.730000000000004</td></tr><tr><td>Muhammed Yedwab</td><td>2014</td><td>-103.13000000000004</td></tr><tr><td>Brian Moss</td><td>2015</td><td>154.24</td></tr><tr><td>Ji Stevenson</td><td>2016</td><td>78.4</td></tr><tr><td>Dean Katz</td><td>2015</td><td>-337.91</td></tr><tr><td>Chad Cunningham</td><td>2015</td><td>48.739999999999995</td></tr><tr><td>Barry Blumstein</td><td>2014</td><td>0.0</td></tr><tr><td>Chuck Magee</td><td>2016</td><td>45.300000000000004</td></tr><tr><td>Denny Ordway</td><td>2015</td><td>-136.09</td></tr><tr><td>Michael Kennedy</td><td>2014</td><td>43.22</td></tr><tr><td>Justin Deggeller</td><td>2017</td><td>1108.3400000000001</td></tr><tr><td>Thomas Thornton</td><td>2016</td><td>60.39</td></tr><tr><td>Andy Yotov</td><td>2016</td><td>6.7</td></tr><tr><td>Matt Abelman</td><td>2015</td><td>619.07</td></tr><tr><td>Roland Fjeld</td><td>2016</td><td>110.61999999999999</td></tr><tr><td>Kat Rina Willman</td><td>2016</td><td>32.16</td></tr><tr><td>Deirdre Greer</td><td>2014</td><td>22.07</td></tr><tr><td>John Lucas</td><td>2016</td><td>-37.95</td></tr><tr><td>Sean Miller</td><td>2014</td><td>-1795.66</td></tr><tr><td>John Stevenson</td><td>2014</td><td>-94.66</td></tr><tr><td>Noah Childs</td><td>2015</td><td>16.85</td></tr><tr><td>Deirdre Greer</td><td>2016</td><td>9.33</td></tr><tr><td>Kean Thornton</td><td>2016</td><td>54.0</td></tr><tr><td>Chris Selesnick</td><td>2015</td><td>95.26</td></tr><tr><td>Sung Pak</td><td>2017</td><td>11.849999999999998</td></tr><tr><td>Brendan Dodson</td><td>2015</td><td>36.47</td></tr><tr><td>Cari Schnelling</td><td>2015</td><td>-2.84</td></tr><tr><td>Chuck Clark</td><td>2016</td><td>255.32000000000002</td></tr><tr><td>Sean Miller</td><td>2017</td><td>34.28</td></tr><tr><td>Sarah Foster</td><td>2014</td><td>58.03</td></tr><tr><td>Harold Pawlan</td><td>2014</td><td>101.69</td></tr><tr><td>Trudy Glocke</td><td>2017</td><td>84.42</td></tr><tr><td>Tamara Willingham</td><td>2016</td><td>33.01</td></tr><tr><td>Gary Hansen</td><td>2014</td><td>53.339999999999996</td></tr><tr><td>Art Foster</td><td>2014</td><td>-258.56</td></tr><tr><td>Marina Lichtenstein</td><td>2016</td><td>192.19</td></tr><tr><td>Giulietta Weimer</td><td>2016</td><td>44.58</td></tr><tr><td>Craig Carreira</td><td>2014</td><td>11.3</td></tr><tr><td>Roger Demir</td><td>2016</td><td>31.2</td></tr><tr><td>Larry Tron</td><td>2015</td><td>20.16</td></tr><tr><td>Erica Hackney</td><td>2014</td><td>54.09</td></tr><tr><td>Zuschuss Donatelli</td><td>2017</td><td>16.59</td></tr><tr><td>Hunter Lopez</td><td>2014</td><td>437.06</td></tr><tr><td>Sean Braxton</td><td>2017</td><td>-907.0500000000001</td></tr><tr><td>Janet Lee</td><td>2014</td><td>-190.51</td></tr><tr><td>Jessica Myrick</td><td>2016</td><td>232.13</td></tr><tr><td>Fred Chung</td><td>2016</td><td>86.15</td></tr><tr><td>Christopher Conant</td><td>2017</td><td>93.73</td></tr><tr><td>Joseph Holt</td><td>2014</td><td>644.0</td></tr><tr><td>Jennifer Patt</td><td>2016</td><td>307.34000000000003</td></tr><tr><td>Nat Gilpin</td><td>2015</td><td>8.05</td></tr><tr><td>Eileen Kiefer</td><td>2015</td><td>20.54</td></tr><tr><td>Barry Gonzalez</td><td>2014</td><td>54.19</td></tr><tr><td>Laurel Beltran</td><td>2014</td><td>-21.36</td></tr><tr><td>Brad Thomas</td><td>2016</td><td>9.48</td></tr><tr><td>Craig Yedwab</td><td>2014</td><td>-336.63</td></tr><tr><td>Roland Fjeld</td><td>2015</td><td>187.1</td></tr><tr><td>Thomas Thornton</td><td>2014</td><td>18.38</td></tr><tr><td>Michelle Arnett</td><td>2014</td><td>41.839999999999996</td></tr><tr><td>Greg Guthrie</td><td>2014</td><td>117.33</td></tr><tr><td>Resi Plking</td><td>2017</td><td>33.3</td></tr><tr><td>Cari Sayre</td><td>2015</td><td>-5.73</td></tr><tr><td>Tom Prescott</td><td>2017</td><td>-1060.79</td></tr><tr><td>Brian Dahlen</td><td>2017</td><td>87.99</td></tr><tr><td>Dan Reichenbach</td><td>2017</td><td>1086.84</td></tr><tr><td>Shui Tom</td><td>2017</td><td>12.790000000000001</td></tr><tr><td>Christina Anderson</td><td>2015</td><td>118.66</td></tr><tr><td>Erin  Mull</td><td>2017</td><td>-14.440000000000001</td></tr><tr><td>Maxwell Schwartz</td><td>2015</td><td>197.79000000000002</td></tr><tr><td>Maya Herman</td><td>2016</td><td>7.0</td></tr><tr><td>Bruce Degenhardt</td><td>2017</td><td>166.98000000000002</td></tr><tr><td>Philip Fox</td><td>2015</td><td>75.22999999999999</td></tr><tr><td>Sanjit Jacobs</td><td>2015</td><td>-65.82</td></tr><tr><td>Hunter Glantz</td><td>2017</td><td>82.02000000000001</td></tr><tr><td>Cynthia Delaney</td><td>2016</td><td>346.71000000000004</td></tr><tr><td>Jack Lebron</td><td>2014</td><td>9.870000000000001</td></tr><tr><td>Doug Oconnell</td><td>2017</td><td>267.03</td></tr><tr><td>Christina Vanderzanden</td><td>2017</td><td>273.13</td></tr><tr><td>Valerie Mitchum</td><td>2016</td><td>371.7</td></tr><tr><td>Ross Devincentis</td><td>2014</td><td>3.63</td></tr><tr><td>Gary Mitchum</td><td>2014</td><td>316.15000000000003</td></tr><tr><td>Fred Harton</td><td>2015</td><td>365.68</td></tr><tr><td>Guy Armstrong</td><td>2014</td><td>101.45</td></tr><tr><td>Kat Rina Bavinger</td><td>2015</td><td>42.96</td></tr><tr><td>Hunter Lopez</td><td>2017</td><td>5045.86</td></tr><tr><td>Claudia Bergmann</td><td>2016</td><td>458.64000000000004</td></tr><tr><td>Dan Lawera</td><td>2014</td><td>7.73</td></tr><tr><td>Anthony Jacobs</td><td>2015</td><td>5.32</td></tr><tr><td>Laura Armstrong</td><td>2016</td><td>1526.67</td></tr><tr><td>Resi Plking</td><td>2016</td><td>154.14</td></tr><tr><td>Kristina Nunn</td><td>2017</td><td>301.88</td></tr><tr><td>Sarah Foster</td><td>2016</td><td>21.14</td></tr><tr><td>Barbara Fisher</td><td>2016</td><td>157.38</td></tr><tr><td>Karen Seio</td><td>2017</td><td>-6.379999999999999</td></tr><tr><td>Lisa Ryan</td><td>2016</td><td>-387.68</td></tr><tr><td>Jamie Kunitz</td><td>2015</td><td>615.0300000000001</td></tr><tr><td>John Dryer</td><td>2016</td><td>36.47</td></tr><tr><td>Annie Zypern</td><td>2016</td><td>32.56999999999999</td></tr><tr><td>Richard Eichhorn</td><td>2016</td><td>13.32</td></tr><tr><td>Elpida Rittenbach</td><td>2015</td><td>4.57</td></tr><tr><td>Maya Herman</td><td>2015</td><td>94.71</td></tr><tr><td>Thea Hendricks</td><td>2014</td><td>-155.27</td></tr><tr><td>Thea Hudgings</td><td>2016</td><td>-76.64000000000001</td></tr><tr><td>Todd Boyes</td><td>2016</td><td>62.39</td></tr><tr><td>Jeremy Lonsdale</td><td>2017</td><td>529.0200000000001</td></tr><tr><td>Nicole Hansen</td><td>2016</td><td>5.18</td></tr><tr><td>Andrew Allen</td><td>2016</td><td>420.74999999999994</td></tr><tr><td>Ken Black</td><td>2016</td><td>96.32</td></tr><tr><td>Beth Thompson</td><td>2015</td><td>87.46000000000001</td></tr><tr><td>Alyssa Tate</td><td>2017</td><td>96.13000000000001</td></tr><tr><td>Roland Fjeld</td><td>2014</td><td>22.65</td></tr><tr><td>Paul Gonzalez</td><td>2017</td><td>220.26</td></tr><tr><td>Michael Stewart</td><td>2014</td><td>9.07</td></tr><tr><td>Alejandro Grove</td><td>2014</td><td>17.990000000000002</td></tr><tr><td>Karen Bern</td><td>2017</td><td>763.56</td></tr><tr><td>Duane Benoit</td><td>2016</td><td>-35.22</td></tr><tr><td>Mick Crebagga</td><td>2016</td><td>0.93</td></tr><tr><td>Lycoris Saunders</td><td>2015</td><td>45.9</td></tr><tr><td>Maureen Gastineau</td><td>2017</td><td>14.180000000000007</td></tr><tr><td>Natalie Decherney</td><td>2016</td><td>58.86</td></tr><tr><td>Darren Budd</td><td>2014</td><td>17.78</td></tr><tr><td>Pauline Johnson</td><td>2014</td><td>2.78</td></tr><tr><td>Harold Dahlen</td><td>2015</td><td>30.990000000000002</td></tr><tr><td>Rick Huthwaite</td><td>2016</td><td>1152.8200000000002</td></tr><tr><td>Brad Eason</td><td>2017</td><td>-52.07</td></tr><tr><td>Joy Daniels</td><td>2017</td><td>37.06</td></tr><tr><td>Rob Haberlin</td><td>2015</td><td>165.38000000000002</td></tr><tr><td>William Brown</td><td>2015</td><td>-87.06</td></tr><tr><td>Jas Ocarroll</td><td>2017</td><td>-54.88</td></tr><tr><td>Jeremy Pistek</td><td>2016</td><td>130.51</td></tr><tr><td>Matt Abelman</td><td>2017</td><td>20.18</td></tr><tr><td>Justin Ritter</td><td>2016</td><td>44.21</td></tr><tr><td>Quincy Jones</td><td>2014</td><td>120.03999999999999</td></tr><tr><td>James Galang</td><td>2017</td><td>69.85000000000001</td></tr><tr><td>Emily Burns</td><td>2017</td><td>-80.44</td></tr><tr><td>Arthur Wiediger</td><td>2015</td><td>64.25</td></tr><tr><td>Melanie Seite</td><td>2015</td><td>32.45</td></tr><tr><td>Hunter Glantz</td><td>2016</td><td>35.99</td></tr><tr><td>Nat Gilpin</td><td>2017</td><td>86.49999999999999</td></tr><tr><td>Heather Jas</td><td>2015</td><td>28.71</td></tr><tr><td>Gary Zandusky</td><td>2017</td><td>259.1</td></tr><tr><td>Noah Childs</td><td>2014</td><td>36.66</td></tr><tr><td>Russell Dascenzo</td><td>2017</td><td>19.330000000000002</td></tr><tr><td>Erica Hernandez</td><td>2016</td><td>9.95</td></tr><tr><td>Tanja Norvell</td><td>2016</td><td>-903.28</td></tr><tr><td>Nat Carroll</td><td>2016</td><td>26.29</td></tr><tr><td>Benjamin Patterson</td><td>2014</td><td>27.56</td></tr><tr><td>Sarah Brown</td><td>2017</td><td>13.32</td></tr><tr><td>Angele Hood</td><td>2014</td><td>41.6</td></tr><tr><td>Greg Matthias</td><td>2016</td><td>-121.94</td></tr><tr><td>Ruben Dartt</td><td>2014</td><td>186.49</td></tr><tr><td>Michael Chen</td><td>2016</td><td>60.53999999999999</td></tr><tr><td>Michael Grace</td><td>2015</td><td>-499.05</td></tr><tr><td>Michael Kennedy</td><td>2017</td><td>7.010000000000001</td></tr><tr><td>James Galang</td><td>2015</td><td>736.7600000000001</td></tr><tr><td>Max Engle</td><td>2017</td><td>23.16000000000001</td></tr><tr><td>Christine Sundaresam</td><td>2015</td><td>288.11</td></tr><tr><td>Craig Carreira</td><td>2017</td><td>114.35</td></tr><tr><td>Matt Collister</td><td>2014</td><td>-137.2</td></tr><tr><td>Liz Carlisle</td><td>2017</td><td>-10.400000000000002</td></tr><tr><td>Chris Cortes</td><td>2016</td><td>-33.050000000000004</td></tr><tr><td>Lauren Leatherbury</td><td>2017</td><td>44.72</td></tr><tr><td>Liz Pelletier</td><td>2016</td><td>21.939999999999998</td></tr><tr><td>Joseph Holt</td><td>2016</td><td>72.03</td></tr><tr><td>Doug Jacobs</td><td>2015</td><td>36.0</td></tr><tr><td>Cyma Kinney</td><td>2014</td><td>66.59</td></tr><tr><td>Chad Sievert</td><td>2015</td><td>45.72</td></tr><tr><td>Alan Hwang</td><td>2016</td><td>5.57</td></tr><tr><td>Ed Jacobs</td><td>2014</td><td>-7403.61</td></tr><tr><td>Matthew Clasen</td><td>2016</td><td>27.42</td></tr><tr><td>Parhena Norris</td><td>2015</td><td>6.46</td></tr><tr><td>Ross Baird</td><td>2015</td><td>-18.46</td></tr><tr><td>Janet Lee</td><td>2017</td><td>88.19</td></tr><tr><td>Becky Castell</td><td>2017</td><td>58.800000000000004</td></tr><tr><td>Alex Grayson</td><td>2016</td><td>61.74</td></tr><tr><td>Noah Childs</td><td>2017</td><td>48.78</td></tr><tr><td>Phillip Breyer</td><td>2014</td><td>21.2</td></tr><tr><td>John Huston</td><td>2015</td><td>19.6</td></tr><tr><td>Dean Katz</td><td>2016</td><td>222.03000000000003</td></tr><tr><td>Kat Rina Edelman</td><td>2014</td><td>156.05</td></tr><tr><td>Maureen Gastineau</td><td>2014</td><td>12.91</td></tr><tr><td>Sue Ann Reed</td><td>2014</td><td>351.32</td></tr><tr><td>Giulietta Weimer</td><td>2017</td><td>-451.09000000000003</td></tr><tr><td>Logan Haushalter</td><td>2015</td><td>94.85</td></tr><tr><td>Scot Wooten</td><td>2017</td><td>-64.07</td></tr><tr><td>Erica Bern</td><td>2017</td><td>11.0</td></tr><tr><td>Irene Maddox</td><td>2015</td><td>-55.69999999999993</td></tr><tr><td>Anthony Rawles</td><td>2017</td><td>105.06999999999998</td></tr><tr><td>Katherine Hughes</td><td>2017</td><td>502.51000000000005</td></tr><tr><td>Nona Balk</td><td>2017</td><td>61.160000000000004</td></tr><tr><td>Erin Smith</td><td>2015</td><td>-27.16</td></tr><tr><td>Rose Obrian</td><td>2016</td><td>-90.48</td></tr><tr><td>Noel Staavos</td><td>2016</td><td>-298.25</td></tr><tr><td>Mark Van Huff</td><td>2015</td><td>-1.2800000000000011</td></tr><tr><td>Barry Pond</td><td>2016</td><td>182.98000000000002</td></tr><tr><td>Alex Russell</td><td>2014</td><td>-242.44</td></tr><tr><td>Beth Fritzler</td><td>2014</td><td>-12.120000000000001</td></tr><tr><td>Kat Rina Edelman</td><td>2017</td><td>-18.380000000000003</td></tr><tr><td>Aleksandra Gannaway</td><td>2017</td><td>1.67</td></tr><tr><td>NA</td><td>2016</td><td>282.98</td></tr><tr><td>Ruben Dartt</td><td>2015</td><td>9.09</td></tr><tr><td>Tamara Manning</td><td>2017</td><td>205.84</td></tr><tr><td>Todd Sumrall</td><td>2017</td><td>1218.0100000000002</td></tr><tr><td>Debra Catini</td><td>2015</td><td>55.75</td></tr><tr><td>Philip Brown</td><td>2016</td><td>38.38</td></tr><tr><td>Adam Shillingsburg</td><td>2015</td><td>231.54000000000002</td></tr><tr><td>Sanjit Jacobs</td><td>2016</td><td>266.13</td></tr><tr><td>Kat Rina Willman</td><td>2017</td><td>123.13000000000001</td></tr><tr><td>Chloris Kastensmidt</td><td>2014</td><td>44.72</td></tr><tr><td>Gary Zandusky</td><td>2014</td><td>50.43</td></tr><tr><td>Dianna Vittorini</td><td>2017</td><td>151.65</td></tr><tr><td>Khloe Miller</td><td>2015</td><td>33.85</td></tr><tr><td>Luke Weiss</td><td>2017</td><td>67.07</td></tr><tr><td>Frank Hawley</td><td>2016</td><td>166.29</td></tr><tr><td>Denise Monton</td><td>2017</td><td>1374.42</td></tr><tr><td>Mark Van Huff</td><td>2017</td><td>68.78999999999998</td></tr><tr><td>David Flashing</td><td>2015</td><td>99.94</td></tr><tr><td>Jonathan Doherty</td><td>2014</td><td>-204.26999999999998</td></tr><tr><td>Neoma Murray</td><td>2016</td><td>812.79</td></tr><tr><td>Anna Andreadi</td><td>2015</td><td>389.34000000000003</td></tr><tr><td>Stephanie Phelps</td><td>2014</td><td>72.4</td></tr><tr><td>Richard Eichhorn</td><td>2014</td><td>-24.87</td></tr><tr><td>Ann Blume</td><td>2015</td><td>5.07</td></tr><tr><td>David Flashing</td><td>2014</td><td>37.88</td></tr><tr><td>Daniel Raglin</td><td>2017</td><td>211.97</td></tr><tr><td>Tom Prescott</td><td>2016</td><td>-91.11</td></tr><tr><td>Pauline Chand</td><td>2015</td><td>-172.51</td></tr><tr><td>Damala Kotsonis</td><td>2016</td><td>185.34</td></tr><tr><td>Sandra Flanagan</td><td>2015</td><td>15.98</td></tr><tr><td>Eileen Kiefer</td><td>2014</td><td>70.49</td></tr><tr><td>Greg Maxwell</td><td>2016</td><td>175.36</td></tr><tr><td>Trudy Schmidt</td><td>2015</td><td>-34.089999999999996</td></tr><tr><td>Jennifer Ferguson</td><td>2017</td><td>539.63</td></tr><tr><td>Stuart Van</td><td>2016</td><td>11.24</td></tr><tr><td>Dennis Pardue</td><td>2014</td><td>83.78999999999999</td></tr><tr><td>Neil Knudson</td><td>2015</td><td>1.79</td></tr><tr><td>Katherine Hughes</td><td>2014</td><td>-53.07000000000001</td></tr><tr><td>Christopher Conant</td><td>2016</td><td>2083.34</td></tr><tr><td>Michael Dominguez</td><td>2014</td><td>-47.36</td></tr><tr><td>Matt Connell</td><td>2015</td><td>13.08</td></tr><tr><td>Shirley Schmidt</td><td>2015</td><td>174.01</td></tr><tr><td>Eugene Hildebrand</td><td>2017</td><td>265.62</td></tr><tr><td>Marybeth Skach</td><td>2016</td><td>33.79</td></tr><tr><td>Brenda Bowman</td><td>2017</td><td>660.6899999999999</td></tr><tr><td>Maureen Gnade</td><td>2016</td><td>16.7</td></tr><tr><td>Cynthia Arntzen</td><td>2014</td><td>111.78999999999999</td></tr><tr><td>Christine Abelman</td><td>2014</td><td>101.4</td></tr><tr><td>Jennifer Braxton</td><td>2015</td><td>128.05</td></tr><tr><td>Alan Haines</td><td>2016</td><td>-349.36</td></tr><tr><td>Sally Matthias</td><td>2016</td><td>-77.84</td></tr><tr><td>Rick Bensley</td><td>2016</td><td>123.81000000000003</td></tr><tr><td>Brian Thompson</td><td>2015</td><td>435.64</td></tr><tr><td>Maria Zettner</td><td>2016</td><td>0.16</td></tr><tr><td>Kelly Collister</td><td>2017</td><td>24.48</td></tr><tr><td>Lindsay Castell</td><td>2015</td><td>278.2</td></tr><tr><td>Brian Moss</td><td>2017</td><td>1937.73</td></tr><tr><td>Tim Brockman</td><td>2017</td><td>-31.680000000000007</td></tr><tr><td>Nathan Gelder</td><td>2014</td><td>134.82</td></tr><tr><td>Jim Radford</td><td>2015</td><td>-785.16</td></tr><tr><td>Alex Avila</td><td>2017</td><td>96.50999999999999</td></tr><tr><td>Erin Creighton</td><td>2014</td><td>-4.02</td></tr><tr><td>Frank Carlisle</td><td>2015</td><td>35.53</td></tr><tr><td>Alex Avila</td><td>2015</td><td>7.0</td></tr><tr><td>Gene Mcclure</td><td>2017</td><td>61.599999999999994</td></tr><tr><td>Todd Sumrall</td><td>2015</td><td>1135.1000000000001</td></tr><tr><td>Harry Marie</td><td>2017</td><td>-16.559999999999995</td></tr><tr><td>Eugene Barchas</td><td>2015</td><td>36.67</td></tr><tr><td>Duane Noonan</td><td>2016</td><td>222.39</td></tr><tr><td>Randy Ferguson</td><td>2015</td><td>102.00999999999999</td></tr><tr><td>Michelle Moray</td><td>2014</td><td>130.67999999999998</td></tr><tr><td>Shirley Daniels</td><td>2015</td><td>1954.8</td></tr><tr><td>Tracy Collins</td><td>2016</td><td>161.53</td></tr><tr><td>Susan Vittorini</td><td>2016</td><td>-30.2</td></tr><tr><td>Charles Mccrossin</td><td>2017</td><td>-78.27</td></tr><tr><td>Steve Chapman</td><td>2017</td><td>-11.599999999999994</td></tr><tr><td>Berenike Kampe</td><td>2016</td><td>2.23</td></tr><tr><td>Gary Mcgarr</td><td>2016</td><td>108.18</td></tr><tr><td>Bart Watters</td><td>2016</td><td>97.05999999999999</td></tr><tr><td>Tracy Hopkins</td><td>2014</td><td>26.63</td></tr><tr><td>Guy Phonely</td><td>2014</td><td>-35.93</td></tr><tr><td>Doug Jacobs</td><td>2017</td><td>652.3199999999999</td></tr><tr><td>Mitch Willingham</td><td>2014</td><td>1449.52</td></tr><tr><td>Brooke Gillingham</td><td>2017</td><td>11.66</td></tr><tr><td>Cyma Kinney</td><td>2017</td><td>-521.39</td></tr><tr><td>Ted Butterfield</td><td>2016</td><td>262.45</td></tr><tr><td>Shahi  Hopkins</td><td>2015</td><td>2.24</td></tr><tr><td>Dennis Kane</td><td>2016</td><td>360.97</td></tr><tr><td>Patrick Odonnell</td><td>2017</td><td>238.16</td></tr><tr><td>Karen Carlisle</td><td>2015</td><td>279.99</td></tr><tr><td>Shaun Weien</td><td>2016</td><td>125.2</td></tr><tr><td>Rachel Payne</td><td>2016</td><td>11.7</td></tr><tr><td>David Bremer</td><td>2017</td><td>-1136.72</td></tr><tr><td>Cari Sayre</td><td>2014</td><td>-13.9</td></tr><tr><td>Cynthia Delaney</td><td>2014</td><td>27.79</td></tr><tr><td>Nora Pelletier</td><td>2016</td><td>31.419999999999995</td></tr><tr><td>Maria Etezadi</td><td>2016</td><td>451.46</td></tr><tr><td>Parhena Norris</td><td>2016</td><td>137.23000000000002</td></tr><tr><td>Nick Radford</td><td>2017</td><td>48.07</td></tr><tr><td>Sibella Parks</td><td>2016</td><td>-203.15000000000003</td></tr><tr><td>Erica Smith</td><td>2016</td><td>71.99</td></tr><tr><td>Sanjit Engle</td><td>2015</td><td>159.32</td></tr><tr><td>Raymond Messe</td><td>2014</td><td>13.83</td></tr><tr><td>Bart Folk</td><td>2014</td><td>3.96</td></tr><tr><td>Gary Zandusky</td><td>2016</td><td>652.3199999999999</td></tr><tr><td>Michael Moore</td><td>2014</td><td>55.03</td></tr><tr><td>Neoma Murray</td><td>2017</td><td>2.82</td></tr><tr><td>Magdelene Morse</td><td>2017</td><td>-39.46</td></tr><tr><td>Laurel Workman</td><td>2016</td><td>-393.3399999999999</td></tr><tr><td>Roy Skaria</td><td>2016</td><td>3.5</td></tr></tbody></table></div>"
      ]
     },
     "metadata": {
      "application/vnd.databricks.v1+output": {
       "addedWidgets": {},
       "aggData": [],
       "aggError": "",
       "aggOverflow": false,
       "aggSchema": [],
       "aggSeriesLimitReached": false,
       "aggType": "",
       "arguments": {},
       "columnCustomDisplayInfos": {},
       "data": [
        [
         "Marina Lichtenstein",
         "2014",
         486.58
        ],
        [
         "Dorothy Badders",
         "2017",
         40.71000000000001
        ],
        [
         "Emily Burns",
         "2014",
         16.02
        ],
        [
         "Christina Anderson",
         "2014",
         16.97
        ],
        [
         "Neil Knudson",
         "2017",
         80.03
        ],
        [
         "Anemone Ratner",
         "2016",
         32.64
        ],
        [
         "Mary Zewe",
         "2017",
         17.38
        ],
        [
         "Valerie Mitchum",
         "2015",
         -3.71
        ],
        [
         "Pete Takahito",
         "2016",
         -17.52
        ],
        [
         "Sara Luxemburg",
         "2016",
         3.11
        ],
        [
         "Tracy P Oddar",
         "2016",
         104.74000000000001
        ],
        [
         "Mitch Webber",
         "2016",
         0.5
        ],
        [
         "Ross Baird",
         "2016",
         51.79000000000002
        ],
        [
         "Henry Macallister",
         "2017",
         41.23
        ],
        [
         "Sarah Brown",
         "2014",
         -66.52
        ],
        [
         "Edward Hooks",
         "2016",
         728.44
        ],
        [
         "Rick Wi Lson",
         "2017",
         1649.17
        ],
        [
         "Evan Minnotte",
         "2017",
         16.509999999999998
        ],
        [
         "Dario Medina",
         "2014",
         58.4
        ],
        [
         "Greg Hansen",
         "2017",
         -8.879999999999999
        ],
        [
         "Clay Rozendal",
         "2017",
         108.8
        ],
        [
         "Pete Armstrong",
         "2016",
         22.56
        ],
        [
         "Mike Vitt Orini",
         "2017",
         21.47
        ],
        [
         "Maxwell Schwartz",
         "2014",
         -103.58000000000001
        ],
        [
         "Deirdre Greer",
         "2017",
         530.95
        ],
        [
         "Toby Ritter",
         "2014",
         28.52
        ],
        [
         "Erin Ashbrook",
         "2017",
         21.83
        ],
        [
         "Mark Cousins",
         "2016",
         1610.2
        ],
        [
         "Jim Sink",
         "2016",
         -99.99000000000001
        ],
        [
         "Don Miller",
         "2015",
         167.54000000000002
        ],
        [
         "Russell Dascenzo",
         "2015",
         39.0
        ],
        [
         "Sonia Sunley",
         "2015",
         8.02
        ],
        [
         "Olvera Toch",
         "2017",
         175.55
        ],
        [
         "Craig Yedwab",
         "2015",
         107.0
        ],
        [
         "Michael Grace",
         "2016",
         62.24
        ],
        [
         "Cassandra Brandow",
         "2016",
         161.25
        ],
        [
         "Carol Adams",
         "2015",
         182.15999999999997
        ],
        [
         "Sean Odonnell",
         "2015",
         -282.30999999999995
        ],
        [
         "Emily Grady",
         "2017",
         2.589999999999989
        ],
        [
         "Dave Kipp",
         "2015",
         173.71
        ],
        [
         "Nona Balk",
         "2014",
         87.38
        ],
        [
         "Liz Mackendrick",
         "2016",
         21.54
        ],
        [
         "Nicole Hansen",
         "2015",
         85.83
        ],
        [
         "Michelle Arnett",
         "2016",
         191.39
        ],
        [
         "Philip Brown",
         "2015",
         157.66000000000003
        ],
        [
         "Melanie Seite",
         "2016",
         -23.94
        ],
        [
         "Mathew Reese",
         "2017",
         129.07999999999998
        ],
        [
         "Jack Obriant",
         "2014",
         101.03
        ],
        [
         "Brian Derr",
         "2017",
         27.69
        ],
        [
         "Lauren Leatherbury",
         "2015",
         404.90999999999997
        ],
        [
         "Grace Kelly",
         "2017",
         3.45
        ],
        [
         "Ken Heidel",
         "2017",
         66.92999999999999
        ],
        [
         "Frank Merwin",
         "2015",
         1.03
        ],
        [
         "Eric Murdock",
         "2015",
         51.92999999999999
        ],
        [
         "Tim Brockman",
         "2016",
         -40.36000000000001
        ],
        [
         "Mick Hernandez",
         "2017",
         387.2000000000001
        ],
        [
         "Fred Chung",
         "2017",
         502.96999999999997
        ],
        [
         "Michelle Moray",
         "2015",
         -247.37
        ],
        [
         "Mark Hamilton",
         "2014",
         8.490000000000002
        ],
        [
         "Dorothy Wardle",
         "2016",
         92.61
        ],
        [
         "Maribeth Yedwab",
         "2016",
         33.05
        ],
        [
         "Alan Schoenberger",
         "2015",
         12.86
        ],
        [
         "Liz Thompson",
         "2014",
         238.4
        ],
        [
         "Benjamin Venier",
         "2016",
         127.00999999999999
        ],
        [
         "Eric Hoffmann",
         "2016",
         -13.37999999999999
        ],
        [
         "Thomas Seio",
         "2017",
         277.01
        ],
        [
         "Christopher Schild",
         "2016",
         -114.17
        ],
        [
         "Michael Moore",
         "2016",
         447.84
        ],
        [
         "Brian Derr",
         "2014",
         11.49
        ],
        [
         "Sample Company A",
         "2017",
         91.44999999999999
        ],
        [
         "Erica Smith",
         "2015",
         44.05
        ],
        [
         "Sean Odonnell",
         "2017",
         193.88
        ],
        [
         "Helen Abelman",
         "2016",
         129.77
        ],
        [
         "Ken Brennan",
         "2016",
         14.620000000000001
        ],
        [
         "Sanjit Chand",
         "2017",
         5.84
        ],
        [
         "Xylona Preis",
         "2015",
         24.849999999999998
        ],
        [
         "Dorris Liebe",
         "2017",
         -0.33000000000000007
        ],
        [
         "John Castell",
         "2014",
         64.08
        ],
        [
         "Rob Beeghly",
         "2016",
         -5.979999999999997
        ],
        [
         "Speros Goranitis",
         "2014",
         274.84999999999997
        ],
        [
         "Liz Thompson",
         "2016",
         28.380000000000003
        ],
        [
         "Denise Leinenbach",
         "2017",
         17.38
        ],
        [
         "Roy Phan",
         "2015",
         375.38
        ],
        [
         "Roger Barcio",
         "2015",
         -82.78
        ],
        [
         "Greg Matthias",
         "2017",
         -57.12
        ],
        [
         "Christine Phan",
         "2016",
         187.98000000000002
        ],
        [
         "James Galang",
         "2014",
         378.39
        ],
        [
         "Denise Monton",
         "2014",
         3.71
        ],
        [
         "Thomas Brumley",
         "2017",
         13.979999999999999
        ],
        [
         "Eric Hoffmann",
         "2017",
         34.4
        ],
        [
         "Nora Pelletier",
         "2015",
         449.44
        ],
        [
         "Robert Barroso",
         "2016",
         19.33
        ],
        [
         "Noel Staavos",
         "2017",
         -99.52
        ],
        [
         "David Wiener",
         "2017",
         -108.28
        ],
        [
         "Anna Hberlin",
         "2016",
         1087.04
        ],
        [
         "Cynthia Arntzen",
         "2017",
         191.87
        ],
        [
         "Bruce Geld",
         "2014",
         3.22
        ],
        [
         "Maurice Satty",
         "2015",
         299.8
        ],
        [
         "Jack Garza",
         "2014",
         734.7
        ],
        [
         "Thea Hendricks",
         "2017",
         10.05
        ],
        [
         "Raymond Messe",
         "2016",
         162.05
        ],
        [
         "Greg Tran",
         "2014",
         738.65
        ],
        [
         "Roy Franzsisch",
         "2016",
         264.15999999999997
        ],
        [
         "Christina Demoss",
         "2017",
         233.48000000000002
        ],
        [
         "Denny Blanton",
         "2017",
         172.59
        ],
        [
         "Erin Ashbrook",
         "2014",
         -53.440000000000005
        ],
        [
         "Caroline Jumper",
         "2016",
         1382.97
        ],
        [
         "Lena Creighton",
         "2015",
         1007.7600000000002
        ],
        [
         "Quincy Jones",
         "2015",
         1014.47
        ],
        [
         "Theone Pippenger",
         "2015",
         -1.85
        ],
        [
         "Charlotte Melton",
         "2015",
         16.89
        ],
        [
         "Roy Franzsisch",
         "2017",
         -0.3000000000000007
        ],
        [
         "Scot Wooten",
         "2014",
         -27.2
        ],
        [
         "Fred Waerman",
         "2017",
         5.81
        ],
        [
         "Khloe Miller",
         "2016",
         11.83
        ],
        [
         "Joe Elijah",
         "2014",
         -59.8
        ],
        [
         "Kalyca Meade",
         "2015",
         450.15999999999997
        ],
        [
         "Ji Stevenson",
         "2017",
         -53.730000000000004
        ],
        [
         "Hunter Lopez",
         "2016",
         128.54
        ],
        [
         "Deirdre Greer",
         "2015",
         0.4199999999999968
        ],
        [
         "Rob Dowd",
         "2015",
         302.64
        ],
        [
         "Eileen Kiefer",
         "2017",
         6.07
        ],
        [
         "Luke Schmidt",
         "2014",
         167.72
        ],
        [
         "Karl Braun",
         "2014",
         -29.74
        ],
        [
         "Jonathan Doherty",
         "2015",
         64.82
        ],
        [
         "Phillina Ober",
         "2015",
         -12.5
        ],
        [
         "Toby Carlisle",
         "2016",
         -27.83
        ],
        [
         "Ross Baird",
         "2014",
         7.49
        ],
        [
         "Dorothy Wardle",
         "2017",
         -1.8599999999999977
        ],
        [
         "Kelly Williams",
         "2015",
         97.14
        ],
        [
         "David Smith",
         "2014",
         57.59
        ],
        [
         "Sanjit Engle",
         "2016",
         2673.7700000000004
        ],
        [
         "Cathy Hwang",
         "2016",
         126.9
        ],
        [
         "Gene Mcclure",
         "2016",
         17.57
        ],
        [
         "Rob Williams",
         "2014",
         30.78
        ],
        [
         "John Murray",
         "2016",
         -49.620000000000005
        ],
        [
         "Luke Foster",
         "2014",
         -3802.0799999999995
        ],
        [
         "Brian Thompson",
         "2017",
         35.43
        ],
        [
         "Dean Percer",
         "2014",
         100.91999999999999
        ],
        [
         "Jeremy Farry",
         "2017",
         36.980000000000004
        ],
        [
         "Richard Bierner",
         "2015",
         49.57000000000001
        ],
        [
         "Janet Molinari",
         "2016",
         306.55
        ],
        [
         "Shahi  Shariari",
         "2017",
         58.910000000000004
        ],
        [
         "Thomas Brumley",
         "2015",
         3.06
        ],
        [
         "Matthew Grinstein",
         "2014",
         24.370000000000005
        ],
        [
         "Harold Ryan",
         "2017",
         1000.6899999999999
        ],
        [
         "Ralph Kennedy",
         "2015",
         265.58000000000004
        ],
        [
         "Eric Hoffmann",
         "2014",
         22.15
        ],
        [
         "Michael Paige",
         "2015",
         255.75
        ],
        [
         "Nathan Cano",
         "2017",
         -2330.2700000000004
        ],
        [
         "Chad Sievert",
         "2016",
         13.75
        ],
        [
         "Duane Benoit",
         "2015",
         -17.29
        ],
        [
         "Stewart Visinsky",
         "2016",
         76.77000000000001
        ],
        [
         "Chloris Kastensmidt",
         "2015",
         5.530000000000001
        ],
        [
         "Roger Barcio",
         "2017",
         325.85999999999996
        ],
        [
         "Mick Crebagga",
         "2014",
         -18.729999999999997
        ],
        [
         "David Bremer",
         "2015",
         -291.77
        ],
        [
         "Kunst Miller",
         "2017",
         364.51
        ],
        [
         "Greg Tran",
         "2015",
         965.4399999999999
        ],
        [
         "Harold Pawlan",
         "2015",
         -21.700000000000003
        ],
        [
         "Maria Bertelson",
         "2014",
         -13.83
        ],
        [
         "Chad Cunningham",
         "2014",
         142.85
        ],
        [
         "Jesus Ocampo",
         "2017",
         13.22
        ],
        [
         "Debra Catini",
         "2016",
         10.47
        ],
        [
         "Frank Gasti  Neau",
         "2014",
         314.52
        ],
        [
         "Ad       Am Hart",
         "2014",
         2.4
        ],
        [
         "Steve Chapman",
         "2016",
         347.96000000000004
        ],
        [
         "Cathy Prescott",
         "2015",
         102.44
        ],
        [
         "Jennifer Patt",
         "2015",
         100.93
        ],
        [
         "Shahi  Hopkins",
         "2014",
         -252.19
        ],
        [
         "Neil Franzsisch",
         "2014",
         31.87
        ],
        [
         "Jack Obriant",
         "2017",
         40.4
        ],
        [
         "Parhena Norris",
         "2017",
         48.35000000000001
        ],
        [
         "Tonja Turnell",
         "2017",
         840.9800000000001
        ],
        [
         "Victoria Wilson",
         "2017",
         565.88
        ],
        [
         "Eric Hoffmann",
         "2015",
         -2.24
        ],
        [
         "Michael Chen",
         "2017",
         242.12
        ],
        [
         "Andrew Roberts",
         "2017",
         5.18
        ],
        [
         "Evan Bailliet",
         "2015",
         119.43
        ],
        [
         "Dennis Pardue",
         "2017",
         17.25
        ],
        [
         "Jennifer Ferguson",
         "2014",
         28.14
        ],
        [
         "Mary Zewe",
         "2015",
         8.21
        ],
        [
         "Craig Reiter",
         "2017",
         253.37
        ],
        [
         "Chris Cortes",
         "2017",
         393.6000000000001
        ],
        [
         "Rick Wi Lson",
         "2015",
         -74.61999999999999
        ],
        [
         "Henry Goldwyn",
         "2016",
         136.14
        ],
        [
         "Sonia Sunley",
         "2014",
         15.51
        ],
        [
         "Tracy Blumstein",
         "2017",
         42.26
        ],
        [
         "Dionis Lloyd",
         "2015",
         50.349999999999994
        ],
        [
         "Duane Noonan",
         "2017",
         138.42
        ],
        [
         "Pauline Webber",
         "2016",
         437.4
        ],
        [
         "Edward Hooks",
         "2017",
         400.90999999999997
        ],
        [
         "Debra Catini",
         "2017",
         11.059999999999999
        ],
        [
         "Vivek Sundaresam",
         "2017",
         -6.42
        ],
        [
         "Don Jones",
         "2014",
         187.74
        ],
        [
         "Emily Grady",
         "2015",
         55.0
        ],
        [
         "Janet Lee",
         "2015",
         53.470000000000006
        ],
        [
         "Noel Staavos",
         "2014",
         11.2
        ],
        [
         "Bil Tyler",
         "2017",
         -14.99
        ],
        [
         "Kimberly Carter",
         "2014",
         5.82
        ],
        [
         "Frank Preis",
         "2014",
         138.01
        ],
        [
         "Phillip Breyer",
         "2016",
         0.7
        ],
        [
         "Ed Braxton",
         "2016",
         82.42
        ],
        [
         "Patricia Hirasaki",
         "2017",
         47.89
        ],
        [
         "Claudia Bergmann",
         "2017",
         341.51
        ],
        [
         "Dana Kaydos",
         "2017",
         316.38
        ],
        [
         "Guy Thornton",
         "2016",
         6.3
        ],
        [
         "Darren Budd",
         "2016",
         84.30000000000001
        ],
        [
         "Dianna Wilson",
         "2016",
         31.090000000000003
        ],
        [
         "Scott Cohen",
         "2017",
         200.26000000000002
        ],
        [
         "Daniel Raglin",
         "2015",
         296.66999999999996
        ],
        [
         "Russell Applegate",
         "2015",
         -118.15
        ],
        [
         "Angele Hood",
         "2017",
         28.92
        ],
        [
         "Gene Hale",
         "2015",
         -71.0
        ],
        [
         "Tamara Dahlen",
         "2016",
         70.25
        ],
        [
         "Steven Roelle",
         "2016",
         181.53
        ],
        [
         "Mike Caudle",
         "2016",
         86.94999999999999
        ],
        [
         "Hunter Glantz",
         "2014",
         616.46
        ],
        [
         "Erica Hernandez",
         "2017",
         144.29
        ],
        [
         "Julie Kriz",
         "2014",
         239.98
        ],
        [
         "Mark Packer",
         "2014",
         279.86
        ],
        [
         "Bryan Mills",
         "2016",
         56.370000000000005
        ],
        [
         "Astrea Jones",
         "2017",
         2.77
        ],
        [
         "Maribeth Yedwab",
         "2017",
         259.12
        ],
        [
         "Joseph Airdo",
         "2014",
         96.93
        ],
        [
         "Nora Preis",
         "2014",
         285.95
        ],
        [
         "Anna Chung",
         "2014",
         -4.970000000000001
        ],
        [
         "Aaron Hawkins",
         "2017",
         2.34
        ],
        [
         "Elizabeth Moffitt",
         "2014",
         7.99
        ],
        [
         "Maria Bertelson",
         "2017",
         65.67000000000002
        ],
        [
         "Dave Kipp",
         "2016",
         -38.31
        ],
        [
         "Peter Bhler",
         "2016",
         0.9
        ],
        [
         "Janet Molinari",
         "2015",
         -11.899999999999999
        ],
        [
         "Tamara Manning",
         "2015",
         255.04000000000002
        ],
        [
         "Erica Hackney",
         "2016",
         67.9
        ],
        [
         "Meg Oconnel",
         "2016",
         5.5
        ],
        [
         "Sara Luxemburg",
         "2014",
         22.25
        ],
        [
         "Dan Reichenbach",
         "2016",
         126.06
        ],
        [
         "Phillina Ober",
         "2017",
         28.799999999999997
        ],
        [
         "Matthew Grinstein",
         "2017",
         112.69
        ],
        [
         "Alan Barnes",
         "2017",
         141.73000000000002
        ],
        [
         "John Grady",
         "2016",
         91.13000000000001
        ],
        [
         "Eudokia Martin",
         "2017",
         16.93
        ],
        [
         "Sung Shariari",
         "2016",
         -1.9099999999999993
        ],
        [
         "Shui Tom",
         "2015",
         27.01
        ],
        [
         "Tho    Mas Boland",
         "2016",
         -6.980000000000003
        ],
        [
         "Carl Weiss",
         "2015",
         21.11
        ],
        [
         "Pauline Webber",
         "2015",
         15.15
        ],
        [
         "Matt Collins",
         "2014",
         -6.34
        ],
        [
         "Barry Franz",
         "2014",
         2.37
        ],
        [
         "Katherine Hughes",
         "2016",
         57.83
        ],
        [
         "Julia Barnett",
         "2015",
         106.54
        ],
        [
         "Sung Pak",
         "2014",
         1.1899999999999995
        ],
        [
         "Barry Franz",
         "2017",
         71.98
        ],
        [
         "Aaron Smayling",
         "2017",
         -377.96
        ],
        [
         "Maribeth Chnelling",
         "2015",
         145.51
        ],
        [
         "Jamie Frazer",
         "2016",
         173.31
        ],
        [
         "Lisa Ryan",
         "2015",
         -142.91
        ],
        [
         "Candace Mcmahon",
         "2016",
         3.69
        ],
        [
         "Troy Staebel",
         "2016",
         -57.290000000000006
        ],
        [
         "Dennis Kane",
         "2015",
         -99.8
        ],
        [
         "Maria Zettner",
         "2017",
         15.510000000000002
        ],
        [
         "Pamela Coakley",
         "2014",
         196.69
        ],
        [
         "Mary Orourke",
         "2017",
         -67.54
        ],
        [
         "Tamara Willingham",
         "2014",
         100.14
        ],
        [
         "Amy Cox",
         "2014",
         84.0
        ],
        [
         "Denny Joy",
         "2015",
         64.99
        ],
        [
         "Edward Nazzal",
         "2015",
         51.269999999999996
        ],
        [
         "Corey Catlett",
         "2015",
         18.310000000000002
        ],
        [
         "Denise Leinenbach",
         "2015",
         197.99
        ],
        [
         "Bryan Mills",
         "2017",
         6.92
        ],
        [
         "Patrick Bzostek",
         "2016",
         95.85
        ],
        [
         "Maureen Fritzler",
         "2014",
         -459.99
        ],
        [
         "Andrew Allen",
         "2017",
         5.44
        ],
        [
         "Eva Jacobs",
         "2016",
         335.35
        ],
        [
         "Jack Lebron",
         "2017",
         -218.57
        ],
        [
         "Rachel Payne",
         "2015",
         -50.03999999999999
        ],
        [
         "Muhammed Yedwab",
         "2017",
         21.59
        ],
        [
         "Justin Mackendrick",
         "2015",
         221.33
        ],
        [
         "Dennis Bolton",
         "2016",
         81.97
        ],
        [
         "Nick Radford",
         "2016",
         50.58999999999999
        ],
        [
         "Deborah Brumfield",
         "2014",
         45.1
        ],
        [
         "Saphhira Shifley",
         "2016",
         6.55
        ],
        [
         "Patrick Bzostek",
         "2015",
         7.56
        ],
        [
         "Clay Cheatham",
         "2017",
         34.3
        ],
        [
         "Carlos Soltero",
         "2015",
         16.46
        ],
        [
         "Katherine Ducich",
         "2015",
         243.53000000000003
        ],
        [
         "Yoseph Carroll",
         "2016",
         427.27
        ],
        [
         "Tho    Mas Boland",
         "2014",
         6.04
        ],
        [
         "Barry Franzsisch",
         "2017",
         2.779999999999987
        ],
        [
         "Alejandro Ballentine",
         "2015",
         34.34
        ],
        [
         "Neil Ducich",
         "2017",
         379.24999999999994
        ],
        [
         "Tanja Norvell",
         "2017",
         22.0
        ],
        [
         "Michelle Huthwaite",
         "2017",
         374.93
        ],
        [
         "Joel Eaton",
         "2015",
         -507.06
        ],
        [
         "Clytie Kelty",
         "2015",
         -36.930000000000014
        ],
        [
         "Sanjit Chand",
         "2015",
         92.68
        ],
        [
         "Vivek Sundaresam",
         "2016",
         -7.8100000000000005
        ],
        [
         "Aaron Hawkins",
         "2014",
         66.84
        ],
        [
         "Maribeth Chnelling",
         "2017",
         40.75
        ],
        [
         "Annie Zypern",
         "2014",
         72.86
        ],
        [
         "Bruce Geld",
         "2015",
         15.07
        ],
        [
         "Stefanie Holloman",
         "2014",
         70.2
        ],
        [
         "Justin Ritter",
         "2015",
         152.39
        ],
        [
         "Sandra Glassco",
         "2017",
         218.25
        ],
        [
         "Carl Weiss",
         "2016",
         22.77
        ],
        [
         "Ge Orge Bell",
         "2015",
         74.28999999999999
        ],
        [
         "Jennifer Braxton",
         "2017",
         251.19
        ],
        [
         "Laurel Elliston",
         "2017",
         -10.240000000000002
        ],
        [
         "Jack Lebron",
         "2016",
         1.39
        ],
        [
         "Jane Waco",
         "2017",
         1953.6
        ],
        [
         "Kelly Lampkin",
         "2014",
         -69.25
        ],
        [
         "David K Lendrick",
         "2014",
         78.5
        ],
        [
         "Giulietta Weimer",
         "2014",
         3.6299999999999955
        ],
        [
         "Patrick Obrill",
         "2016",
         -316.63
        ],
        [
         "Linda Southworth",
         "2017",
         -354.89000000000004
        ],
        [
         "Brendan Sweed",
         "2015",
         103.1
        ],
        [
         "Sandra Flanagan",
         "2016",
         3.06
        ],
        [
         "Michael Granlund",
         "2014",
         -4.8
        ],
        [
         "Anthony Rawles",
         "2014",
         10.37
        ],
        [
         "Dean Katz",
         "2017",
         316.47
        ],
        [
         "Natalie Webber",
         "2016",
         -255.46
        ],
        [
         "Cassandra Brandow",
         "2015",
         221.69999999999993
        ],
        [
         "Patrick Jones",
         "2014",
         7.95
        ],
        [
         "Karen Ferguson",
         "2017",
         1206.8400000000001
        ],
        [
         "Karen Danels",
         "2016",
         2306.58
        ],
        [
         "Russell Applegate",
         "2017",
         29.549999999999997
        ],
        [
         "Brian Moss",
         "2014",
         81.65
        ],
        [
         "Kean Takahito",
         "2014",
         68.8
        ],
        [
         "Pete Armstrong",
         "2014",
         45.84
        ],
        [
         "Amy Cox",
         "2017",
         876.48
        ],
        [
         "Vivek Sundaresam",
         "2014",
         -72.25
        ],
        [
         "Brian Stugart",
         "2014",
         1.08
        ],
        [
         "Paul Gonzalez",
         "2014",
         -70.73
        ],
        [
         "Henia Zydlo",
         "2016",
         6.29
        ],
        [
         "Alejandro Ballentine",
         "2014",
         6.49
        ],
        [
         "Peter Bhler",
         "2017",
         13.19
        ],
        [
         "Dianna Vittorini",
         "2014",
         9.72
        ],
        [
         "Roger Demir",
         "2014",
         73.67999999999999
        ],
        [
         "Rick Reed",
         "2016",
         45.68
        ],
        [
         "Pamela Stobb",
         "2016",
         133.3
        ],
        [
         "Mitch Webber",
         "2014",
         1204.43
        ],
        [
         "Erin Creighton",
         "2016",
         43.09
        ],
        [
         "Maxwell Schwartz",
         "2016",
         164.04
        ],
        [
         "Michelle Tran",
         "2014",
         -89.7
        ],
        [
         "Patrick Odonnell",
         "2016",
         67.60000000000001
        ],
        [
         "Maria Etezadi",
         "2017",
         74.0
        ],
        [
         "Frank Atkinson",
         "2014",
         3.58
        ],
        [
         "Phillina Ober",
         "2014",
         -65.99
        ],
        [
         "Marc Harrigan",
         "2015",
         2.18
        ],
        [
         "Bil Tyler",
         "2016",
         3.35
        ],
        [
         "Chuck Magee",
         "2014",
         10.780000000000001
        ],
        [
         "Brian Dahlen",
         "2014",
         342.92
        ],
        [
         "Sam Craven",
         "2014",
         -360.83
        ],
        [
         "Marc Crier",
         "2015",
         197.66
        ],
        [
         "Jeremy Pistek",
         "2014",
         199.41000000000003
        ],
        [
         "Speros Goranitis",
         "2017",
         25.46
        ],
        [
         "Bryan Mills",
         "2015",
         -39.67
        ],
        [
         "Keith Dawkins",
         "2016",
         58.72
        ],
        [
         "Cindy Chapman",
         "2016",
         111.12
        ],
        [
         "Vivek Grady",
         "2017",
         2.41
        ],
        [
         "Doug Bickford",
         "2015",
         335.99
        ],
        [
         "Rick Duston",
         "2014",
         109.52000000000001
        ],
        [
         "Hallie Redmond",
         "2017",
         135.68
        ],
        [
         "Sean Christensen",
         "2017",
         98.25
        ],
        [
         "Ivan Gibson",
         "2017",
         92.92
        ],
        [
         "Khloe Miller",
         "2017",
         41.49
        ],
        [
         "Bradley Nguyen",
         "2014",
         185.37
        ],
        [
         "Robert Dilbeck",
         "2015",
         -73.41
        ],
        [
         "Troy Blackwell",
         "2014",
         6.75
        ],
        [
         "Phillip Flathmann",
         "2017",
         78.02
        ],
        [
         "Jill Fjeld",
         "2016",
         849.6600000000001
        ],
        [
         "Mick Hernandez",
         "2016",
         -216.22
        ],
        [
         "Keith Herrera",
         "2014",
         -2.740000000000002
        ],
        [
         "Rick Bensley",
         "2014",
         336.96000000000004
        ],
        [
         "Art Foster",
         "2015",
         101.17999999999999
        ],
        [
         "Jason Fortune",
         "2014",
         41.580000000000005
        ],
        [
         "Brosina Hoffman",
         "2016",
         428.92999999999995
        ],
        [
         "Lena Radford",
         "2016",
         172.5
        ],
        [
         "Mark Packer",
         "2016",
         8.94
        ],
        [
         "Ken Heidel",
         "2015",
         501.53999999999996
        ],
        [
         "Theresa Swint",
         "2016",
         -48.91
        ],
        [
         "Bruce Geld",
         "2016",
         59.3
        ],
        [
         "Frank Olsen",
         "2015",
         -16.03
        ],
        [
         "Deborah Brumfield",
         "2016",
         810.5699999999999
        ],
        [
         "Ashley Jarboe",
         "2015",
         316.58000000000004
        ],
        [
         "Jason Fortune",
         "2016",
         -9.879999999999995
        ],
        [
         "Arthur Prichep",
         "2017",
         -179.86
        ],
        [
         "Janet Martin",
         "2016",
         155.23000000000002
        ],
        [
         "Amy Hunt",
         "2015",
         -342.08000000000004
        ],
        [
         "Anna Andreadi",
         "2017",
         6.22
        ],
        [
         "Max Jones",
         "2016",
         728.75
        ],
        [
         "Harry Greene",
         "2015",
         -2.01
        ],
        [
         "Allen Rosenblatt",
         "2014",
         17.59
        ],
        [
         "Rick Hansen",
         "2015",
         480.62999999999994
        ],
        [
         "Christine Kargatis",
         "2016",
         59.08
        ],
        [
         "Katharine Harms",
         "2014",
         261.33
        ],
        [
         "Cyra Reiten",
         "2015",
         2.13
        ],
        [
         "Meg Oconnel",
         "2015",
         -16.970000000000002
        ],
        [
         "Tiffany House",
         "2017",
         -4.010000000000001
        ],
        [
         "Ralph Arnett",
         "2014",
         0.0
        ],
        [
         "Roy Phan",
         "2014",
         56.53
        ],
        [
         "Eugene Hildebrand",
         "2016",
         -71.64000000000001
        ],
        [
         "Odella Nelson",
         "2014",
         183.10999999999999
        ],
        [
         "Lena Hernandez",
         "2014",
         282.09
        ],
        [
         "Alan Haines",
         "2015",
         -12.1
        ],
        [
         "Alan Dominguez",
         "2015",
         9.600000000000001
        ],
        [
         "Mark Hamilton",
         "2015",
         16.18
        ],
        [
         "Robert Dilbeck",
         "2016",
         151.77
        ],
        [
         "Janet Molinari",
         "2017",
         149.28
        ],
        [
         "Mark Van Huff",
         "2014",
         15.079999999999998
        ],
        [
         "George Ashbrook",
         "2016",
         53.56
        ],
        [
         "Carl Weiss",
         "2014",
         17.16
        ],
        [
         "Jennifer Patt",
         "2014",
         10.81
        ],
        [
         "Roy Franzsisch",
         "2015",
         0.06
        ],
        [
         "Charles Sheldon",
         "2017",
         -3.3100000000000023
        ],
        [
         "Ken Black",
         "2015",
         66.42
        ],
        [
         "B         Ecky Martin",
         "2016",
         118.92
        ],
        [
         "Tamara Willingham",
         "2015",
         610.3
        ],
        [
         "Delfina Latchford",
         "2016",
         206.58000000000004
        ],
        [
         "Daniel Byrd",
         "2014",
         3.63
        ],
        [
         "Katherine Murray",
         "2016",
         128.9
        ],
        [
         "Amy Cox",
         "2015",
         7.34
        ],
        [
         "Heather Jas",
         "2017",
         13.97
        ],
        [
         "Sylvia Foulston",
         "2016",
         70.2
        ],
        [
         "Christina Vanderzanden",
         "2016",
         51.980000000000004
        ],
        [
         "Giulietta Dortch",
         "2016",
         -155.3
        ],
        [
         "Marc Harrigan",
         "2017",
         3.8100000000000023
        ],
        [
         "Cindy Schnelling",
         "2015",
         -58.129999999999995
        ],
        [
         "Thomas Seio",
         "2014",
         471.81
        ],
        [
         "Pamela Stobb",
         "2017",
         -166.52
        ],
        [
         "Barbara Fisher",
         "2015",
         0.9599999999999997
        ],
        [
         "Aaron Hawkins",
         "2015",
         136.56
        ],
        [
         "Ann Steele",
         "2016",
         6.37
        ],
        [
         "Luke Schmidt",
         "2017",
         57.82
        ],
        [
         "Ben Wallace",
         "2016",
         173.66
        ],
        [
         "Brian Stugart",
         "2015",
         175.39000000000001
        ],
        [
         "Julia Dunbar",
         "2014",
         8.48
        ],
        [
         "Adrian Barton",
         "2016",
         4748.2699999999995
        ],
        [
         "Anthony Odonnell",
         "2016",
         12.1
        ],
        [
         "Anne Mcfarland",
         "2016",
         90.25999999999999
        ],
        [
         "Denny Joy",
         "2014",
         39.77
        ],
        [
         "Steven Ward",
         "2016",
         48.519999999999996
        ],
        [
         "Tracy Blumstein",
         "2016",
         3.95
        ],
        [
         "Cindy Chapman",
         "2017",
         40.35000000000002
        ],
        [
         "Ted Trevino",
         "2017",
         422.92999999999995
        ],
        [
         "Carlos Meador",
         "2015",
         13.17
        ],
        [
         "Barry Franzsisch",
         "2016",
         20.32
        ],
        [
         "Philisse Overcash",
         "2017",
         153.54999999999998
        ],
        [
         "Jenna Caffey",
         "2017",
         502.93
        ],
        [
         "Ben Wallace",
         "2017",
         -14.110000000000001
        ],
        [
         "William Brown",
         "2016",
         293.65
        ],
        [
         "Anne Mcfarland",
         "2017",
         392.01
        ],
        [
         "Jasper Cacioppo",
         "2016",
         -4.08
        ],
        [
         "Karl Braun",
         "2015",
         -22.239999999999995
        ],
        [
         "Sylvia Foulston",
         "2017",
         8.489999999999997
        ],
        [
         "Cindy Stewart",
         "2014",
         9.0
        ],
        [
         "Nick Crebassa",
         "2016",
         16.79
        ],
        [
         "Matt Collins",
         "2015",
         62.77
        ],
        [
         "Julie Prescott",
         "2014",
         6.92
        ],
        [
         "Mitch Webber",
         "2017",
         8.49
        ],
        [
         "Lena Creighton",
         "2014",
         201.07
        ],
        [
         "Rick Duston",
         "2016",
         69.39
        ],
        [
         "Michael Granlund",
         "2017",
         37.989999999999995
        ],
        [
         "Valerie Dominguez",
         "2014",
         576.56
        ],
        [
         "Corey Catlett",
         "2016",
         -202.26999999999998
        ],
        [
         "Natalie Fritzler",
         "2017",
         163.45999999999998
        ],
        [
         "Bi L Shonely",
         "2016",
         2405.71
        ],
        [
         "Bradley Nguyen",
         "2016",
         112.78
        ],
        [
         "Alejandro Ballentine",
         "2016",
         26.07
        ],
        [
         "Yoseph Carroll",
         "2017",
         37.53
        ],
        [
         "Jim Karlsson",
         "2014",
         303.87
        ],
        [
         "Anth Ony Witt",
         "2015",
         -13.499999999999998
        ],
        [
         "Emily Phan",
         "2014",
         175.0
        ],
        [
         "Philip Fox",
         "2014",
         -407.68
        ],
        [
         "Steven Roelle",
         "2017",
         1676.32
        ],
        [
         "Shirley Schmidt",
         "2014",
         11.05
        ],
        [
         "Janet Lee",
         "2016",
         103.36
        ],
        [
         "Dan Campbell",
         "2017",
         -1128.92
        ],
        [
         "Kristina Nunn",
         "2016",
         25.0
        ],
        [
         "Ann Chong",
         "2017",
         330.90999999999997
        ],
        [
         "Karen Seio",
         "2015",
         6.489999999999999
        ],
        [
         "Ge Orge Bell",
         "2014",
         -33.19
        ],
        [
         "Karl Braun",
         "2016",
         27.529999999999998
        ],
        [
         "Neil Ducich",
         "2015",
         18.66
        ],
        [
         "Suzanne Mcnair",
         "2016",
         43.0
        ],
        [
         "Aaron Hawkins",
         "2016",
         38.04
        ],
        [
         "Darrin Martin",
         "2016",
         -35.449999999999996
        ],
        [
         "Theone Pippenger",
         "2016",
         376.74
        ],
        [
         "Keith Dawkins",
         "2014",
         35.02
        ],
        [
         "John Lee",
         "2016",
         2.8
        ],
        [
         "Scott Williamson",
         "2017",
         100.28
        ],
        [
         "Ted Trevino",
         "2014",
         121.4
        ],
        [
         "Irene Maddox",
         "2016",
         329.3
        ],
        [
         "Dave Hallsten",
         "2014",
         323.13000000000005
        ],
        [
         "Troy Blackwell",
         "2017",
         1.37
        ],
        [
         "Erica Smith",
         "2017",
         871.8199999999999
        ],
        [
         "Jonathan Howell",
         "2017",
         -125.38
        ],
        [
         "Bruce Degenhardt",
         "2015",
         149.49
        ],
        [
         "Ivan Gibson",
         "2015",
         144.35
        ],
        [
         "Claire Gute",
         "2017",
         1.82
        ],
        [
         "Joni Waerman",
         "2017",
         144.67000000000002
        ],
        [
         "Tom Ashbrook",
         "2017",
         4599.21
        ],
        [
         "Shaun Weien",
         "2017",
         50.0
        ],
        [
         "Lisa Decherney",
         "2016",
         111.26
        ],
        [
         "Bart Pistole",
         "2017",
         225.57
        ],
        [
         "Tanja Norvell",
         "2015",
         167.98
        ],
        [
         "Jessica Myrick",
         "2014",
         58.989999999999995
        ],
        [
         "Berenike Kampe",
         "2017",
         21.450000000000003
        ],
        [
         "Michael Stewart",
         "2015",
         59.349999999999994
        ],
        [
         "Anna Andreadi",
         "2016",
         334.63
        ],
        [
         "Bruce Stewart",
         "2015",
         18.45
        ],
        [
         "Steven Cartwright",
         "2017",
         483.77
        ],
        [
         "William Brown",
         "2017",
         401.51
        ],
        [
         "Art Ferguson",
         "2015",
         2.02
        ],
        [
         "Kean Thornton",
         "2015",
         36.699999999999996
        ],
        [
         "Shui Tom",
         "2014",
         45.32000000000001
        ],
        [
         "Harry Marie",
         "2016",
         82.74999999999997
        ],
        [
         "Ji Stevenson",
         "2015",
         4.53
        ],
        [
         "Pete Armstrong",
         "2017",
         35.89
        ],
        [
         "Nathan Mautz",
         "2014",
         2413.85
        ],
        [
         "Bi L Shonely",
         "2014",
         210.7
        ],
        [
         "Frank Hawley",
         "2017",
         12934.61
        ],
        [
         "Adrian Shami",
         "2017",
         20.34
        ],
        [
         "Brad Thomas",
         "2015",
         117.39
        ],
        [
         "Daniel Raglin",
         "2016",
         2337.76
        ],
        [
         "Ruben Ausman",
         "2014",
         771.14
        ],
        [
         "Lena Radford",
         "2015",
         30.79
        ],
        [
         "Ann Steele",
         "2017",
         64.24
        ],
        [
         "Christine Phan",
         "2015",
         -1044.46
        ],
        [
         "Joe Elijah",
         "2015",
         27.74
        ],
        [
         "Kat Rina Edelman",
         "2015",
         235.64
        ],
        [
         "Frank Preis",
         "2016",
         340.07
        ],
        [
         "Ed Jacobs",
         "2015",
         15.86
        ],
        [
         "Edward Nazzal",
         "2016",
         431.38
        ],
        [
         "Anth Ony Witt",
         "2017",
         79.28
        ],
        [
         "Sharelle Roach",
         "2017",
         -3391.66
        ],
        [
         "Keith Herrera",
         "2017",
         431.29
        ],
        [
         "Bruce Stewart",
         "2014",
         -330.55
        ],
        [
         "Larry Hughes",
         "2017",
         17.67
        ],
        [
         "B         Ecky Martin",
         "2014",
         -1878.79
        ],
        [
         "Bruce Stewart",
         "2016",
         82.94999999999999
        ],
        [
         "Anthony Garverick",
         "2017",
         -66.01
        ],
        [
         "Nick Zandusky",
         "2015",
         82.82
        ],
        [
         "Carol Darley",
         "2017",
         -214.45999999999998
        ],
        [
         "Harold Dahlen",
         "2014",
         -167.32
        ],
        [
         "Tracy Zic",
         "2016",
         75.98
        ],
        [
         "Maureen Gnade",
         "2015",
         -392.86
        ],
        [
         "Khloe Miller",
         "2014",
         3.0
        ],
        [
         "Victor Preis",
         "2015",
         8.93
        ],
        [
         "Rachel Payne",
         "2014",
         97.86
        ],
        [
         "Kimberly Carter",
         "2017",
         156.37000000000003
        ],
        [
         "Barry Gonzalez",
         "2015",
         -998.9100000000001
        ],
        [
         "Zuschuss Carroll",
         "2016",
         -1731.01
        ],
        [
         "Brendan Sweed",
         "2014",
         97.46000000000001
        ],
        [
         "Maria Zettner",
         "2015",
         69.35000000000001
        ],
        [
         "Thais Sissman",
         "2015",
         -1.35
        ],
        [
         "Luke Weiss",
         "2016",
         350.01
        ],
        [
         "Melanie Seite",
         "2014",
         10.92
        ],
        [
         "Laurel Elliston",
         "2016",
         179.75
        ],
        [
         "Roy Phan",
         "2016",
         143.06000000000003
        ],
        [
         "Randy Ferguson",
         "2014",
         92.94
        ],
        [
         "Ivan Gibson",
         "2016",
         54.86
        ],
        [
         "Joy Daniels",
         "2014",
         -10.34
        ],
        [
         "Dan Campbell",
         "2014",
         -77.87
        ],
        [
         "Bobby Elias",
         "2016",
         577.1999999999999
        ],
        [
         "Dave Brooks",
         "2016",
         294.18
        ],
        [
         "Nick Radford",
         "2014",
         -123.79
        ],
        [
         "Benjamin Farhat",
         "2017",
         328.37
        ],
        [
         "Darren Powers",
         "2017",
         -48.17
        ],
        [
         "Charles Sheldon",
         "2014",
         98.11
        ],
        [
         "Marc Crier",
         "2016",
         20.91
        ],
        [
         "Adrian Hane",
         "2014",
         -25.91
        ],
        [
         "David K Lendrick",
         "2017",
         171.77
        ],
        [
         "Tony Chapman",
         "2017",
         76.21
        ],
        [
         "Kristen Hastings",
         "2014",
         1038.59
        ],
        [
         "Sarah Bern",
         "2017",
         191.07
        ],
        [
         "Maria Etezadi",
         "2015",
         -9.56
        ],
        [
         "Katherine Nockton",
         "2017",
         10.260000000000005
        ],
        [
         "Lauren Leatherbury",
         "2014",
         110.88
        ],
        [
         "Yoseph Carroll",
         "2014",
         833.77
        ],
        [
         "Dario Medina",
         "2016",
         0.26
        ],
        [
         "Julie Prescott",
         "2017",
         19.509999999999998
        ],
        [
         "Philip Brown",
         "2017",
         71.93
        ],
        [
         "Michael Paige",
         "2016",
         265.53999999999996
        ],
        [
         "Theresa Swint",
         "2014",
         -2.0
        ],
        [
         "Toby Gnade",
         "2015",
         -198.32999999999998
        ],
        [
         "Alex Avila",
         "2014",
         273.68
        ],
        [
         "Adrian Barton",
         "2017",
         340.64
        ],
        [
         "Sung Pak",
         "2015",
         -65.06
        ],
        [
         "Matt Collins",
         "2016",
         15.59
        ],
        [
         "Don Weiss",
         "2017",
         53.650000000000006
        ],
        [
         "Dave Poirier",
         "2017",
         60.53999999999999
        ],
        [
         "Edward Becker",
         "2016",
         139.81
        ],
        [
         "Jennifer Jackson",
         "2016",
         18.71
        ],
        [
         "Steve Nguyen",
         "2015",
         91.22000000000001
        ],
        [
         "Charles Mccrossin",
         "2016",
         -315.75
        ],
        [
         "John Huston",
         "2017",
         -19.939999999999998
        ],
        [
         "Alan Dominguez",
         "2014",
         -6.6
        ],
        [
         "Michael Dominguez",
         "2017",
         43.31
        ],
        [
         "Ann Blume",
         "2014",
         -23.89
        ],
        [
         "Emily Phan",
         "2015",
         361.20000000000005
        ],
        [
         "Brosina Hoffman",
         "2014",
         235.35
        ],
        [
         "Darren Budd",
         "2017",
         64.81
        ],
        [
         "Raymond Messe",
         "2015",
         19.97
        ],
        [
         "Clytie Kelty",
         "2014",
         1.23
        ],
        [
         "Vivek Sundaresam",
         "2015",
         -176.60000000000002
        ],
        [
         "Jill Fjeld",
         "2015",
         147.35
        ],
        [
         "Rick Reed",
         "2015",
         32.5
        ],
        [
         "Nicole Hansen",
         "2014",
         33.2
        ],
        [
         "Joseph Airdo",
         "2016",
         114.19
        ],
        [
         "Fred Waerman",
         "2015",
         5.48
        ],
        [
         "Jill Matthias",
         "2016",
         113.72
        ],
        [
         "Bryan Davis",
         "2017",
         30.580000000000002
        ],
        [
         "Greg Maxwell",
         "2014",
         112.27999999999999
        ],
        [
         "Mathew Reese",
         "2014",
         9.11
        ],
        [
         "Joel Jenkins",
         "2015",
         34.46
        ],
        [
         "Xylona Preis",
         "2014",
         202.31
        ],
        [
         "Claire Gute",
         "2016",
         261.49
        ],
        [
         "Natalie Decherney",
         "2015",
         326.11999999999995
        ],
        [
         "John Lee",
         "2015",
         252.42999999999998
        ],
        [
         "Tracy Zic",
         "2015",
         15.28
        ],
        [
         "Hilary Holden",
         "2014",
         60.269999999999996
        ],
        [
         "Christina Vanderzanden",
         "2014",
         163.49
        ],
        [
         "Sonia Sunley",
         "2016",
         112.38
        ],
        [
         "Linda Cazamias",
         "2014",
         29.34
        ],
        [
         "Doug Bickford",
         "2016",
         22.730000000000004
        ],
        [
         "Jasper Cacioppo",
         "2017",
         2.4
        ],
        [
         "Brad Norvell",
         "2017",
         4.96
        ],
        [
         "Penelope Sewall",
         "2014",
         623.2
        ],
        [
         "Mitch Gastineau",
         "2017",
         -1.2399999999999998
        ],
        [
         "Alex Avila",
         "2016",
         -747.09
        ],
        [
         "Frank Olsen",
         "2017",
         -70.97999999999999
        ],
        [
         "Joni Sundaresam",
         "2016",
         -18.74
        ],
        [
         "Harold Engle",
         "2017",
         161.26
        ],
        [
         "Tracy Collins",
         "2014",
         3.36
        ],
        [
         "Denise Leinenbach",
         "2016",
         5.22
        ],
        [
         "Chris Cortes",
         "2015",
         21.01
        ],
        [
         "Tamara Chand",
         "2015",
         37.72
        ],
        [
         "Craig Leslie",
         "2016",
         64.09
        ],
        [
         "Toby Ritter",
         "2016",
         115.03999999999999
        ],
        [
         "Frank Atkinson",
         "2015",
         224.56
        ],
        [
         "Jeremy Pistek",
         "2015",
         5.01
        ],
        [
         "Pamela Coakley",
         "2016",
         76.97999999999999
        ],
        [
         "Adam Shillingsburg",
         "2017",
         -344.99
        ],
        [
         "Alejandro Savely",
         "2017",
         23.26
        ],
        [
         "James Galang",
         "2016",
         230.36
        ],
        [
         "Theresa Coyne",
         "2017",
         265.59000000000003
        ],
        [
         "Valerie Takahito",
         "2015",
         -257.93
        ],
        [
         "Arianne Irving",
         "2016",
         485.31999999999994
        ],
        [
         "Deborah Brumfield",
         "2015",
         1.7199999999999998
        ],
        [
         "Roy Collins",
         "2014",
         6.88
        ],
        [
         "Ge Orge Bell",
         "2016",
         -77.54
        ],
        [
         "Steve Carroll",
         "2017",
         15.12
        ],
        [
         "Marc Harrigan",
         "2014",
         12.21
        ],
        [
         "Aleksandra Gannaway",
         "2015",
         8.39
        ],
        [
         "Alyssa Tate",
         "2016",
         6.43
        ],
        [
         "Giulietta Weimer",
         "2015",
         134.33
        ],
        [
         "Dianna Wilson",
         "2017",
         162.99
        ],
        [
         "Benjamin Farhat",
         "2014",
         21.48
        ],
        [
         "Kunst Miller",
         "2015",
         112.09999999999998
        ],
        [
         "Jason Gross",
         "2016",
         -22.930000000000007
        ],
        [
         "Ralph Ritter",
         "2016",
         3.47
        ],
        [
         "Dennis Bolton",
         "2017",
         113.54
        ],
        [
         "Gary Mcgarr",
         "2017",
         36.31
        ],
        [
         "Trudy Brown",
         "2014",
         83.99
        ],
        [
         "Alyssa Tate",
         "2015",
         -2.53
        ],
        [
         "Valerie Mitchum",
         "2014",
         78.23
        ],
        [
         "Kelly Andreada",
         "2017",
         39.94
        ],
        [
         "Cassandra Brandow",
         "2014",
         5.27
        ],
        [
         "Toby Gnade",
         "2017",
         35.86
        ],
        [
         "John Grady",
         "2015",
         8.69
        ],
        [
         "Jim Mitchum",
         "2014",
         7.72
        ],
        [
         "Joni Sundaresam",
         "2015",
         -312.06
        ],
        [
         "Natalie Fritzler",
         "2015",
         -1980.3799999999997
        ],
        [
         "Vivek Gonzalez",
         "2016",
         18.48
        ],
        [
         "Marc Crier",
         "2017",
         7.22
        ],
        [
         "Susan Gilcrest",
         "2017",
         -13.270000000000001
        ],
        [
         "Benjamin Venier",
         "2017",
         105.94
        ],
        [
         "Ken Lonsdale",
         "2016",
         1.3299999999999983
        ],
        [
         "Claire Gute",
         "2015",
         -93.38
        ],
        [
         "Coreylock",
         "2015",
         44.03
        ],
        [
         "Julie Prescott",
         "2015",
         7.43
        ],
        [
         "Justin Hirsh",
         "2016",
         -203.37
        ],
        [
         "Resi Plking",
         "2014",
         262.8100000000001
        ],
        [
         "Linda Southworth",
         "2016",
         21.74
        ],
        [
         "Michael Chen",
         "2014",
         395.76
        ],
        [
         "Craig Yedwab",
         "2016",
         49.730000000000004
        ],
        [
         "Mick Brown",
         "2014",
         4.88
        ],
        [
         "Erin  Mull",
         "2014",
         59.260000000000005
        ],
        [
         "Jeremy Farry",
         "2014",
         35.400000000000006
        ],
        [
         "Ralph Arnett",
         "2016",
         -6.57
        ],
        [
         "Kelly Lampkin",
         "2017",
         -163.66000000000003
        ],
        [
         "Sonia Cooley",
         "2014",
         32.39
        ],
        [
         "Nra Paige",
         "2015",
         80.84
        ],
        [
         "Carlos Meador",
         "2016",
         -56.9
        ],
        [
         "Gary Hansen",
         "2017",
         -496.24
        ],
        [
         "Sean Braxton",
         "2014",
         -1272.3500000000001
        ],
        [
         "Muhammed Macintyre",
         "2016",
         8.84
        ],
        [
         "Rob Williams",
         "2017",
         321.91
        ],
        [
         "Randy Ferguson",
         "2016",
         438.72999999999996
        ],
        [
         "Mike Kennedy",
         "2014",
         -22.69
        ],
        [
         "Troy Staebel",
         "2014",
         -227.49
        ],
        [
         "Bryan Spruell",
         "2017",
         116.94000000000001
        ],
        [
         "Aaron Bergman",
         "2014",
         12.82
        ],
        [
         "Beth Paige",
         "2016",
         -65.75000000000001
        ],
        [
         "Greg Hansen",
         "2015",
         3.07
        ],
        [
         "Ted Trevino",
         "2015",
         205.15
        ],
        [
         "Fred Hopkins",
         "2016",
         6.91
        ],
        [
         "Sheri Gordon",
         "2015",
         30.299999999999997
        ],
        [
         "Suzanne Mcnair",
         "2015",
         468.4
        ],
        [
         "Dario Medina",
         "2015",
         42.96
        ],
        [
         "Ed Braxton",
         "2015",
         47.959999999999994
        ],
        [
         "Arthur Prichep",
         "2016",
         338.86
        ],
        [
         "Dorothy Dickinson",
         "2014",
         -8.630000000000003
        ],
        [
         "Jay Kimmel",
         "2014",
         129.54000000000002
        ],
        [
         "Lynn Smith",
         "2015",
         4.8
        ],
        [
         "Sean Christensen",
         "2016",
         18.46
        ],
        [
         "Raymond Buch",
         "2016",
         195.46
        ],
        [
         "Rick Reed",
         "2017",
         99.94
        ],
        [
         "Brosina Hoffman",
         "2017",
         119.51
        ],
        [
         "Tom Boeckenhauer",
         "2017",
         218.55
        ],
        [
         "Karl Braun",
         "2017",
         69.64
        ],
        [
         "Christina Anderson",
         "2016",
         24.6
        ],
        [
         "Kunst Miller",
         "2014",
         213.7
        ],
        [
         "Liz Mackendrick",
         "2014",
         76.1
        ],
        [
         "Mike Pelletier",
         "2015",
         526.73
        ],
        [
         "Stefania Perrino",
         "2017",
         -165.79999999999995
        ],
        [
         "Candace Mcmahon",
         "2014",
         7.26
        ],
        [
         "Ashley Jarboe",
         "2017",
         167.94
        ],
        [
         "Nathan Cano",
         "2015",
         36.230000000000004
        ],
        [
         "Richard Eichhorn",
         "2015",
         211.06
        ],
        [
         "Trudy Schmidt",
         "2016",
         364.87
        ],
        [
         "Amy Hunt",
         "2016",
         -1.78
        ],
        [
         "Peter Fuller",
         "2015",
         -631.7
        ],
        [
         "Ruben Dartt",
         "2016",
         163.75
        ],
        [
         "Gene Hale",
         "2016",
         -24.49000000000001
        ],
        [
         "Shahi  Hopkins",
         "2016",
         -1.48
        ],
        [
         "Shaun Weien",
         "2015",
         618.4399999999999
        ],
        [
         "Tamara Dahlen",
         "2014",
         9.23
        ],
        [
         "Ben Pet  Erman",
         "2015",
         66.75999999999999
        ],
        [
         "Justin Mackendrick",
         "2014",
         273.4
        ],
        [
         "Philisse Overcash",
         "2016",
         178.45
        ],
        [
         "Rob Dowd",
         "2017",
         66.27
        ],
        [
         "Lisa Hazard",
         "2017",
         -152.87
        ],
        [
         "Cyra Reiten",
         "2017",
         81.14
        ],
        [
         "Dianna Arnett",
         "2014",
         21.72
        ],
        [
         "Alan Barnes",
         "2015",
         74.71
        ],
        [
         "Henry Macallister",
         "2016",
         1.73
        ],
        [
         "Sandra Flanagan",
         "2017",
         110.13000000000001
        ],
        [
         "Magdelene Morse",
         "2016",
         166.51
        ],
        [
         "Bil Eplett",
         "2017",
         1440.55
        ],
        [
         "Sandra Flanagan",
         "2014",
         98.59
        ],
        [
         "John Murray",
         "2015",
         371.88
        ],
        [
         "Maribeth Yedwab",
         "2015",
         2.65
        ],
        [
         "Andrew Gjertsen",
         "2015",
         263.64
        ],
        [
         "David Smith",
         "2017",
         -29.560000000000002
        ],
        [
         "Bradley Drucker",
         "2014",
         309.08
        ],
        [
         "Joe Elijah",
         "2017",
         60.42
        ],
        [
         "Natalie Decherney",
         "2014",
         47.61
        ],
        [
         "Julie Creighton",
         "2014",
         76.49
        ],
        [
         "Valerie Dominguez",
         "2016",
         50.19
        ],
        [
         "Sung Shariari",
         "2015",
         -79.33
        ],
        [
         "Arianne Irving",
         "2017",
         77.28
        ],
        [
         "Ken Black",
         "2017",
         240.99
        ],
        [
         "Tracy Zic",
         "2014",
         132.3
        ],
        [
         "Guy Armstrong",
         "2017",
         18.470000000000013
        ],
        [
         "Barry Gonzalez",
         "2017",
         221.68
        ],
        [
         "Bart Watters",
         "2015",
         103.49
        ],
        [
         "David Wiener",
         "2016",
         -34.16
        ],
        [
         "Denny Joy",
         "2016",
         378.27
        ],
        [
         "Brendan Dodson",
         "2017",
         80.24
        ],
        [
         "Andy Yotov",
         "2014",
         65.6
        ],
        [
         "Eva Jacobs",
         "2014",
         -23.49
        ],
        [
         "Anna Hberlin",
         "2014",
         46.2
        ],
        [
         "Tom Stivers",
         "2017",
         14.71
        ],
        [
         "Shahi  Hopkins",
         "2017",
         106.91
        ],
        [
         "Victoria Pisteka",
         "2017",
         -964.48
        ],
        [
         "Matt Connell",
         "2016",
         11.31
        ],
        [
         "Nicole Fjeld",
         "2017",
         87.86
        ],
        [
         "Brian Dahlen",
         "2015",
         68.97999999999999
        ],
        [
         "Liz Preis",
         "2016",
         79.36
        ],
        [
         "Rick Bensley",
         "2017",
         179.77999999999997
        ],
        [
         "Speros Goranitis",
         "2015",
         162.96
        ],
        [
         "Dennis Bolton",
         "2015",
         15.61
        ],
        [
         "Barry Franz",
         "2016",
         -365.71999999999997
        ],
        [
         "Sheri Gordon",
         "2014",
         150.92
        ],
        [
         "Pauline Johnson",
         "2017",
         609.4300000000001
        ],
        [
         "Cari Sayre",
         "2017",
         205.18
        ],
        [
         "Theone Pippenger",
         "2017",
         753.76
        ],
        [
         "Michael Grace",
         "2017",
         -29.44
        ],
        [
         "Steven Ward",
         "2014",
         19.72
        ],
        [
         "Dianna Wilson",
         "2014",
         1154.67
        ],
        [
         "Rick Reed",
         "2014",
         543.5699999999999
        ],
        [
         "Shahi  Shariari",
         "2014",
         -565.75
        ],
        [
         "Sam Zeldin",
         "2015",
         260.19000000000005
        ],
        [
         "Anna Hberlin",
         "2015",
         106.62
        ],
        [
         "Steven Roelle",
         "2014",
         130.18
        ],
        [
         "Lindsay Shagiari",
         "2014",
         138.16
        ],
        [
         "Trudy Glocke",
         "2014",
         89.42
        ],
        [
         "Kelly Andreada",
         "2014",
         49.01
        ],
        [
         "Eric Barreto",
         "2017",
         -75.19
        ],
        [
         "Herbert Flentye",
         "2016",
         -167.30999999999997
        ],
        [
         "Eudokia Martin",
         "2015",
         192.67
        ],
        [
         "Brian Derr",
         "2015",
         102.25
        ],
        [
         "Victoria Wilson",
         "2015",
         -1186.4099999999999
        ],
        [
         "Rob Lucas",
         "2015",
         110.11
        ],
        [
         "Mike Vitt Orini",
         "2015",
         15.360000000000001
        ],
        [
         "Sarah Jordon",
         "2015",
         5.900000000000002
        ],
        [
         "Eugene Hildebrand",
         "2014",
         20.1
        ],
        [
         "Clay Ludtke",
         "2016",
         713.45
        ],
        [
         "Kean Nguyen",
         "2017",
         112.42
        ],
        [
         "Nat Gilpin",
         "2014",
         219.08
        ],
        [
         "Christy Brittain",
         "2017",
         74.23
        ],
        [
         "Maribeth Chnelling",
         "2014",
         143.9
        ],
        [
         "Kat Rina Willman",
         "2015",
         1600.8500000000001
        ],
        [
         "Carol Darley",
         "2016",
         7.75
        ],
        [
         "Fred Waerman",
         "2016",
         12.21
        ],
        [
         "Jamie Frazer",
         "2014",
         37.4
        ],
        [
         "Joseph Holt",
         "2015",
         -1429.3799999999999
        ],
        [
         "Eric Barreto",
         "2014",
         1.3499999999999996
        ],
        [
         "Matthew Clasen",
         "2014",
         41.89
        ],
        [
         "Aaron Bergman",
         "2016",
         116.86
        ],
        [
         "Dianna Vittorini",
         "2015",
         101.77
        ],
        [
         "Tom Boeckenhauer",
         "2014",
         2567.33
        ],
        [
         "Joni Blumstein",
         "2014",
         72.58
        ],
        [
         "Andrew Roberts",
         "2015",
         27.99
        ],
        [
         "Peter Mcvee",
         "2017",
         69.6
        ],
        [
         "Denny Ordway",
         "2016",
         8.5
        ],
        [
         "Erica Hernandez",
         "2014",
         -250.95999999999998
        ],
        [
         "Filia Mcadams",
         "2016",
         45.93
        ],
        [
         "Arianne Irving",
         "2015",
         9.33
        ],
        [
         "Gary Mitchum",
         "2016",
         102.51999999999998
        ],
        [
         "Jeremy Ellison",
         "2017",
         33.6
        ],
        [
         "Raymond Messe",
         "2017",
         196.75000000000003
        ],
        [
         "Alan Shonely",
         "2015",
         5.08
        ],
        [
         "Ted Trevino",
         "2016",
         2.69
        ],
        [
         "Stuart Calhoun",
         "2015",
         40.63
        ],
        [
         "Scott Cohen",
         "2015",
         373.95
        ],
        [
         "Jeremy Lonsdale",
         "2016",
         21.750000000000004
        ],
        [
         "Juliana Krohn",
         "2017",
         357.77
        ],
        [
         "Carlos Soltero",
         "2014",
         -88.07
        ],
        [
         "Alan Schoenberger",
         "2017",
         268.43
        ],
        [
         "Lisa Decherney",
         "2014",
         445.51
        ],
        [
         "Sandra Glassco",
         "2015",
         352.20000000000005
        ],
        [
         "Brian Decherney",
         "2016",
         20.18
        ],
        [
         "Kat Rina Edelman",
         "2016",
         19.0
        ],
        [
         "Mark Haberlin",
         "2016",
         12.58
        ],
        [
         "Alice Mccarthy",
         "2017",
         -1.5700000000000003
        ],
        [
         "Joel Eaton",
         "2016",
         126.62
        ],
        [
         "Erin Ashbrook",
         "2015",
         321.74
        ],
        [
         "Arthur Gainer",
         "2017",
         -71.97
        ],
        [
         "Art Ferguson",
         "2016",
         390.8
        ],
        [
         "Ralph Arnett",
         "2015",
         234.81000000000003
        ],
        [
         "Ross Baird",
         "2017",
         -502.56
        ],
        [
         "Anne Pryor",
         "2016",
         243.58
        ],
        [
         "John Murray",
         "2017",
         24.630000000000003
        ],
        [
         "Ben Pet  Erman",
         "2017",
         330.74
        ],
        [
         "Carlos Soltero",
         "2016",
         -131.21
        ],
        [
         "Jason Klamczynski",
         "2014",
         17.55
        ],
        [
         "Michael Oakman",
         "2015",
         -79.31
        ],
        [
         "Duane Huffman",
         "2014",
         87.78999999999999
        ],
        [
         "Becky Pak",
         "2016",
         188.78
        ],
        [
         "James Lanier",
         "2015",
         41.14
        ],
        [
         "Christine Phan",
         "2017",
         -17.02
        ],
        [
         "Victoria Wilson",
         "2016",
         -188.81
        ],
        [
         "Tracy Zic",
         "2017",
         1.34
        ],
        [
         "Cthy Armstrong",
         "2016",
         259.37
        ],
        [
         "Joni Waerman",
         "2015",
         -201.65
        ],
        [
         "Laura Armstrong",
         "2015",
         -0.11999999999999922
        ],
        [
         "Tom Ashbrook",
         "2014",
         180.51999999999998
        ],
        [
         "Mark Haberlin",
         "2014",
         48.85
        ],
        [
         "Rick Huthwaite",
         "2014",
         10.96
        ],
        [
         "Anne Mcfarland",
         "2014",
         472.09000000000003
        ],
        [
         "Victo Ria Brennan",
         "2017",
         181.21
        ],
        [
         "Carol Triggs",
         "2017",
         159.26
        ],
        [
         "Alejandro Savely",
         "2016",
         331.36999999999995
        ],
        [
         "Bart Pistole",
         "2015",
         53.56
        ],
        [
         "Ken Heidel",
         "2014",
         127.02000000000001
        ],
        [
         "Peter Bhler",
         "2014",
         204.07
        ],
        [
         "Trudy Schmidt",
         "2017",
         -110.04999999999998
        ],
        [
         "Steve Nguyen",
         "2014",
         32.94
        ],
        [
         "Jim Kriz",
         "2015",
         181.03999999999996
        ],
        [
         "Pete Takahito",
         "2017",
         5.5
        ],
        [
         "Max Jones",
         "2015",
         -77.92999999999999
        ],
        [
         "Michelle Tran",
         "2017",
         2.049999999999997
        ],
        [
         "Pete Kriz",
         "2017",
         1617.17
        ],
        [
         "Christy Brittain",
         "2016",
         201.66
        ],
        [
         "Harold Ryan",
         "2015",
         116.94000000000001
        ],
        [
         "Adam Bellavance",
         "2016",
         1568.05
        ],
        [
         "Paul Prost",
         "2015",
         67.55999999999999
        ],
        [
         "Vivian Mathis",
         "2014",
         6.51
        ],
        [
         "Saphhira Shifley",
         "2014",
         -88.04
        ],
        [
         "Gary Hansen",
         "2015",
         38.97
        ],
        [
         "Mike Vitt Orini",
         "2016",
         225.26
        ],
        [
         "Neil Ducich",
         "2014",
         45.43000000000001
        ],
        [
         "Kelly Lampkin",
         "2016",
         50.12
        ],
        [
         "Keith Dawkins",
         "2017",
         134.84
        ],
        [
         "Tom Prescott",
         "2015",
         64.52
        ],
        [
         "Andy Gerbode",
         "2015",
         -59.22
        ],
        [
         "Darren Koutras",
         "2017",
         -34.52
        ],
        [
         "Grant Thornton",
         "2015",
         8.87
        ],
        [
         "Michael Nguyen",
         "2017",
         254.12999999999997
        ],
        [
         "Toby Swindell",
         "2015",
         92.71
        ],
        [
         "Adam Bellavance",
         "2017",
         395.54999999999995
        ],
        [
         "Tiffany House",
         "2014",
         -2.9299999999999997
        ],
        [
         "Duane Benoit",
         "2014",
         31.01
        ],
        [
         "Barry Franzsisch",
         "2014",
         7.21
        ],
        [
         "Nick Zandusky",
         "2014",
         248.03000000000003
        ],
        [
         "Tracy Collins",
         "2015",
         30.65
        ],
        [
         "Julia West",
         "2016",
         16.88
        ],
        [
         "Thea Hendricks",
         "2015",
         0.81
        ],
        [
         "Todd Boyes",
         "2017",
         206.57
        ],
        [
         "Skye Norling",
         "2016",
         229.01000000000002
        ],
        [
         "Xylona Preis",
         "2016",
         314.09000000000003
        ],
        [
         "Harry Greene",
         "2017",
         108.28
        ],
        [
         "Anthony Rawles",
         "2015",
         9.33
        ],
        [
         "Theresa Swint",
         "2015",
         311.54
        ],
        [
         "Ken Heidel",
         "2016",
         30.61
        ],
        [
         "Helen Andreada",
         "2015",
         197.83999999999997
        ],
        [
         "Guy Phonely",
         "2015",
         67.77000000000001
        ],
        [
         "Steve Carroll",
         "2015",
         213.7
        ],
        [
         "Charles Crestani",
         "2015",
         297.36
        ],
        [
         "Sheri Gordon",
         "2017",
         -295.98
        ],
        [
         "Darren Powers",
         "2014",
         24.240000000000002
        ],
        [
         "Yana Sorensen",
         "2015",
         254.18
        ],
        [
         "Sam Zeldin",
         "2017",
         50.42
        ],
        [
         "Vivek Gonzalez",
         "2014",
         19.54
        ],
        [
         "John Dryer",
         "2015",
         -313.52
        ],
        [
         "Bobby Trafton",
         "2016",
         -71.9
        ],
        [
         "John Stevenson",
         "2015",
         392.89000000000004
        ],
        [
         "Ricardo Emerson",
         "2014",
         6.05
        ],
        [
         "Nancy Lomonaco",
         "2017",
         282.27
        ],
        [
         "Alan Schoenberger",
         "2014",
         444.69
        ],
        [
         "Ryan Crowe",
         "2014",
         -98.43
        ],
        [
         "Don Miller",
         "2016",
         12.83
        ],
        [
         "Brad Eason",
         "2015",
         120.21
        ],
        [
         "Tracy Blumstein",
         "2015",
         -1571.86
        ],
        [
         "Yoseph Carroll",
         "2015",
         7.07
        ],
        [
         "Roger Demir",
         "2017",
         78.99
        ],
        [
         "Lynn Smith",
         "2017",
         52.59
        ],
        [
         "Zuschuss Carroll",
         "2015",
         306.62999999999994
        ],
        [
         "Andy Reiter",
         "2017",
         2607.68
        ],
        [
         "Lisa Ryan",
         "2017",
         99.27000000000001
        ],
        [
         "Kelly Collister",
         "2015",
         49.27
        ],
        [
         "Aleksandra Gannaway",
         "2016",
         20.49
        ],
        [
         "Max Engle",
         "2014",
         16.28
        ],
        [
         "Rob Lucas",
         "2017",
         68.14999999999999
        ],
        [
         "Zuschuss Carroll",
         "2017",
         62.339999999999996
        ],
        [
         "Patrick Ryan",
         "2014",
         2.0
        ],
        [
         "Ann Steele",
         "2014",
         71.95
        ],
        [
         "Karen Bern",
         "2016",
         -18.18
        ],
        [
         "Roland Schwarz",
         "2015",
         5.01
        ],
        [
         "Bil Overfelt",
         "2016",
         358.03000000000003
        ],
        [
         "Xylona Preis",
         "2017",
         80.12
        ],
        [
         "Alice Mccarthy",
         "2015",
         178.9
        ],
        [
         "Patrick Gardner",
         "2014",
         54.45
        ],
        [
         "Maureen Fritzler",
         "2016",
         118.46000000000001
        ],
        [
         "Dennis Kane",
         "2017",
         2.6499999999999986
        ],
        [
         "Thomas Thornton",
         "2017",
         147.47
        ],
        [
         "Raymond Buch",
         "2017",
         6780.9
        ],
        [
         "Anna Gayman",
         "2015",
         -25.990000000000002
        ],
        [
         "Helen Waerman",
         "2015",
         17.2
        ],
        [
         "Robert Dilbeck",
         "2017",
         757.41
        ],
        [
         "Robert Waldorf",
         "2017",
         710.1800000000001
        ],
        [
         "Logan Currie",
         "2017",
         2.3999999999999773
        ],
        [
         "Jessica Myrick",
         "2017",
         18.560000000000002
        ],
        [
         "Becky Pak",
         "2015",
         431.98
        ],
        [
         "Shirley Schmidt",
         "2016",
         14.87
        ],
        [
         "Philip Fox",
         "2017",
         50.65
        ],
        [
         "David Flashing",
         "2016",
         -397.13000000000005
        ],
        [
         "David Philippe",
         "2014",
         -41.94
        ],
        [
         "Scott Cohen",
         "2014",
         96.77
        ],
        [
         "Resi Plking",
         "2015",
         19.71
        ],
        [
         "Michael Nguyen",
         "2016",
         5.52
        ],
        [
         "Ross Devincentis",
         "2016",
         115.75999999999999
        ],
        [
         "Karen Danels",
         "2014",
         -1340.6
        ],
        [
         "Emily Grady",
         "2016",
         46.31
        ],
        [
         "Mike Vitt Orini",
         "2014",
         11.9
        ],
        [
         "Jason Klamczynski",
         "2017",
         26.35
        ],
        [
         "Justin Ritter",
         "2017",
         255.76999999999998
        ],
        [
         "Frank Carlisle",
         "2017",
         209.39999999999998
        ],
        [
         "Juliana Krohn",
         "2015",
         228.9
        ],
        [
         "Seth Vernon",
         "2015",
         -191.64000000000001
        ],
        [
         "Stewart Carmichael",
         "2016",
         -734.27
        ],
        [
         "Patrick Obrill",
         "2015",
         7.32
        ],
        [
         "Nora Preis",
         "2017",
         71.95
        ],
        [
         "Andy Reiter",
         "2014",
         20.12
        ],
        [
         "Neil Franzsisch",
         "2016",
         -18.84
        ],
        [
         "Matthew Clasen",
         "2017",
         -317.03000000000003
        ],
        [
         "Shaun Chance",
         "2015",
         375.28000000000003
        ],
        [
         "Anna Chung",
         "2017",
         -32.34
        ],
        [
         "Paul Prost",
         "2014",
         472.39
        ],
        [
         "Jeremy Pistek",
         "2017",
         419.33
        ],
        [
         "James Lanier",
         "2017",
         110.48
        ],
        [
         "Frank Merwin",
         "2017",
         508.6300000000001
        ],
        [
         "Greg Guthrie",
         "2017",
         -22.080000000000005
        ],
        [
         "Annie Thurman",
         "2017",
         111.72
        ],
        [
         "Katherine Nockton",
         "2014",
         29.95
        ],
        [
         "Kean Thornton",
         "2017",
         34.32000000000001
        ],
        [
         "Beth Paige",
         "2014",
         -70.1
        ],
        [
         "Cynthia Voltz",
         "2017",
         134.09
        ],
        [
         "Jennifer Jackson",
         "2015",
         181.85
        ],
        [
         "Jim Kriz",
         "2014",
         10.19
        ],
        [
         "Lindsay Shagiari",
         "2017",
         229.37
        ],
        [
         "Arthur Wiediger",
         "2014",
         -42.56
        ],
        [
         "Jonathan Doherty",
         "2016",
         1179.82
        ],
        [
         "Stefania Perrino",
         "2015",
         -0.6200000000000001
        ],
        [
         "Susan Mackendrick",
         "2016",
         -16510.34
        ],
        [
         "Mike Caudle",
         "2014",
         24.98
        ],
        [
         "Laura Armstrong",
         "2017",
         16.07
        ],
        [
         "Toby Ritter",
         "2017",
         76.8
        ],
        [
         "Philip Fox",
         "2016",
         478.68
        ],
        [
         "Benjamin Farhat",
         "2016",
         173.24
        ],
        [
         "Stewart Visinsky",
         "2017",
         9.29
        ],
        [
         "Roland Murray",
         "2017",
         28.68
        ],
        [
         "Maria Bertelson",
         "2015",
         77.99
        ],
        [
         "Henry Goldwyn",
         "2014",
         2.45
        ],
        [
         "Nicole Fjeld",
         "2014",
         42.35
        ],
        [
         "Hilary Holden",
         "2017",
         26.46
        ],
        [
         "Kristen Hastings",
         "2016",
         7.18
        ],
        [
         "Lisa Hazard",
         "2015",
         -27.0
        ],
        [
         "Ken Brennan",
         "2014",
         2.85
        ],
        [
         "Corinna Mitchell",
         "2017",
         855.9300000000001
        ],
        [
         "Adam Shillingsburg",
         "2014",
         129.54999999999998
        ],
        [
         "Mitch Willingham",
         "2017",
         216.0
        ],
        [
         "Randy Bradley",
         "2017",
         -74.30999999999999
        ],
        [
         "Allen Armold",
         "2015",
         69.03
        ],
        [
         "Thomas Seio",
         "2016",
         104.77000000000001
        ],
        [
         "Nat Carroll",
         "2015",
         323.65
        ],
        [
         "Pauline Johnson",
         "2016",
         30.4
        ],
        [
         "Karen Ferguson",
         "2014",
         82.52
        ],
        [
         "Jim Epp",
         "2014",
         27.19
        ],
        [
         "Patrick Obrill",
         "2014",
         56.31
        ],
        [
         "Cari Schnelling",
         "2017",
         14.92
        ],
        [
         "Neola Schneider",
         "2017",
         -52.71
        ],
        [
         "Daniel Byrd",
         "2017",
         280.91999999999996
        ],
        [
         "Mark Hamilton",
         "2016",
         375.67
        ],
        [
         "Shirley Daniels",
         "2016",
         20.82
        ],
        [
         "Patrick Jones",
         "2015",
         382.38
        ],
        [
         "Heather Jas",
         "2016",
         55.989999999999995
        ],
        [
         "Barry Blumstein",
         "2017",
         6.92
        ],
        [
         "Sample Company A",
         "2015",
         9.1
        ],
        [
         "Nick Crebassa",
         "2017",
         607.03
        ],
        [
         "Adam Shillingsburg",
         "2016",
         22.549999999999997
        ],
        [
         "Victoria Pisteka",
         "2015",
         -204.15
        ],
        [
         "Evan Bailliet",
         "2017",
         3.52
        ],
        [
         "Marybeth Skach",
         "2014",
         2.6899999999999995
        ],
        [
         "Damala Kotsonis",
         "2014",
         -22.36
        ],
        [
         "Laurel Workman",
         "2017",
         2.32
        ],
        [
         "Michael Moore",
         "2017",
         -48.11
        ],
        [
         "Julie Creighton",
         "2017",
         62.3
        ],
        [
         "Lisa Hazard",
         "2014",
         -79.34
        ],
        [
         "Barry Pond",
         "2017",
         20.43
        ],
        [
         "Alex Grayson",
         "2017",
         -67.1
        ],
        [
         "Dave Brooks",
         "2017",
         -231.31
        ],
        [
         "Michelle Ellison",
         "2014",
         104.97999999999999
        ],
        [
         "Ed Braxton",
         "2017",
         10.600000000000009
        ],
        [
         "Sue Ann Reed",
         "2017",
         177.84999999999997
        ],
        [
         "Ricardo Sperren",
         "2016",
         14.42
        ],
        [
         "Eugene Barchas",
         "2017",
         -47.4
        ],
        [
         "Dan Campbell",
         "2015",
         4.89
        ],
        [
         "Matthew Grinstein",
         "2016",
         204.85
        ],
        [
         "Carol Adams",
         "2017",
         16.48
        ],
        [
         "Dario Medina",
         "2017",
         7.14
        ],
        [
         "Bil Donatelli",
         "2016",
         97.22999999999999
        ],
        [
         "Allen Armold",
         "2014",
         16.72
        ],
        [
         "Guy Thornton",
         "2015",
         27.2
        ],
        [
         "Ben Ferrer",
         "2015",
         137.03
        ],
        [
         "Nancy Lomonaco",
         "2016",
         18.66
        ],
        [
         "Dennis Pardue",
         "2015",
         -223.85
        ],
        [
         "Jane Waco",
         "2015",
         89.2
        ],
        [
         "Carlos Daly",
         "2014",
         11.7
        ],
        [
         "Alice Mccarthy",
         "2016",
         9.98
        ],
        [
         "Hallie Redmond",
         "2014",
         1.6
        ],
        [
         "George Ashbrook",
         "2014",
         22.41
        ],
        [
         "Nathan Mautz",
         "2017",
         4.35
        ],
        [
         "Lindsay Castell",
         "2016",
         21.27
        ],
        [
         "Victoria Pisteka",
         "2016",
         31.65
        ],
        [
         "Scot Coram",
         "2017",
         4.18
        ],
        [
         "Sonia Cooley",
         "2017",
         70.27000000000001
        ],
        [
         "Bil Tyler",
         "2015",
         185.37
        ],
        [
         "NA",
         "2015",
         2096.2299999999996
        ],
        [
         "Craig Leslie",
         "2017",
         164.91
        ],
        [
         "Tim Brockman",
         "2015",
         318.53
        ],
        [
         "Harold Pawlan",
         "2017",
         293.88
        ],
        [
         "Toby Swindell",
         "2014",
         -285.0
        ],
        [
         "Patrick Ryan",
         "2015",
         38.269999999999996
        ],
        [
         "Helen Abelman",
         "2015",
         111.28999999999999
        ],
        [
         "Nancy Lomonaco",
         "2014",
         8.28
        ],
        [
         "Harry Greene",
         "2014",
         21.6
        ],
        [
         "Joe Kamberova",
         "2016",
         194.58
        ],
        [
         "Maribeth Chnelling",
         "2016",
         511.42
        ],
        [
         "Gary Mitchum",
         "2017",
         374.62
        ],
        [
         "Matt Collins",
         "2017",
         138.9
        ],
        [
         "Candace Mcmahon",
         "2017",
         185.93
        ],
        [
         "Becky Castell",
         "2016",
         62.26
        ],
        [
         "Alejandro Grove",
         "2017",
         1.5
        ],
        [
         "Sara Luxemburg",
         "2015",
         64.77
        ],
        [
         "Chris Selesnick",
         "2016",
         22.14
        ],
        [
         "Sylvia Foulston",
         "2015",
         448.97999999999996
        ],
        [
         "Rose Obrian",
         "2015",
         -997.9999999999998
        ],
        [
         "Patrick Gardner",
         "2015",
         -564.6800000000001
        ],
        [
         "James Lanier",
         "2016",
         -2.0
        ],
        [
         "Sean Wendt",
         "2017",
         -50.25
        ],
        [
         "Mike Gockenbach",
         "2015",
         -137.49
        ],
        [
         "Larry Blacks",
         "2017",
         7.91
        ],
        [
         "Dorothy Dickinson",
         "2017",
         51.970000000000006
        ],
        [
         "Mike Pelletier",
         "2017",
         119.69
        ],
        [
         "Sarah Foster",
         "2017",
         294.84
        ],
        [
         "Patrick Gardner",
         "2017",
         96.42
        ],
        [
         "Sheri Gordon",
         "2016",
         -18.45
        ],
        [
         "Katherine Murray",
         "2014",
         955.8600000000001
        ],
        [
         "Sean Wendt",
         "2016",
         146.09
        ],
        [
         "Skye Norling",
         "2015",
         184.57999999999998
        ],
        [
         "Herbert Flentye",
         "2014",
         125.16000000000001
        ],
        [
         "Magdelene Morse",
         "2014",
         51.36
        ],
        [
         "Ivan Liston",
         "2014",
         6.91
        ],
        [
         "Sean Braxton",
         "2015",
         79.76
        ],
        [
         "Lindsay Williams",
         "2017",
         340.51
        ],
        [
         "Shahi  Collister",
         "2014",
         -3462.2
        ],
        [
         "Jas Ocarroll",
         "2016",
         51.21
        ],
        [
         "Stewart Carmichael",
         "2017",
         -83.43
        ],
        [
         "Seth Vernon",
         "2017",
         1570.94
        ],
        [
         "Mark Van Huff",
         "2016",
         106.42
        ],
        [
         "Andrew Allen",
         "2014",
         9.89
        ],
        [
         "Victor Preis",
         "2017",
         196.45999999999998
        ],
        [
         "Adrian Barton",
         "2015",
         -142.67000000000002
        ],
        [
         "Randy Bradley",
         "2014",
         -90.1
        ],
        [
         "Denise Monton",
         "2016",
         -61.900000000000034
        ],
        [
         "Alejandro Ballentine",
         "2017",
         197.67000000000002
        ],
        [
         "Sung Chung",
         "2017",
         29.95
        ],
        [
         "Nat Carroll",
         "2017",
         213.1
        ],
        [
         "Sean Braxton",
         "2016",
         16.89
        ],
        [
         "Ralph Arnett",
         "2017",
         317.48
        ],
        [
         "Thais Sissman",
         "2017",
         -1.97
        ],
        [
         "Jennifer Ferguson",
         "2015",
         56.64
        ],
        [
         "Stephanie Ulpright",
         "2016",
         64.19
        ],
        [
         "John Castell",
         "2017",
         117.31
        ],
        [
         "Justin Deggeller",
         "2016",
         272.19999999999993
        ],
        [
         "John Lee",
         "2017",
         837.23
        ],
        [
         "Peter Mcvee",
         "2016",
         30.35
        ],
        [
         "Michael Paige",
         "2017",
         116.44999999999999
        ],
        [
         "Troy Blackwell",
         "2016",
         -144.59
        ],
        [
         "Pete Takahito",
         "2014",
         -8.03
        ],
        [
         "Ionia Mcgrath",
         "2014",
         19.24
        ],
        [
         "Greg Guthrie",
         "2016",
         15.930000000000001
        ],
        [
         "Shahi  Collister",
         "2017",
         270.2900000000001
        ],
        [
         "Christopher Martinez",
         "2017",
         702.26
        ],
        [
         "Liz Preis",
         "2017",
         259.09000000000003
        ],
        [
         "Corinna Mitchell",
         "2016",
         599.89
        ],
        [
         "Jim Mitchum",
         "2017",
         43.58
        ],
        [
         "Michelle Arnett",
         "2015",
         3.48
        ],
        [
         "Eugene Moren",
         "2015",
         271.40999999999997
        ],
        [
         "Stefania Perrino",
         "2016",
         -171.23
        ],
        [
         "Joe Kamberova",
         "2015",
         35.95
        ],
        [
         "Grant Thornton",
         "2014",
         -292.19
        ],
        [
         "Rob Haberlin",
         "2016",
         7.25
        ],
        [
         "Neil Knudson",
         "2016",
         39.41
        ],
        [
         "Lindsay Williams",
         "2016",
         322.32
        ],
        [
         "Marc Harrigan",
         "2016",
         57.21
        ],
        [
         "Gary Hwang",
         "2014",
         1070.52
        ],
        [
         "Jill Fjeld",
         "2017",
         -1.4899999999999958
        ],
        [
         "Justin Ellison",
         "2016",
         776.3499999999999
        ],
        [
         "Logan Currie",
         "2016",
         235.33
        ],
        [
         "Ann Blume",
         "2017",
         -256.46000000000004
        ],
        [
         "Anthony Johnson",
         "2017",
         255.24
        ],
        [
         "Mary Orourke",
         "2014",
         6.04
        ],
        [
         "Ben Wallace",
         "2014",
         87.44999999999999
        ],
        [
         "Kristina Nunn",
         "2014",
         180.66
        ],
        [
         "Aimee Bixby",
         "2014",
         261.2
        ],
        [
         "Marc Crier",
         "2014",
         235.23000000000002
        ],
        [
         "Valerie Mitchum",
         "2017",
         67.41
        ],
        [
         "Ashley Jarboe",
         "2014",
         3.4
        ],
        [
         "Tim Brockman",
         "2014",
         13.810000000000002
        ],
        [
         "Chad Mcguire",
         "2017",
         400.46999999999997
        ],
        [
         "Brian Decherney",
         "2017",
         78.1
        ],
        [
         "Catherine Glotzbach",
         "2017",
         21.87
        ],
        [
         "Katharine Harms",
         "2016",
         43.9
        ],
        [
         "Muhammed Yedwab",
         "2016",
         -290.17
        ],
        [
         "Carlos Daly",
         "2017",
         349.81999999999994
        ],
        [
         "Dean Percer",
         "2015",
         1145.83
        ],
        [
         "Christine Sundaresam",
         "2014",
         77.03
        ],
        [
         "Giulietta Baptist",
         "2015",
         767.5999999999999
        ],
        [
         "Michael Moore",
         "2015",
         -373.3
        ],
        [
         "Maureen Gastineau",
         "2015",
         -1.2
        ],
        [
         "Rob Dowd",
         "2014",
         341.38
        ],
        [
         "Darren Koutras",
         "2014",
         -8.08
        ],
        [
         "Lori Olson",
         "2015",
         34.45
        ],
        [
         "Robert Waldorf",
         "2016",
         -2.63
        ],
        [
         "Mark Cousins",
         "2015",
         27.95
        ],
        [
         "Fred Mcmath",
         "2016",
         134.91000000000003
        ],
        [
         "Guy Armstrong",
         "2015",
         11.54
        ],
        [
         "Ed Braxton",
         "2014",
         -127.41999999999999
        ],
        [
         "Maribeth Dona",
         "2017",
         -194.56
        ],
        [
         "Jay Fein",
         "2017",
         128.34
        ],
        [
         "Olvera Toch",
         "2016",
         -1182.11
        ],
        [
         "Lori Olson",
         "2017",
         115.71000000000001
        ],
        [
         "Edward Nazzal",
         "2017",
         6.55
        ],
        [
         "Cynthia Arntzen",
         "2015",
         -101.6
        ],
        [
         "Henry Goldwyn",
         "2015",
         34.839999999999996
        ],
        [
         "Dorothy Wardle",
         "2015",
         -371.25
        ],
        [
         "Dave Kipp",
         "2017",
         400.99
        ],
        [
         "Kelly Andreada",
         "2016",
         67.44
        ],
        [
         "Liz Thompson",
         "2017",
         -22.02
        ],
        [
         "Anna Chung",
         "2016",
         8.609999999999998
        ],
        [
         "Aleksandra Gannaway",
         "2014",
         28.75
        ],
        [
         "Robert Barroso",
         "2015",
         28.429999999999996
        ],
        [
         "Edward Becker",
         "2015",
         177.41000000000003
        ],
        [
         "Carlos Soltero",
         "2017",
         70.94
        ],
        [
         "Mike Kennedy",
         "2017",
         209.04
        ],
        [
         "Ivan Gibson",
         "2014",
         28.349999999999998
        ],
        [
         "Chuck Clark",
         "2017",
         96.83999999999997
        ],
        [
         "Elizabeth Moffitt",
         "2016",
         -8.32
        ],
        [
         "Tracy P Oddar",
         "2017",
         -0.03999999999999915
        ],
        [
         "Jim Epp",
         "2016",
         22.24
        ],
        [
         "Joe Elijah",
         "2016",
         1210.6599999999999
        ],
        [
         "Doug Jacobs",
         "2016",
         25.78
        ],
        [
         "Anne Pryor",
         "2015",
         -1.36
        ],
        [
         "Tonja Turnell",
         "2016",
         2.4
        ],
        [
         "Thea Hudgings",
         "2014",
         5.45
        ],
        [
         "Alan Hwang",
         "2015",
         269.15000000000003
        ],
        [
         "Joy Smith",
         "2016",
         451.91999999999996
        ],
        [
         "Barry Blumstein",
         "2015",
         -8.219999999999999
        ],
        [
         "Mick Brown",
         "2017",
         67.85
        ],
        [
         "Tanja Norvell",
         "2014",
         21.25
        ],
        [
         "Steve Chapman",
         "2014",
         52.53
        ],
        [
         "Nick Zandusky",
         "2016",
         -30.610000000000007
        ],
        [
         "Sanjit Jacobs",
         "2017",
         -56.58
        ],
        [
         "Darrin Sayre",
         "2014",
         29.470000000000002
        ],
        [
         "Michelle Moray",
         "2017",
         -403.75999999999993
        ],
        [
         "Doug Bickford",
         "2017",
         60.5
        ],
        [
         "Giulietta Baptist",
         "2016",
         73.22
        ],
        [
         "Daniel Raglin",
         "2014",
         22.68
        ],
        [
         "Steven Cartwright",
         "2016",
         273.18
        ],
        [
         "Paul  Van Hugh",
         "2017",
         283.49
        ],
        [
         "Steven Cartwright",
         "2015",
         404.63
        ],
        [
         "Chad Mcguire",
         "2015",
         8.11
        ],
        [
         "Vivek Grady",
         "2016",
         28.14
        ],
        [
         "Julie Kriz",
         "2016",
         108.52000000000001
        ],
        [
         "Maribeth Dona",
         "2015",
         51.66
        ],
        [
         "Gary Hansen",
         "2016",
         -173.07999999999996
        ],
        [
         "Beth Thompson",
         "2014",
         290.89
        ],
        [
         "Daniel Byrd",
         "2016",
         146.82999999999998
        ],
        [
         "Giulietta Dortch",
         "2014",
         5.0
        ],
        [
         "Cthy Armstrong",
         "2015",
         -47.73
        ],
        [
         "Carol Adams",
         "2016",
         899.98
        ],
        [
         "Erin  Mull",
         "2016",
         -8.0
        ],
        [
         "Herbert Flentye",
         "2017",
         20.490000000000002
        ],
        [
         "Scot Coram",
         "2016",
         435.65
        ],
        [
         "Jason Fortune",
         "2017",
         59.94
        ],
        [
         "Harry Marie",
         "2014",
         -79.13
        ],
        [
         "Barbara Fisher",
         "2014",
         61.99
        ],
        [
         "Denise Leinenbach",
         "2014",
         0.35
        ],
        [
         "Andy Reiter",
         "2016",
         9.53
        ],
        [
         "Susan Pistek",
         "2014",
         24.22
        ],
        [
         "Skye Norling",
         "2017",
         -1130.43
        ],
        [
         "Ted Butterfield",
         "2017",
         122.05
        ],
        [
         "Ed Ludwig",
         "2017",
         18.45
        ],
        [
         "Cyma Kinney",
         "2016",
         101.86
        ],
        [
         "Carl Ludwig",
         "2014",
         -29.34
        ],
        [
         "Paul  Van Hugh",
         "2014",
         -4.5600000000000005
        ],
        [
         "Edward Becker",
         "2017",
         -397.51
        ],
        [
         "Roy Phan",
         "2017",
         11.95
        ],
        [
         "Paul Prost",
         "2017",
         247.92999999999998
        ],
        [
         "Art Foster",
         "2016",
         -5.75
        ],
        [
         "Brad Norvell",
         "2014",
         24.68
        ],
        [
         "Rob Beeghly",
         "2017",
         82.88
        ],
        [
         "Barry Weirich",
         "2017",
         -77.13
        ],
        [
         "Beth Paige",
         "2017",
         -183.00000000000003
        ],
        [
         "Maya Herman",
         "2017",
         3.35
        ],
        [
         "Eric Murdock",
         "2017",
         50.37
        ],
        [
         "Ralph Kennedy",
         "2017",
         4.11
        ],
        [
         "Paul Stevenson",
         "2017",
         44.94
        ],
        [
         "Pauline Johnson",
         "2015",
         40.07
        ],
        [
         "Trudy Brown",
         "2017",
         233.35999999999996
        ],
        [
         "Carol Adams",
         "2014",
         44.769999999999996
        ],
        [
         "Justin Mackendrick",
         "2016",
         23.86
        ],
        [
         "Dorris Liebe",
         "2014",
         29.169999999999998
        ],
        [
         "Cyma Kinney",
         "2015",
         14.5
        ],
        [
         "Matt Abelman",
         "2014",
         562.98
        ],
        [
         "Deborah Brumfield",
         "2017",
         -15.549999999999983
        ],
        [
         "Susan Pistek",
         "2017",
         -18.55
        ],
        [
         "Alex Russell",
         "2017",
         23.959999999999997
        ],
        [
         "Chad Sievert",
         "2014",
         84.36
        ],
        [
         "Olvera Toch",
         "2015",
         81.0
        ],
        [
         "Joy Bell",
         "2016",
         15.969999999999999
        ],
        [
         "Ricardo Sperren",
         "2014",
         318.93
        ],
        [
         "Cynthia Voltz",
         "2016",
         -35.39
        ],
        [
         "Michael Kennedy",
         "2015",
         0.6
        ],
        [
         "Laurel Beltran",
         "2016",
         -658.6199999999999
        ],
        [
         "Annie Zypern",
         "2017",
         15.0
        ],
        [
         "Jack Obriant",
         "2016",
         440.01
        ],
        [
         "Evan Henry",
         "2017",
         6.42
        ],
        [
         "Peter Mcvee",
         "2015",
         426.81
        ],
        [
         "Arthur Wiediger",
         "2016",
         -213.35000000000002
        ],
        [
         "Lena Hernandez",
         "2017",
         65.22
        ],
        [
         "Delfina Latchford",
         "2014",
         -11.889999999999999
        ],
        [
         "Christina Anderson",
         "2017",
         119.67
        ],
        [
         "Corey Roper",
         "2014",
         114.4
        ],
        [
         "Dave Poirier",
         "2015",
         16.29
        ],
        [
         "Jason Gross",
         "2017",
         26.519999999999996
        ],
        [
         "Penelope Sewall",
         "2016",
         6.32
        ],
        [
         "Quincy Jones",
         "2016",
         168.88000000000002
        ],
        [
         "Saphhira Shifley",
         "2017",
         387.72999999999996
        ],
        [
         "Katherine Ducich",
         "2014",
         57.68
        ],
        [
         "Clay Rozendal",
         "2016",
         -34.400000000000006
        ],
        [
         "Steven Roelle",
         "2015",
         2.4000000000000004
        ],
        [
         "Shahi  Collister",
         "2015",
         52.910000000000004
        ],
        [
         "Dave Hallsten",
         "2017",
         106.98
        ],
        [
         "Pete Armstrong",
         "2015",
         121.57
        ],
        [
         "Denny Ordway",
         "2017",
         83.17
        ],
        [
         "Beth Thompson",
         "2017",
         39.23
        ],
        [
         "Monica Federle",
         "2015",
         152.73000000000002
        ],
        [
         "John Murray",
         "2014",
         1228.18
        ],
        [
         "Dianna Arnett",
         "2017",
         35.07
        ],
        [
         "Paul Macintyre",
         "2014",
         21.06
        ],
        [
         "Richard Bierner",
         "2014",
         62.519999999999996
        ],
        [
         "Julia West",
         "2015",
         133.51
        ],
        [
         "Corinna Mitchell",
         "2015",
         116.62
        ],
        [
         "Catherine Glotzbach",
         "2016",
         58.68
        ],
        [
         "Dave Brooks",
         "2014",
         409.76
        ],
        [
         "Jasper Cacioppo",
         "2014",
         1.33
        ],
        [
         "Penelope Sewall",
         "2015",
         1493.94
        ],
        [
         "Liz Willingham",
         "2016",
         165.8
        ],
        [
         "Alan Shonely",
         "2016",
         23.18
        ],
        [
         "James Lanier",
         "2014",
         59.49
        ],
        [
         "Steve Carroll",
         "2014",
         31.53
        ],
        [
         "Muhammed Macintyre",
         "2014",
         -51.52
        ],
        [
         "Christine Sundaresam",
         "2016",
         10.32
        ],
        [
         "Sally Knutson",
         "2017",
         165.35
        ],
        [
         "Grace Kelly",
         "2015",
         86.65
        ],
        [
         "Beth Fritzler",
         "2017",
         38.0
        ],
        [
         "Laurel Beltran",
         "2017",
         627.99
        ],
        [
         "Anna Andreadi",
         "2014",
         77.63999999999999
        ],
        [
         "Brian Dahlen",
         "2016",
         48.85
        ],
        [
         "Tony Chapman",
         "2014",
         -16.47
        ],
        [
         "Luke Foster",
         "2017",
         71.54
        ],
        [
         "Carol Triggs",
         "2016",
         -303.26
        ],
        [
         "Julia Barnett",
         "2017",
         9.89
        ],
        [
         "Russell Applegate",
         "2014",
         278.43
        ],
        [
         "George Ashbrook",
         "2015",
         625.8499999999999
        ],
        [
         "Keith Herrera",
         "2015",
         227.56999999999996
        ],
        [
         "Brenda Bowman",
         "2016",
         431.81000000000006
        ],
        [
         "Katherine Murray",
         "2017",
         -140.70000000000002
        ],
        [
         "Jonathan Howell",
         "2015",
         48.660000000000004
        ],
        [
         "Liz Willingham",
         "2014",
         21.75
        ],
        [
         "Muhammed Lee",
         "2015",
         1.16
        ],
        [
         "Quincy Jones",
         "2017",
         -99.7
        ],
        [
         "Bradley Talbott",
         "2016",
         -4.379999999999999
        ],
        [
         "Ken Lonsdale",
         "2017",
         163.68
        ],
        [
         "Benjamin Patterson",
         "2017",
         20.58
        ],
        [
         "Natalie Fritzler",
         "2014",
         186.74
        ],
        [
         "Thomas Brumley",
         "2014",
         161.97
        ],
        [
         "Sam Zeldin",
         "2016",
         49.32
        ],
        [
         "Noel Staavos",
         "2015",
         151.68
        ],
        [
         "Andy Yotov",
         "2017",
         31.04
        ],
        [
         "Jay Fein",
         "2015",
         161.10999999999999
        ],
        [
         "Fred Hopkins",
         "2014",
         -172.46
        ],
        [
         "Jeremy Farry",
         "2016",
         13.11
        ],
        [
         "Emily Burns",
         "2015",
         242.29999999999998
        ],
        [
         "Bobby Elias",
         "2017",
         178.70999999999998
        ],
        [
         "Craig Reiter",
         "2016",
         59.57
        ],
        [
         "Tony Chapman",
         "2016",
         32.39
        ],
        [
         "Brooke Gillingham",
         "2014",
         9.7
        ],
        [
         "Marina Lichtenstein",
         "2015",
         -4.94
        ],
        [
         "Roy Franzsisch",
         "2014",
         16.17
        ],
        [
         "Nathan Gelder",
         "2017",
         28.279999999999994
        ],
        [
         "Jay Kimmel",
         "2017",
         70.21000000000001
        ],
        [
         "Craig Carreira",
         "2015",
         8.57
        ],
        [
         "Bart Folk",
         "2017",
         107.03000000000002
        ],
        [
         "Nathan Cano",
         "2014",
         10.04
        ],
        [
         "Darrin Martin",
         "2014",
         1600.0600000000002
        ],
        [
         "Charles Crestani",
         "2014",
         78.74
        ],
        [
         "Anthony Johnson",
         "2014",
         503.26
        ],
        [
         "Denise Monton",
         "2015",
         2.84
        ],
        [
         "Roland Fjeld",
         "2017",
         391.47
        ],
        [
         "Don Weiss",
         "2016",
         16.01
        ],
        [
         "Andrew Roberts",
         "2014",
         -8.41
        ],
        [
         "Anthony Garverick",
         "2014",
         -4.12
        ],
        [
         "Logan Currie",
         "2015",
         19.4
        ],
        [
         "Rob Lucas",
         "2014",
         42.29
        ],
        [
         "Pierre Wener",
         "2016",
         -0.59
        ],
        [
         "Roger Demir",
         "2015",
         23.85
        ],
        [
         "Brad Eason",
         "2016",
         71.07
        ],
        [
         "Alan Hwang",
         "2017",
         946.6500000000001
        ],
        [
         "Arianne Irving",
         "2014",
         288.24
        ],
        [
         "Christy Brittain",
         "2015",
         -3.49
        ],
        [
         "Janet Molinari",
         "2014",
         59.06
        ],
        [
         "Brendan Sweed",
         "2016",
         12.36
        ],
        [
         "Michelle Huthwaite",
         "2014",
         10.65
        ],
        [
         "Ionia Mcgrath",
         "2016",
         956.54
        ],
        [
         "Anne Pryor",
         "2017",
         -11.07
        ],
        [
         "Sibella Parks",
         "2017",
         81.96
        ],
        [
         "Sam Craven",
         "2015",
         43.32
        ],
        [
         "Ken Brennan",
         "2017",
         259.43
        ],
        [
         "Trudy Brown",
         "2015",
         -8.469999999999992
        ],
        [
         "Rick Hansen",
         "2014",
         34.94
        ],
        [
         "Jill Matthias",
         "2017",
         -0.6
        ],
        [
         "Scott Williamson",
         "2014",
         11.0
        ],
        [
         "Ellis Ballard",
         "2017",
         81.7
        ],
        [
         "Jay Kimmel",
         "2015",
         37.339999999999996
        ],
        [
         "Brooke Gillingham",
         "2015",
         28.310000000000002
        ],
        [
         "Edward Hooks",
         "2015",
         224.82999999999998
        ],
        [
         "Liz Carlisle",
         "2016",
         225.26
        ],
        [
         "Roy Collins",
         "2016",
         56.69
        ],
        [
         "Ad       Am Hart",
         "2016",
         332.64
        ],
        [
         "Filia Mcadams",
         "2014",
         228.76999999999998
        ],
        [
         "Justin Deggeller",
         "2014",
         17.560000000000002
        ],
        [
         "Zuschuss Donatelli",
         "2016",
         206.67000000000002
        ],
        [
         "Lena Hernandez",
         "2015",
         121.10999999999999
        ],
        [
         "Ellis Ballard",
         "2015",
         610.86
        ],
        [
         "Andrew Gjertsen",
         "2016",
         6.03
        ],
        [
         "Matt Abelman",
         "2016",
         28.380000000000003
        ],
        [
         "Russell Applegate",
         "2016",
         115.46000000000001
        ],
        [
         "Vivian Mathis",
         "2016",
         100.82
        ],
        [
         "Filia Mcadams",
         "2017",
         -24.75
        ],
        [
         "Lena Creighton",
         "2016",
         147.88
        ],
        [
         "Brian Decherney",
         "2014",
         108.74
        ],
        [
         "Roland Schwarz",
         "2014",
         552.0
        ],
        [
         "Stephanie Ulpright",
         "2017",
         623.1100000000001
        ],
        [
         "Erin Smith",
         "2014",
         132.57
        ],
        [
         "Grace Kelly",
         "2014",
         42.92
        ],
        [
         "Grant Thornton",
         "2017",
         -3825.3399999999997
        ],
        [
         "Clay Ludtke",
         "2015",
         490.37
        ],
        [
         "Vivek Grady",
         "2014",
         -82.88
        ],
        [
         "Erin Ashbrook",
         "2016",
         -342.69
        ],
        [
         "Catherine Glotzbach",
         "2015",
         5.76
        ],
        [
         "Seth Vernon",
         "2014",
         -218.92999999999998
        ],
        [
         "Sanjit Chand",
         "2016",
         196.19
        ],
        [
         "Brian Thompson",
         "2016",
         176.51
        ],
        [
         "Bradley Drucker",
         "2015",
         56.35
        ],
        [
         "Natalie Webber",
         "2015",
         1654.0600000000002
        ],
        [
         "Odella Nelson",
         "2015",
         -31.11
        ],
        [
         "Philip Brown",
         "2014",
         12.299999999999997
        ],
        [
         "Helen Waerman",
         "2016",
         200.26999999999998
        ],
        [
         "Stewart Visinsky",
         "2014",
         189.13
        ],
        [
         "Harry Marie",
         "2015",
         2451.01
        ],
        [
         "Nona Balk",
         "2015",
         127.06
        ],
        [
         "Bil Tyler",
         "2014",
         74.81
        ],
        [
         "Alyssa Crouse",
         "2014",
         -14.66
        ],
        [
         "Jeremy Ellison",
         "2015",
         57.22
        ],
        [
         "Dionis Lloyd",
         "2016",
         97.83999999999999
        ],
        [
         "Greg Matthias",
         "2014",
         214.53
        ],
        [
         "Christine Kargatis",
         "2014",
         326.42
        ],
        [
         "John Grady",
         "2017",
         78.02
        ],
        [
         "Anne Pryor",
         "2014",
         54.65
        ],
        [
         "Michelle Ellison",
         "2015",
         8.77
        ],
        [
         "Dana Kaydos",
         "2015",
         609.59
        ],
        [
         "Jonathan Howell",
         "2016",
         63.169999999999995
        ],
        [
         "Rose Obrian",
         "2017",
         -174.32
        ],
        [
         "Ellis Ballard",
         "2014",
         -36.36
        ],
        [
         "Pete Kriz",
         "2016",
         407.40999999999997
        ],
        [
         "Greg Tran",
         "2016",
         366.71000000000004
        ],
        [
         "Steve Nguyen",
         "2017",
         -18.19
        ],
        [
         "Darrin Sayre",
         "2017",
         164.31
        ],
        [
         "Adrian Hane",
         "2016",
         -299.15
        ],
        [
         "Sue Ann Reed",
         "2016",
         -17.11
        ],
        [
         "Fred Chung",
         "2015",
         12.6
        ],
        [
         "Cindy Stewart",
         "2015",
         17.34
        ],
        [
         "Maribeth Dona",
         "2016",
         -14.22
        ],
        [
         "Cynthia Arntzen",
         "2016",
         1.67
        ],
        [
         "David Smith",
         "2015",
         182.58
        ],
        [
         "Nra Paige",
         "2017",
         186.20999999999998
        ],
        [
         "Sarah Jordon",
         "2017",
         -26.04
        ],
        [
         "Emily Burns",
         "2016",
         84.07
        ],
        [
         "Sung Shariari",
         "2014",
         -9.150000000000006
        ],
        [
         "Jim Kriz",
         "2017",
         981.6700000000001
        ],
        [
         "Greg Maxwell",
         "2017",
         -99.18
        ],
        [
         "NA",
         "2017",
         250.93
        ],
        [
         "Muhammed Macintyre",
         "2017",
         33.04
        ],
        [
         "Heather Kirkland",
         "2015",
         300.07
        ],
        [
         "Scot Wooten",
         "2016",
         82.53
        ],
        [
         "Nathan Cano",
         "2016",
         77.75
        ],
        [
         "Alan Schoenberger",
         "2016",
         -6.21
        ],
        [
         "Darrin Martin",
         "2015",
         6.6
        ],
        [
         "Tracy Collins",
         "2017",
         22.41
        ],
        [
         "Frank Merwin",
         "2014",
         22.98
        ],
        [
         "Cynthia Delaney",
         "2015",
         2.53
        ],
        [
         "Tiffany House",
         "2016",
         70.78
        ],
        [
         "Logan Haushalter",
         "2014",
         9.58
        ],
        [
         "Valerie Dominguez",
         "2015",
         990.86
        ],
        [
         "Meg Oconnel",
         "2017",
         130.48000000000002
        ],
        [
         "Mick Crebagga",
         "2017",
         26.700000000000003
        ],
        [
         "Karen Ferguson",
         "2016",
         371.04999999999995
        ],
        [
         "Anna Gayman",
         "2017",
         38.06
        ],
        [
         "Jennifer Braxton",
         "2014",
         -124.57000000000001
        ],
        [
         "Georgia Rosenberg",
         "2014",
         359.88
        ],
        [
         "Bruce Geld",
         "2017",
         41.76
        ],
        [
         "Adrian Hane",
         "2017",
         322.56
        ],
        [
         "Tim Taslimi",
         "2015",
         61.39
        ],
        [
         "Tracy Blumstein",
         "2014",
         -125.24
        ],
        [
         "Dave Hallsten",
         "2016",
         -19.6
        ],
        [
         "Cari Schnelling",
         "2014",
         93.74
        ],
        [
         "Sean Miller",
         "2015",
         -224.82
        ],
        [
         "Craig Carroll",
         "2015",
         845.38
        ],
        [
         "Ben Ferrer",
         "2017",
         437.78
        ],
        [
         "Toby Gnade",
         "2016",
         844.6400000000001
        ],
        [
         "Michelle Arnett",
         "2017",
         31.94
        ],
        [
         "Julia Dunbar",
         "2017",
         131.89
        ],
        [
         "Pauline Webber",
         "2014",
         17.47
        ],
        [
         "Sample Company A",
         "2014",
         764.53
        ],
        [
         "Frank Gasti  Neau",
         "2017",
         76.32000000000001
        ],
        [
         "Damala Kotsonis",
         "2017",
         349.28
        ],
        [
         "Paul Macintyre",
         "2015",
         -21.71
        ],
        [
         "Barry Weirich",
         "2014",
         6.73
        ],
        [
         "Mike Pelletier",
         "2016",
         -295.64
        ],
        [
         "Charlotte Melton",
         "2017",
         74.32000000000001
        ],
        [
         "Heather Kirkland",
         "2014",
         240.86
        ],
        [
         "John Castell",
         "2016",
         70.55
        ],
        [
         "Michelle Tran",
         "2016",
         70.49
        ],
        [
         "Duane Noonan",
         "2014",
         179.71999999999997
        ],
        [
         "Vivek Gonzalez",
         "2017",
         106.1
        ],
        [
         "Allen Goldenen",
         "2016",
         -7.0
        ],
        [
         "Kat Rina Bavinger",
         "2017",
         230.9
        ],
        [
         "Michael Stewart",
         "2017",
         -20.380000000000003
        ],
        [
         "Max Engle",
         "2016",
         -1.6199999999999992
        ],
        [
         "Noah Childs",
         "2016",
         -461.2
        ],
        [
         "Jim Karlsson",
         "2015",
         438.0
        ],
        [
         "Patrick Bzostek",
         "2017",
         125.36
        ],
        [
         "Liz Pelletier",
         "2017",
         87.89
        ],
        [
         "Aimee Bixby",
         "2015",
         7.02
        ],
        [
         "Mitch Webber",
         "2015",
         24.5
        ],
        [
         "Matt Hagelstein",
         "2017",
         108.05
        ],
        [
         "Joe Kamberova",
         "2014",
         -212.60999999999996
        ],
        [
         "Dean Braden",
         "2017",
         270.95000000000005
        ],
        [
         "Erin Smith",
         "2017",
         239.29000000000002
        ],
        [
         "Kunst Miller",
         "2016",
         54.919999999999995
        ],
        [
         "Christine Abelman",
         "2016",
         2.1000000000000014
        ],
        [
         "Jennifer Halladay",
         "2014",
         18.79
        ],
        [
         "Gary Hwang",
         "2015",
         59.650000000000006
        ],
        [
         "Elizabeth Moffitt",
         "2015",
         238.46999999999997
        ],
        [
         "Eugene Moren",
         "2017",
         76.76
        ],
        [
         "Valerie Takahito",
         "2014",
         33.0
        ],
        [
         "Christopher Schild",
         "2015",
         75.7
        ],
        [
         "Steve Nguyen",
         "2016",
         375.78
        ],
        [
         "John Lee",
         "2014",
         -863.93
        ],
        [
         "Toby Braunhardt",
         "2016",
         290.98
        ],
        [
         "Sibella Parks",
         "2014",
         2.81
        ],
        [
         "Lela Donovan",
         "2016",
         0.46
        ],
        [
         "Paul Knutson",
         "2014",
         9.07
        ],
        [
         "Hunter Glantz",
         "2015",
         55.9
        ],
        [
         "Stephanie Phelps",
         "2016",
         96.47999999999999
        ],
        [
         "Pauline Webber",
         "2017",
         333.8
        ],
        [
         "Maria Bertelson",
         "2016",
         83.51
        ],
        [
         "John Dryer",
         "2017",
         10.489999999999998
        ],
        [
         "Benjamin Venier",
         "2015",
         82.28
        ],
        [
         "Rick Hansen",
         "2017",
         48.21
        ],
        [
         "Annie Thurman",
         "2014",
         71.66
        ],
        [
         "Thomas Thornton",
         "2015",
         52.51
        ],
        [
         "Katherine Ducich",
         "2017",
         20.36
        ],
        [
         "Lisa Ryan",
         "2014",
         48.129999999999995
        ],
        [
         "Trudy Brown",
         "2016",
         70.93
        ],
        [
         "Heather Kirkland",
         "2016",
         17.03
        ],
        [
         "Mary Orourke",
         "2016",
         120.86000000000001
        ],
        [
         "Tamara Manning",
         "2014",
         112.58
        ],
        [
         "Chuck Clark",
         "2015",
         60.39
        ],
        [
         "Pamela Coakley",
         "2017",
         -0.99
        ],
        [
         "Natalie Webber",
         "2014",
         -396.19000000000005
        ],
        [
         "Alejandro Grove",
         "2015",
         16.96
        ],
        [
         "Emily Phan",
         "2017",
         2.6000000000000227
        ],
        [
         "John Castell",
         "2015",
         27.63
        ],
        [
         "Eugene Hildebrand",
         "2015",
         -117.86999999999999
        ],
        [
         "Karen Bern",
         "2014",
         -1.0
        ],
        [
         "Chris Selesnick",
         "2014",
         441.40999999999997
        ],
        [
         "Craig Carroll",
         "2014",
         -45.32
        ],
        [
         "George Zrebassa",
         "2017",
         816.17
        ],
        [
         "Maribeth Dona",
         "2014",
         -84.11000000000001
        ],
        [
         "Shaun Chance",
         "2017",
         4.289999999999992
        ],
        [
         "Paul Stevenson",
         "2014",
         108.0
        ],
        [
         "Steve Chapman",
         "2015",
         222.93
        ],
        [
         "Anthony Jacobs",
         "2014",
         -56.950000000000045
        ],
        [
         "Sally Matthias",
         "2014",
         42.45
        ],
        [
         "Maxwell Schwartz",
         "2017",
         9.7
        ],
        [
         "Stefanie Holloman",
         "2015",
         190.43
        ],
        [
         "Katharine Harms",
         "2017",
         150.46
        ],
        [
         "Michelle Lonsdale",
         "2017",
         138.71
        ],
        [
         "Brendan Murry",
         "2017",
         -51.19
        ],
        [
         "Ben Ferrer",
         "2016",
         697.4699999999999
        ],
        [
         "Nathan Gelder",
         "2015",
         54.0
        ],
        [
         "Eva Jacobs",
         "2017",
         140.01999999999998
        ],
        [
         "Bart Pistole",
         "2016",
         7.82
        ],
        [
         "Paul Stevenson",
         "2016",
         3.44
        ],
        [
         "Joel Eaton",
         "2017",
         560.58
        ],
        [
         "Claudia Bergmann",
         "2015",
         249.13
        ],
        [
         "Art Ferguson",
         "2017",
         -75.19
        ],
        [
         "Liz Pelletier",
         "2014",
         0.96
        ],
        [
         "Brendan Sweed",
         "2017",
         168.47
        ],
        [
         "Bradley Talbott",
         "2017",
         347.1
        ],
        [
         "Barry Franzsisch",
         "2015",
         269.31
        ],
        [
         "Becky Castell",
         "2015",
         92.0
        ],
        [
         "Ashley Jarboe",
         "2016",
         33.22
        ],
        [
         "Alyssa Crouse",
         "2016",
         21.59
        ],
        [
         "Stewart Visinsky",
         "2015",
         209.66
        ],
        [
         "Alyssa Tate",
         "2014",
         0.8399999999999999
        ],
        [
         "Logan Currie",
         "2014",
         -26.600000000000005
        ],
        [
         "Richard Eichhorn",
         "2017",
         9.74
        ],
        [
         "Evan Henry",
         "2016",
         209.28
        ],
        [
         "Kimberly Carter",
         "2016",
         -4.949999999999999
        ],
        [
         "Michael Oakman",
         "2017",
         -2.7
        ],
        [
         "Bart Watters",
         "2017",
         720.83
        ],
        [
         "Stuart Calhoun",
         "2017",
         2.58
        ],
        [
         "Tom Stivers",
         "2014",
         17.139999999999993
        ],
        [
         "Joy Smith",
         "2017",
         -766.57
        ],
        [
         "Max Engle",
         "2015",
         39.77
        ],
        [
         "Mark Cousins",
         "2014",
         135.0
        ],
        [
         "Erica Smith",
         "2014",
         15.22
        ],
        [
         "Marybeth Skach",
         "2015",
         45.29
        ],
        [
         "Robert Marley",
         "2015",
         660.52
        ],
        [
         "Fred Mcmath",
         "2015",
         17.479999999999997
        ],
        [
         "Lena Hernandez",
         "2016",
         56.7
        ],
        [
         "Frank Preis",
         "2015",
         -140.57
        ],
        [
         "Eugene Barchas",
         "2016",
         187.62
        ],
        [
         "Paul Macintyre",
         "2016",
         158.53
        ],
        [
         "William Brown",
         "2014",
         106.41999999999999
        ],
        [
         "Todd Sumrall",
         "2014",
         16.370000000000005
        ],
        [
         "Nicole Brennan",
         "2014",
         24.79
        ],
        [
         "Max Ludwig",
         "2017",
         296.19
        ],
        [
         "Kalyca Meade",
         "2017",
         128.93
        ],
        [
         "Lindsay Shagiari",
         "2016",
         2.9399999999999995
        ],
        [
         "Dorothy Badders",
         "2014",
         8.35
        ],
        [
         "Ryan Akin",
         "2015",
         96.53999999999999
        ],
        [
         "Berenike Kampe",
         "2014",
         -14.42
        ],
        [
         "Darren Budd",
         "2015",
         45.65
        ],
        [
         "Anthony Rawles",
         "2016",
         370.3
        ],
        [
         "Sean Christensen",
         "2015",
         0.0
        ],
        [
         "Fred Harton",
         "2017",
         340.37
        ],
        [
         "Jay Kimmel",
         "2016",
         83.5
        ],
        [
         "Dorothy Dickinson",
         "2016",
         -6.9
        ],
        [
         "Pauline Chand",
         "2014",
         -11.83
        ],
        [
         "Stefania Perrino",
         "2014",
         67.46000000000001
        ],
        [
         "Evan Minnotte",
         "2015",
         4.0
        ],
        [
         "Ritsa Hightower",
         "2015",
         -6.03
        ],
        [
         "Sanjit Chand",
         "2014",
         5462.589999999999
        ],
        [
         "Christine Kargatis",
         "2017",
         -127.23
        ],
        [
         "Tim Taslimi",
         "2016",
         32.53
        ],
        [
         "Jim Mitchum",
         "2016",
         65.9
        ],
        [
         "Joy Smith",
         "2014",
         3.4
        ],
        [
         "Julia Barnett",
         "2016",
         84.96999999999998
        ],
        [
         "Grace Kelly",
         "2016",
         1315.57
        ],
        [
         "Bil Donatelli",
         "2015",
         799.49
        ],
        [
         "Amy Cox",
         "2016",
         381.04
        ],
        [
         "Paul Lucas",
         "2014",
         22.2
        ],
        [
         "Jim Karlsson",
         "2017",
         8.86
        ],
        [
         "Berenike Kampe",
         "2015",
         42.04
        ],
        [
         "Jeremy Lonsdale",
         "2014",
         41.269999999999996
        ],
        [
         "Liz Willingham",
         "2017",
         5.08
        ],
        [
         "Sharelle Roach",
         "2014",
         57.49
        ],
        [
         "Kelly Collister",
         "2016",
         635.68
        ],
        [
         "Aaron Smayling",
         "2014",
         32.23
        ],
        [
         "Tho    Mas Boland",
         "2017",
         829.65
        ],
        [
         "Tracy Hopkins",
         "2015",
         391.56
        ],
        [
         "Ryan Akin",
         "2014",
         -436.72999999999996
        ],
        [
         "Steve Carroll",
         "2016",
         100.62
        ],
        [
         "Maria Etezadi",
         "2014",
         1343.07
        ],
        [
         "Dan Lawera",
         "2016",
         311.98
        ],
        [
         "Mike Gockenbach",
         "2014",
         -152.72
        ],
        [
         "Ruben Ausman",
         "2016",
         3.89
        ],
        [
         "Dan Lawera",
         "2017",
         -6.9
        ],
        [
         "Ryan Crowe",
         "2016",
         102.93
        ],
        [
         "Ann Steele",
         "2015",
         -10.81
        ],
        [
         "Delfina Latchford",
         "2017",
         94.22999999999999
        ],
        [
         "Kristen Hastings",
         "2015",
         -36.12999999999999
        ],
        [
         "Barry Blumstein",
         "2016",
         3.01
        ],
        [
         "Eugene Moren",
         "2016",
         968.57
        ],
        [
         "Allen Armold",
         "2017",
         68.92
        ],
        [
         "Fred Mcmath",
         "2017",
         38.7
        ],
        [
         "Barry Weirich",
         "2015",
         12.11
        ],
        [
         "Christopher Schild",
         "2014",
         80.63
        ],
        [
         "Jamie Kunitz",
         "2014",
         47.81
        ],
        [
         "Angele Hood",
         "2016",
         13.45
        ],
        [
         "Linda Cazamias",
         "2017",
         12.039999999999997
        ],
        [
         "Arthur Gainer",
         "2015",
         15.89
        ],
        [
         "Tom Boeckenhauer",
         "2016",
         12.18
        ],
        [
         "Bil Donatelli",
         "2017",
         197.79
        ],
        [
         "Don Jones",
         "2017",
         57.31999999999999
        ],
        [
         "Adrian Barton",
         "2014",
         498.73
        ],
        [
         "Carlos Daly",
         "2016",
         46.94
        ],
        [
         "Toby Carlisle",
         "2017",
         231.66
        ],
        [
         "Clytie Kelty",
         "2016",
         315.73
        ],
        [
         "Carol Triggs",
         "2014",
         285.45
        ],
        [
         "Jessica Myrick",
         "2015",
         46.85000000000001
        ],
        [
         "Julie Kriz",
         "2015",
         47.93
        ],
        [
         "Alan Haines",
         "2017",
         -16.580000000000002
        ],
        [
         "Andrew Roberts",
         "2016",
         18.89
        ],
        [
         "Helen Abelman",
         "2014",
         108.8
        ],
        [
         "Ross Devincentis",
         "2017",
         195.03000000000003
        ],
        [
         "Nra Paige",
         "2016",
         246.1
        ],
        [
         "Christopher Schild",
         "2017",
         -385.83000000000004
        ],
        [
         "Maurice Satty",
         "2016",
         -93.10000000000001
        ],
        [
         "Julie Prescott",
         "2016",
         275.44
        ],
        [
         "Andrew Gjertsen",
         "2017",
         25.049999999999997
        ],
        [
         "Mick Brown",
         "2016",
         37.53999999999999
        ],
        [
         "Matt Hagelstein",
         "2016",
         -0.3699999999999992
        ],
        [
         "Bil Stewart",
         "2017",
         -228.09999999999997
        ],
        [
         "Scott Williamson",
         "2016",
         221.48
        ],
        [
         "Thea Hudgings",
         "2017",
         -181.36
        ],
        [
         "Sam Zeldin",
         "2014",
         6.490000000000002
        ],
        [
         "Clytie Kelty",
         "2017",
         211.09
        ],
        [
         "Christopher Martinez",
         "2015",
         3197.78
        ],
        [
         "Stewart Carmichael",
         "2015",
         147.72
        ],
        [
         "Cassandra Brandow",
         "2017",
         -240.17000000000007
        ],
        [
         "Stephanie Ulpright",
         "2015",
         76.4
        ],
        [
         "Charles Sheldon",
         "2016",
         18.35
        ],
        [
         "Patrick Jones",
         "2016",
         8.2
        ],
        [
         "Frank Olsen",
         "2016",
         22.560000000000002
        ],
        [
         "Elpida Rittenbach",
         "2016",
         -299.90000000000003
        ],
        [
         "Evan Bailliet",
         "2014",
         155.01999999999998
        ],
        [
         "Lindsay Shagiari",
         "2015",
         -110.19999999999999
        ],
        [
         "Michelle Ellison",
         "2017",
         -6.4
        ],
        [
         "Liz Carlisle",
         "2014",
         -128.09
        ],
        [
         "Alex Russell",
         "2015",
         -2.57
        ],
        [
         "Scot Wooten",
         "2015",
         -10.84
        ],
        [
         "Brian Thompson",
         "2014",
         -199.77
        ],
        [
         "Matt Hagelstein",
         "2015",
         14.67
        ],
        [
         "David Smith",
         "2016",
         -46.95
        ],
        [
         "Victo Ria Brennan",
         "2016",
         105.42
        ],
        [
         "Muhammed Lee",
         "2017",
         41.51
        ],
        [
         "Chris Mcafee",
         "2016",
         365.03000000000003
        ],
        [
         "Paul Stevenson",
         "2015",
         42.15
        ],
        [
         "Darrin Martin",
         "2017",
         106.76999999999998
        ],
        [
         "Ralph Ritter",
         "2017",
         -77.30000000000001
        ],
        [
         "Frank Atkinson",
         "2016",
         39.81
        ],
        [
         "Heather Kirkland",
         "2017",
         399.00999999999993
        ],
        [
         "Bil Stewart",
         "2015",
         206.62
        ],
        [
         "Nicole Hansen",
         "2017",
         635.96
        ],
        [
         "Tracy P Oddar",
         "2015",
         34.74
        ],
        [
         "Eugene Moren",
         "2014",
         2.21
        ],
        [
         "Allen Armold",
         "2016",
         122.73
        ],
        [
         "Jamie Kunitz",
         "2016",
         5.03
        ],
        [
         "Logan Haushalter",
         "2016",
         212.1
        ],
        [
         "Kelly Williams",
         "2014",
         11.25
        ],
        [
         "Ivan Liston",
         "2016",
         19.56
        ],
        [
         "Nicole Fjeld",
         "2015",
         258.1
        ],
        [
         "Joel Eaton",
         "2014",
         42.09
        ],
        [
         "Gene Mcclure",
         "2014",
         2.69
        ],
        [
         "Mary Zewe",
         "2014",
         784.8000000000001
        ],
        [
         "Shirley Jackson",
         "2016",
         253.82
        ],
        [
         "Ruben Ausman",
         "2017",
         477.7699999999999
        ],
        [
         "Ji Stevenson",
         "2014",
         -204.14
        ],
        [
         "Tony Molinari",
         "2017",
         292.53
        ],
        [
         "Fred Hopkins",
         "2015",
         2139.7400000000002
        ],
        [
         "Meg Tillman",
         "2015",
         1.7799999999999998
        ],
        [
         "Joy Bell",
         "2017",
         111.09
        ],
        [
         "Lisa Hazard",
         "2016",
         16.46
        ],
        [
         "Suzanne Mcnair",
         "2014",
         -372.11
        ],
        [
         "Jamie Frazer",
         "2015",
         17.99
        ],
        [
         "Pete Kriz",
         "2014",
         13.32
        ],
        [
         "Henry Goldwyn",
         "2017",
         -2971.38
        ],
        [
         "Nat Carroll",
         "2014",
         11.16
        ],
        [
         "Michael Grace",
         "2014",
         -4.5200000000000005
        ],
        [
         "Kelly Andreada",
         "2015",
         77.97
        ],
        [
         "Julia Dunbar",
         "2015",
         -29.25
        ],
        [
         "John Stevenson",
         "2016",
         266.74
        ],
        [
         "Jack Garza",
         "2015",
         -50.169999999999995
        ],
        [
         "Adrian Shami",
         "2016",
         1.5
        ],
        [
         "Aimee Bixby",
         "2016",
         5.44
        ],
        [
         "Russell Dascenzo",
         "2014",
         -23.29
        ],
        [
         "Henry Macallister",
         "2015",
         73.82
        ],
        [
         "Julie Kriz",
         "2017",
         -273.77
        ],
        [
         "Giulietta Dortch",
         "2017",
         364.23999999999995
        ],
        [
         "Dennis Kane",
         "2014",
         109.61
        ],
        [
         "Suzanne Mcnair",
         "2017",
         442.28
        ],
        [
         "Brendan Murry",
         "2016",
         109.44
        ],
        [
         "Ritsa Hightower",
         "2016",
         6.34
        ],
        [
         "Ryan Crowe",
         "2017",
         6.04
        ],
        [
         "Cindy Stewart",
         "2016",
         -6696.29
        ],
        [
         "Frank Olsen",
         "2014",
         245.02
        ],
        [
         "Liz Thompson",
         "2015",
         76.22
        ],
        [
         "Dean Percer",
         "2016",
         117.74000000000001
        ],
        [
         "Rob Williams",
         "2016",
         346.36999999999995
        ],
        [
         "Sung Shariari",
         "2017",
         14.82
        ],
        [
         "Craig M Olinari",
         "2014",
         207.79
        ],
        [
         "Dionis Lloyd",
         "2017",
         -200.57999999999998
        ],
        [
         "Coreylock",
         "2014",
         142.67999999999998
        ],
        [
         "Jeremy Ellison",
         "2016",
         185.63
        ],
        [
         "Andy Reiter",
         "2015",
         223.01000000000002
        ],
        [
         "Arthur Prichep",
         "2014",
         420.7
        ],
        [
         "Ad       Am Hart",
         "2017",
         -54.58
        ],
        [
         "Larry Tron",
         "2017",
         23.24
        ],
        [
         "Thea Hendricks",
         "2016",
         9.19
        ],
        [
         "Kalyca Meade",
         "2016",
         56.34
        ],
        [
         "Paul Gonzalez",
         "2015",
         174.73000000000002
        ],
        [
         "Jill Fjeld",
         "2014",
         78.55000000000001
        ],
        [
         "David Wiener",
         "2014",
         55.47
        ],
        [
         "Robert Marley",
         "2017",
         1041.91
        ],
        [
         "Michelle Huthwaite",
         "2015",
         91.16
        ],
        [
         "Stuart Van",
         "2015",
         184.20000000000002
        ],
        [
         "Christine Sundaresam",
         "2017",
         456.48
        ],
        [
         "Edward Hooks",
         "2014",
         4.050000000000004
        ],
        [
         "Bradley Nguyen",
         "2017",
         42.57
        ],
        [
         "Julie Creighton",
         "2015",
         62.81
        ],
        [
         "Lynn Smith",
         "2016",
         60.37
        ],
        [
         "Matt Collister",
         "2017",
         47.18
        ],
        [
         "Giulietta Baptist",
         "2017",
         295.02
        ],
        [
         "Bil Overfelt",
         "2017",
         -79.60000000000001
        ],
        [
         "Cathy Prescott",
         "2017",
         230.57
        ],
        [
         "Barry Pond",
         "2014",
         2.5
        ],
        [
         "Tamara Chand",
         "2016",
         8764.949999999999
        ],
        [
         "Hallie Redmond",
         "2015",
         48.12
        ],
        [
         "Ann Chong",
         "2015",
         -32.300000000000004
        ],
        [
         "Erin Smith",
         "2016",
         -99.22
        ],
        [
         "Jamie Kunitz",
         "2017",
         557.69
        ],
        [
         "Nora Pelletier",
         "2014",
         33.64
        ],
        [
         "Joe Kamberova",
         "2017",
         30.949999999999996
        ],
        [
         "Neola Schneider",
         "2016",
         19.549999999999997
        ],
        [
         "Joseph Holt",
         "2017",
         68.87
        ],
        [
         "Anthony Jacobs",
         "2016",
         -5.7
        ],
        [
         "Tamara Dahlen",
         "2015",
         -6.780000000000001
        ],
        [
         "Jane Waco",
         "2016",
         131.25
        ],
        [
         "Fred Hopkins",
         "2017",
         76.82000000000001
        ],
        [
         "NA",
         "2014",
         484.65
        ],
        [
         "Ruben Ausman",
         "2015",
         1.67
        ],
        [
         "Frank Carlisle",
         "2016",
         972.25
        ],
        [
         "Dave Poirier",
         "2016",
         486.12
        ],
        [
         "Pamela Stobb",
         "2014",
         11.88
        ],
        [
         "Dorothy Wardle",
         "2014",
         6.63
        ],
        [
         "Mick Crebagga",
         "2015",
         -57.81999999999999
        ],
        [
         "Harold Ryan",
         "2014",
         79.74000000000001
        ],
        [
         "Jesus Ocampo",
         "2015",
         153.91000000000003
        ],
        [
         "Janet Martin",
         "2017",
         -135.65
        ],
        [
         "Patrick Odonnell",
         "2014",
         132.18
        ],
        [
         "Paul  Van Hugh",
         "2016",
         155.31999999999996
        ],
        [
         "Irene Maddox",
         "2014",
         240.59999999999997
        ],
        [
         "Matt Connell",
         "2014",
         48.000000000000014
        ],
        [
         "Amy Hunt",
         "2017",
         147.87
        ],
        [
         "Clay Ludtke",
         "2014",
         199.76999999999998
        ],
        [
         "Michael Nguyen",
         "2014",
         31.17
        ],
        [
         "Sean Christensen",
         "2014",
         93.39999999999999
        ],
        [
         "Justin Ellison",
         "2017",
         13.670000000000002
        ],
        [
         "Ben Pet  Erman",
         "2016",
         -33.89
        ],
        [
         "Allen Goldenen",
         "2017",
         8.3
        ],
        [
         "Kristina Nunn",
         "2015",
         -183.10999999999999
        ],
        [
         "Susan Gilcrest",
         "2014",
         2.94
        ],
        [
         "Paul Knutson",
         "2016",
         -807.78
        ],
        [
         "Patrick Ryan",
         "2017",
         5555.93
        ],
        [
         "Matt Connell",
         "2017",
         121.69
        ],
        [
         "Brendan Murry",
         "2015",
         37.33
        ],
        [
         "B         Ecky Martin",
         "2017",
         99.9
        ],
        [
         "Ivan Liston",
         "2017",
         403.64
        ],
        [
         "Patrick Jones",
         "2017",
         43.61
        ],
        [
         "Rick Huthwaite",
         "2015",
         125.67
        ],
        [
         "Darren Powers",
         "2016",
         4.880000000000001
        ],
        [
         "Trudy Glocke",
         "2015",
         191.28
        ],
        [
         "David Philippe",
         "2015",
         1.0
        ],
        [
         "Craig M Olinari",
         "2015",
         -29.9
        ],
        [
         "Mary Zewe",
         "2016",
         -25.24
        ],
        [
         "Tom Stivers",
         "2016",
         17.05
        ],
        [
         "Matt Collister",
         "2016",
         379.01
        ],
        [
         "Marina Lichtenstein",
         "2017",
         11.1
        ],
        [
         "Jennifer Braxton",
         "2016",
         -98.62
        ],
        [
         "Carl Ludwig",
         "2017",
         353.07
        ],
        [
         "Vicky Freymann",
         "2017",
         62.480000000000004
        ],
        [
         "Joseph Airdo",
         "2017",
         -1041.9699999999998
        ],
        [
         "Chloris Kastensmidt",
         "2016",
         -128.01
        ],
        [
         "Shahi  Collister",
         "2016",
         -25.0
        ],
        [
         "Mike Caudle",
         "2015",
         9.81
        ],
        [
         "Lena Radford",
         "2014",
         604.58
        ],
        [
         "Toby Swindell",
         "2017",
         7.29
        ],
        [
         "Dan Lawera",
         "2015",
         9.04
        ],
        [
         "Saphhira Shifley",
         "2015",
         25.79
        ],
        [
         "Frank Merwin",
         "2016",
         -356.98
        ],
        [
         "Craig Reiter",
         "2014",
         -6.02
        ],
        [
         "Vicky Freymann",
         "2014",
         -158.76
        ],
        [
         "Alan Shonely",
         "2014",
         37.35
        ],
        [
         "Luke Foster",
         "2016",
         0.72
        ],
        [
         "Arthur Gainer",
         "2014",
         144.46
        ],
        [
         "Andy Gerbode",
         "2014",
         -93.53
        ],
        [
         "Bradley Talbott",
         "2014",
         66.77
        ],
        [
         "Phillip Flathmann",
         "2016",
         513.27
        ],
        [
         "Sarah Foster",
         "2015",
         -103.4
        ],
        [
         "Darrin Van Huff",
         "2016",
         17.479999999999997
        ],
        [
         "Chloris Kastensmidt",
         "2017",
         181.07999999999998
        ],
        [
         "Nancy Lomonaco",
         "2015",
         34.59
        ],
        [
         "Nick Zandusky",
         "2017",
         102.32
        ],
        [
         "Katherine Murray",
         "2015",
         29.310000000000002
        ],
        [
         "Mike Kennedy",
         "2016",
         41.08
        ],
        [
         "Don Jones",
         "2016",
         100.2
        ],
        [
         "Jim Sink",
         "2017",
         45.13000000000001
        ],
        [
         "Kean Nguyen",
         "2015",
         -118.58
        ],
        [
         "Tamara Willingham",
         "2017",
         -6.059999999999999
        ],
        [
         "Tamara Dahlen",
         "2017",
         2.1399999999999997
        ],
        [
         "John Lucas",
         "2015",
         816.52
        ],
        [
         "Bobby Odegard",
         "2015",
         2.07
        ],
        [
         "Dennis Pardue",
         "2016",
         1694.6399999999999
        ],
        [
         "Natalie Decherney",
         "2017",
         -84.03
        ],
        [
         "Laurel Elliston",
         "2015",
         5.08
        ],
        [
         "Jeremy Farry",
         "2015",
         -103.54
        ],
        [
         "Bruce Stewart",
         "2017",
         115.84
        ],
        [
         "Charles Crestani",
         "2016",
         7.859999999999999
        ],
        [
         "George Ashbrook",
         "2017",
         139.07
        ],
        [
         "Darren Powers",
         "2015",
         260.74
        ],
        [
         "Neoma Murray",
         "2015",
         -26.659999999999997
        ],
        [
         "Kean Takahito",
         "2015",
         28.81
        ],
        [
         "Ken Brennan",
         "2015",
         17.0
        ],
        [
         "Ed Ludwig",
         "2016",
         8.66
        ],
        [
         "Don Miller",
         "2014",
         14.489999999999998
        ],
        [
         "Gary Mcgarr",
         "2014",
         202.78
        ],
        [
         "Ge Orge Bell",
         "2017",
         44.29
        ],
        [
         "Bradley Drucker",
         "2017",
         762.0600000000001
        ],
        [
         "Rob Dowd",
         "2016",
         24.23
        ],
        [
         "Barry Gonzalez",
         "2016",
         12.239999999999998
        ],
        [
         "Sample Company A",
         "2016",
         118.86999999999999
        ],
        [
         "Jim Epp",
         "2017",
         1703.57
        ],
        [
         "Helen Andreada",
         "2014",
         -57.040000000000006
        ],
        [
         "Jas Ocarroll",
         "2015",
         203.94
        ],
        [
         "Bobby Trafton",
         "2014",
         -5.370000000000001
        ],
        [
         "Corey Roper",
         "2016",
         30.45
        ],
        [
         "Dan Reichenbach",
         "2015",
         428.64
        ],
        [
         "Brian Moss",
         "2016",
         -2.03
        ],
        [
         "Carl Ludwig",
         "2016",
         4.35
        ],
        [
         "Larry Hughes",
         "2014",
         -5.04
        ],
        [
         "Cindy Stewart",
         "2017",
         43.71
        ],
        [
         "Neil Franzsisch",
         "2015",
         72.89
        ],
        [
         "Carol Triggs",
         "2015",
         19.45
        ],
        [
         "Rob Lucas",
         "2016",
         -6.5699999999999985
        ],
        [
         "Kean Thornton",
         "2014",
         103.44
        ],
        [
         "Shirley Daniels",
         "2014",
         122.77
        ],
        [
         "Aaron Smayling",
         "2016",
         92.14
        ],
        [
         "Sonia Cooley",
         "2015",
         -2.4299999999999997
        ],
        [
         "Lena Creighton",
         "2017",
         -67.97000000000001
        ],
        [
         "Dianna Vittorini",
         "2016",
         89.95
        ],
        [
         "Penelope Sewall",
         "2017",
         1060.32
        ],
        [
         "Alan Dominguez",
         "2017",
         1866.92
        ],
        [
         "Alan Barnes",
         "2014",
         -1.07
        ],
        [
         "Anthony Jacobs",
         "2017",
         208.04999999999998
        ],
        [
         "Joni Waerman",
         "2016",
         1.2
        ],
        [
         "Allen Rosenblatt",
         "2015",
         105.47
        ],
        [
         "Allen Rosenblatt",
         "2017",
         -221.58
        ],
        [
         "Luke Weiss",
         "2014",
         420.59
        ],
        [
         "Corey Catlett",
         "2014",
         481.45
        ],
        [
         "Frank Atkinson",
         "2017",
         252.38
        ],
        [
         "Dean Braden",
         "2015",
         -41.79
        ],
        [
         "Patrick Gardner",
         "2016",
         551.3
        ],
        [
         "Susan Vittorini",
         "2017",
         124.04000000000002
        ],
        [
         "Alan Shonely",
         "2017",
         -31.92
        ],
        [
         "Karen Carlisle",
         "2014",
         43.06
        ],
        [
         "Ellis Ballard",
         "2016",
         0.0
        ],
        [
         "Pierre Wener",
         "2015",
         1370.23
        ],
        [
         "Chris Selesnick",
         "2017",
         174.26000000000002
        ],
        [
         "Peter Fuller",
         "2014",
         17.68
        ],
        [
         "Kean Takahito",
         "2016",
         156.14
        ],
        [
         "Natalie Fritzler",
         "2016",
         -69.52
        ],
        [
         "Ad       Am Hart",
         "2015",
         0.34
        ],
        [
         "Susan Pistek",
         "2016",
         8.700000000000003
        ],
        [
         "Max Jones",
         "2017",
         403.71999999999997
        ],
        [
         "Tony Chapman",
         "2015",
         27.0
        ],
        [
         "Erin Creighton",
         "2017",
         57.37
        ],
        [
         "Lycoris Saunders",
         "2014",
         9.33
        ],
        [
         "John Lucas",
         "2014",
         1.33
        ],
        [
         "Denny Blanton",
         "2015",
         266.33
        ],
        [
         "Meg Tillman",
         "2016",
         432.26
        ],
        [
         "Frank Hawley",
         "2014",
         297.18
        ],
        [
         "Jas Ocarroll",
         "2014",
         0.97
        ],
        [
         "Corey Catlett",
         "2017",
         33.78
        ],
        [
         "Philisse Overcash",
         "2015",
         810.38
        ],
        [
         "Toby Carlisle",
         "2014",
         402.54
        ],
        [
         "Tamara Chand",
         "2014",
         151.7
        ],
        [
         "Kristen Hastings",
         "2017",
         217.49
        ],
        [
         "Cathy Prescott",
         "2016",
         31.54
        ],
        [
         "Larry Tron",
         "2014",
         15.64
        ],
        [
         "Sylvia Foulston",
         "2014",
         12.27
        ],
        [
         "Sara Luxemburg",
         "2017",
         437.90999999999997
        ],
        [
         "Bobby Odegard",
         "2017",
         57.39
        ],
        [
         "Dave Hallsten",
         "2015",
         783.24
        ],
        [
         "Ken Black",
         "2014",
         175.16
        ],
        [
         "Aimee Bixby",
         "2017",
         39.99999999999999
        ],
        [
         "Paul Prost",
         "2016",
         707.5899999999999
        ],
        [
         "Jennifer Patt",
         "2017",
         10.659999999999997
        ],
        [
         "Barbara Fisher",
         "2017",
         6.97
        ],
        [
         "Cathy Prescott",
         "2014",
         62.39
        ],
        [
         "Arthur Gainer",
         "2016",
         252.36
        ],
        [
         "Harold Engle",
         "2016",
         110.37
        ],
        [
         "Alice Mccarthy",
         "2014",
         7.68
        ],
        [
         "Emily Phan",
         "2016",
         -393.65999999999997
        ],
        [
         "Yana Sorensen",
         "2017",
         1524.13
        ],
        [
         "Bryan Spruell",
         "2015",
         77.11
        ],
        [
         "Chris Cortes",
         "2014",
         12.41
        ],
        [
         "Max Ludwig",
         "2016",
         63.83
        ],
        [
         "Pamela Stobb",
         "2015",
         -113.1
        ],
        [
         "Helen Waerman",
         "2017",
         1946.6999999999998
        ],
        [
         "Duane Huffman",
         "2015",
         28.89
        ],
        [
         "Henia Zydlo",
         "2017",
         -136.68
        ],
        [
         "Richard Bierner",
         "2017",
         362.94
        ],
        [
         "Greg Tran",
         "2017",
         83.61999999999999
        ],
        [
         "Ricardo Sperren",
         "2017",
         300.1
        ],
        [
         "Cindy Chapman",
         "2014",
         3.38
        ],
        [
         "Brenda Bowman",
         "2015",
         -77.85000000000001
        ],
        [
         "Damala Kotsonis",
         "2015",
         369.26
        ],
        [
         "Eric Barreto",
         "2016",
         74.27000000000001
        ],
        [
         "Carl Jackson",
         "2016",
         1.65
        ],
        [
         "Alejandro Grove",
         "2016",
         696.3
        ],
        [
         "Anthony Garverick",
         "2015",
         61.709999999999994
        ],
        [
         "Stephanie Phelps",
         "2015",
         95.83999999999999
        ],
        [
         "Zuschuss Donatelli",
         "2014",
         25.490000000000002
        ],
        [
         "Mike Pelletier",
         "2014",
         -125.28999999999999
        ],
        [
         "Karen Bern",
         "2015",
         19.85
        ],
        [
         "Benjamin Patterson",
         "2016",
         10.21
        ],
        [
         "Carlos Daly",
         "2015",
         17.75
        ],
        [
         "Maris Laware",
         "2014",
         254.24
        ],
        [
         "Jennifer Halladay",
         "2017",
         -44.65
        ],
        [
         "Ryan Akin",
         "2017",
         -105.5
        ],
        [
         "Craig Yedwab",
         "2017",
         240.54
        ],
        [
         "Shirley Daniels",
         "2017",
         -113.2
        ],
        [
         "Brian Stugart",
         "2016",
         62.26
        ],
        [
         "Christine Abelman",
         "2017",
         143.36
        ],
        [
         "Victoria Pisteka",
         "2014",
         118.07000000000001
        ],
        [
         "Darrin Van Huff",
         "2017",
         -445.10999999999996
        ],
        [
         "Karen Danels",
         "2015",
         129.49
        ],
        [
         "Maya Herman",
         "2014",
         133.96
        ],
        [
         "Dan Campbell",
         "2016",
         -239.55
        ],
        [
         "Dean Katz",
         "2014",
         6.0
        ],
        [
         "Katherine Nockton",
         "2015",
         -191.36
        ],
        [
         "Meg Tillman",
         "2017",
         74.98
        ],
        [
         "Brosina Hoffman",
         "2015",
         5.84
        ],
        [
         "Jim Epp",
         "2015",
         -129.89000000000001
        ],
        [
         "Erica Bern",
         "2016",
         151.89
        ],
        [
         "Sarah Brown",
         "2015",
         939.16
        ],
        [
         "Bart Pistole",
         "2014",
         131.71
        ],
        [
         "Nathan Mautz",
         "2015",
         333.49999999999994
        ],
        [
         "Clay Ludtke",
         "2017",
         529.6
        ],
        [
         "Alan Hwang",
         "2014",
         87.19
        ],
        [
         "Bryan Mills",
         "2014",
         114.1
        ],
        [
         "Odella Nelson",
         "2016",
         -157.53
        ],
        [
         "Eudokia Martin",
         "2016",
         30.63
        ],
        [
         "Cindy Schnelling",
         "2016",
         -244.73000000000002
        ],
        [
         "Jay Fein",
         "2016",
         40.75
        ],
        [
         "Benjamin Patterson",
         "2015",
         -255.74
        ],
        [
         "Roy Skaria",
         "2017",
         6.08
        ],
        [
         "Ken Lonsdale",
         "2014",
         361.32
        ],
        [
         "Mark Packer",
         "2015",
         311.5
        ],
        [
         "Laurel Elliston",
         "2014",
         -12.84
        ],
        [
         "Robert Marley",
         "2014",
         200.12
        ],
        [
         "Lynn Smith",
         "2014",
         230.20999999999998
        ],
        [
         "Joni Blumstein",
         "2015",
         -359.56
        ],
        [
         "Sarah Jordon",
         "2016",
         -3.24
        ],
        [
         "Arthur Wiediger",
         "2017",
         87.22
        ],
        [
         "George Zrebassa",
         "2014",
         12.0
        ],
        [
         "Helen Andreada",
         "2017",
         12.71
        ],
        [
         "John Huston",
         "2014",
         26.41
        ],
        [
         "Stuart Van",
         "2017",
         4.2
        ],
        [
         "Jim Radford",
         "2016",
         0.0
        ],
        [
         "Sanjit Engle",
         "2014",
         54.41
        ],
        [
         "Denny Ordway",
         "2014",
         6.09
        ],
        [
         "Debra Catini",
         "2014",
         54.800000000000004
        ],
        [
         "Paul Lucas",
         "2016",
         -13.65
        ],
        [
         "Doug Bickford",
         "2014",
         13.49
        ],
        [
         "Robert Barroso",
         "2014",
         24.92
        ],
        [
         "Becky Castell",
         "2014",
         38.13
        ],
        [
         "Jocasta Rupert",
         "2017",
         107.99
        ],
        [
         "Michael Kennedy",
         "2016",
         -456.26
        ],
        [
         "Luke Foster",
         "2015",
         131.54
        ],
        [
         "Paul Gonzalez",
         "2016",
         10.71
        ],
        [
         "Gene Mcclure",
         "2015",
         359.46
        ],
        [
         "Tonja Turnell",
         "2015",
         281.0
        ],
        [
         "Monica Federle",
         "2014",
         16.89
        ],
        [
         "Ruben Dartt",
         "2017",
         82.84
        ],
        [
         "Cathy Hwang",
         "2015",
         57.39
        ],
        [
         "Shirley Jackson",
         "2014",
         57.93
        ],
        [
         "Annie Zypern",
         "2015",
         34.34
        ],
        [
         "Dorris Liebe",
         "2016",
         146.39
        ],
        [
         "Daniel Lacy",
         "2017",
         24.87
        ],
        [
         "Muhammed Macintyre",
         "2015",
         68.2
        ],
        [
         "Charles Crestani",
         "2017",
         8.33
        ],
        [
         "Bryan Davis",
         "2016",
         110.69999999999999
        ],
        [
         "Anna Gayman",
         "2016",
         -281.56
        ],
        [
         "Shirley Jackson",
         "2017",
         -243.16
        ],
        [
         "Sally Knutson",
         "2016",
         3.44
        ],
        [
         "Anne Mcfarland",
         "2015",
         14.700000000000001
        ],
        [
         "Carl Weiss",
         "2017",
         309.79999999999995
        ],
        [
         "Becky Pak",
         "2017",
         26.24
        ],
        [
         "Victoria Wilson",
         "2014",
         -65.32
        ],
        [
         "Larry Blacks",
         "2016",
         10.74
        ],
        [
         "Monica Federle",
         "2017",
         287.24
        ],
        [
         "Craig Carreira",
         "2016",
         53.660000000000004
        ],
        [
         "Maris Laware",
         "2016",
         15.0
        ],
        [
         "Laurel Workman",
         "2014",
         423.61
        ],
        [
         "Linda Southworth",
         "2015",
         9.82
        ],
        [
         "Toby Braunhardt",
         "2014",
         200.14999999999998
        ],
        [
         "Mike Gockenbach",
         "2017",
         196.72
        ],
        [
         "Ed Jacobs",
         "2017",
         423.71999999999997
        ],
        [
         "Stuart Calhoun",
         "2016",
         9.0
        ],
        [
         "Sue Ann Reed",
         "2015",
         98.08
        ],
        [
         "Dean Percer",
         "2017",
         -1037.0399999999997
        ],
        [
         "Nora Preis",
         "2016",
         272.91999999999996
        ],
        [
         "Maris Laware",
         "2017",
         -348.3299999999999
        ],
        [
         "Evan Henry",
         "2014",
         26.429999999999993
        ],
        [
         "Kean Nguyen",
         "2014",
         119.97999999999999
        ],
        [
         "Justin Deggeller",
         "2015",
         164.10000000000002
        ],
        [
         "Sanjit Engle",
         "2017",
         -236.83
        ],
        [
         "Nick Crebassa",
         "2014",
         690.2
        ],
        [
         "Nona Balk",
         "2016",
         -157.96000000000004
        ],
        [
         "Evan Bailliet",
         "2016",
         4.44
        ],
        [
         "Pierre Wener",
         "2014",
         -86.27
        ],
        [
         "Doug Oconnell",
         "2015",
         26.82
        ],
        [
         "Maureen Gnade",
         "2014",
         -22.640000000000008
        ],
        [
         "Greg Guthrie",
         "2015",
         -115.72
        ],
        [
         "Adam Bellavance",
         "2015",
         8.71
        ],
        [
         "Fred Chung",
         "2014",
         112.57
        ],
        [
         "Victo Ria Brennan",
         "2015",
         84.62000000000002
        ],
        [
         "Jamie Frazer",
         "2017",
         343.53
        ],
        [
         "Gary Zandusky",
         "2015",
         126.31
        ],
        [
         "Troy Staebel",
         "2017",
         -30.690000000000012
        ],
        [
         "Helen Andreada",
         "2016",
         -44.040000000000006
        ],
        [
         "Mark Hamilton",
         "2017",
         83.74
        ],
        [
         "Daniel Lacy",
         "2015",
         304.39
        ],
        [
         "Michael Granlund",
         "2016",
         25.93
        ],
        [
         "Chad Cunningham",
         "2016",
         -11.7
        ],
        [
         "Luke Schmidt",
         "2016",
         18.28
        ],
        [
         "Brooke Gillingham",
         "2016",
         57.92
        ],
        [
         "Michael Granlund",
         "2015",
         112.33
        ],
        [
         "Tom Ashbrook",
         "2016",
         -76.0
        ],
        [
         "Dean Braden",
         "2016",
         -64.22
        ],
        [
         "Justin Mackendrick",
         "2017",
         235.11
        ],
        [
         "Sung Pak",
         "2016",
         619.14
        ],
        [
         "Rick Duston",
         "2017",
         276.27
        ],
        [
         "Frank Preis",
         "2017",
         49.32
        ],
        [
         "Bil Eplett",
         "2016",
         47.24
        ],
        [
         "Allen Goldenen",
         "2014",
         67.97
        ],
        [
         "Laura Armstrong",
         "2014",
         399.2900000000001
        ],
        [
         "Liz Mackendrick",
         "2015",
         -142.52
        ],
        [
         "Annie Thurman",
         "2016",
         51.67
        ],
        [
         "Linda Cazamias",
         "2016",
         246.91
        ],
        [
         "Karen Carlisle",
         "2016",
         523.09
        ],
        [
         "Annie Thurman",
         "2015",
         739.52
        ],
        [
         "Duane Benoit",
         "2017",
         199.44
        ],
        [
         "Roland Schwarz",
         "2017",
         649.3800000000001
        ],
        [
         "Guy Thornton",
         "2017",
         -39.64
        ],
        [
         "Paul Lucas",
         "2017",
         -18.939999999999998
        ],
        [
         "Sung Chung",
         "2016",
         1.23
        ],
        [
         "Tracy Hopkins",
         "2017",
         -990.1699999999998
        ],
        [
         "Ben Ferrer",
         "2014",
         666.39
        ],
        [
         "Anthony Johnson",
         "2016",
         394.99
        ],
        [
         "Steven Cartwright",
         "2014",
         1.35
        ],
        [
         "Sarah Bern",
         "2014",
         -33.39
        ],
        [
         "Christine Phan",
         "2014",
         -1031.67
        ],
        [
         "Seth Vernon",
         "2016",
         39.77
        ],
        [
         "Dennis Bolton",
         "2014",
         79.89
        ],
        [
         "Ivan Liston",
         "2015",
         656.6800000000001
        ],
        [
         "Chuck Sachs",
         "2017",
         156.27
        ],
        [
         "Daniel Lacy",
         "2014",
         -324.87
        ],
        [
         "Keith Dawkins",
         "2015",
         2810.35
        ],
        [
         "Alyssa Crouse",
         "2017",
         -69.06
        ],
        [
         "Darren Koutras",
         "2015",
         -76.42999999999998
        ],
        [
         "Coreylock",
         "2016",
         19.19
        ],
        [
         "Gary Hwang",
         "2017",
         43.6
        ],
        [
         "Elizabeth Moffitt",
         "2017",
         444.42
        ],
        [
         "Zuschuss Carroll",
         "2014",
         328.8299999999999
        ],
        [
         "Astrea Jones",
         "2014",
         57.660000000000004
        ],
        [
         "Joni Sundaresam",
         "2014",
         2.869999999999999
        ],
        [
         "Patrick Obrill",
         "2017",
         290.64
        ],
        [
         "Shahi  Shariari",
         "2015",
         -504.24
        ],
        [
         "John Grady",
         "2014",
         28.26
        ],
        [
         "Ken Lonsdale",
         "2015",
         252.53
        ],
        [
         "Erica Hackney",
         "2015",
         28.380000000000003
        ],
        [
         "Justin Hirsh",
         "2015",
         106.41
        ],
        [
         "Helen Abelman",
         "2017",
         -79.0
        ],
        [
         "Caroline Jumper",
         "2017",
         -524.22
        ],
        [
         "Rick Duston",
         "2015",
         25.41
        ],
        [
         "Maurice Satty",
         "2014",
         40.730000000000004
        ],
        [
         "Muhammed Yedwab",
         "2014",
         -103.13000000000004
        ],
        [
         "Brian Moss",
         "2015",
         154.24
        ],
        [
         "Ji Stevenson",
         "2016",
         78.4
        ],
        [
         "Dean Katz",
         "2015",
         -337.91
        ],
        [
         "Chad Cunningham",
         "2015",
         48.739999999999995
        ],
        [
         "Barry Blumstein",
         "2014",
         0.0
        ],
        [
         "Chuck Magee",
         "2016",
         45.300000000000004
        ],
        [
         "Denny Ordway",
         "2015",
         -136.09
        ],
        [
         "Michael Kennedy",
         "2014",
         43.22
        ],
        [
         "Justin Deggeller",
         "2017",
         1108.3400000000001
        ],
        [
         "Thomas Thornton",
         "2016",
         60.39
        ],
        [
         "Andy Yotov",
         "2016",
         6.7
        ],
        [
         "Matt Abelman",
         "2015",
         619.07
        ],
        [
         "Roland Fjeld",
         "2016",
         110.61999999999999
        ],
        [
         "Kat Rina Willman",
         "2016",
         32.16
        ],
        [
         "Deirdre Greer",
         "2014",
         22.07
        ],
        [
         "John Lucas",
         "2016",
         -37.95
        ],
        [
         "Sean Miller",
         "2014",
         -1795.66
        ],
        [
         "John Stevenson",
         "2014",
         -94.66
        ],
        [
         "Noah Childs",
         "2015",
         16.85
        ],
        [
         "Deirdre Greer",
         "2016",
         9.33
        ],
        [
         "Kean Thornton",
         "2016",
         54.0
        ],
        [
         "Chris Selesnick",
         "2015",
         95.26
        ],
        [
         "Sung Pak",
         "2017",
         11.849999999999998
        ],
        [
         "Brendan Dodson",
         "2015",
         36.47
        ],
        [
         "Cari Schnelling",
         "2015",
         -2.84
        ],
        [
         "Chuck Clark",
         "2016",
         255.32000000000002
        ],
        [
         "Sean Miller",
         "2017",
         34.28
        ],
        [
         "Sarah Foster",
         "2014",
         58.03
        ],
        [
         "Harold Pawlan",
         "2014",
         101.69
        ],
        [
         "Trudy Glocke",
         "2017",
         84.42
        ],
        [
         "Tamara Willingham",
         "2016",
         33.01
        ],
        [
         "Gary Hansen",
         "2014",
         53.339999999999996
        ],
        [
         "Art Foster",
         "2014",
         -258.56
        ],
        [
         "Marina Lichtenstein",
         "2016",
         192.19
        ],
        [
         "Giulietta Weimer",
         "2016",
         44.58
        ],
        [
         "Craig Carreira",
         "2014",
         11.3
        ],
        [
         "Roger Demir",
         "2016",
         31.2
        ],
        [
         "Larry Tron",
         "2015",
         20.16
        ],
        [
         "Erica Hackney",
         "2014",
         54.09
        ],
        [
         "Zuschuss Donatelli",
         "2017",
         16.59
        ],
        [
         "Hunter Lopez",
         "2014",
         437.06
        ],
        [
         "Sean Braxton",
         "2017",
         -907.0500000000001
        ],
        [
         "Janet Lee",
         "2014",
         -190.51
        ],
        [
         "Jessica Myrick",
         "2016",
         232.13
        ],
        [
         "Fred Chung",
         "2016",
         86.15
        ],
        [
         "Christopher Conant",
         "2017",
         93.73
        ],
        [
         "Joseph Holt",
         "2014",
         644.0
        ],
        [
         "Jennifer Patt",
         "2016",
         307.34000000000003
        ],
        [
         "Nat Gilpin",
         "2015",
         8.05
        ],
        [
         "Eileen Kiefer",
         "2015",
         20.54
        ],
        [
         "Barry Gonzalez",
         "2014",
         54.19
        ],
        [
         "Laurel Beltran",
         "2014",
         -21.36
        ],
        [
         "Brad Thomas",
         "2016",
         9.48
        ],
        [
         "Craig Yedwab",
         "2014",
         -336.63
        ],
        [
         "Roland Fjeld",
         "2015",
         187.1
        ],
        [
         "Thomas Thornton",
         "2014",
         18.38
        ],
        [
         "Michelle Arnett",
         "2014",
         41.839999999999996
        ],
        [
         "Greg Guthrie",
         "2014",
         117.33
        ],
        [
         "Resi Plking",
         "2017",
         33.3
        ],
        [
         "Cari Sayre",
         "2015",
         -5.73
        ],
        [
         "Tom Prescott",
         "2017",
         -1060.79
        ],
        [
         "Brian Dahlen",
         "2017",
         87.99
        ],
        [
         "Dan Reichenbach",
         "2017",
         1086.84
        ],
        [
         "Shui Tom",
         "2017",
         12.790000000000001
        ],
        [
         "Christina Anderson",
         "2015",
         118.66
        ],
        [
         "Erin  Mull",
         "2017",
         -14.440000000000001
        ],
        [
         "Maxwell Schwartz",
         "2015",
         197.79000000000002
        ],
        [
         "Maya Herman",
         "2016",
         7.0
        ],
        [
         "Bruce Degenhardt",
         "2017",
         166.98000000000002
        ],
        [
         "Philip Fox",
         "2015",
         75.22999999999999
        ],
        [
         "Sanjit Jacobs",
         "2015",
         -65.82
        ],
        [
         "Hunter Glantz",
         "2017",
         82.02000000000001
        ],
        [
         "Cynthia Delaney",
         "2016",
         346.71000000000004
        ],
        [
         "Jack Lebron",
         "2014",
         9.870000000000001
        ],
        [
         "Doug Oconnell",
         "2017",
         267.03
        ],
        [
         "Christina Vanderzanden",
         "2017",
         273.13
        ],
        [
         "Valerie Mitchum",
         "2016",
         371.7
        ],
        [
         "Ross Devincentis",
         "2014",
         3.63
        ],
        [
         "Gary Mitchum",
         "2014",
         316.15000000000003
        ],
        [
         "Fred Harton",
         "2015",
         365.68
        ],
        [
         "Guy Armstrong",
         "2014",
         101.45
        ],
        [
         "Kat Rina Bavinger",
         "2015",
         42.96
        ],
        [
         "Hunter Lopez",
         "2017",
         5045.86
        ],
        [
         "Claudia Bergmann",
         "2016",
         458.64000000000004
        ],
        [
         "Dan Lawera",
         "2014",
         7.73
        ],
        [
         "Anthony Jacobs",
         "2015",
         5.32
        ],
        [
         "Laura Armstrong",
         "2016",
         1526.67
        ],
        [
         "Resi Plking",
         "2016",
         154.14
        ],
        [
         "Kristina Nunn",
         "2017",
         301.88
        ],
        [
         "Sarah Foster",
         "2016",
         21.14
        ],
        [
         "Barbara Fisher",
         "2016",
         157.38
        ],
        [
         "Karen Seio",
         "2017",
         -6.379999999999999
        ],
        [
         "Lisa Ryan",
         "2016",
         -387.68
        ],
        [
         "Jamie Kunitz",
         "2015",
         615.0300000000001
        ],
        [
         "John Dryer",
         "2016",
         36.47
        ],
        [
         "Annie Zypern",
         "2016",
         32.56999999999999
        ],
        [
         "Richard Eichhorn",
         "2016",
         13.32
        ],
        [
         "Elpida Rittenbach",
         "2015",
         4.57
        ],
        [
         "Maya Herman",
         "2015",
         94.71
        ],
        [
         "Thea Hendricks",
         "2014",
         -155.27
        ],
        [
         "Thea Hudgings",
         "2016",
         -76.64000000000001
        ],
        [
         "Todd Boyes",
         "2016",
         62.39
        ],
        [
         "Jeremy Lonsdale",
         "2017",
         529.0200000000001
        ],
        [
         "Nicole Hansen",
         "2016",
         5.18
        ],
        [
         "Andrew Allen",
         "2016",
         420.74999999999994
        ],
        [
         "Ken Black",
         "2016",
         96.32
        ],
        [
         "Beth Thompson",
         "2015",
         87.46000000000001
        ],
        [
         "Alyssa Tate",
         "2017",
         96.13000000000001
        ],
        [
         "Roland Fjeld",
         "2014",
         22.65
        ],
        [
         "Paul Gonzalez",
         "2017",
         220.26
        ],
        [
         "Michael Stewart",
         "2014",
         9.07
        ],
        [
         "Alejandro Grove",
         "2014",
         17.990000000000002
        ],
        [
         "Karen Bern",
         "2017",
         763.56
        ],
        [
         "Duane Benoit",
         "2016",
         -35.22
        ],
        [
         "Mick Crebagga",
         "2016",
         0.93
        ],
        [
         "Lycoris Saunders",
         "2015",
         45.9
        ],
        [
         "Maureen Gastineau",
         "2017",
         14.180000000000007
        ],
        [
         "Natalie Decherney",
         "2016",
         58.86
        ],
        [
         "Darren Budd",
         "2014",
         17.78
        ],
        [
         "Pauline Johnson",
         "2014",
         2.78
        ],
        [
         "Harold Dahlen",
         "2015",
         30.990000000000002
        ],
        [
         "Rick Huthwaite",
         "2016",
         1152.8200000000002
        ],
        [
         "Brad Eason",
         "2017",
         -52.07
        ],
        [
         "Joy Daniels",
         "2017",
         37.06
        ],
        [
         "Rob Haberlin",
         "2015",
         165.38000000000002
        ],
        [
         "William Brown",
         "2015",
         -87.06
        ],
        [
         "Jas Ocarroll",
         "2017",
         -54.88
        ],
        [
         "Jeremy Pistek",
         "2016",
         130.51
        ],
        [
         "Matt Abelman",
         "2017",
         20.18
        ],
        [
         "Justin Ritter",
         "2016",
         44.21
        ],
        [
         "Quincy Jones",
         "2014",
         120.03999999999999
        ],
        [
         "James Galang",
         "2017",
         69.85000000000001
        ],
        [
         "Emily Burns",
         "2017",
         -80.44
        ],
        [
         "Arthur Wiediger",
         "2015",
         64.25
        ],
        [
         "Melanie Seite",
         "2015",
         32.45
        ],
        [
         "Hunter Glantz",
         "2016",
         35.99
        ],
        [
         "Nat Gilpin",
         "2017",
         86.49999999999999
        ],
        [
         "Heather Jas",
         "2015",
         28.71
        ],
        [
         "Gary Zandusky",
         "2017",
         259.1
        ],
        [
         "Noah Childs",
         "2014",
         36.66
        ],
        [
         "Russell Dascenzo",
         "2017",
         19.330000000000002
        ],
        [
         "Erica Hernandez",
         "2016",
         9.95
        ],
        [
         "Tanja Norvell",
         "2016",
         -903.28
        ],
        [
         "Nat Carroll",
         "2016",
         26.29
        ],
        [
         "Benjamin Patterson",
         "2014",
         27.56
        ],
        [
         "Sarah Brown",
         "2017",
         13.32
        ],
        [
         "Angele Hood",
         "2014",
         41.6
        ],
        [
         "Greg Matthias",
         "2016",
         -121.94
        ],
        [
         "Ruben Dartt",
         "2014",
         186.49
        ],
        [
         "Michael Chen",
         "2016",
         60.53999999999999
        ],
        [
         "Michael Grace",
         "2015",
         -499.05
        ],
        [
         "Michael Kennedy",
         "2017",
         7.010000000000001
        ],
        [
         "James Galang",
         "2015",
         736.7600000000001
        ],
        [
         "Max Engle",
         "2017",
         23.16000000000001
        ],
        [
         "Christine Sundaresam",
         "2015",
         288.11
        ],
        [
         "Craig Carreira",
         "2017",
         114.35
        ],
        [
         "Matt Collister",
         "2014",
         -137.2
        ],
        [
         "Liz Carlisle",
         "2017",
         -10.400000000000002
        ],
        [
         "Chris Cortes",
         "2016",
         -33.050000000000004
        ],
        [
         "Lauren Leatherbury",
         "2017",
         44.72
        ],
        [
         "Liz Pelletier",
         "2016",
         21.939999999999998
        ],
        [
         "Joseph Holt",
         "2016",
         72.03
        ],
        [
         "Doug Jacobs",
         "2015",
         36.0
        ],
        [
         "Cyma Kinney",
         "2014",
         66.59
        ],
        [
         "Chad Sievert",
         "2015",
         45.72
        ],
        [
         "Alan Hwang",
         "2016",
         5.57
        ],
        [
         "Ed Jacobs",
         "2014",
         -7403.61
        ],
        [
         "Matthew Clasen",
         "2016",
         27.42
        ],
        [
         "Parhena Norris",
         "2015",
         6.46
        ],
        [
         "Ross Baird",
         "2015",
         -18.46
        ],
        [
         "Janet Lee",
         "2017",
         88.19
        ],
        [
         "Becky Castell",
         "2017",
         58.800000000000004
        ],
        [
         "Alex Grayson",
         "2016",
         61.74
        ],
        [
         "Noah Childs",
         "2017",
         48.78
        ],
        [
         "Phillip Breyer",
         "2014",
         21.2
        ],
        [
         "John Huston",
         "2015",
         19.6
        ],
        [
         "Dean Katz",
         "2016",
         222.03000000000003
        ],
        [
         "Kat Rina Edelman",
         "2014",
         156.05
        ],
        [
         "Maureen Gastineau",
         "2014",
         12.91
        ],
        [
         "Sue Ann Reed",
         "2014",
         351.32
        ],
        [
         "Giulietta Weimer",
         "2017",
         -451.09000000000003
        ],
        [
         "Logan Haushalter",
         "2015",
         94.85
        ],
        [
         "Scot Wooten",
         "2017",
         -64.07
        ],
        [
         "Erica Bern",
         "2017",
         11.0
        ],
        [
         "Irene Maddox",
         "2015",
         -55.69999999999993
        ],
        [
         "Anthony Rawles",
         "2017",
         105.06999999999998
        ],
        [
         "Katherine Hughes",
         "2017",
         502.51000000000005
        ],
        [
         "Nona Balk",
         "2017",
         61.160000000000004
        ],
        [
         "Erin Smith",
         "2015",
         -27.16
        ],
        [
         "Rose Obrian",
         "2016",
         -90.48
        ],
        [
         "Noel Staavos",
         "2016",
         -298.25
        ],
        [
         "Mark Van Huff",
         "2015",
         -1.2800000000000011
        ],
        [
         "Barry Pond",
         "2016",
         182.98000000000002
        ],
        [
         "Alex Russell",
         "2014",
         -242.44
        ],
        [
         "Beth Fritzler",
         "2014",
         -12.120000000000001
        ],
        [
         "Kat Rina Edelman",
         "2017",
         -18.380000000000003
        ],
        [
         "Aleksandra Gannaway",
         "2017",
         1.67
        ],
        [
         "NA",
         "2016",
         282.98
        ],
        [
         "Ruben Dartt",
         "2015",
         9.09
        ],
        [
         "Tamara Manning",
         "2017",
         205.84
        ],
        [
         "Todd Sumrall",
         "2017",
         1218.0100000000002
        ],
        [
         "Debra Catini",
         "2015",
         55.75
        ],
        [
         "Philip Brown",
         "2016",
         38.38
        ],
        [
         "Adam Shillingsburg",
         "2015",
         231.54000000000002
        ],
        [
         "Sanjit Jacobs",
         "2016",
         266.13
        ],
        [
         "Kat Rina Willman",
         "2017",
         123.13000000000001
        ],
        [
         "Chloris Kastensmidt",
         "2014",
         44.72
        ],
        [
         "Gary Zandusky",
         "2014",
         50.43
        ],
        [
         "Dianna Vittorini",
         "2017",
         151.65
        ],
        [
         "Khloe Miller",
         "2015",
         33.85
        ],
        [
         "Luke Weiss",
         "2017",
         67.07
        ],
        [
         "Frank Hawley",
         "2016",
         166.29
        ],
        [
         "Denise Monton",
         "2017",
         1374.42
        ],
        [
         "Mark Van Huff",
         "2017",
         68.78999999999998
        ],
        [
         "David Flashing",
         "2015",
         99.94
        ],
        [
         "Jonathan Doherty",
         "2014",
         -204.26999999999998
        ],
        [
         "Neoma Murray",
         "2016",
         812.79
        ],
        [
         "Anna Andreadi",
         "2015",
         389.34000000000003
        ],
        [
         "Stephanie Phelps",
         "2014",
         72.4
        ],
        [
         "Richard Eichhorn",
         "2014",
         -24.87
        ],
        [
         "Ann Blume",
         "2015",
         5.07
        ],
        [
         "David Flashing",
         "2014",
         37.88
        ],
        [
         "Daniel Raglin",
         "2017",
         211.97
        ],
        [
         "Tom Prescott",
         "2016",
         -91.11
        ],
        [
         "Pauline Chand",
         "2015",
         -172.51
        ],
        [
         "Damala Kotsonis",
         "2016",
         185.34
        ],
        [
         "Sandra Flanagan",
         "2015",
         15.98
        ],
        [
         "Eileen Kiefer",
         "2014",
         70.49
        ],
        [
         "Greg Maxwell",
         "2016",
         175.36
        ],
        [
         "Trudy Schmidt",
         "2015",
         -34.089999999999996
        ],
        [
         "Jennifer Ferguson",
         "2017",
         539.63
        ],
        [
         "Stuart Van",
         "2016",
         11.24
        ],
        [
         "Dennis Pardue",
         "2014",
         83.78999999999999
        ],
        [
         "Neil Knudson",
         "2015",
         1.79
        ],
        [
         "Katherine Hughes",
         "2014",
         -53.07000000000001
        ],
        [
         "Christopher Conant",
         "2016",
         2083.34
        ],
        [
         "Michael Dominguez",
         "2014",
         -47.36
        ],
        [
         "Matt Connell",
         "2015",
         13.08
        ],
        [
         "Shirley Schmidt",
         "2015",
         174.01
        ],
        [
         "Eugene Hildebrand",
         "2017",
         265.62
        ],
        [
         "Marybeth Skach",
         "2016",
         33.79
        ],
        [
         "Brenda Bowman",
         "2017",
         660.6899999999999
        ],
        [
         "Maureen Gnade",
         "2016",
         16.7
        ],
        [
         "Cynthia Arntzen",
         "2014",
         111.78999999999999
        ],
        [
         "Christine Abelman",
         "2014",
         101.4
        ],
        [
         "Jennifer Braxton",
         "2015",
         128.05
        ],
        [
         "Alan Haines",
         "2016",
         -349.36
        ],
        [
         "Sally Matthias",
         "2016",
         -77.84
        ],
        [
         "Rick Bensley",
         "2016",
         123.81000000000003
        ],
        [
         "Brian Thompson",
         "2015",
         435.64
        ],
        [
         "Maria Zettner",
         "2016",
         0.16
        ],
        [
         "Kelly Collister",
         "2017",
         24.48
        ],
        [
         "Lindsay Castell",
         "2015",
         278.2
        ],
        [
         "Brian Moss",
         "2017",
         1937.73
        ],
        [
         "Tim Brockman",
         "2017",
         -31.680000000000007
        ],
        [
         "Nathan Gelder",
         "2014",
         134.82
        ],
        [
         "Jim Radford",
         "2015",
         -785.16
        ],
        [
         "Alex Avila",
         "2017",
         96.50999999999999
        ],
        [
         "Erin Creighton",
         "2014",
         -4.02
        ],
        [
         "Frank Carlisle",
         "2015",
         35.53
        ],
        [
         "Alex Avila",
         "2015",
         7.0
        ],
        [
         "Gene Mcclure",
         "2017",
         61.599999999999994
        ],
        [
         "Todd Sumrall",
         "2015",
         1135.1000000000001
        ],
        [
         "Harry Marie",
         "2017",
         -16.559999999999995
        ],
        [
         "Eugene Barchas",
         "2015",
         36.67
        ],
        [
         "Duane Noonan",
         "2016",
         222.39
        ],
        [
         "Randy Ferguson",
         "2015",
         102.00999999999999
        ],
        [
         "Michelle Moray",
         "2014",
         130.67999999999998
        ],
        [
         "Shirley Daniels",
         "2015",
         1954.8
        ],
        [
         "Tracy Collins",
         "2016",
         161.53
        ],
        [
         "Susan Vittorini",
         "2016",
         -30.2
        ],
        [
         "Charles Mccrossin",
         "2017",
         -78.27
        ],
        [
         "Steve Chapman",
         "2017",
         -11.599999999999994
        ],
        [
         "Berenike Kampe",
         "2016",
         2.23
        ],
        [
         "Gary Mcgarr",
         "2016",
         108.18
        ],
        [
         "Bart Watters",
         "2016",
         97.05999999999999
        ],
        [
         "Tracy Hopkins",
         "2014",
         26.63
        ],
        [
         "Guy Phonely",
         "2014",
         -35.93
        ],
        [
         "Doug Jacobs",
         "2017",
         652.3199999999999
        ],
        [
         "Mitch Willingham",
         "2014",
         1449.52
        ],
        [
         "Brooke Gillingham",
         "2017",
         11.66
        ],
        [
         "Cyma Kinney",
         "2017",
         -521.39
        ],
        [
         "Ted Butterfield",
         "2016",
         262.45
        ],
        [
         "Shahi  Hopkins",
         "2015",
         2.24
        ],
        [
         "Dennis Kane",
         "2016",
         360.97
        ],
        [
         "Patrick Odonnell",
         "2017",
         238.16
        ],
        [
         "Karen Carlisle",
         "2015",
         279.99
        ],
        [
         "Shaun Weien",
         "2016",
         125.2
        ],
        [
         "Rachel Payne",
         "2016",
         11.7
        ],
        [
         "David Bremer",
         "2017",
         -1136.72
        ],
        [
         "Cari Sayre",
         "2014",
         -13.9
        ],
        [
         "Cynthia Delaney",
         "2014",
         27.79
        ],
        [
         "Nora Pelletier",
         "2016",
         31.419999999999995
        ],
        [
         "Maria Etezadi",
         "2016",
         451.46
        ],
        [
         "Parhena Norris",
         "2016",
         137.23000000000002
        ],
        [
         "Nick Radford",
         "2017",
         48.07
        ],
        [
         "Sibella Parks",
         "2016",
         -203.15000000000003
        ],
        [
         "Erica Smith",
         "2016",
         71.99
        ],
        [
         "Sanjit Engle",
         "2015",
         159.32
        ],
        [
         "Raymond Messe",
         "2014",
         13.83
        ],
        [
         "Bart Folk",
         "2014",
         3.96
        ],
        [
         "Gary Zandusky",
         "2016",
         652.3199999999999
        ],
        [
         "Michael Moore",
         "2014",
         55.03
        ],
        [
         "Neoma Murray",
         "2017",
         2.82
        ],
        [
         "Magdelene Morse",
         "2017",
         -39.46
        ],
        [
         "Laurel Workman",
         "2016",
         -393.3399999999999
        ],
        [
         "Roy Skaria",
         "2016",
         3.5
        ]
       ],
       "datasetInfos": [],
       "dbfsResultPath": null,
       "isJsonSchema": true,
       "metadata": {},
       "overflow": false,
       "plotOptions": {
        "customPlotOptions": {},
        "displayType": "table",
        "pivotAggregation": null,
        "pivotColumns": null,
        "xColumns": null,
        "yColumns": null
       },
       "removedWidgets": [],
       "schema": [
        {
         "metadata": "{}",
         "name": "Customer_Name",
         "type": "\"string\""
        },
        {
         "metadata": "{}",
         "name": "Year",
         "type": "\"string\""
        },
        {
         "metadata": "{}",
         "name": "Profit",
         "type": "\"double\""
        }
       ],
       "type": "table"
      }
     },
     "output_type": "display_data"
    }
   ],
   "source": [
    "%sql\n",
    "\n",
    "SELECT \n",
    "    Customer_Name,\n",
    "    Year,\n",
    "    SUM(Total_Profit) AS Profit\n",
    "FROM \n",
    "    profit_aggregate\n",
    "GROUP BY \n",
    "    Customer_Name, Year;"
   ]
  },
  {
   "cell_type": "code",
   "execution_count": 0,
   "metadata": {
    "application/vnd.databricks.v1+cell": {
     "cellMetadata": {
      "byteLimit": 2048000,
      "implicitDf": true,
      "rowLimit": 10000
     },
     "inputWidgets": {},
     "nuid": "369ab7c7-3f25-4d43-8b11-da9012c40062",
     "showTitle": false,
     "title": ""
    }
   },
   "outputs": [
    {
     "output_type": "stream",
     "name": "stdout",
     "output_type": "stream",
     "text": [
      "+----+-----------------+\n|Year|sum(Total_Profit)|\n+----+-----------------+\n|2016| 64669.1400000001|\n|2017|         110596.8|\n|2014|38662.76000000007|\n|2015|62490.14000000002|\n+----+-----------------+\n\n+----+---------------+------------------+\n|Year|       Category|            Profit|\n+----+---------------+------------------+\n|2016|Office Supplies| 34555.74000000002|\n|2016|      Furniture| 6889.560000000003|\n|2015|     Technology|34943.430000000015|\n|2015|      Furniture|3027.2000000000007|\n|2014|Office Supplies| 22500.42999999998|\n|2016|     Technology|          23223.84|\n|2015|Office Supplies|24519.509999999984|\n|2017|     Technology| 63281.90999999993|\n|2014|      Furniture|-5331.050000000001|\n|2017|Office Supplies|44273.349999999984|\n|2014|     Technology| 21493.37999999999|\n|2017|      Furniture|3041.5399999999986|\n+----+---------------+------------------+\n\n+-----------------+-------------------+\n|    Customer_Name|             Profit|\n+-----------------+-------------------+\n|      Jim Mitchum|              117.2|\n|     Jesus Ocampo|             167.13|\n| Michelle Ellison| 107.34999999999998|\n|      Joseph Holt| -644.4799999999998|\n|   Patrick Obrill| 37.640000000000015|\n|        Denny Joy|             483.03|\n|     Ruben Ausman|            1254.47|\n|   Parhena Norris| 192.04000000000002|\n|  Ted Butterfield|              384.5|\n|         Joy Bell|             127.06|\n|    Hilary Holden|              86.73|\n|Brooke Gillingham|             107.59|\n|       Carl Weiss|  370.8399999999999|\n|  Michael Kennedy|-405.42999999999995|\n|    Helen Waerman|            2164.17|\n|    Patrick Jones| 442.14000000000004|\n|     Craig Yedwab| 60.640000000000015|\n|   Darren Koutras|            -119.03|\n|        Rob Lucas|             213.98|\n|   Roland Schwarz|            1206.39|\n+-----------------+-------------------+\nonly showing top 20 rows\n\n+----+----------------+------------------+\n|Year|   Customer_Name|            Profit|\n+----+----------------+------------------+\n|2017|       Ken Black|            240.99|\n|2017|   Michelle Tran| 2.049999999999997|\n|2015|   Odella Nelson|            -31.11|\n|2015|     Harold Ryan|116.94000000000001|\n|2017|     Emily Burns|            -80.44|\n|2014| Penelope Sewall|             623.2|\n|2014|     Rick Duston|109.52000000000001|\n|2015|   Thais Sissman|             -1.35|\n|2015|  Roy Franzsisch|              0.06|\n|2016|    Guy Thornton|               6.3|\n|2016|    Carl Jackson|              1.65|\n|2015| Alejandro Grove|             16.96|\n|2017|Katherine Ducich|             20.36|\n|2014|  Arianne Irving|            288.24|\n|2017|   Michael Grace|            -29.44|\n|2017|     Greg Hansen|-8.879999999999999|\n|2014|   Hilary Holden|60.269999999999996|\n|2014| Ricardo Emerson|              6.05|\n|2016|      Jay Kimmel|              83.5|\n|2017|  Helen Andreada|             12.71|\n+----+----------------+------------------+\nonly showing top 20 rows\n\n"
     ]
    }
   ],
   "source": [
    "\n",
    "profit_by_yr = profit_agg_df.select('Year','Total_Profit').groupBy('Year').sum('Total_Profit').alias('Profit')\n",
    "profit_by_yr.show()\n",
    "profit_by_yr_cat = profit_agg_df.groupBy(\"Year\", \"Category\").agg(func.sum(func.col(\"Total_Profit\")).alias(\"Profit\"))\n",
    "profit_by_yr_cat.show()\n",
    "profit_by_cust = profit_agg_df.groupBy(\"Customer_Name\").agg(func.sum(func.col(\"Total_Profit\")).alias(\"Profit\"))\n",
    "profit_by_cust.show()\n",
    "\n",
    "profit_by_yr_cust = profit_agg_df.groupBy('Year', 'Customer_Name').agg(func.sum(func.col(\"Total_Profit\")).alias(\"Profit\"))\n",
    "profit_by_yr_cust.show()"
   ]
  }
 ],
 "metadata": {
  "application/vnd.databricks.v1+notebook": {
   "dashboards": [],
   "environmentMetadata": null,
   "language": "python",
   "notebookMetadata": {
    "mostRecentlyExecutedCommandWithImplicitDF": {
     "commandId": 1652988267837550,
     "dataframes": [
      "_sqldf"
     ]
    },
    "pythonIndentUnit": 4
   },
   "notebookName": "Untitled Notebook 2024-10-11 15:54:31",
   "widgets": {}
  }
 },
 "nbformat": 4,
 "nbformat_minor": 0
}
